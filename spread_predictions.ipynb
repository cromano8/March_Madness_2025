{
 "cells": [
  {
   "cell_type": "markdown",
   "metadata": {},
   "source": [
    "# START TRAINING"
   ]
  },
  {
   "cell_type": "code",
   "execution_count": 3,
   "metadata": {},
   "outputs": [],
   "source": [
    "import ast\n",
    "import json\n",
    "import warnings\n",
    "\n",
    "import pandas as pd\n",
    "from snowflake.ml.modeling.impute import SimpleImputer\n",
    "from snowflake.ml.modeling.metrics import accuracy_score\n",
    "from snowflake.ml.modeling.model_selection import GridSearchCV\n",
    "from snowflake.ml.modeling.xgboost import XGBClassifier\n",
    "from snowflake.ml.modeling.preprocessing import OneHotEncoder\n",
    "from snowflake.ml.modeling.xgboost import XGBRegressor\n",
    "from snowflake.ml.registry import Registry\n",
    "from snowflake.ml.utils.connection_params import SnowflakeLoginOptions\n",
    "from snowflake.snowpark import Session\n",
    "from snowflake.snowpark import types as T\n",
    "from snowflake.snowpark.functions import col\n",
    "from snowflake.snowpark import functions as F\n",
    "from snowflake.snowpark.functions import when, lit\n",
    "from snowflake.ml.modeling.metrics import mean_absolute_error\n",
    "\n",
    "import numpy as np\n",
    "\n",
    "warnings.simplefilter(action=\"ignore\", category=UserWarning)"
   ]
  },
  {
   "cell_type": "code",
   "execution_count": 4,
   "metadata": {},
   "outputs": [],
   "source": [
    "session = Session.builder.configs(SnowflakeLoginOptions()).getOrCreate()"
   ]
  },
  {
   "cell_type": "code",
   "execution_count": 5,
   "metadata": {},
   "outputs": [],
   "source": [
    "final = (\n",
    "    session.table(\"MEN.FINAL_FEATURES\")\n",
    "    .with_column_renamed(\"WTEAMID\", \"W_TEAMID\")\n",
    "    .with_column_renamed(\"LTEAMID\", \"L_TEAMID\")\n",
    "    .with_column_renamed(\"WSCORE\", \"W_SCORE\")\n",
    "    .with_column_renamed(\"LSCORE\", \"L_SCORE\")\n",
    ")"
   ]
  },
  {
   "cell_type": "code",
   "execution_count": 6,
   "metadata": {},
   "outputs": [],
   "source": [
    "parameters = {\n",
    "    \"n_estimators\": [100, 200, 300, 400, 500],\n",
    "    \"learning_rate\": [0.1, 0.2, 0.3, 0.4, 0.5],\n",
    "    \"max_depth\": list(range(3, 6, 1)),\n",
    "    \"min_child_weight\": list(range(1, 6, 1)),\n",
    "}"
   ]
  },
  {
   "cell_type": "code",
   "execution_count": 7,
   "metadata": {},
   "outputs": [],
   "source": [
    "def add_losing_matches(df):\n",
    "    lose_rename = {\n",
    "        \"W_TEAMID\": \"L_TEAMID\", \n",
    "        \"W_SCORE\" : \"L_SCORE\", \n",
    "        \"L_TEAMID\" : \"W_TEAMID\",\n",
    "        \"L_SCORE\": \"W_SCORE\",\n",
    "    }\n",
    "    lose_rename.update({c : \"L_\" + c[2:] for c in df.columns if c.startswith('W_')})\n",
    "    lose_rename.update({c : \"W_\" + c[2:] for c in df.columns if c.startswith('L_')})\n",
    "    \n",
    "    win_df = df.copy()\n",
    "    lose_df = df.copy()\n",
    "    \n",
    "    lose_df = lose_df.rename(columns=lose_rename)\n",
    "    \n",
    "    return pd.concat([win_df, lose_df], axis=0, sort=False)"
   ]
  },
  {
   "cell_type": "code",
   "execution_count": 8,
   "metadata": {},
   "outputs": [],
   "source": [
    "final.write.save_as_table(\n",
    "    \"MEN.FINAL_MODEL_TRAIN\", mode=\"overwrite\"\n",
    ")"
   ]
  },
  {
   "cell_type": "code",
   "execution_count": 9,
   "metadata": {},
   "outputs": [],
   "source": [
    "train = final.filter(F.col('SEASON') <= 2021)\n",
    "test = final.filter(F.col('SEASON') > 2021)"
   ]
  },
  {
   "cell_type": "code",
   "execution_count": 10,
   "metadata": {},
   "outputs": [],
   "source": [
    "df_pd = train.to_pandas()\n",
    "train_2 = add_losing_matches(df_pd)\n",
    "train_2 = session.create_dataframe(train_2)"
   ]
  },
  {
   "cell_type": "code",
   "execution_count": 11,
   "metadata": {},
   "outputs": [],
   "source": [
    "train_2 = train_2.withColumn(\"SPREAD\", col(\"W_SCORE\") - col(\"L_SCORE\"))\n",
    "test = test.withColumn(\"SPREAD\", col(\"W_SCORE\") - col(\"L_SCORE\"))"
   ]
  },
  {
   "cell_type": "code",
   "execution_count": 12,
   "metadata": {},
   "outputs": [],
   "source": [
    "session.use_warehouse('MM_L')"
   ]
  },
  {
   "cell_type": "code",
   "execution_count": 93,
   "metadata": {},
   "outputs": [
    {
     "name": "stderr",
     "output_type": "stream",
     "text": [
      "Package 'fastparquet' is not installed in the local environment. Your UDF might not work when the package is installed on the server but not on your local environment.\n",
      "The version of package 'pyarrow' in the local environment is 15.0.1, which does not fit the criteria for the requirement 'pyarrow<14'. Your UDF might not work when the package version is different between the server and your local environment.\n",
      "The version of package 'cachetools' in the local environment is 5.3.3, which does not fit the criteria for the requirement 'cachetools<6'. Your UDF might not work when the package version is different between the server and your local environment.\n"
     ]
    },
    {
     "data": {
      "text/plain": [
       "<snowflake.ml.modeling.model_selection.grid_search_cv.GridSearchCV at 0x7fb2f1ced270>"
      ]
     },
     "execution_count": 93,
     "metadata": {},
     "output_type": "execute_result"
    }
   ],
   "source": [
    "all_rounds = GridSearchCV(\n",
    "    estimator=XGBRegressor(),\n",
    "    param_grid=parameters,\n",
    "    n_jobs=-1,\n",
    "    scoring=\"neg_mean_absolute_percentage_error\",\n",
    "    input_cols=train_2.drop(\n",
    "        [\n",
    "            \"SEASON\",\n",
    "            \"SPREAD\",\n",
    "            \"l_teamid\",\n",
    "            \"w_teamid\",\n",
    "            \"w_score\",\n",
    "            \"l_score\",\n",
    "            \"round\",\n",
    "            \"l_region\",\n",
    "            \"w_region\",\n",
    "            \"win_indicator\"\n",
    "        ]\n",
    "    ).columns,\n",
    "    label_cols=\"SPREAD\",\n",
    "    output_cols=\"PRED_SPREAD\",\n",
    ")\n",
    "\n",
    "# Train\n",
    "all_rounds.fit(train_2.filter(F.col(\"ROUND\") == 3))"
   ]
  },
  {
   "cell_type": "code",
   "execution_count": 94,
   "metadata": {},
   "outputs": [
    {
     "data": {
      "text/plain": [
       "64"
      ]
     },
     "execution_count": 94,
     "metadata": {},
     "output_type": "execute_result"
    }
   ],
   "source": [
    "result = all_rounds.predict(test).filter(F.col(\"ROUND\") == 1)\n",
    "result.count()"
   ]
  },
  {
   "cell_type": "code",
   "execution_count": 95,
   "metadata": {},
   "outputs": [
    {
     "name": "stdout",
     "output_type": "stream",
     "text": [
      "MAE 2022: 13.131337739992887\n",
      "MAE 2023: 10.176728605758399\n",
      "MAE total: 11.654033172875643\n"
     ]
    }
   ],
   "source": [
    "mae_2022 = mean_absolute_error(\n",
    "    df=result.filter(result.season == 2022),\n",
    "    y_true_col_names=\"SPREAD\",\n",
    "    y_pred_col_names=\"PRED_SPREAD\",\n",
    ")\n",
    "print(f\"MAE 2022: {mae_2022}\")\n",
    "\n",
    "mae_2023 = mean_absolute_error(\n",
    "    df=result.filter(result.season == 2023),\n",
    "    y_true_col_names=\"SPREAD\",\n",
    "    y_pred_col_names=\"PRED_SPREAD\",\n",
    ")\n",
    "print(f\"MAE 2023: {mae_2023}\")\n",
    "\n",
    "MAE = mean_absolute_error(\n",
    "    df=result, y_true_col_names=\"SPREAD\", y_pred_col_names=\"PRED_SPREAD\"\n",
    ")\n",
    "\n",
    "print(f\"MAE total: {MAE}\")"
   ]
  },
  {
   "cell_type": "markdown",
   "metadata": {},
   "source": [
    "# Predicting the Bracket & final four"
   ]
  },
  {
   "cell_type": "markdown",
   "metadata": {},
   "source": [
    "## 2024 Data"
   ]
  },
  {
   "cell_type": "code",
   "execution_count": 16,
   "metadata": {},
   "outputs": [],
   "source": [
    "season_2024 = session.table(\"MEN.FINAL_SEASON_STATS\").filter(F.col('SEASON') == 2024).drop('REGION')"
   ]
  },
  {
   "cell_type": "code",
   "execution_count": 17,
   "metadata": {},
   "outputs": [],
   "source": [
    "tourney_2024 = session.table('COMMON.TOURNEY_SEEDS_2024').filter(F.col('TOURNAMENT') == 'M')"
   ]
  },
  {
   "cell_type": "code",
   "execution_count": 18,
   "metadata": {},
   "outputs": [],
   "source": [
    "tourney_2024 = session.table('MEN.M_NCAATOURNEY_SEEDS').filter(F.col('season') == 2024)"
   ]
  },
  {
   "cell_type": "markdown",
   "metadata": {},
   "source": [
    "### Fix for the play in game error from Kaggle"
   ]
  },
  {
   "cell_type": "code",
   "execution_count": 19,
   "metadata": {},
   "outputs": [],
   "source": [
    "tourney_2024 = tourney_2024.filter(~col(\"TEAMID\").isin([1129, 1286, 1224, 1438]))"
   ]
  },
  {
   "cell_type": "code",
   "execution_count": 20,
   "metadata": {},
   "outputs": [
    {
     "data": {
      "text/plain": [
       "64"
      ]
     },
     "execution_count": 20,
     "metadata": {},
     "output_type": "execute_result"
    }
   ],
   "source": [
    "tourney_2024.count()"
   ]
  },
  {
   "cell_type": "code",
   "execution_count": 21,
   "metadata": {},
   "outputs": [],
   "source": [
    "seed_value = (\n",
    "    tourney_2024\n",
    "    .with_column(\"REGION\", F.substring(F.col(\"SEED\"), 1, 1))\n",
    "    .with_column(\n",
    "        \"SEED\", F.substring(F.col(\"SEED\"), 2, F.length(F.col(\"SEED\")) - 1)\n",
    "    )\n",
    "    .select(\"TEAMID\", \"REGION\", \"SEED\")\n",
    "    .with_column(\n",
    "        \"SEED\",\n",
    "        F.cast(F.regexp_replace(F.col(\"SEED\"), \"[a-z]\", \"\"), T.IntegerType()),\n",
    "    )\n",
    ").select(F.col('TEAMID').alias('TEAMID1'), 'REGION','SEED')"
   ]
  },
  {
   "cell_type": "code",
   "execution_count": 22,
   "metadata": {},
   "outputs": [],
   "source": [
    "round_of_64 = season_2024.join(seed_value, season_2024.TEAMID == seed_value.TEAMID1).drop('TEAMID1')\n"
   ]
  },
  {
   "cell_type": "code",
   "execution_count": 23,
   "metadata": {},
   "outputs": [],
   "source": [
    "df1 = round_of_64.select(\n",
    "    *[F.col(col).alias(f\"W_{col}\") for col in round_of_64.columns]\n",
    ")\n",
    "\n",
    "df2 = round_of_64.select(\n",
    "    *[F.col(col).alias(f\"L_{col}\") for col in round_of_64.columns]\n",
    ")"
   ]
  },
  {
   "cell_type": "code",
   "execution_count": 24,
   "metadata": {},
   "outputs": [],
   "source": [
    "first_round = df1.join(\n",
    "    df2,\n",
    "    (df1.w_region == df2.l_region)\n",
    "    & (\n",
    "        (df1.w_seed == 1) & (df2.l_seed == 16) |\n",
    "        (df1.w_seed == 8) & (df2.l_seed == 9) |\n",
    "        (df1.w_seed == 5) & (df2.l_seed == 12) |\n",
    "        (df1.w_seed == 4) & (df2.l_seed == 13) |\n",
    "        (df1.w_seed == 6) & (df2.l_seed == 11) |\n",
    "        (df1.w_seed == 3) & (df2.l_seed == 14) |\n",
    "        (df1.w_seed == 7) & (df2.l_seed == 10) |\n",
    "        (df1.w_seed == 2) & (df2.l_seed == 15) \n",
    "\n",
    "    ),\n",
    "    \"inner\",\n",
    ")"
   ]
  },
  {
   "cell_type": "code",
   "execution_count": 25,
   "metadata": {},
   "outputs": [],
   "source": [
    "result = all_rounds.predict(first_round).select(\n",
    "    \"l_teamID\", \"l_seed\", \"l_region\", \"w_teamid\", \"w_seed\", \"w_region\", \"PRED_SPREAD\"\n",
    ")"
   ]
  },
  {
   "cell_type": "code",
   "execution_count": 26,
   "metadata": {},
   "outputs": [
    {
     "name": "stdout",
     "output_type": "stream",
     "text": [
      "32\n",
      "----------------------------------------------------------------------------------------\n",
      "|\"REGION\"  |\"SEED2\"  |\"TEAM1\"         |\"SEED1\"  |\"TEAM2\"         |\"PRED_SPREAD\"        |\n",
      "----------------------------------------------------------------------------------------\n",
      "|W         |13       |Yale            |4        |Auburn          |11.611824989318848   |\n",
      "|W         |14       |Morehead St     |3        |Illinois        |2.011875867843628    |\n",
      "|W         |15       |S Dakota St     |2        |Iowa St         |17.530385971069336   |\n",
      "|W         |9        |Northwestern    |8        |FL Atlantic     |-4.187599182128906   |\n",
      "|W         |16       |Stetson         |1        |Connecticut     |22.989835739135746   |\n",
      "|W         |11       |Duquesne        |6        |BYU             |7.984871864318848    |\n",
      "|W         |10       |Drake           |7        |Washington St   |1.2472617626190186   |\n",
      "|W         |12       |UAB             |5        |San Diego St    |3.252487897872925    |\n",
      "|X         |13       |Col Charleston  |4        |Alabama         |5.892940998077393    |\n",
      "|X         |15       |Long Beach St   |2        |Arizona         |20.732595443725582   |\n",
      "|X         |11       |New Mexico      |6        |Clemson         |0.36287784576416016  |\n",
      "|X         |10       |Nevada          |7        |Dayton          |3.703567743301392    |\n",
      "|X         |12       |Grand Canyon    |5        |St Mary's CA    |4.3205695152282715   |\n",
      "|X         |16       |Wagner          |1        |North Carolina  |20.00909423828125    |\n",
      "|X         |14       |Colgate         |3        |Baylor          |11.083738327026367   |\n",
      "|X         |9        |Michigan St     |8        |Mississippi St  |-0.7897340655326843  |\n",
      "|Y         |16       |Grambling       |1        |Purdue          |22.03330993652344    |\n",
      "|Y         |10       |Colorado St     |7        |Texas           |4.983499526977539    |\n",
      "|Y         |9        |TCU             |8        |Utah St         |-5.773019790649414   |\n",
      "|Y         |15       |St Peter's      |2        |Tennessee       |14.283344268798828   |\n",
      "|Y         |13       |Samford         |4        |Kansas          |7.945417404174805    |\n",
      "|Y         |12       |McNeese St      |5        |Gonzaga         |2.503498792648315    |\n",
      "|Y         |14       |Akron           |3        |Creighton       |11.482693672180176   |\n",
      "|Y         |11       |Oregon          |6        |South Carolina  |-0.2869413197040558  |\n",
      "|Z         |15       |WKU             |2        |Marquette       |16.631210327148438   |\n",
      "|Z         |10       |Colorado        |7        |Florida         |1.035336971282959    |\n",
      "|Z         |12       |James Madison   |5        |Wisconsin       |4.454955101013184    |\n",
      "|Z         |11       |NC State        |6        |Texas Tech      |1.878820300102234    |\n",
      "|Z         |16       |Longwood        |1        |Houston         |22.472248077392575   |\n",
      "|Z         |9        |Texas A&M       |8        |Nebraska        |1.367321252822876    |\n",
      "|Z         |13       |Vermont         |4        |Duke            |7.528489112854004    |\n",
      "|Z         |14       |Oakland         |3        |Kentucky        |12.80186653137207    |\n",
      "----------------------------------------------------------------------------------------\n",
      "\n"
     ]
    }
   ],
   "source": [
    "teams = session.table(\"m_teams\")\n",
    "res_teamsl = result.join(\n",
    "    teams, result.col(\"L_TEAMID\") == teams.col(\"TEAMID\")\n",
    ").with_column_renamed(\"teamname\", \"l_team_name\")\n",
    "res_teamsl = res_teamsl.cache_result()\n",
    "\n",
    "round_1_results = (\n",
    "    res_teamsl.join(teams, result.col(\"W_TEAMID\") == teams.col(\"TEAMID\"))\n",
    "    .with_column_renamed(\"teamname\", \"w_team_name\")\n",
    "    .select(\n",
    "        \"l_teamid\",\n",
    "        \"w_teamid\",\n",
    "        \"L_TEAM_NAME\",\n",
    "        \"l_seed\",\n",
    "        \"l_region\",\n",
    "        \"W_TEAM_NAME\",\n",
    "        \"w_seed\",\n",
    "        \"w_region\",\n",
    "        \"PRED_SPREAD\",\n",
    "    )\n",
    ").distinct()\n",
    "print(round_1_results.count())\n",
    "\n",
    "round_1_results.select(\n",
    "    F.col(\"w_region\").alias(\"REGION\"),\n",
    "    F.col('L_SEED').alias('SEED2'),\n",
    "    F.col(\"L_TEAM_NAME\").alias(\"TEAM1\"),\n",
    "    F.col('W_SEED').alias('SEED1'),\n",
    "    F.col(\"W_TEAM_NAME\").alias(\"TEAM2\"),\n",
    "    \"PRED_SPREAD\",\n",
    ").sort(\"REGION\").show(32)"
   ]
  },
  {
   "cell_type": "code",
   "execution_count": 27,
   "metadata": {},
   "outputs": [
    {
     "name": "stdout",
     "output_type": "stream",
     "text": [
      "----------------------------------------------------------------------------------------------------------------------------------------------\n",
      "|\"L_TEAMID\"  |\"W_TEAMID\"  |\"L_TEAM_NAME\"   |\"L_SEED\"  |\"L_REGION\"  |\"W_TEAM_NAME\"   |\"W_SEED\"  |\"W_REGION\"  |\"PRED_SPREAD\"        |\"WINNER\"  |\n",
      "----------------------------------------------------------------------------------------------------------------------------------------------\n",
      "|1158        |1104        |Col Charleston  |13        |X           |Alabama         |4         |X           |5.892940998077393    |1         |\n",
      "|1463        |1120        |Yale            |13        |W           |Auburn          |4         |W           |11.611824989318848   |0         |\n",
      "|1159        |1124        |Colgate         |14        |X           |Baylor          |3         |X           |11.083738327026367   |1         |\n",
      "|1182        |1140        |Duquesne        |11        |W           |BYU             |6         |W           |7.984871864318848    |0         |\n",
      "|1305        |1173        |Nevada          |10        |X           |Dayton          |7         |X           |3.703567743301392    |1         |\n",
      "|1160        |1196        |Colorado        |10        |Z           |Florida         |7         |Z           |1.035336971282959    |0         |\n",
      "|1355        |1235        |S Dakota St     |15        |W           |Iowa St         |2         |W           |17.530385971069336   |1         |\n",
      "|1401        |1304        |Texas A&M       |9         |Z           |Nebraska        |8         |Z           |1.367321252822876    |0         |\n",
      "|1436        |1181        |Vermont         |13        |Z           |Duke            |4         |Z           |7.528489112854004    |1         |\n",
      "|1412        |1361        |UAB             |12        |W           |San Diego St    |5         |W           |3.252487897872925    |1         |\n",
      "|1332        |1376        |Oregon          |11        |Y           |South Carolina  |6         |Y           |-0.2869413197040558  |0         |\n",
      "|1161        |1400        |Colorado St     |10        |Y           |Texas           |7         |Y           |4.983499526977539    |1         |\n",
      "|1241        |1458        |James Madison   |12        |Z           |Wisconsin       |5         |Z           |4.454955101013184    |0         |\n",
      "|1359        |1242        |Samford         |13        |Y           |Kansas          |4         |Y           |7.945417404174805    |1         |\n",
      "|1395        |1429        |TCU             |9         |Y           |Utah St         |8         |Y           |-5.773019790649414   |1         |\n",
      "|1179        |1450        |Drake           |10        |W           |Washington St   |7         |W           |1.2472617626190186   |1         |\n",
      "|1324        |1246        |Oakland         |14        |Z           |Kentucky        |3         |Z           |12.80186653137207    |0         |\n",
      "|1253        |1112        |Long Beach St   |15        |X           |Arizona         |2         |X           |20.732595443725582   |1         |\n",
      "|1307        |1155        |New Mexico      |11        |X           |Clemson         |6         |X           |0.36287784576416016  |1         |\n",
      "|1321        |1194        |Northwestern    |9         |W           |FL Atlantic     |8         |W           |-4.187599182128906   |0         |\n",
      "|1270        |1211        |McNeese St      |12        |Y           |Gonzaga         |5         |Y           |2.503498792648315    |1         |\n",
      "|1287        |1228        |Morehead St     |14        |W           |Illinois        |3         |W           |2.011875867843628    |1         |\n",
      "|1443        |1266        |WKU             |15        |Z           |Marquette       |2         |Z           |16.631210327148438   |1         |\n",
      "|1447        |1314        |Wagner          |16        |X           |North Carolina  |1         |X           |20.00909423828125    |1         |\n",
      "|1212        |1345        |Grambling       |16        |Y           |Purdue          |1         |Y           |22.03330993652344    |1         |\n",
      "|1389        |1397        |St Peter's      |15        |Y           |Tennessee       |2         |Y           |14.283344268798828   |1         |\n",
      "|1301        |1403        |NC State        |11        |Z           |Texas Tech      |6         |Z           |1.878820300102234    |0         |\n",
      "|1255        |1222        |Longwood        |16        |Z           |Houston         |1         |Z           |22.472248077392575   |1         |\n",
      "|1277        |1280        |Michigan St     |9         |X           |Mississippi St  |8         |X           |-0.7897340655326843  |0         |\n",
      "|1391        |1163        |Stetson         |16        |W           |Connecticut     |1         |W           |22.989835739135746   |1         |\n",
      "|1213        |1388        |Grand Canyon    |12        |X           |St Mary's CA    |5         |X           |4.3205695152282715   |0         |\n",
      "|1103        |1166        |Akron           |14        |Y           |Creighton       |3         |Y           |11.482693672180176   |1         |\n",
      "----------------------------------------------------------------------------------------------------------------------------------------------\n",
      "\n"
     ]
    }
   ],
   "source": [
    "w_teams = [\n",
    "    \"Connecticut\",\n",
    "    \"San Diego St\",\n",
    "    \"Washington St\",\n",
    "    \"Iowa St\",\n",
    "    \"Illinois\",\n",
    "    \"Dayton\",\n",
    "    \"Arizona\",\n",
    "    \"North Carolina\",\n",
    "    \"Creighton\",\n",
    "    \"Tennessee\",\n",
    "    \"Texas\",\n",
    "    \"Gonzaga\",\n",
    "    \"Kansas\",\n",
    "    \"Northwestern\",\n",
    "    \"Baylor\",\n",
    "    \"Clemson\",\n",
    "    \"Alabama\",\n",
    "    \"Purdue\",\n",
    "    \"Texas\",\n",
    "    \"Gonzaga\",\n",
    "    \"Utah St \",\n",
    "    \"Duke\",\n",
    "    \"Boise St\",\n",
    "    \"Houston\",\n",
    "    \"Marquette\",\n",
    "    \"Utah St\",\n",
    "    \"Washington St\"\n",
    "]  # Example list of teams\n",
    "\n",
    "# Create the new column \"winner\"\n",
    "round_1_results = round_1_results.withColumn(\n",
    "    \"WINNER\", when(col(\"W_TEAM_NAME\").isin(w_teams), 1).otherwise(0)\n",
    ")\n",
    "\n",
    "round_1_results.show(32)"
   ]
  },
  {
   "cell_type": "code",
   "execution_count": 28,
   "metadata": {},
   "outputs": [
    {
     "name": "stdout",
     "output_type": "stream",
     "text": [
      "-------------------------------------------------------\n",
      "|\"W_TEAMID\"  |\"W_TEAM_NAME\"   |\"W_SEED\"  |\"W_REGION\"  |\n",
      "-------------------------------------------------------\n",
      "|1463        |Yale            |13        |W           |\n",
      "|1228        |Illinois        |3         |W           |\n",
      "|1235        |Iowa St         |2         |W           |\n",
      "|1321        |Northwestern    |9         |W           |\n",
      "|1163        |Connecticut     |1         |W           |\n",
      "|1182        |Duquesne        |11        |W           |\n",
      "|1450        |Washington St   |7         |W           |\n",
      "|1361        |San Diego St    |5         |W           |\n",
      "|1104        |Alabama         |4         |X           |\n",
      "|1112        |Arizona         |2         |X           |\n",
      "|1155        |Clemson         |6         |X           |\n",
      "|1173        |Dayton          |7         |X           |\n",
      "|1213        |Grand Canyon    |12        |X           |\n",
      "|1314        |North Carolina  |1         |X           |\n",
      "|1124        |Baylor          |3         |X           |\n",
      "|1277        |Michigan St     |9         |X           |\n",
      "|1345        |Purdue          |1         |Y           |\n",
      "|1400        |Texas           |7         |Y           |\n",
      "|1429        |Utah St         |8         |Y           |\n",
      "|1397        |Tennessee       |2         |Y           |\n",
      "|1242        |Kansas          |4         |Y           |\n",
      "|1211        |Gonzaga         |5         |Y           |\n",
      "|1166        |Creighton       |3         |Y           |\n",
      "|1332        |Oregon          |11        |Y           |\n",
      "|1266        |Marquette       |2         |Z           |\n",
      "|1160        |Colorado        |10        |Z           |\n",
      "|1241        |James Madison   |12        |Z           |\n",
      "|1301        |NC State        |11        |Z           |\n",
      "|1222        |Houston         |1         |Z           |\n",
      "|1401        |Texas A&M       |9         |Z           |\n",
      "|1181        |Duke            |4         |Z           |\n",
      "|1324        |Oakland         |14        |Z           |\n",
      "-------------------------------------------------------\n",
      "\n"
     ]
    }
   ],
   "source": [
    "round_1_winners = round_1_results.with_column(\n",
    "    \"W_TEAMID\",\n",
    "    when((round_1_results.WINNER == 1), round_1_results.w_teamid)\n",
    "    .otherwise(round_1_results.l_teamID),\n",
    ").with_column(\n",
    "    \"W_TEAM_NAME\",\n",
    "    when((round_1_results.WINNER == 1), round_1_results.w_team_name)\n",
    "    .otherwise(round_1_results.l_team_name),\n",
    ").with_column(\n",
    "    \"W_SEED\",\n",
    "    when((round_1_results.WINNER == 1), round_1_results.w_seed)\n",
    "    .otherwise(round_1_results.l_seed),\n",
    ").with_column(\n",
    "    \"W_REGION\",\n",
    "    when((round_1_results.WINNER == 1), round_1_results.w_region)\n",
    "    .otherwise(round_1_results.l_region)\n",
    ").select(\"W_TEAMID\",\"W_TEAM_NAME\",\"W_SEED\",\"W_REGION\")\n",
    "\n",
    "round_1_winners.sort('W_REGION').show(32)"
   ]
  },
  {
   "cell_type": "code",
   "execution_count": 29,
   "metadata": {},
   "outputs": [
    {
     "name": "stdout",
     "output_type": "stream",
     "text": [
      "16\n",
      "-------------------------------------------------------------------\n",
      "|\"TEAM_1\"        |\"TEAM_2\"       |\"SEED_1\"  |\"SEED_2\"  |\"REGION\"  |\n",
      "-------------------------------------------------------------------\n",
      "|Yale            |San Diego St   |13        |5         |W         |\n",
      "|Iowa St         |Washington St  |2         |7         |W         |\n",
      "|Illinois        |Duquesne       |3         |11        |W         |\n",
      "|Connecticut     |Northwestern   |1         |9         |W         |\n",
      "|Arizona         |Dayton         |2         |7         |X         |\n",
      "|Alabama         |Grand Canyon   |4         |12        |X         |\n",
      "|North Carolina  |Michigan St    |1         |9         |X         |\n",
      "|Baylor          |Clemson        |3         |6         |X         |\n",
      "|Kansas          |Gonzaga        |4         |5         |Y         |\n",
      "|Tennessee       |Texas          |2         |7         |Y         |\n",
      "|Creighton       |Oregon         |3         |11        |Y         |\n",
      "|Purdue          |Utah St        |1         |8         |Y         |\n",
      "|Marquette       |Colorado       |2         |10        |Z         |\n",
      "|Oakland         |NC State       |14        |11        |Z         |\n",
      "|Houston         |Texas A&M      |1         |9         |Z         |\n",
      "|Duke            |James Madison  |4         |12        |Z         |\n",
      "-------------------------------------------------------------------\n",
      "\n"
     ]
    }
   ],
   "source": [
    "df1 = round_1_winners.cache_result()\n",
    "df2 = round_1_winners.cache_result()\n",
    "\n",
    "second_round_matchups = df1.join(\n",
    "    df2,\n",
    "    (df1.w_region == df2.w_region)\n",
    "    & (\n",
    "        (df1.w_seed == 1) & (df2.w_seed.isin([8,9]))\n",
    "        | (df1.w_seed == 16) & (df2.w_seed.isin([8,9]))\n",
    "        | (df1.w_seed == 4) & (df2.w_seed.isin([5,12]))\n",
    "        | (df1.w_seed == 13) & (df2.w_seed.isin([5,12]))\n",
    "        | (df1.w_seed == 3) & (df2.w_seed.isin([6,11]))\n",
    "        | (df1.w_seed == 14) & (df2.w_seed.isin([6,11]))\n",
    "        | (df1.w_seed == 2) & (df2.w_seed.isin([7,10]))\n",
    "        | (df1.w_seed == 15) & (df2.w_seed.isin([7,10]))\n",
    "    ),\n",
    "    \"inner\",\n",
    ").select(\n",
    "    (df1.W_TEAM_NAME).alias(\"W_team_name\"),\n",
    "    (df1.W_REGION).alias(\"w_region\"),\n",
    "    (df1.W_TEAMID).alias(\"WTeamID2\"),\n",
    "    (df1.W_SEED).alias(\"w_seed\"),\n",
    "    (df2.W_TEAM_NAME).alias(\"l_Team_name\"),\n",
    "    (df2.W_REGION).alias(\"l_region\"),\n",
    "    (df2.W_TEAMID).alias(\"lteamID2\"),\n",
    "    (df2.W_SEED).alias(\"l_seed\"),\n",
    ")\n",
    "\n",
    "print(second_round_matchups.count())\n",
    "\n",
    "second_round_matchups.select(\n",
    "    F.col(\"W_TEAM_NAME\").alias(\"TEAM_1\"),\n",
    "    F.col(\"L_TEAM_NAME\").alias(\"TEAM_2\"),\n",
    "    F.col(\"W_SEED\").alias(\"SEED_1\"),\n",
    "    F.col(\"L_SEED\").alias(\"SEED_2\"),\n",
    "    F.col(\"W_REGION\").alias(\"REGION\"),\n",
    ").sort(\"REGION\").show(32)"
   ]
  },
  {
   "cell_type": "code",
   "execution_count": 30,
   "metadata": {},
   "outputs": [
    {
     "name": "stdout",
     "output_type": "stream",
     "text": [
      "16\n",
      "16\n",
      "16\n"
     ]
    },
    {
     "data": {
      "text/plain": [
       "16"
      ]
     },
     "execution_count": 30,
     "metadata": {},
     "output_type": "execute_result"
    }
   ],
   "source": [
    "second_round = second_round_matchups.select(\"WTEAMID2\", \"LTEAMID2\", \"W_SEED\", \"L_SEED\")\n",
    "print(second_round.count())\n",
    "\n",
    "season = session.table(\"MEN.FINAL_SEASON_STATS\").filter(F.col(\"SEASON\") == 2024)\n",
    "\n",
    "season_w = season.select(*[F.col(col).alias(f\"W_{col}\") for col in season.columns])\n",
    "\n",
    "season_l = season.select(*[F.col(col).alias(f\"L_{col}\") for col in season.columns])\n",
    "\n",
    "df1 = second_round.join(season_w, season_w.w_teamid == second_round.wTEAMID2)\n",
    "print(df1.count())\n",
    "\n",
    "df2 = df1.join(season_l, season_l.l_teamid == second_round.lTEAMID2).distinct()\n",
    "print(df2.count())\n",
    "games_32 = df2.drop(\"WTEAMID2\", \"lTEAMID2\")\n",
    "\n",
    "games_32.count()"
   ]
  },
  {
   "cell_type": "code",
   "execution_count": 31,
   "metadata": {},
   "outputs": [],
   "source": [
    "result = all_rounds.predict(games_32)"
   ]
  },
  {
   "cell_type": "code",
   "execution_count": 32,
   "metadata": {},
   "outputs": [],
   "source": [
    "teams = session.table('m_teams')\n",
    "res_teamsl = (\n",
    "    result.join(teams, result.col(\"L_TEAMID\") == teams.col(\"TEAMID\"))\n",
    "    .with_column_renamed(\"teamname\", \"l_team_name\")\n",
    ")\n",
    "res_teamsl = res_teamsl.cache_result()\n",
    "\n",
    "round_1_results = (\n",
    "    res_teamsl.join(teams, result.col(\"W_TEAMID\") == teams.col(\"TEAMID\"))\n",
    "    .with_column_renamed(\"teamname\", \"w_team_name\")\n",
    "    .select('l_teamid','w_teamid','L_TEAM_NAME','l_seed','l_region','W_TEAM_NAME','w_seed','w_region','PRED_SPREAD')\n",
    ")"
   ]
  },
  {
   "cell_type": "markdown",
   "metadata": {},
   "source": [
    "# Round 2 game predicted spreads"
   ]
  },
  {
   "cell_type": "code",
   "execution_count": 33,
   "metadata": {},
   "outputs": [
    {
     "name": "stdout",
     "output_type": "stream",
     "text": [
      "------------------------------------------------------------------------------------------\n",
      "|\"REGION\"  |\"L_TEAM_NAME\"  |\"L_SEED\"  |\"W_TEAM_NAME\"   |\"W_SEED\"  |\"PRED_SPREAD\"         |\n",
      "------------------------------------------------------------------------------------------\n",
      "|W         |San Diego St   |5         |Yale            |13        |-5.607921123504639    |\n",
      "|W         |Duquesne       |11        |Illinois        |3         |-0.08841568976640701  |\n",
      "|W         |Northwestern   |9         |Connecticut     |1         |9.200010299682615     |\n",
      "|W         |Washington St  |7         |Iowa St         |2         |3.20786190032959      |\n",
      "|X         |Clemson        |6         |Baylor          |3         |4.083593368530273     |\n",
      "|X         |Grand Canyon   |12        |Alabama         |4         |6.477607727050781     |\n",
      "|X         |Dayton         |7         |Arizona         |2         |6.6120781898498535    |\n",
      "|X         |Michigan St    |9         |North Carolina  |1         |8.157055854797363     |\n",
      "|Y         |Gonzaga        |5         |Kansas          |4         |-0.30016982555389404  |\n",
      "|Y         |Utah St        |8         |Purdue          |1         |14.46292781829834     |\n",
      "|Y         |Oregon         |11        |Creighton       |3         |3.9411988258361816    |\n",
      "|Y         |Texas          |7         |Tennessee       |2         |1.66803777217865      |\n",
      "|Z         |James Madison  |12        |Duke            |4         |5.301497459411621     |\n",
      "|Z         |Texas A&M      |9         |Houston         |1         |10.862871170043944    |\n",
      "|Z         |NC State       |11        |Oakland         |14        |-3.273332118988037    |\n",
      "|Z         |Colorado       |10        |Marquette       |2         |4.933612823486328     |\n",
      "------------------------------------------------------------------------------------------\n",
      "\n"
     ]
    }
   ],
   "source": [
    "round_1_results.select(\n",
    "    F.col(\"w_region\").alias(\"REGION\"),\n",
    "    \"L_TEAM_NAME\",\n",
    "    \"l_seed\",\n",
    "    \"W_TEAM_NAME\",\n",
    "    \"w_seed\",\n",
    "    \"PRED_SPREAD\",\n",
    ").sort(\"REGION\").show(32)"
   ]
  },
  {
   "cell_type": "markdown",
   "metadata": {},
   "source": [
    "# Round 2 predict wins"
   ]
  },
  {
   "cell_type": "code",
   "execution_count": 34,
   "metadata": {},
   "outputs": [],
   "source": [
    "train_2 = train_2.withColumn(\n",
    "    \"WIN_INDICATOR\", F.when(train_2[\"W_SCORE\"] > train_2[\"L_SCORE\"], 1).otherwise(0)\n",
    ")"
   ]
  },
  {
   "cell_type": "code",
   "execution_count": 71,
   "metadata": {},
   "outputs": [
    {
     "name": "stderr",
     "output_type": "stream",
     "text": [
      "Package 'fastparquet' is not installed in the local environment. Your UDF might not work when the package is installed on the server but not on your local environment.\n",
      "The version of package 'pyarrow' in the local environment is 15.0.1, which does not fit the criteria for the requirement 'pyarrow<14'. Your UDF might not work when the package version is different between the server and your local environment.\n",
      "The version of package 'cachetools' in the local environment is 5.3.3, which does not fit the criteria for the requirement 'cachetools<6'. Your UDF might not work when the package version is different between the server and your local environment.\n"
     ]
    },
    {
     "data": {
      "text/plain": [
       "<snowflake.ml.modeling.model_selection.grid_search_cv.GridSearchCV at 0x7fb2f1b38610>"
      ]
     },
     "execution_count": 71,
     "metadata": {},
     "output_type": "execute_result"
    }
   ],
   "source": [
    "all_rounds_class = GridSearchCV(\n",
    "    estimator=XGBClassifier(),\n",
    "    param_grid=parameters,\n",
    "    n_jobs=-1,\n",
    "    scoring=\"accuracy\",\n",
    "    input_cols=train_2.drop(\n",
    "        [\n",
    "            \"SEASON\",\n",
    "            'SPREAD',\n",
    "            \"WIN_INDICATOR\",\n",
    "            \"l_teamid\",\n",
    "            \"w_teamid\",\n",
    "            \"w_score\",\n",
    "            \"l_score\",\n",
    "            \"round\",\n",
    "            \"l_region\",\n",
    "            \"w_region\",\n",
    "        ]\n",
    "    ).columns,\n",
    "    label_cols=\"WIN_INDICATOR\",\n",
    "    output_cols=\"PRED_WIN_INDICATOR\",\n",
    ")\n",
    "\n",
    "# Train\n",
    "all_rounds_class.fit(train_2.filter(F.col(\"ROUND\") == 3))"
   ]
  },
  {
   "cell_type": "code",
   "execution_count": null,
   "metadata": {},
   "outputs": [],
   "source": [
    "session.use_warehouse('wh_xs')"
   ]
  },
  {
   "cell_type": "code",
   "execution_count": 72,
   "metadata": {},
   "outputs": [],
   "source": [
    "result = all_rounds_class.predict(games_32)\n",
    "\n",
    "teams = session.table(\"m_teams\")\n",
    "\n",
    "result = (\n",
    "    result.select(\n",
    "        \"l_teamID\",\n",
    "        \"l_seed\",\n",
    "        \"w_seed\",\n",
    "        \"l_region\",\n",
    "        \"w_teamid\",\n",
    "        \"w_region\",\n",
    "        \"pred_win_indicator\",\n",
    "    )\n",
    ")\n",
    "\n",
    "res_teamsl = (\n",
    "    result.join(teams, result.col(\"L_TEAMID\") == teams.col(\"TEAMID\"))\n",
    "    .with_column_renamed(\"teamname\", \"l_team_name\")\n",
    "    .drop(\"firstd1season\", \"lastd1season\")\n",
    ")\n",
    "res_teamsl = res_teamsl.cache_result()\n",
    "\n",
    "round_2_results = (\n",
    "    res_teamsl.join(teams, result.col(\"W_TEAMID\") == teams.col(\"TEAMID\"))\n",
    "    .with_column_renamed(\"teamname\", \"w_team_name\")\n",
    "    .select(\n",
    "        \"l_teamid\",\n",
    "        \"w_teamid\",\n",
    "        \"L_TEAM_NAME\",\n",
    "        \"l_seed\",\n",
    "        \"w_seed\",\n",
    "        \"l_region\",\n",
    "        \"W_TEAM_NAME\",\n",
    "        \"w_region\",\n",
    "        \"PRED_WIN_INDICATOR\",\n",
    "    )\n",
    ")"
   ]
  },
  {
   "cell_type": "code",
   "execution_count": 73,
   "metadata": {},
   "outputs": [],
   "source": [
    "result = all_rounds_class.predict_proba(games_32)\n",
    "\n",
    "teams = session.table(\"m_teams\")\n",
    "\n",
    "result = (\n",
    "    result.select(\n",
    "        \"l_teamID\",\n",
    "        \"l_seed\",\n",
    "        \"w_seed\",\n",
    "        \"l_region\",\n",
    "        \"w_teamid\",\n",
    "        \"w_region\",\n",
    "        F.col('\"predict_proba_1\"').alias('W_PROB')\n",
    "    )\n",
    ")\n",
    "\n",
    "res_teamsl = (\n",
    "    result.join(teams, result.col(\"L_TEAMID\") == teams.col(\"TEAMID\"))\n",
    "    .with_column_renamed(\"teamname\", \"l_team_name\")\n",
    "    .drop(\"firstd1season\", \"lastd1season\")\n",
    ")\n",
    "res_teamsl = res_teamsl.cache_result()\n",
    "\n",
    "round_2_results_proba = (\n",
    "    res_teamsl.join(teams, result.col(\"W_TEAMID\") == teams.col(\"TEAMID\"))\n",
    "    .with_column_renamed(\"teamname\", \"w_team_name\")\n",
    "    .select(\n",
    "        F.col(\"l_teamid\").alias('teaml'),\n",
    "        F.col(\"w_teamid\").alias('teamw'),\n",
    "        'W_PROB',\n",
    "    )\n",
    ")"
   ]
  },
  {
   "cell_type": "markdown",
   "metadata": {},
   "source": [
    "# JOE START ANALYZINF HERE\n",
    "Here are the results of the classification cross check them with the spreads and see if there are any differences in who they chose as the winner"
   ]
  },
  {
   "cell_type": "code",
   "execution_count": 74,
   "metadata": {},
   "outputs": [
    {
     "name": "stdout",
     "output_type": "stream",
     "text": [
      "-----------------------------------------------------------------------------------------------------------------------------------\n",
      "|\"L_TEAMID\"  |\"W_TEAMID\"  |\"L_TEAM_NAME\"  |\"L_SEED\"  |\"W_SEED\"  |\"L_REGION\"  |\"W_TEAM_NAME\"   |\"W_REGION\"  |\"PRED_WIN_INDICATOR\"  |\n",
      "-----------------------------------------------------------------------------------------------------------------------------------\n",
      "|1361        |1463        |San Diego St   |5         |13        |W           |Yale            |W           |1.0                   |\n",
      "|1182        |1228        |Duquesne       |11        |3         |W           |Illinois        |W           |1.0                   |\n",
      "|1321        |1163        |Northwestern   |9         |1         |W           |Connecticut     |W           |1.0                   |\n",
      "|1450        |1235        |Washington St  |7         |2         |W           |Iowa St         |W           |1.0                   |\n",
      "|1155        |1124        |Clemson        |6         |3         |X           |Baylor          |X           |1.0                   |\n",
      "|1213        |1104        |Grand Canyon   |12        |4         |X           |Alabama         |X           |1.0                   |\n",
      "|1173        |1112        |Dayton         |7         |2         |X           |Arizona         |X           |1.0                   |\n",
      "|1277        |1314        |Michigan St    |9         |1         |X           |North Carolina  |X           |1.0                   |\n",
      "|1211        |1242        |Gonzaga        |5         |4         |Y           |Kansas          |Y           |1.0                   |\n",
      "|1429        |1345        |Utah St        |8         |1         |Y           |Purdue          |Y           |1.0                   |\n",
      "|1332        |1166        |Oregon         |11        |3         |Y           |Creighton       |Y           |1.0                   |\n",
      "|1400        |1397        |Texas          |7         |2         |Y           |Tennessee       |Y           |1.0                   |\n",
      "|1241        |1181        |James Madison  |12        |4         |Z           |Duke            |Z           |0.0                   |\n",
      "|1401        |1222        |Texas A&M      |9         |1         |Z           |Houston         |Z           |1.0                   |\n",
      "|1301        |1324        |NC State       |11        |14        |Z           |Oakland         |Z           |1.0                   |\n",
      "|1160        |1266        |Colorado       |10        |2         |Z           |Marquette       |Z           |1.0                   |\n",
      "-----------------------------------------------------------------------------------------------------------------------------------\n",
      "\n"
     ]
    }
   ],
   "source": [
    "round_2_results.sort('W_REGION').show(16)"
   ]
  },
  {
   "cell_type": "markdown",
   "metadata": {},
   "source": [
    "### Here are the Spread predictions, with classification probabilities (2 different models)"
   ]
  },
  {
   "cell_type": "code",
   "execution_count": 75,
   "metadata": {},
   "outputs": [],
   "source": [
    "round_2_results = round_1_results.select(\n",
    "    \"w_region\",\n",
    "    \"l_region\",\n",
    "    \"l_teamid\",\n",
    "    \"w_teamid\",\n",
    "    \"L_TEAM_NAME\",\n",
    "    \"l_seed\",\n",
    "    \"W_TEAM_NAME\",\n",
    "    \"w_seed\",\n",
    "    \"PRED_SPREAD\",\n",
    ").withColumn(\n",
    "    \"PRED_WIN_INDICATOR\", F.when(round_1_results[\"PRED_SPREAD\"] > 0, 1).otherwise(0)\n",
    ").join(\n",
    "    round_2_results_proba,\n",
    "    (\n",
    "        round_1_results.col('l_teamid') == round_2_results_proba.col('teaml')) & (round_1_results.col('w_teamid') == round_2_results_proba.col('teamw')\n",
    "    )\n",
    ").drop('teamw','teaml').sort(\n",
    "    \"W_REGION\"\n",
    ").sort(F.col('W_PROB').desc())"
   ]
  },
  {
   "cell_type": "code",
   "execution_count": 76,
   "metadata": {},
   "outputs": [
    {
     "name": "stdout",
     "output_type": "stream",
     "text": [
      "-------------------------------------------------------------------------------------------------------------------------------------------------------------------------------\n",
      "|\"W_REGION\"  |\"L_REGION\"  |\"L_TEAMID\"  |\"W_TEAMID\"  |\"L_TEAM_NAME\"  |\"L_SEED\"  |\"W_TEAM_NAME\"   |\"W_SEED\"  |\"PRED_SPREAD\"         |\"PRED_WIN_INDICATOR\"  |\"W_PROB\"            |\n",
      "-------------------------------------------------------------------------------------------------------------------------------------------------------------------------------\n",
      "|W           |W           |1321        |1163        |Northwestern   |9         |Connecticut     |1         |9.200010299682615     |1                     |0.9622525572776794  |\n",
      "|Y           |Y           |1400        |1397        |Texas          |7         |Tennessee       |2         |1.66803777217865      |1                     |0.9568915367126464  |\n",
      "|X           |X           |1173        |1112        |Dayton         |7         |Arizona         |2         |6.6120781898498535    |1                     |0.9471816420555116  |\n",
      "|W           |W           |1182        |1228        |Duquesne       |11        |Illinois        |3         |-0.08841568976640701  |0                     |0.9383527636528016  |\n",
      "|X           |X           |1277        |1314        |Michigan St    |9         |North Carolina  |1         |8.157055854797363     |1                     |0.9218161702156068  |\n",
      "|Y           |Y           |1429        |1345        |Utah St        |8         |Purdue          |1         |14.46292781829834     |1                     |0.8191248774528503  |\n",
      "|Y           |Y           |1332        |1166        |Oregon         |11        |Creighton       |3         |3.9411988258361816    |1                     |0.804239809513092   |\n",
      "|Z           |Z           |1301        |1324        |NC State       |11        |Oakland         |14        |-3.273332118988037    |0                     |0.7887351512908936  |\n",
      "|Z           |Z           |1401        |1222        |Texas A&M      |9         |Houston         |1         |10.862871170043944    |1                     |0.6673325300216675  |\n",
      "|W           |W           |1450        |1235        |Washington St  |7         |Iowa St         |2         |3.20786190032959      |1                     |0.6643685102462769  |\n",
      "-------------------------------------------------------------------------------------------------------------------------------------------------------------------------------\n",
      "\n"
     ]
    }
   ],
   "source": [
    "round_2_results.show()"
   ]
  },
  {
   "cell_type": "markdown",
   "metadata": {},
   "source": [
    "I only see Creighton and Oregon are different in the two models, I like Creighton and <br>\n",
    "honestly the spread model if you look at what it predicted actually outperformed the classification.  Take this and work your magic."
   ]
  },
  {
   "cell_type": "markdown",
   "metadata": {},
   "source": [
    "## STOP HERE FOR NOW"
   ]
  },
  {
   "cell_type": "code",
   "execution_count": 77,
   "metadata": {},
   "outputs": [
    {
     "name": "stdout",
     "output_type": "stream",
     "text": [
      "------------------------------------------------------------------------------------------------------------------------------------------------------------------------------------------\n",
      "|\"W_REGION\"  |\"L_REGION\"  |\"L_TEAMID\"  |\"W_TEAMID\"  |\"L_TEAM_NAME\"  |\"L_SEED\"  |\"W_TEAM_NAME\"   |\"W_SEED\"  |\"PRED_SPREAD\"         |\"PRED_WIN_INDICATOR\"  |\"W_PROB\"            |\"WINNER\"  |\n",
      "------------------------------------------------------------------------------------------------------------------------------------------------------------------------------------------\n",
      "|W           |W           |1321        |1163        |Northwestern   |9         |Connecticut     |1         |9.200010299682615     |1                     |0.9622525572776794  |1         |\n",
      "|Y           |Y           |1400        |1397        |Texas          |7         |Tennessee       |2         |1.66803777217865      |1                     |0.9568915367126464  |1         |\n",
      "|X           |X           |1173        |1112        |Dayton         |7         |Arizona         |2         |6.6120781898498535    |1                     |0.9471816420555116  |1         |\n",
      "|W           |W           |1182        |1228        |Duquesne       |11        |Illinois        |3         |-0.08841568976640701  |0                     |0.9383527636528016  |1         |\n",
      "|X           |X           |1277        |1314        |Michigan St    |9         |North Carolina  |1         |8.157055854797363     |1                     |0.9218161702156068  |1         |\n",
      "|Y           |Y           |1429        |1345        |Utah St        |8         |Purdue          |1         |14.46292781829834     |1                     |0.8191248774528503  |1         |\n",
      "|Y           |Y           |1332        |1166        |Oregon         |11        |Creighton       |3         |3.9411988258361816    |1                     |0.804239809513092   |1         |\n",
      "|Z           |Z           |1301        |1324        |NC State       |11        |Oakland         |14        |-3.273332118988037    |0                     |0.7887351512908936  |0         |\n",
      "|Z           |Z           |1401        |1222        |Texas A&M      |9         |Houston         |1         |10.862871170043944    |1                     |0.6673325300216675  |1         |\n",
      "|W           |W           |1450        |1235        |Washington St  |7         |Iowa St         |2         |3.20786190032959      |1                     |0.6643685102462769  |1         |\n",
      "|Y           |Y           |1211        |1242        |Gonzaga        |5         |Kansas          |4         |-0.30016982555389404  |0                     |0.6586493253707886  |0         |\n",
      "|X           |X           |1213        |1104        |Grand Canyon   |12        |Alabama         |4         |6.477607727050781     |1                     |0.6433817744255066  |1         |\n",
      "|W           |W           |1361        |1463        |San Diego St   |5         |Yale            |13        |-5.607921123504639    |0                     |0.6073707938194275  |0         |\n",
      "|X           |X           |1155        |1124        |Clemson        |6         |Baylor          |3         |4.083593368530273     |1                     |0.5533120036125183  |0         |\n",
      "|Z           |Z           |1160        |1266        |Colorado       |10        |Marquette       |2         |4.933612823486328     |1                     |0.5393096804618835  |1         |\n",
      "|Z           |Z           |1241        |1181        |James Madison  |12        |Duke            |4         |5.301497459411621     |1                     |0.2349315583705902  |1         |\n",
      "------------------------------------------------------------------------------------------------------------------------------------------------------------------------------------------\n",
      "\n"
     ]
    }
   ],
   "source": [
    "w_teams = [\n",
    "    \"Houston\",\n",
    "    \"Connecticut\",\n",
    "    \"Alabama\",\n",
    "    \"Arizona\",\n",
    "    \"Clemson\",\n",
    "    \"Iowa St\",\n",
    "    \"Purdue\",\n",
    "    \"North Carolina\",\n",
    "    \"Creighton\",\n",
    "    \"Tennessee\",\n",
    "    \"Marquette\",\n",
    "    \"Duke\",\n",
    "    \"Gonzaga\",\n",
    "    \"San Diego St\",\n",
    "    \"Illinois\",\n",
    "    \"NC State\",\n",
    "]  # Example list of teams\n",
    "\n",
    "# Create the new column \"winner\"\n",
    "round_2_results = round_2_results.withColumn(\n",
    "    \"WINNER\", when(col(\"W_TEAM_NAME\").isin(w_teams), 1).otherwise(0)\n",
    ")\n",
    "\n",
    "round_2_results.show(32)"
   ]
  },
  {
   "cell_type": "markdown",
   "metadata": {},
   "source": [
    "# SWEET SIXTEEN"
   ]
  },
  {
   "cell_type": "code",
   "execution_count": 78,
   "metadata": {},
   "outputs": [
    {
     "name": "stdout",
     "output_type": "stream",
     "text": [
      "-------------------------------------------------------\n",
      "|\"W_TEAMID\"  |\"W_TEAM_NAME\"   |\"W_SEED\"  |\"W_REGION\"  |\n",
      "-------------------------------------------------------\n",
      "|1163        |Connecticut     |1         |W           |\n",
      "|1361        |San Diego St    |5         |W           |\n",
      "|1235        |Iowa St         |2         |W           |\n",
      "|1228        |Illinois        |3         |W           |\n",
      "|1104        |Alabama         |4         |X           |\n",
      "|1112        |Arizona         |2         |X           |\n",
      "|1314        |North Carolina  |1         |X           |\n",
      "|1155        |Clemson         |6         |X           |\n",
      "|1345        |Purdue          |1         |Y           |\n",
      "|1397        |Tennessee       |2         |Y           |\n",
      "|1166        |Creighton       |3         |Y           |\n",
      "|1211        |Gonzaga         |5         |Y           |\n",
      "|1301        |NC State        |11        |Z           |\n",
      "|1266        |Marquette       |2         |Z           |\n",
      "|1181        |Duke            |4         |Z           |\n",
      "|1222        |Houston         |1         |Z           |\n",
      "-------------------------------------------------------\n",
      "\n"
     ]
    }
   ],
   "source": [
    "round_2_winners = round_2_results.with_column(\n",
    "    \"W_TEAMID\",\n",
    "    when((round_2_results.WINNER == 1), round_2_results.w_teamid)\n",
    "    .otherwise(round_2_results.l_teamID),\n",
    ").with_column(\n",
    "    \"W_TEAM_NAME\",\n",
    "    when((round_2_results.WINNER == 1), round_2_results.w_team_name)\n",
    "    .otherwise(round_2_results.l_team_name),\n",
    ").with_column(\n",
    "    \"W_SEED\",\n",
    "    when((round_2_results.WINNER == 1), round_2_results.w_seed)\n",
    "    .otherwise(round_2_results.l_seed),\n",
    ").with_column(\n",
    "    \"W_REGION\",\n",
    "    when((round_2_results.WINNER == 1), round_2_results.w_region)\n",
    "    .otherwise(round_2_results.l_region)\n",
    ").select(\"W_TEAMID\",\"W_TEAM_NAME\",\"W_SEED\",\"W_REGION\")\n",
    "\n",
    "round_2_winners.sort('W_REGION').show(32)"
   ]
  },
  {
   "cell_type": "code",
   "execution_count": 79,
   "metadata": {},
   "outputs": [
    {
     "name": "stdout",
     "output_type": "stream",
     "text": [
      "-------------------------------------------------------\n",
      "|\"W_TEAMID\"  |\"W_TEAM_NAME\"   |\"W_SEED\"  |\"W_REGION\"  |\n",
      "-------------------------------------------------------\n",
      "|1228        |Illinois        |3         |W           |\n",
      "|1163        |Connecticut     |1         |W           |\n",
      "|1361        |San Diego St    |5         |W           |\n",
      "|1235        |Iowa St         |2         |W           |\n",
      "|1104        |Alabama         |4         |X           |\n",
      "|1314        |North Carolina  |1         |X           |\n",
      "|1112        |Arizona         |2         |X           |\n",
      "|1155        |Clemson         |6         |X           |\n",
      "|1397        |Tennessee       |2         |Y           |\n",
      "|1345        |Purdue          |1         |Y           |\n",
      "|1166        |Creighton       |3         |Y           |\n",
      "|1211        |Gonzaga         |5         |Y           |\n",
      "|1181        |Duke            |4         |Z           |\n",
      "|1266        |Marquette       |2         |Z           |\n",
      "|1222        |Houston         |1         |Z           |\n",
      "|1301        |NC State        |11        |Z           |\n",
      "-------------------------------------------------------\n",
      "\n"
     ]
    }
   ],
   "source": [
    "round_2_winners.sort('W_REGION').show(20)"
   ]
  },
  {
   "cell_type": "code",
   "execution_count": 86,
   "metadata": {},
   "outputs": [
    {
     "name": "stdout",
     "output_type": "stream",
     "text": [
      "------------------------------------------------------------------------------------------------------------\n",
      "|\"W_TEAM_NAME\"   |\"W_REGION\"  |\"WTEAMID2\"  |\"W_SEED\"  |\"L_TEAM_NAME\"  |\"L_REGION\"  |\"LTEAMID2\"  |\"L_SEED\"  |\n",
      "------------------------------------------------------------------------------------------------------------\n",
      "|Connecticut     |W           |1163        |1         |San Diego St   |W           |1361        |5         |\n",
      "|Illinois        |W           |1228        |3         |Iowa St        |W           |1235        |2         |\n",
      "|North Carolina  |X           |1314        |1         |Alabama        |X           |1104        |4         |\n",
      "|Clemson         |X           |1155        |6         |Arizona        |X           |1112        |2         |\n",
      "|Purdue          |Y           |1345        |1         |Gonzaga        |Y           |1211        |5         |\n",
      "|Creighton       |Y           |1166        |3         |Tennessee      |Y           |1397        |2         |\n",
      "|NC State        |Z           |1301        |11        |Marquette      |Z           |1266        |2         |\n",
      "|Houston         |Z           |1222        |1         |Duke           |Z           |1181        |4         |\n",
      "------------------------------------------------------------------------------------------------------------\n",
      "\n"
     ]
    }
   ],
   "source": [
    "df1 = round_2_winners.cache_result()\n",
    "df2 = round_2_winners.cache_result()\n",
    "\n",
    "third_round_matchups = df1.join(\n",
    "    df2,\n",
    "    (df1.w_region == df2.w_region)\n",
    "    & (\n",
    "        (df1.w_seed == 1) & (df2.w_seed.isin([5, 12, 4, 13])) |\n",
    "        (df1.w_seed == 16) & (df2.w_seed.isin([5, 12, 4, 13])) |\n",
    "        (df1.w_seed == 8) & (df2.w_seed.isin([5, 12, 4, 13])) |\n",
    "        (df1.w_seed == 9) & (df2.w_seed.isin([5, 12, 4, 13])) |\n",
    "        (df1.w_seed == 6) & (df2.w_seed.isin([7,10,2,15])) |\n",
    "        (df1.w_seed == 11) & (df2.w_seed.isin([7,10,2,15])) |\n",
    "        (df1.w_seed == 3) & (df2.w_seed.isin([7,10,2,15]))|\n",
    "        (df1.w_seed == 14) & (df2.w_seed.isin([7,10,2,15]))\n",
    "    ),\n",
    "    \"inner\",\n",
    ").select(\n",
    "    (df1.W_TEAM_NAME).alias(\"W_team_name\"),\n",
    "    (df1.W_REGION).alias(\"w_region\"),\n",
    "    (df1.W_TEAMID).alias(\"WTeamID2\"),\n",
    "    (df1.W_SEED).alias(\"w_seed\"),\n",
    "    (df2.W_TEAM_NAME).alias(\"l_Team_name\"),\n",
    "    (df2.W_REGION).alias(\"l_region\"),\n",
    "    (df2.W_TEAMID).alias(\"lteamID2\"),\n",
    "    (df2.W_SEED).alias(\"l_seed\"),\n",
    ")\n",
    "\n",
    "third_round_matchups.sort(\"W_REGION\").show(20)"
   ]
  },
  {
   "cell_type": "code",
   "execution_count": 90,
   "metadata": {},
   "outputs": [
    {
     "data": {
      "text/plain": [
       "8"
      ]
     },
     "execution_count": 90,
     "metadata": {},
     "output_type": "execute_result"
    }
   ],
   "source": [
    "third_round = third_round_matchups.select('WTEAMID2','LTEAMID2','W_SEED','L_SEED')\n",
    "\n",
    "season = session.table(\"MEN.FINAL_SEASON_STATS\").filter(F.col('SEASON') == 2024)\n",
    "\n",
    "season_w = season.select(*[F.col(col).alias(f\"W_{col}\") for col in season.columns])\n",
    "\n",
    "season_l = season.select(*[F.col(col).alias(f\"L_{col}\") for col in season.columns])\n",
    "\n",
    "df1 = third_round.join(season_w, season_w.w_teamid == third_round.wTEAMID2)\n",
    "\n",
    "df2 = df1.join(season_l, season_l.l_teamid == third_round.lTEAMID2)\n",
    "\n",
    "games_16 = df2.drop('WTEAMID2','lTEAMID2')\n",
    "\n",
    "games_16 = games_16.cache_result()\n",
    "games_16.count()"
   ]
  },
  {
   "cell_type": "code",
   "execution_count": 96,
   "metadata": {},
   "outputs": [
    {
     "name": "stdout",
     "output_type": "stream",
     "text": [
      "----------------------------------------------------------------------------------------------------------------------------------------------------------------------------------------------------------------------------------------------------------------------------------------------------------------------------------------------------------------------------------------------------------------------------------------------------------------------------------------------------------------------------------------------------------------------------------------------------------------------------------------------------------------------------------------------------------------------------------------------------------------------------------------------------------------------------------------------------------------------------------------------------------------------------------------------------------------------------------------------------------------------------------------------------------------------------------------------------------------------------------------------------------------------------------------------------------------------------------------------------------------------------------------------------------------------------------------------------------------------------------------------------------------------------------------------------------------------------------------------------------------------------------------------------------------------------------------------------------------------------------------------------------------------------------------------------------------------------------------------------------------------------------------------------------------------------------------------------------------------------------------------------------------------------------------------------------------------------------------------------------------------------------------------------------------------------------------------------------------------------------------------------------------------------------------------------------------------------------------------------------------------------------------------------------------------------------------------------------------------------------------------------------------------------------------------------------------------------------------------------------------------------------------------------------------------------------------------------------------------------------------------------------------------------------------------------------------------------------------------------------------------------------------------------------------------------------------------------------------------------------------------------------------------------------------------------------------------------------------------------------------------------------------------------------------------------------------------------------------------------------------------------------------------------------------------------------------------------------------------------------------\n",
      "|\"W_CONF_SUMMIT\"  |\"L_CONF_CUSA\"  |\"L_FGM3_MEAN\"  |\"W_CONF_WCC\"  |\"L_CONF_SOUTHLAND\"  |\"L_OR_STDDEV\"       |\"W_FTA_MEDIAN\"  |\"L_LOSEMARGINMEAN\"  |\"W_SEASON\"  |\"W_CONF_BIG_SOUTH\"  |\"L_CONF_A_TEN\"  |\"W_AST_MEDIAN\"  |\"W_TO_MEAN\"  |\"W_CONF_PAC_TWELVE\"  |\"W_OR_MEDIAN\"  |\"W_CONF_SOUTHLAND\"  |\"W_FGA3_STDDEV\"     |\"L_CONF_MEAC\"  |\"L_FGA3_MEAN\"  |\"W_CONF_BIG_TEN\"  |\"W_FTM_MEDIAN\"  |\"L_SEED\"  |\"L_CONF_BIG_TWELVE\"  |\"L_WON_CONFERENCE\"  |\"W_CONF_SUN_BELT\"  |\"L_LOSEMARGINMEDIAN\"  |\"L_PF_MEDIAN\"  |\"W_FGM_MEDIAN\"  |\"W_OR_MEAN\"  |\"W_STL_MEDIAN\"  |\"W_WLOCA\"  |\"W_STL_STDDEV\"      |\"L_CONF_OVC\"  |\"W_LOSEMARGINMEAN\"  |\"L_TOTAL_WINS\"  |\"L_WLOCN\"  |\"L_CONF_CAA\"  |\"L_FGM_STDDEV\"     |\"W_CONF_SWAC\"  |\"W_REGION\"  |\"L_STL_MEAN\"  |\"L_CONF_MAC\"  |\"L_TEAMID\"  |\"W_STL_MEAN\"  |\"W_AST_MEAN\"  |\"L_CONF_BIG_WEST\"  |\"L_CONF_SUN_BELT\"  |\"L_DR_MEAN\"  |\"W_CONF_NEC\"  |\"W_CONF_AEC\"  |\"W_CONF_ACC\"  |\"L_FGM_MEAN\"  |\"W_DR_MEAN\"  |\"W_BLK_MEDIAN\"  |\"L_CONF_MWC\"  |\"W_CONF_BIG_EAST\"  |\"W_FGM_MEAN\"  |\"W_TO_MEDIAN\"  |\"L_FGA3_STDDEV\"     |\"W_CONF_OVC\"  |\"W_FTA_MEAN\"  |\"W_CONF_BIG_WEST\"  |\"L_SEASON\"  |\"L_FGA3_MEDIAN\"  |\"W_LOSEMARGINMEDIAN\"  |\"L_CONF_SWAC\"  |\"L_WLOCH\"  |\"W_CONF_BIG_TWELVE\"  |\"L_TO_STDDEV\"       |\"L_BLK_MEDIAN\"  |\"W_CONF_BIG_SKY\"  |\"L_CONF_HORIZON\"  |\"L_FTM_MEAN\"  |\"L_CONF_AEC\"  |\"W_PF_MEAN\"  |\"L_FGA_MEAN\"  |\"L_WINMARGINMEDIAN\"  |\"L_FTA_STDDEV\"      |\"L_CONF_ACC\"  |\"L_CONF_GWC\"  |\"L_DR_MEDIAN\"  |\"W_AST_STDDEV\"      |\"W_FGA_MEAN\"  |\"L_OR_MEDIAN\"  |\"W_TOTAL_WINS\"  |\"W_CONF_A_TEN\"  |\"L_FTA_MEDIAN\"  |\"L_CONF_MID_CONT\"  |\"W_TEAMID\"  |\"W_FGM3_MEDIAN\"  |\"W_BLK_MEAN\"  |\"W_FTM_STDDEV\"      |\"L_FGM_MEDIAN\"  |\"W_CONF_MAC\"  |\"W_CONF_MWC\"  |\"W_CONF_PATRIOT\"  |\"W_FGA3_MEDIAN\"  |\"L_DR_STDDEV\"       |\"W_BLK_STDDEV\"      |\"L_FGM3_MEDIAN\"  |\"L_AST_STDDEV\"      |\"L_FTM_MEDIAN\"  |\"W_FGM3_STDDEV\"     |\"L_REGION\"  |\"L_FTA_MEAN\"  |\"L_AST_MEAN\"  |\"W_CONF_MVC\"  |\"L_AST_MEDIAN\"  |\"L_WLOCA\"  |\"L_TO_MEDIAN\"  |\"L_CONF_WAC\"  |\"W_WINMARGINMEAN\"  |\"W_CONF_IND\"  |\"L_CONF_PAC_TEN\"  |\"L_CONF_SUMMIT\"  |\"L_BLK_MEAN\"  |\"W_PF_MEDIAN\"  |\"L_SCORE_MEAN\"  |\"W_FGM3_MEAN\"  |\"W_FGA_STDDEV\"      |\"L_STL_MEDIAN\"  |\"W_PF_STDDEV\"       |\"L_CONF_WCC\"  |\"W_SCORE_STDDEV\"    |\"W_CONF_CAA\"  |\"W_CONF_SOUTHERN\"  |\"W_CONF_WAC\"  |\"W_FTA_STDDEV\"     |\"L_FGA_MEDIAN\"  |\"L_FGA_STDDEV\"     |\"L_TO_MEAN\"  |\"W_WLOCH\"  |\"L_CONF_PAC_TWELVE\"  |\"W_CONF_SEC\"  |\"L_STL_STDDEV\"      |\"W_CONF_GWC\"  |\"W_CONF_MAAC\"  |\"L_CONF_BIG_SOUTH\"  |\"W_SCORE_MEDIAN\"  |\"L_SCORE_MEDIAN\"  |\"L_SCORE_STDDEV\"    |\"L_CONF_MAAC\"  |\"W_CONF_MEAC\"  |\"W_FGA3_MEAN\"  |\"L_PF_MEAN\"  |\"W_CONF_A_SUN\"  |\"L_CONF_IND\"  |\"W_SCORE_MEAN\"  |\"W_CONF_CUSA\"  |\"L_WINMARGINMEAN\"  |\"L_CONF_MVC\"  |\"W_WON_CONFERENCE\"  |\"W_CONF_IVY\"  |\"W_CONF_MID_CONT\"  |\"W_SEED\"  |\"W_TO_STDDEV\"       |\"W_OR_STDDEV\"       |\"W_CONF_HORIZON\"  |\"L_CONF_BIG_TEN\"  |\"W_WINMARGINMEDIAN\"  |\"L_FGM3_STDDEV\"     |\"L_CONF_BIG_SKY\"  |\"W_CONF_PAC_TEN\"  |\"W_DR_STDDEV\"      |\"W_WLOCN\"  |\"L_FTM_STDDEV\"     |\"L_CONF_BIG_EAST\"  |\"L_BLK_STDDEV\"      |\"L_CONF_SEC\"  |\"L_CONF_A_SUN\"  |\"L_CONF_IVY\"  |\"W_FGM_STDDEV\"      |\"L_CONF_NEC\"  |\"L_CONF_PATRIOT\"  |\"L_PF_STDDEV\"       |\"W_FTM_MEAN\"  |\"L_CONF_SOUTHERN\"  |\"W_FGA_MEDIAN\"  |\"L_OR_MEAN\"  |\"W_DR_MEDIAN\"  |\"PRED_SPREAD\"        |\n",
      "----------------------------------------------------------------------------------------------------------------------------------------------------------------------------------------------------------------------------------------------------------------------------------------------------------------------------------------------------------------------------------------------------------------------------------------------------------------------------------------------------------------------------------------------------------------------------------------------------------------------------------------------------------------------------------------------------------------------------------------------------------------------------------------------------------------------------------------------------------------------------------------------------------------------------------------------------------------------------------------------------------------------------------------------------------------------------------------------------------------------------------------------------------------------------------------------------------------------------------------------------------------------------------------------------------------------------------------------------------------------------------------------------------------------------------------------------------------------------------------------------------------------------------------------------------------------------------------------------------------------------------------------------------------------------------------------------------------------------------------------------------------------------------------------------------------------------------------------------------------------------------------------------------------------------------------------------------------------------------------------------------------------------------------------------------------------------------------------------------------------------------------------------------------------------------------------------------------------------------------------------------------------------------------------------------------------------------------------------------------------------------------------------------------------------------------------------------------------------------------------------------------------------------------------------------------------------------------------------------------------------------------------------------------------------------------------------------------------------------------------------------------------------------------------------------------------------------------------------------------------------------------------------------------------------------------------------------------------------------------------------------------------------------------------------------------------------------------------------------------------------------------------------------------------------------------------------------------------------------------------------------------\n",
      "|0                |0              |6.529412       |0             |0                   |3.348982830651719   |24.0            |7.571429            |2024        |0                   |0               |13.5            |10.294118    |0                    |11.5           |0                   |6.249705913081031   |0              |18.735294      |1                 |18.0            |2         |1                    |1                   |0                  |8.0                   |17.0           |30.0            |11.382353    |4.0             |6          |1.8267178216681415  |0             |6.0                 |27.0            |4          |0             |5.18817039041703   |0              |W           |10.441176     |0             |1235        |4.235294      |13.0          |0                  |0                  |21.764706    |0             |0             |0             |27.147059     |26.676471    |4.0             |0             |0                  |29.294118     |9.5            |4.554776503847362   |0             |23.5          |0                  |2024        |18.0             |6.5                   |0              |18         |0                    |4.31894639929694    |3.0             |0                 |0                 |14.735294     |0             |15.352941    |58.588235     |14.0                 |8.546246193505077   |0             |0             |22.0           |3.7254245395659273  |62.176471     |9.0            |26.0            |0               |18.5            |0                  |1228        |9.0              |3.794118      |5.550047747542358   |27.0            |0             |0             |0                 |22.5             |4.4316959507619655  |1.6837802707004261  |7.0              |4.876093928545676   |14.5            |2.5550968670482925  |W           |21.147059     |15.735294     |0             |15.5            |5          |10.0           |0             |15.730769          |0             |0                 |0                |3.058824      |15.0           |75.558824       |8.323529       |5.9465833888040285  |9.5             |3.961040267404511   |0             |11.211783979367423  |0             |0                  |0             |6.056551659153912  |59.0            |7.084415854535926  |10.205882    |15         |0                    |0             |3.783466267855444   |0             |0              |0                   |86.5              |71.5              |13.089878532667903  |0              |0              |23.823529      |16.470588    |0               |0             |84.411765       |0              |19.925926          |0             |1                   |0             |0                  |3         |3.4687297386795644  |3.4466910218352904  |0                 |0                 |12.0                 |2.754998729582284   |0                 |0                 |6.25091793259198   |5          |6.224627619384151  |0                  |1.7397522812170703  |0             |0               |0             |4.7579560737778985  |0             |0                 |3.5439688204046043  |17.5          |0                  |62.0            |9.235294     |25.5           |-6.203191757202148   |\n",
      "|0                |0              |6.83871        |0             |0                   |3.1469391478069606  |24.0            |7.142857            |2024        |0                   |0               |19.0            |10.969697    |0                    |10.0           |0                   |5.074632400479861   |0              |19.258065      |1                 |18.0            |5         |0                    |0                   |0                  |9.0                   |15.0           |29.0            |11.030303    |5.0             |7          |2.965074535319475   |0             |6.25                |24.0            |4          |0             |5.559840645198386  |0              |Y           |6.935484      |0             |1211        |5.666667      |18.393939     |0                  |0                  |25.709677    |0             |0             |0             |31.387097     |26.666667    |3.0             |0             |0                  |28.515152     |11.0           |5.4465141145507     |0             |25.0          |0                  |2024        |20.0             |4.0                   |0              |12         |0                    |3.6682303635404363  |4.0             |0                 |0                 |14.032258     |0             |14.363636    |61.387097     |18.5                 |8.247775821395729   |0             |0             |24.0           |4.814946728677276   |58.393939     |9.0            |29.0            |0               |20.0            |0                  |1345        |9.0              |3.787879      |6.151650428949941   |32.0            |0             |0             |0                 |20.0             |6.558422295034073   |1.964649587076535   |7.0              |5.997490475190436   |15.0            |3.158981956263758   |Y           |19.322581     |16.354839     |0             |17.0            |8          |9.0            |0             |15.931034          |0             |0                 |0                |3.903226      |15.0           |83.645161       |8.333333       |5.539288040894786   |7.0             |3.7401385001093206  |1             |10.60936906700865   |0             |0                  |0             |9.161741100904347  |61.0            |6.64167358427076   |9.451613     |16         |0                    |0             |2.988148590682866   |0             |0              |0                   |83.0              |86.0              |13.287960415353442  |0              |0              |20.424242      |15.741935    |0               |0             |83.393939       |0              |20.541667          |0             |0                   |0             |0                  |1         |2.8005004909837097  |3.32118999757617    |0                 |0                 |10.0                 |3.0994276891064905  |0                 |0                 |4.674844061570396  |6          |5.793581879977187  |0                  |2.2264296530544145  |0             |0               |0             |4.258236254601194   |0             |0                 |3.7055610911169716  |18.030303     |0                  |59.0            |9.354839     |26.0           |6.094749450683594    |\n",
      "|0                |0              |7.818182       |0             |0                   |4.272666848702341   |17.0            |7.125               |2024        |0                   |0               |14.0            |9.75         |0                    |7.0            |0                   |5.357764925787618   |0              |21.060606      |0                 |14.0            |2         |0                    |0                   |0                  |5.5                   |17.0           |27.0            |8.03125      |4.5             |6          |1.6848471740784088  |0             |7.181818            |25.0            |3          |0             |5.437663284904647  |0              |X           |8.272727      |0             |1112        |4.5           |14.65625      |0                  |0                  |27.454545    |0             |0             |1             |31.545455     |25.875       |3.5             |0             |0                  |27.4375       |9.0            |3.7909381424655297  |0             |17.96875      |0                  |2024        |21.0             |5.0                   |0              |15         |0                    |3.6659779050070664  |3.0             |0                 |0                 |17.030303     |0             |15.78125     |64.515152     |20.0                 |7.605445614821002   |0             |0             |28.0           |4.555106145854342   |58.65625      |11.0           |21.0            |0               |26.0            |0                  |1155        |8.0              |3.9375        |5.269740126419898   |32.0            |0             |0             |0                 |23.0             |5.262431187198556   |2.3953920347199955  |7.0              |4.527901721548293   |16.0            |3.085965813161254   |X           |23.69697      |18.575758     |0             |18.0            |7          |12.0           |0             |13.047619          |0             |0                 |0                |3.484848      |16.0           |87.939394       |8.34375        |5.784346894853385   |8.0             |3.989780319766992   |0             |10.992253499624178  |0             |0                  |0             |6.621004606553298  |64.0            |8.385706648816187  |11.757576    |12         |1                    |0             |3.0132283351913443  |0             |0              |0                   |77.0              |87.0              |13.402283835227488  |0              |0              |23.5625        |16.333333    |0               |0             |77.40625        |0              |23.0               |0             |0                   |0             |0                  |6         |3.5103534010124964  |3.560394781481402   |0                 |0                 |11.0                 |2.5181161609425406  |0                 |0                 |5.020923918961529  |3          |6.033680717439397  |0                  |1.9545014709638875  |0             |0               |0             |4.989909217611078   |0             |0                 |3.294566284050148   |14.1875       |0                  |58.0            |11.545455    |27.0           |-11.12165069580078   |\n",
      "|0                |0              |8.71875        |0             |0                   |2.9402654642055706  |13.0            |8.375               |2024        |0                   |0               |18.0            |9.8125       |0                    |6.5            |0                   |5.4335241786523785  |0              |25.5           |0                 |11.0            |2         |0                    |0                   |0                  |6.5                   |17.0           |30.5            |7.125        |4.0             |8          |2.1773669879007533  |0             |9.0                 |24.0            |2          |0             |4.852252569683487  |0              |Y           |7.9375        |0             |1397        |3.96875       |17.125        |0                  |0                  |25.34375     |0             |0             |0             |27.4375       |28.28125     |4.0             |0             |1                  |29.21875      |9.5            |6.48074069840786    |0             |14.71875      |0                  |2024        |26.5             |5.0                   |0              |14         |0                    |3.393393728997565   |5.0             |0                 |0                 |15.875        |0             |11.3125      |61.75         |18.5                 |6.487891953477647   |0             |0             |24.5           |4.7502122057861795  |60.0625       |11.0           |23.0            |0               |22.0            |0                  |1166        |11.5             |4.125         |4.885792463869091   |27.5            |0             |0             |0                 |28.5             |4.896406641609743   |2.1515185335013967  |9.0              |5.364158275069817   |16.0            |3.6443449342783127  |Y           |21.1875       |16.75         |0             |15.0            |8          |10.0           |0             |18.565217          |0             |0                 |0                |4.65625       |12.0           |79.46875        |10.59375       |5.869206164380325   |8.0             |3.3354160160315836  |0             |14.230780758623188  |0             |0                  |0             |6.416884836117912  |60.5            |5.656854249492381  |9.96875      |14         |0                    |0             |3.340248194371191   |0             |0              |0                   |84.5              |81.0              |11.207671256777655  |0              |0              |29.34375       |17.4375      |0               |0             |80.53125        |0              |18.25              |0             |0                   |0             |0                  |3         |2.669269563007828   |2.744495946435338   |0                 |0                 |19.0                 |2.642510737915742   |0                 |0                 |4.319754854155499  |1          |4.743416490252569  |0                  |1.6964739903694368  |1             |0               |0             |5.42238121123921    |0             |0                 |4.391615875734124   |11.5          |0                  |60.0            |10.75        |28.5           |-6.730685710906982   |\n",
      "|0                |0              |8.852941       |0             |0                   |2.880260404893974   |20.5            |11.555556           |2024        |0                   |0               |13.0            |9.222222     |0                    |8.5            |0                   |5.309171498454349   |0              |24.705882      |0                 |14.5            |2         |0                    |0                   |0                  |11.0                  |15.0           |28.0            |9.055556     |7.0             |4          |3.06477682711156    |0             |8.928571            |25.0            |4          |0             |5.099805976701466  |0              |Z           |8.558824      |0             |1266        |7.416667      |12.694444     |0                  |0                  |22.617647    |0             |0             |1             |29.147059     |23.583333    |3.0             |0             |0                  |27.388889     |9.0            |5.941785337758341   |0             |19.805556     |0                  |2024        |25.0             |8.5                   |0              |14         |0                    |2.657515569098326   |3.0             |0                 |0                 |11.147059     |0             |16.361111    |60.941176     |13.0                 |5.9294725735093845  |0             |0             |23.0           |3.2144268540441234  |60.972222     |7.0            |22.0            |0               |14.5            |0                  |1301        |7.5              |3.5           |6.411980349314867   |29.5            |0             |0             |0                 |20.0             |4.438227236183384   |1.7154757357654464  |8.5              |5.440981345308951   |11.0            |2.776888726614734   |Z           |15.588235     |15.823529     |0             |16.0            |7          |10.0           |0             |11.681818          |0             |0                 |0                |3.235294      |16.0           |78.294118       |7.055556       |5.43788883667182    |8.5             |4.38277651723197    |0             |10.999098099389785  |0             |0                  |0             |7.25778182367037   |59.5            |5.268207569942551  |9.705882     |12         |0                    |0             |2.8939977539728674  |0             |0              |0                   |80.0              |78.0              |11.876968847311169  |0              |0              |20.388889      |15.352941    |0               |0             |76.361111       |0              |15.84              |0             |1                   |0             |0                  |11        |2.948230486240857   |3.656262299124613   |0                 |0                 |8.5                  |3.163545637413818   |0                 |0                 |3.872061079063707  |6          |4.580143884202766  |1                  |1.8267178216681415  |0             |0               |0             |3.7361383807348463  |0             |0                 |3.558024311327847   |14.527778     |0                  |62.0            |7.647059     |24.0           |-4.776437759399414   |\n",
      "|0                |0              |8.34375        |0             |0                   |3.2128773708313236  |15.5            |5.125               |2024        |0                   |0               |13.0            |8.352941     |0                    |12.0           |0                   |4.539782593913501   |0              |22.125         |0                 |11.0            |4         |0                    |0                   |0                  |5.0                   |16.0           |27.0            |12.352941    |9.5             |7          |3.77391361851328    |0             |11.5                |24.0            |2          |0             |4.704043367147033  |0              |Z           |6.4375        |0             |1181        |10.0          |12.941176     |0                  |0                  |24.46875     |0             |0             |0             |28.53125      |22.411765    |4.0             |0             |0                  |26.352941     |8.5            |4.903915476433093   |0             |18.176471     |0                  |2024        |22.0             |8.5                   |0              |15         |1                    |3.0240967246435755  |3.5             |0                 |0                 |14.4375       |0             |17.794118    |59.21875      |18.0                 |7.220043767180362   |1             |0             |26.0           |3.0643717137449236  |60.735294     |9.0            |30.0            |0               |20.0            |0                  |1222        |8.0              |4.735294      |5.510401800231994   |28.0            |0             |0             |0                 |22.0             |4.150276858234881   |2.5263319259353074  |9.0              |4.569247640476493   |15.0            |2.1815952878570304  |Z           |20.0          |15.34375      |0             |15.0            |7          |9.0            |0             |19.733333          |0             |0                 |0                |3.65625       |18.0           |79.84375        |7.705882       |4.9378490256385925  |6.0             |3.282454874023404   |0             |10.40537534162031   |0             |0                  |0             |8.50479576474356   |60.0            |6.225516524755195  |9.375        |17         |0                    |0             |2.285120128133311   |0             |0              |0                   |75.0              |79.0              |8.33612182012715    |0              |0              |22.235294      |15.78125     |0               |0             |73.029412       |0              |18.25              |0             |0                   |0             |0                  |1         |2.837864690220448   |3.691779245837974   |0                 |0                 |16.0                 |2.560360130919086   |0                 |0                 |4.881117904742724  |6          |5.435471920633939  |0                  |1.9936895445379654  |0             |0               |0             |4.464556416935506   |0             |0                 |3.338285937423575   |12.617647     |0                  |61.0            |9.0          |22.0           |5.990898609161377    |\n",
      "|0                |0              |11.0625        |0             |0                   |3.542227971206822   |23.0            |12.727273           |2024        |0                   |0               |14.0            |9.882353     |0                    |10.0           |0                   |4.540665920324903   |0              |30.28125       |0                 |17.0            |4         |0                    |0                   |0                  |13.0                  |19.0           |28.0            |10.5         |5.5             |8          |2.6943195801537723  |0             |5.285714            |21.0            |2          |0             |5.16414048995571   |0              |X           |7.25          |0             |1104        |5.794118      |14.470588     |0                  |0                  |25.09375     |0             |0             |1             |30.90625      |27.735294    |4.0             |0             |0                  |28.088235     |9.0            |8.017055881057583   |0             |23.029412     |0                  |2024        |30.0             |4.0                   |0              |14         |0                    |3.6317373253031393  |4.0             |0                 |0                 |17.875        |0             |16.647059    |64.75         |21.0                 |6.562048765439038   |0             |0             |24.0           |3.2026058140208264  |62.5          |10.5           |27.0            |0               |24.0            |0                  |1314        |8.0              |4.029412      |5.553499347258447   |32.0            |0             |0             |0                 |22.0             |4.788153193038001   |2.528447745159073   |10.5             |5.4616514901630255  |18.5            |2.1453428630407774  |X           |22.8125       |15.90625      |0             |15.5            |5          |12.0           |0             |15.518519          |0             |0                 |0                |4.0625        |16.5           |90.75           |7.941176       |5.925036793134706   |7.0             |4.670230401168662   |0             |10.866225931757539  |0             |0                  |0             |5.854215233487747  |64.0            |8.374307851995889  |11.8125      |14         |0                    |0             |2.747432801726004   |0             |0              |0                   |80.0              |90.5              |11.755575187969324  |0              |0              |22.441176      |19.875       |0               |0             |81.470588       |0              |21.428571          |0             |0                   |0             |0                  |1         |2.9722424194537025  |3.135814567221729   |0                 |0                 |13.0                 |4.203972763946028   |0                 |0                 |4.507964840146826  |5          |5.835099570701429  |0                  |1.966452389456709   |1             |0               |0             |4.69279042787977    |0             |0                 |4.877532470419854   |17.352941     |0                  |61.0            |11.03125     |27.0           |-0.7551345825195312  |\n",
      "|0                |0              |6.90625        |0             |0                   |3.7759853018781735  |20.0            |6.4                 |2024        |0                   |0               |18.5            |9.117647     |0                    |9.5            |0                   |4.71287916246534    |0              |22.09375       |0                 |15.0            |5         |0                    |0                   |0                  |5.5                   |18.5           |29.0            |10.088235    |5.0             |8          |2.9238707221763414  |0             |12.666667           |22.0            |4          |0             |3.823605628199645  |0              |W           |7.25          |0             |1361        |6.235294      |18.529412     |0                  |0                  |24.125       |0             |0             |0             |25.65625      |25.176471    |5.0             |1             |1                  |29.088235     |8.5            |4.328147756257866   |0             |19.529412     |0                  |2024        |22.0             |15.0                  |0              |12         |0                    |4.025999130650677   |4.0             |0                 |0                 |15.96875      |0             |16.235294    |58.4375       |12.0                 |8.46381054844684    |0             |0             |24.5           |5.7326036841909795  |58.647059     |9.0            |31.0            |0               |22.0            |0                  |1163        |9.0              |5.382353      |5.7432436827980755  |26.0            |0             |0             |0                 |24.0             |4.156223526231476   |2.000222737596991   |7.0              |3.947104888396051   |16.0            |3.273210045200277   |W           |21.90625      |13.03125      |0             |13.0            |6          |10.0           |0             |19.935484          |0             |0                 |0                |4.0625        |17.0           |74.1875         |8.794118       |5.91803793499163    |8.0             |3.68501329712662    |0             |11.8608990805925    |0             |0                  |0             |7.680101366518543  |58.0            |6.298681369937679  |10.28125     |17         |0                    |0             |2.77081558390305    |0             |0              |0                   |80.5              |73.5              |8.96026171492775    |0              |0              |23.970588      |17.71875     |0               |0             |81.470588       |0              |12.863636          |0             |1                   |0             |0                  |1         |2.5792258528480985  |3.671079813896723   |0                 |0                 |16.0                 |2.115371834926427   |0                 |0                 |4.725627048339723  |6          |6.463217851813445  |0                  |1.949979230658624   |0             |0               |0             |4.8264903397810714  |0             |0                 |3.977634095791115   |14.5          |0                  |57.0            |9.75         |24.0           |6.550592422485352    |\n",
      "----------------------------------------------------------------------------------------------------------------------------------------------------------------------------------------------------------------------------------------------------------------------------------------------------------------------------------------------------------------------------------------------------------------------------------------------------------------------------------------------------------------------------------------------------------------------------------------------------------------------------------------------------------------------------------------------------------------------------------------------------------------------------------------------------------------------------------------------------------------------------------------------------------------------------------------------------------------------------------------------------------------------------------------------------------------------------------------------------------------------------------------------------------------------------------------------------------------------------------------------------------------------------------------------------------------------------------------------------------------------------------------------------------------------------------------------------------------------------------------------------------------------------------------------------------------------------------------------------------------------------------------------------------------------------------------------------------------------------------------------------------------------------------------------------------------------------------------------------------------------------------------------------------------------------------------------------------------------------------------------------------------------------------------------------------------------------------------------------------------------------------------------------------------------------------------------------------------------------------------------------------------------------------------------------------------------------------------------------------------------------------------------------------------------------------------------------------------------------------------------------------------------------------------------------------------------------------------------------------------------------------------------------------------------------------------------------------------------------------------------------------------------------------------------------------------------------------------------------------------------------------------------------------------------------------------------------------------------------------------------------------------------------------------------------------------------------------------------------------------------------------------------------------------------------------------------------------------------------------------------------------------\n",
      "\n"
     ]
    }
   ],
   "source": [
    "result = all_rounds.predict(games_16)\n",
    "result.show()"
   ]
  },
  {
   "cell_type": "code",
   "execution_count": 97,
   "metadata": {},
   "outputs": [],
   "source": [
    "result = all_rounds.predict(games_16)\n",
    "\n",
    "teams = session.table(\"m_teams\")\n",
    "\n",
    "result = (\n",
    "    result.select(\n",
    "        \"l_teamID\",\n",
    "        \"l_seed\",\n",
    "        \"w_seed\",\n",
    "        \"l_region\",\n",
    "        \"w_teamid\",\n",
    "        \"w_region\",\n",
    "        \"PRED_SPREAD\",\n",
    "    )\n",
    ")\n",
    "\n",
    "res_teamsl = (\n",
    "    result.join(teams, result.col(\"L_TEAMID\") == teams.col(\"TEAMID\"))\n",
    "    .with_column_renamed(\"teamname\", \"l_team_name\")\n",
    "    .drop(\"firstd1season\", \"lastd1season\")\n",
    ")\n",
    "res_teamsl = res_teamsl.cache_result()\n",
    "\n",
    "round_2_results_m2 = (\n",
    "    res_teamsl.join(teams, result.col(\"W_TEAMID\") == teams.col(\"TEAMID\"))\n",
    "    .with_column_renamed(\"teamname\", \"w_team_name\")\n",
    "    .select(\n",
    "        \"l_teamid\",\n",
    "        \"w_teamid\",\n",
    "        \"L_TEAM_NAME\",\n",
    "        \"l_seed\",\n",
    "        \"w_seed\",\n",
    "        \"l_region\",\n",
    "        \"W_TEAM_NAME\",\n",
    "        \"w_region\",\n",
    "        \"PRED_SPREAD\",\n",
    "    )\n",
    ")"
   ]
  },
  {
   "cell_type": "code",
   "execution_count": 98,
   "metadata": {},
   "outputs": [
    {
     "name": "stdout",
     "output_type": "stream",
     "text": [
      "----------------------------------------------------------------------------------------------------------------------------------\n",
      "|\"L_TEAMID\"  |\"W_TEAMID\"  |\"L_TEAM_NAME\"  |\"L_SEED\"  |\"W_SEED\"  |\"L_REGION\"  |\"W_TEAM_NAME\"   |\"W_REGION\"  |\"PRED_SPREAD\"        |\n",
      "----------------------------------------------------------------------------------------------------------------------------------\n",
      "|1112        |1155        |Arizona        |2         |6         |X           |Clemson         |X           |-11.12165069580078   |\n",
      "|1361        |1163        |San Diego St   |5         |1         |W           |Connecticut     |W           |6.550592422485352    |\n",
      "|1397        |1166        |Tennessee      |2         |3         |Y           |Creighton       |Y           |-6.730685710906982   |\n",
      "|1181        |1222        |Duke           |4         |1         |Z           |Houston         |Z           |5.990898609161377    |\n",
      "|1235        |1228        |Iowa St        |2         |3         |W           |Illinois        |W           |-6.203191757202148   |\n",
      "|1266        |1301        |Marquette      |2         |11        |Z           |NC State        |Z           |-4.776437759399414   |\n",
      "|1104        |1314        |Alabama        |4         |1         |X           |North Carolina  |X           |-0.7551345825195312  |\n",
      "|1211        |1345        |Gonzaga        |5         |1         |Y           |Purdue          |Y           |6.094749450683594    |\n",
      "----------------------------------------------------------------------------------------------------------------------------------\n",
      "\n"
     ]
    }
   ],
   "source": [
    "round_2_results_m2.show()"
   ]
  },
  {
   "cell_type": "code",
   "execution_count": 99,
   "metadata": {},
   "outputs": [],
   "source": [
    "result = all_rounds_class.predict_proba(games_16)\n",
    "\n",
    "teams = session.table(\"m_teams\")\n",
    "\n",
    "result = (\n",
    "    result.select(\n",
    "        \"l_teamID\",\n",
    "        \"l_seed\",\n",
    "        \"w_seed\",\n",
    "        \"l_region\",\n",
    "        \"w_teamid\",\n",
    "        \"w_region\",\n",
    "        F.col('\"predict_proba_1\"').alias('W_PROB')\n",
    "    )\n",
    ")\n",
    "\n",
    "res_teamsl = (\n",
    "    result.join(teams, result.col(\"L_TEAMID\") == teams.col(\"TEAMID\"))\n",
    "    .with_column_renamed(\"teamname\", \"l_team_name\")\n",
    "    .drop(\"firstd1season\", \"lastd1season\")\n",
    ")\n",
    "res_teamsl = res_teamsl.cache_result()\n",
    "\n",
    "round_2_results_proba_m2 = (\n",
    "    res_teamsl.join(teams, result.col(\"W_TEAMID\") == teams.col(\"TEAMID\"))\n",
    "    .with_column_renamed(\"teamname\", \"w_team_name\")\n",
    "    .select(\n",
    "        F.col(\"l_teamid\").alias('teaml'),\n",
    "        F.col(\"w_teamid\").alias('teamw'),\n",
    "        'W_PROB',\n",
    "    )\n",
    ")"
   ]
  },
  {
   "cell_type": "code",
   "execution_count": 100,
   "metadata": {},
   "outputs": [
    {
     "name": "stdout",
     "output_type": "stream",
     "text": [
      "------------------------------------------\n",
      "|\"TEAML\"  |\"TEAMW\"  |\"W_PROB\"            |\n",
      "------------------------------------------\n",
      "|1213     |1104     |0.6433817744255066  |\n",
      "|1173     |1112     |0.9471816420555116  |\n",
      "|1155     |1124     |0.5533120036125183  |\n",
      "|1321     |1163     |0.9622525572776794  |\n",
      "|1332     |1166     |0.804239809513092   |\n",
      "|1241     |1181     |0.2349315583705902  |\n",
      "|1401     |1222     |0.6673325300216675  |\n",
      "|1182     |1228     |0.9383527636528016  |\n",
      "|1450     |1235     |0.6643685102462769  |\n",
      "|1211     |1242     |0.6586493253707886  |\n",
      "------------------------------------------\n",
      "\n"
     ]
    }
   ],
   "source": [
    "round_2_results_proba.show()"
   ]
  },
  {
   "cell_type": "code",
   "execution_count": 101,
   "metadata": {},
   "outputs": [],
   "source": [
    "round_2_results_m2 = round_2_results_m2.select(\n",
    "    \"w_region\",\n",
    "    \"l_region\",\n",
    "    \"l_teamid\",\n",
    "    \"w_teamid\",\n",
    "    \"L_TEAM_NAME\",\n",
    "    \"l_seed\",\n",
    "    \"W_TEAM_NAME\",\n",
    "    \"w_seed\",\n",
    "    \"PRED_SPREAD\",\n",
    ").withColumn(\n",
    "    \"PRED_WIN_INDICATOR\", F.when(round_1_results[\"PRED_SPREAD\"] > 0, 1).otherwise(0)\n",
    ").join(\n",
    "    round_2_results_proba_m2,\n",
    "    (\n",
    "        round_1_results.col('l_teamid') == round_2_results_proba.col('teaml')) & (round_1_results.col('w_teamid') == round_2_results_proba.col('teamw')\n",
    "    )\n",
    ").drop('teamw','teaml').sort(\n",
    "    \"W_REGION\"\n",
    ").sort(F.col('W_PROB').desc())"
   ]
  },
  {
   "cell_type": "code",
   "execution_count": 105,
   "metadata": {},
   "outputs": [
    {
     "name": "stdout",
     "output_type": "stream",
     "text": [
      "------------------------------------------------------------------------------------------------------------------------------------------------------------------------------------------\n",
      "|\"W_REGION\"  |\"L_REGION\"  |\"L_TEAMID\"  |\"W_TEAMID\"  |\"L_TEAM_NAME\"  |\"L_SEED\"  |\"W_TEAM_NAME\"   |\"W_SEED\"  |\"PRED_SPREAD\"         |\"PRED_WIN_INDICATOR\"  |\"W_PROB\"            |\"WINNER\"  |\n",
      "------------------------------------------------------------------------------------------------------------------------------------------------------------------------------------------\n",
      "|W           |W           |1321        |1163        |Northwestern   |9         |Connecticut     |1         |9.200010299682615     |1                     |0.9622525572776794  |1         |\n",
      "|Y           |Y           |1400        |1397        |Texas          |7         |Tennessee       |2         |1.66803777217865      |1                     |0.9568915367126464  |1         |\n",
      "|X           |X           |1173        |1112        |Dayton         |7         |Arizona         |2         |6.6120781898498535    |1                     |0.9471816420555116  |1         |\n",
      "|W           |W           |1182        |1228        |Duquesne       |11        |Illinois        |3         |-0.08841568976640701  |0                     |0.9383527636528016  |1         |\n",
      "|X           |X           |1277        |1314        |Michigan St    |9         |North Carolina  |1         |8.157055854797363     |1                     |0.9218161702156068  |1         |\n",
      "|Y           |Y           |1429        |1345        |Utah St        |8         |Purdue          |1         |14.46292781829834     |1                     |0.8191248774528503  |1         |\n",
      "|Y           |Y           |1332        |1166        |Oregon         |11        |Creighton       |3         |3.9411988258361816    |1                     |0.804239809513092   |1         |\n",
      "|Z           |Z           |1301        |1324        |NC State       |11        |Oakland         |14        |-3.273332118988037    |0                     |0.7887351512908936  |0         |\n",
      "|Z           |Z           |1401        |1222        |Texas A&M      |9         |Houston         |1         |10.862871170043944    |1                     |0.6673325300216675  |1         |\n",
      "|W           |W           |1450        |1235        |Washington St  |7         |Iowa St         |2         |3.20786190032959      |1                     |0.6643685102462769  |1         |\n",
      "------------------------------------------------------------------------------------------------------------------------------------------------------------------------------------------\n",
      "\n"
     ]
    }
   ],
   "source": [
    "round_2_results.show()"
   ]
  },
  {
   "cell_type": "code",
   "execution_count": 102,
   "metadata": {},
   "outputs": [],
   "source": [
    "round_2_results_m2 = round_2_results_m2.select(*[F.col(col).alias(f\"{col}_model2\") for col in round_2_results_m2.columns])"
   ]
  },
  {
   "cell_type": "code",
   "execution_count": 106,
   "metadata": {},
   "outputs": [
    {
     "name": "stdout",
     "output_type": "stream",
     "text": [
      "----------------------------------------------------------------------------------------------------------------------------------------------------------------------------------------------------------------------------------------------\n",
      "|\"W_REGION_MODEL2\"  |\"L_REGION_MODEL2\"  |\"L_TEAMID_MODEL2\"  |\"W_TEAMID_MODEL2\"  |\"L_TEAM_NAME_MODEL2\"  |\"L_SEED_MODEL2\"  |\"W_TEAM_NAME_MODEL2\"  |\"W_SEED_MODEL2\"  |\"PRED_SPREAD_MODEL2\"  |\"PRED_WIN_INDICATOR_MODEL2\"  |\"W_PROB_MODEL2\"      |\n",
      "----------------------------------------------------------------------------------------------------------------------------------------------------------------------------------------------------------------------------------------------\n",
      "|W                  |W                  |1361               |1163               |San Diego St          |5                |Connecticut           |1                |6.550592422485352     |1                            |0.937250316143036    |\n",
      "|X                  |X                  |1104               |1314               |Alabama               |4                |North Carolina        |1                |-0.7551345825195312   |0                            |0.8075724840164185   |\n",
      "|Z                  |Z                  |1181               |1222               |Duke                  |4                |Houston               |1                |5.990898609161377     |1                            |0.7824121117591858   |\n",
      "|Y                  |Y                  |1211               |1345               |Gonzaga               |5                |Purdue                |1                |6.094749450683594     |1                            |0.7022659182548523   |\n",
      "|W                  |W                  |1235               |1228               |Iowa St               |2                |Illinois              |3                |-6.203191757202148    |0                            |0.6503477692604065   |\n",
      "|Y                  |Y                  |1397               |1166               |Tennessee             |2                |Creighton             |3                |-6.730685710906982    |0                            |0.27423328161239624  |\n",
      "|Z                  |Z                  |1266               |1301               |Marquette             |2                |NC State              |11               |-4.776437759399414    |0                            |0.10985296219587326  |\n",
      "|X                  |X                  |1112               |1155               |Arizona               |2                |Clemson               |6                |-11.12165069580078    |0                            |0.08130764216184616  |\n",
      "----------------------------------------------------------------------------------------------------------------------------------------------------------------------------------------------------------------------------------------------\n",
      "\n"
     ]
    }
   ],
   "source": [
    "round_2_results_m2.sort(F.col('W_PROB').desc()).show()"
   ]
  },
  {
   "cell_type": "code",
   "execution_count": 103,
   "metadata": {},
   "outputs": [
    {
     "name": "stdout",
     "output_type": "stream",
     "text": [
      "-----------------------------------------------------------------------------------------------------------------------------------------------------------------------------------------------------------------------------------------------------------------------------------------------------------------------------------------------------------------------------------------------------------------\n",
      "|\"W_REGION\"  |\"L_REGION\"  |\"L_TEAMID\"  |\"W_TEAMID\"  |\"L_TEAM_NAME\"  |\"L_SEED\"  |\"W_TEAM_NAME\"  |\"W_SEED\"  |\"PRED_SPREAD\"  |\"PRED_WIN_INDICATOR\"  |\"W_PROB\"  |\"WINNER\"  |\"W_REGION_MODEL2\"  |\"L_REGION_MODEL2\"  |\"L_TEAMID_MODEL2\"  |\"W_TEAMID_MODEL2\"  |\"L_TEAM_NAME_MODEL2\"  |\"L_SEED_MODEL2\"  |\"W_TEAM_NAME_MODEL2\"  |\"W_SEED_MODEL2\"  |\"PRED_SPREAD_MODEL2\"  |\"PRED_WIN_INDICATOR_MODEL2\"  |\"W_PROB_MODEL2\"  |\n",
      "-----------------------------------------------------------------------------------------------------------------------------------------------------------------------------------------------------------------------------------------------------------------------------------------------------------------------------------------------------------------------------------------------------------------\n",
      "|            |            |            |            |               |          |               |          |               |                      |          |          |                   |                   |                   |                   |                      |                 |                      |                 |                      |                             |                 |\n",
      "-----------------------------------------------------------------------------------------------------------------------------------------------------------------------------------------------------------------------------------------------------------------------------------------------------------------------------------------------------------------------------------------------------------------\n",
      "\n"
     ]
    }
   ],
   "source": [
    "round_2_results.join(\n",
    "    round_2_results_m2,\n",
    "    (round_2_results.col(\"l_teamid\") == round_2_results_m2.col(\"l_teamid_model2\"))\n",
    "    & (round_2_results.col(\"w_teamid\") == round_2_results_m2.col(\"w_teamid_model2\")),\n",
    ").show()"
   ]
  },
  {
   "cell_type": "code",
   "execution_count": null,
   "metadata": {},
   "outputs": [],
   "source": [
    "result = all_rounds.predict(games_16)\n",
    "\n",
    "teams = session.table(\"m_teams\")\n",
    "\n",
    "result = (\n",
    "    result.select(\n",
    "        \"l_teamID\",\n",
    "        \"l_seed\",\n",
    "        \"w_seed\",\n",
    "        \"l_region\",\n",
    "        \"w_teamid\",\n",
    "        \"w_region\",\n",
    "        \"pred_win_indicator\",\n",
    "    )\n",
    ")\n",
    "\n",
    "res_teamsl = (\n",
    "    result.join(teams, result.col(\"L_TEAMID\") == teams.col(\"TEAMID\"))\n",
    "    .with_column_renamed(\"teamname\", \"l_team_name\")\n",
    "    .drop(\"firstd1season\", \"lastd1season\")\n",
    ")\n",
    "res_teamsl = res_teamsl.cache_result()\n",
    "\n",
    "sweet_16_results = (\n",
    "    res_teamsl.join(teams, result.col(\"W_TEAMID\") == teams.col(\"TEAMID\"))\n",
    "    .with_column_renamed(\"teamname\", \"w_team_name\")\n",
    "    .select(\n",
    "        \"l_teamid\",\n",
    "        \"w_teamid\",\n",
    "        \"L_TEAM_NAME\",\n",
    "        \"l_seed\",\n",
    "        \"w_seed\",\n",
    "        \"l_region\",\n",
    "        \"W_TEAM_NAME\",\n",
    "        \"w_region\",\n",
    "        \"PRED_WIN_INDICATOR\",\n",
    "    )\n",
    ")"
   ]
  },
  {
   "cell_type": "code",
   "execution_count": null,
   "metadata": {},
   "outputs": [],
   "source": [
    "sweet_16_winners = sweet_16_results.with_column(\n",
    "    \"W_TEAM_ID\",\n",
    "    when((sweet_16_results.PRED_WIN_INDICATOR == 1), sweet_16_results.w_teamid)\n",
    "    .otherwise(sweet_16_results.l_teamID),\n",
    ").with_column(\n",
    "    \"W_TEAM_NAME\",\n",
    "    when((sweet_16_results.PRED_WIN_INDICATOR == 1), sweet_16_results.w_team_name)\n",
    "    .otherwise(sweet_16_results.l_team_name),\n",
    ").with_column(\n",
    "    \"W_SEED\",\n",
    "    when((sweet_16_results.PRED_WIN_INDICATOR == 1), sweet_16_results.w_seed)\n",
    "    .otherwise(sweet_16_results.l_seed),\n",
    ").with_column(\n",
    "    \"W_REGION\",\n",
    "    when((sweet_16_results.PRED_WIN_INDICATOR == 1), sweet_16_results.w_region)\n",
    "    .otherwise(sweet_16_results.l_region)\n",
    ").select(\"W_TEAM_ID\",\"W_TEAM_NAME\",\"W_SEED\",\"W_REGION\")"
   ]
  },
  {
   "cell_type": "markdown",
   "metadata": {},
   "source": [
    "## ELITE 8"
   ]
  },
  {
   "cell_type": "code",
   "execution_count": null,
   "metadata": {},
   "outputs": [],
   "source": [
    "sweet_16_winners.sort('W_REGION').show(20)"
   ]
  },
  {
   "cell_type": "code",
   "execution_count": null,
   "metadata": {},
   "outputs": [],
   "source": [
    "df1 = sweet_16_winners.cache_result()\n",
    "df2 = sweet_16_winners.cache_result()\n",
    "\n",
    "elite_8_matchups = df1.join(\n",
    "    df2,\n",
    "    (df1.w_region == df2.w_region)\n",
    "    & (\n",
    "        (df1.w_seed == 1) & (df2.w_seed.isin([6,11,3,14,7,10,2,15])) |\n",
    "        (df1.w_seed == 16) & (df2.w_seed.isin([6,11,3,14,7,10,2,15])) |\n",
    "        (df1.w_seed == 8) & (df2.w_seed.isin([6,11,3,14,7,10,2,15])) |\n",
    "        (df1.w_seed == 9) & (df2.w_seed.isin([6,11,3,14,7,10,2,15])) |\n",
    "        (df1.w_seed == 5) & (df2.w_seed.isin([6,11,3,14,7,10,2,15])) |\n",
    "        (df1.w_seed == 12) & (df2.w_seed.isin([6,11,3,14,7,10,2,15])) |\n",
    "        (df1.w_seed == 4) & (df2.w_seed.isin([6,11,3,14,7,10,2,15])) |\n",
    "        (df1.w_seed == 13) & (df2.w_seed.isin([6,11,3,14,7,10,2,15])) \n",
    "    ),\n",
    "    \"inner\",\n",
    ").select(\n",
    "    (df1.W_TEAM_NAME).alias(\"W_team_name\"),\n",
    "    (df1.W_REGION).alias(\"w_region\"),\n",
    "    (df1.W_TEAM_ID).alias(\"WTeamID2\"),\n",
    "    (df1.W_SEED).alias(\"w_seed\"),\n",
    "    (df2.W_TEAM_NAME).alias(\"l_Team_name\"),\n",
    "    (df2.W_REGION).alias(\"l_region\"),\n",
    "    (df2.W_TEAM_ID).alias(\"lteamID2\"),\n",
    "    (df2.W_SEED).alias(\"l_seed\"),\n",
    ")"
   ]
  },
  {
   "cell_type": "markdown",
   "metadata": {},
   "source": [
    "# ELITE 8"
   ]
  },
  {
   "cell_type": "code",
   "execution_count": null,
   "metadata": {},
   "outputs": [],
   "source": [
    "elite_8_matchups.select(\n",
    "    F.col(\"W_TEAM_NAME\").alias(\"TEAM_1\"),\n",
    "    F.col(\"L_TEAM_NAME\").alias(\"TEAM_2\"),\n",
    "    F.col(\"W_SEED\").alias(\"SEED_1\"),\n",
    "    F.col(\"L_SEED\").alias(\"SEED_2\"),\n",
    "    F.col(\"W_REGION\").alias(\"REGION\"),\n",
    ").sort(\"REGION\").show(20)"
   ]
  },
  {
   "cell_type": "code",
   "execution_count": null,
   "metadata": {},
   "outputs": [],
   "source": [
    "elite_8 = elite_8_matchups.select('WTEAMID2','LTEAMID2','W_SEED','L_SEED')\n",
    "\n",
    "season = session.table(\"MEN.FINAL_SEASON_STATS\").filter(F.col('SEASON') == 2024)\n",
    "\n",
    "season_w = season.select(*[F.col(col).alias(f\"W_{col}\") for col in season.columns])\n",
    "\n",
    "season_l = season.select(*[F.col(col).alias(f\"L_{col}\") for col in season.columns])\n",
    "\n",
    "df1 = elite_8.join(season_w, season_w.w_teamid == elite_8.wTEAMID2)\n",
    "\n",
    "df2 = df1.join(season_l, season_l.l_teamid == elite_8.lTEAMID2)\n",
    "\n",
    "elite_8 = df2.drop('WTEAMID2','lTEAMID2')"
   ]
  },
  {
   "cell_type": "code",
   "execution_count": null,
   "metadata": {},
   "outputs": [],
   "source": [
    "result = all_rounds.predict(elite_8)\n",
    "\n",
    "teams = session.table(\"m_teams\")\n",
    "\n",
    "result = (\n",
    "    result.select(\n",
    "        \"l_teamID\",\n",
    "        \"l_seed\",\n",
    "        \"w_seed\",\n",
    "        \"l_region\",\n",
    "        \"w_teamid\",\n",
    "        \"w_region\",\n",
    "        \"pred_win_indicator\",\n",
    "    )\n",
    ")\n",
    "\n",
    "res_teamsl = (\n",
    "    result.join(teams, result.col(\"L_TEAMID\") == teams.col(\"TEAMID\"))\n",
    "    .with_column_renamed(\"teamname\", \"l_team_name\")\n",
    "    .drop(\"firstd1season\", \"lastd1season\")\n",
    ")\n",
    "res_teamsl = res_teamsl.cache_result()\n",
    "\n",
    "elite_8_results = (\n",
    "    res_teamsl.join(teams, result.col(\"W_TEAMID\") == teams.col(\"TEAMID\"))\n",
    "    .with_column_renamed(\"teamname\", \"w_team_name\")\n",
    "    .select(\n",
    "        \"l_teamid\",\n",
    "        \"w_teamid\",\n",
    "        \"L_TEAM_NAME\",\n",
    "        \"l_seed\",\n",
    "        \"w_seed\",\n",
    "        \"l_region\",\n",
    "        \"W_TEAM_NAME\",\n",
    "        \"w_region\",\n",
    "        \"PRED_WIN_INDICATOR\",\n",
    "    )\n",
    ")"
   ]
  },
  {
   "cell_type": "code",
   "execution_count": null,
   "metadata": {},
   "outputs": [],
   "source": [
    "elite_8_winners = elite_8_results.with_column(\n",
    "    \"W_TEAM_ID\",\n",
    "    when((elite_8_results.PRED_WIN_INDICATOR == 1), elite_8_results.w_teamid)\n",
    "    .otherwise(elite_8_results.l_teamID),\n",
    ").with_column(\n",
    "    \"W_TEAM_NAME\",\n",
    "    when((elite_8_results.PRED_WIN_INDICATOR == 1), elite_8_results.w_team_name)\n",
    "    .otherwise(elite_8_results.l_team_name),\n",
    ").with_column(\n",
    "    \"W_SEED\",\n",
    "    when((elite_8_results.PRED_WIN_INDICATOR == 1), elite_8_results.w_seed)\n",
    "    .otherwise(elite_8_results.l_seed),\n",
    ").with_column(\n",
    "    \"W_REGION\",\n",
    "    when((elite_8_results.PRED_WIN_INDICATOR == 1), elite_8_results.w_region)\n",
    "    .otherwise(elite_8_results.l_region)\n",
    ").select(\"W_TEAM_ID\",\"W_TEAM_NAME\",\"W_SEED\",\"W_REGION\")"
   ]
  },
  {
   "cell_type": "code",
   "execution_count": null,
   "metadata": {},
   "outputs": [],
   "source": [
    "df1 = elite_8_winners.filter(F.col(\"W_REGION\") == \"W\")\n",
    "\n",
    "df2 = elite_8_winners.filter(F.col(\"W_REGION\") == \"X\").select(\n",
    "    F.col(\"W_TEAM_ID\").alias(\"TEAM_2\"),\n",
    "    F.col(\"W_TEAM_NAME\").alias(\"W_TEAM_NAME_2\"),\n",
    "    F.col(\"W_SEED\").alias(\"SEED_2\"),\n",
    "    F.col(\"W_REGION\").alias(\"REGION_2\"),\n",
    ")\n",
    "\n",
    "df3 = df1.join(df2)\n",
    "\n",
    "df4 = elite_8_winners.filter(F.col(\"W_REGION\") == \"Y\")\n",
    "\n",
    "df5 = elite_8_winners.filter(F.col(\"W_REGION\") == \"Z\").select(\n",
    "    F.col(\"W_TEAM_ID\").alias(\"TEAM_2\"),\n",
    "    F.col(\"W_TEAM_NAME\").alias(\"W_TEAM_NAME_2\"),\n",
    "    F.col(\"W_SEED\").alias(\"SEED_2\"),\n",
    "    F.col(\"W_REGION\").alias(\"REGION_2\"),\n",
    ")\n",
    "\n",
    "df6 = df4.join(df5)\n",
    "\n",
    "final_four_matchups = df3.union(df6).select(\n",
    "    F.col('W_TEAM_NAME'),\n",
    "    F.col('W_REGION'),\n",
    "    F.col(\"W_TEAM_ID\").alias(\"WTEAMID2\"),\n",
    "    F.col('W_SEED'),\n",
    "    F.col(\"W_TEAM_NAME_2\").alias(\"L_TEAM_NAME\"),\n",
    "    F.col(\"REGION_2\").alias(\"L_REGION\"),\n",
    "    F.col(\"TEAM_2\").alias(\"LTEAMID2\"),\n",
    "    F.col(\"SEED_2\").alias(\"L_SEED\"),\n",
    ")"
   ]
  },
  {
   "cell_type": "markdown",
   "metadata": {},
   "source": [
    "# FINAL FOUR"
   ]
  },
  {
   "cell_type": "code",
   "execution_count": null,
   "metadata": {},
   "outputs": [],
   "source": [
    "final_four_matchups.select(\n",
    "    F.col(\"W_TEAM_NAME\").alias(\"TEAM_1\"),\n",
    "    F.col(\"L_TEAM_NAME\").alias(\"TEAM_2\"),\n",
    "    F.col(\"W_SEED\").alias(\"SEED_1\"),\n",
    "    F.col(\"L_SEED\").alias(\"SEED_2\"),\n",
    "    F.col(\"W_REGION\").alias(\"REGION\"),\n",
    ").sort(\"REGION\").show()"
   ]
  },
  {
   "cell_type": "code",
   "execution_count": null,
   "metadata": {},
   "outputs": [],
   "source": [
    "final_four = final_four_matchups.select('WTEAMID2','LTEAMID2','W_SEED','L_SEED')\n",
    "\n",
    "season = session.table(\"MEN.FINAL_SEASON_STATS\").filter(F.col('SEASON') == 2024)\n",
    "\n",
    "season_w = season.select(*[F.col(col).alias(f\"W_{col}\") for col in season.columns])\n",
    "\n",
    "season_l = season.select(*[F.col(col).alias(f\"L_{col}\") for col in season.columns])\n",
    "\n",
    "df1 = final_four.join(season_w, season_w.w_teamid == final_four.wTEAMID2)\n",
    "\n",
    "df2 = df1.join(season_l, season_l.l_teamid == final_four.lTEAMID2)\n",
    "\n",
    "final_four = df2.drop('WTEAMID2','lTEAMID2')\n",
    "\n",
    "final_four.count()"
   ]
  },
  {
   "cell_type": "code",
   "execution_count": null,
   "metadata": {},
   "outputs": [],
   "source": [
    "result = all_rounds.predict(final_four)\n",
    "\n",
    "teams = session.table(\"m_teams\")\n",
    "\n",
    "\n",
    "result = (\n",
    "    result.select(\n",
    "        \"l_teamID\",\n",
    "        \"l_seed\",\n",
    "        \"w_seed\",\n",
    "        \"l_region\",\n",
    "        \"w_teamid\",\n",
    "        \"w_region\",\n",
    "        \"pred_win_indicator\",\n",
    "    )\n",
    ")\n",
    "\n",
    "res_teamsl = (\n",
    "    result.join(teams, result.col(\"L_TEAMID\") == teams.col(\"TEAMID\"))\n",
    "    .with_column_renamed(\"teamname\", \"l_team_name\")\n",
    "    .drop(\"firstd1season\", \"lastd1season\")\n",
    ")\n",
    "res_teamsl = res_teamsl.cache_result()\n",
    "\n",
    "final_four_results = (\n",
    "    res_teamsl.join(teams, result.col(\"W_TEAMID\") == teams.col(\"TEAMID\"))\n",
    "    .with_column_renamed(\"teamname\", \"w_team_name\")\n",
    "    .select(\n",
    "        \"l_teamid\",\n",
    "        \"w_teamid\",\n",
    "        \"L_TEAM_NAME\",\n",
    "        \"l_seed\",\n",
    "        \"w_seed\",\n",
    "        \"l_region\",\n",
    "        \"W_TEAM_NAME\",\n",
    "        \"w_region\",\n",
    "        \"PRED_WIN_INDICATOR\",\n",
    "    )\n",
    ")"
   ]
  },
  {
   "cell_type": "code",
   "execution_count": null,
   "metadata": {},
   "outputs": [],
   "source": [
    "final_four_winners = final_four_results.with_column(\n",
    "    \"W_TEAM_ID\",\n",
    "    when((final_four_results.PRED_WIN_INDICATOR == 1), final_four_results.w_teamid)\n",
    "    .otherwise(final_four_results.l_teamID),\n",
    ").with_column(\n",
    "    \"W_TEAM_NAME\",\n",
    "    when((final_four_results.PRED_WIN_INDICATOR == 1), final_four_results.w_team_name)\n",
    "    .otherwise(final_four_results.l_team_name),\n",
    ").with_column(\n",
    "    \"W_SEED\",\n",
    "    when((final_four_results.PRED_WIN_INDICATOR == 1), final_four_results.w_seed)\n",
    "    .otherwise(final_four_results.l_seed),\n",
    ").with_column(\n",
    "    \"W_REGION\",\n",
    "    when((final_four_results.PRED_WIN_INDICATOR == 1), final_four_results.w_region)\n",
    "    .otherwise(final_four_results.l_region)\n",
    ").select(\"W_TEAM_ID\",\"W_TEAM_NAME\",\"W_SEED\",\"W_REGION\")"
   ]
  },
  {
   "cell_type": "code",
   "execution_count": null,
   "metadata": {},
   "outputs": [],
   "source": [
    "df1 = final_four_winners.cache_result()\n",
    "df2 = final_four_winners.cache_result()\n",
    "\n",
    "championship_matchup = df1.join(df2).select(\n",
    "    df1.w_team_name.alias('W_TEAM_NAME'),\n",
    "    df1.w_region.alias('W_REGION'),\n",
    "    df1.w_team_id.alias('WTEAMID2'),\n",
    "    df1.w_seed.alias('W_SEED'),\n",
    "    df2.w_team_name.alias('L_TEAM_NAME'),\n",
    "    df2.w_region.alias('L_REGION'),\n",
    "    df2.w_team_id.alias('LTEAMID2'),\n",
    "    df2.w_seed.alias('L_SEED'),\n",
    ").filter(F.col(\"WTEAMID2\") != F.col(\"LTEAMID2\")).limit(1)"
   ]
  },
  {
   "cell_type": "markdown",
   "metadata": {},
   "source": [
    "# CHAMPIONSHIP"
   ]
  },
  {
   "cell_type": "code",
   "execution_count": null,
   "metadata": {},
   "outputs": [],
   "source": [
    "championship_matchup.select(\n",
    "    F.col(\"W_TEAM_NAME\").alias(\"TEAM_1\"),\n",
    "    F.col(\"L_TEAM_NAME\").alias(\"TEAM_2\"),\n",
    "    F.col(\"W_SEED\").alias(\"SEED_1\"),\n",
    "    F.col(\"L_SEED\").alias(\"SEED_2\"),\n",
    "    F.col(\"W_REGION\").alias(\"REGION\"),\n",
    ").sort(\"REGION\").show(20)"
   ]
  },
  {
   "cell_type": "code",
   "execution_count": null,
   "metadata": {},
   "outputs": [],
   "source": [
    "championship = championship_matchup.select('WTEAMID2','LTEAMID2','W_SEED','L_SEED')\n",
    "\n",
    "season = session.table(\"MEN.FINAL_SEASON_STATS\").filter(F.col('SEASON') == 2024)\n",
    "\n",
    "season_w = season.select(*[F.col(col).alias(f\"W_{col}\") for col in season.columns])\n",
    "\n",
    "season_l = season.select(*[F.col(col).alias(f\"L_{col}\") for col in season.columns])\n",
    "\n",
    "df1 = championship.join(season_w, season_w.w_teamid == championship.wTEAMID2)\n",
    "\n",
    "df2 = df1.join(season_l, season_l.l_teamid == championship.lTEAMID2)\n",
    "\n",
    "championship = df2.drop('WTEAMID2','lTEAMID2')\n",
    "\n",
    "championship.count()"
   ]
  },
  {
   "cell_type": "code",
   "execution_count": null,
   "metadata": {},
   "outputs": [],
   "source": [
    "result = all_rounds.predict(championship)\n",
    "\n",
    "teams = session.table(\"m_teams\")\n",
    "\n",
    "result = (\n",
    "    result.select(\n",
    "        \"l_teamID\",\n",
    "        \"l_seed\",\n",
    "        \"w_seed\",\n",
    "        \"l_region\",\n",
    "        \"w_teamid\",\n",
    "        \"w_region\",\n",
    "        \"pred_win_indicator\",\n",
    "    )\n",
    ")\n",
    "\n",
    "res_teamsl = (\n",
    "    result.join(teams, result.col(\"L_TEAMID\") == teams.col(\"TEAMID\"))\n",
    "    .with_column_renamed(\"teamname\", \"l_team_name\")\n",
    "    .drop(\"firstd1season\", \"lastd1season\")\n",
    ")\n",
    "res_teamsl = res_teamsl.cache_result()\n",
    "\n",
    "championship_results = (\n",
    "    res_teamsl.join(teams, result.col(\"W_TEAMID\") == teams.col(\"TEAMID\"))\n",
    "    .with_column_renamed(\"teamname\", \"w_team_name\")\n",
    "    .select(\n",
    "        \"l_teamid\",\n",
    "        \"w_teamid\",\n",
    "        \"L_TEAM_NAME\",\n",
    "        \"l_seed\",\n",
    "        \"w_seed\",\n",
    "        \"l_region\",\n",
    "        \"W_TEAM_NAME\",\n",
    "        \"w_region\",\n",
    "        \"PRED_WIN_INDICATOR\",\n",
    "    )\n",
    ")"
   ]
  },
  {
   "cell_type": "code",
   "execution_count": null,
   "metadata": {},
   "outputs": [],
   "source": [
    "all_rounds.predict(championship).select(\n",
    "    \"L_SCORE_MEDIAN\", \"W_SCORE_MEDIAN\", \"L_SCORE_MEAN\", \"W_SCORE_MEAN\"\n",
    ").show()"
   ]
  },
  {
   "cell_type": "code",
   "execution_count": null,
   "metadata": {},
   "outputs": [],
   "source": [
    "champion = championship_results.with_column(\n",
    "    \"W_TEAM_ID\",\n",
    "    when((championship_results.PRED_WIN_INDICATOR == 1), championship_results.w_teamid)\n",
    "    .otherwise(championship_results.l_teamID),\n",
    ").with_column(\n",
    "    \"W_TEAM_NAME\",\n",
    "    when((championship_results.PRED_WIN_INDICATOR == 1), championship_results.w_team_name)\n",
    "    .otherwise(championship_results.l_team_name),\n",
    ").with_column(\n",
    "    \"W_SEED\",\n",
    "    when((championship_results.PRED_WIN_INDICATOR == 1), championship_results.w_seed)\n",
    "    .otherwise(championship_results.l_seed),\n",
    ").with_column(\n",
    "    \"W_REGION\",\n",
    "    when((championship_results.PRED_WIN_INDICATOR == 1), championship_results.w_region)\n",
    "    .otherwise(championship_results.l_region)\n",
    ").select(\"W_TEAM_ID\",\"W_TEAM_NAME\",\"W_SEED\",\"W_REGION\")"
   ]
  },
  {
   "cell_type": "markdown",
   "metadata": {},
   "source": [
    "# CHAMPION"
   ]
  },
  {
   "cell_type": "code",
   "execution_count": null,
   "metadata": {},
   "outputs": [],
   "source": [
    "champion.show()"
   ]
  },
  {
   "cell_type": "markdown",
   "metadata": {},
   "source": [
    "# Use Average and Median for predicting score"
   ]
  },
  {
   "cell_type": "code",
   "execution_count": null,
   "metadata": {},
   "outputs": [],
   "source": [
    "all_rounds.predict(championship).select(\n",
    "    \"L_SCORE_MEDIAN\", \"W_SCORE_MEDIAN\", \"L_SCORE_MEAN\", \"W_SCORE_MEAN\"\n",
    ").show()"
   ]
  }
 ],
 "metadata": {
  "kernelspec": {
   "display_name": "Python 3 (ipykernel)",
   "language": "python",
   "name": "python3"
  },
  "language_info": {
   "codemirror_mode": {
    "name": "ipython",
    "version": 3
   },
   "file_extension": ".py",
   "mimetype": "text/x-python",
   "name": "python",
   "nbconvert_exporter": "python",
   "pygments_lexer": "ipython3",
   "version": "3.10.13"
  }
 },
 "nbformat": 4,
 "nbformat_minor": 4
}
