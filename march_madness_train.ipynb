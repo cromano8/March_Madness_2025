{
 "cells": [
  {
   "cell_type": "markdown",
   "metadata": {},
   "source": [
    "# START TRAINING"
   ]
  },
  {
   "cell_type": "code",
   "execution_count": 98,
   "metadata": {},
   "outputs": [],
   "source": [
    "import ast\n",
    "import json\n",
    "import warnings\n",
    "\n",
    "import pandas as pd\n",
    "from snowflake.ml.modeling.impute import SimpleImputer\n",
    "from snowflake.ml.modeling.metrics import accuracy_score\n",
    "from snowflake.ml.modeling.model_selection import GridSearchCV\n",
    "from snowflake.ml.modeling.preprocessing import OneHotEncoder\n",
    "from snowflake.ml.modeling.xgboost import XGBClassifier\n",
    "from snowflake.ml.registry import Registry\n",
    "from snowflake.ml.utils.connection_params import SnowflakeLoginOptions\n",
    "from snowflake.snowpark import Session\n",
    "from snowflake.snowpark import types as T\n",
    "from snowflake.snowpark.functions import col\n",
    "from snowflake.snowpark import functions as F\n",
    "from snowflake.snowpark.functions import when, lit\n",
    "\n",
    "import numpy as np\n",
    "\n",
    "warnings.simplefilter(action=\"ignore\", category=UserWarning)"
   ]
  },
  {
   "cell_type": "code",
   "execution_count": 99,
   "metadata": {},
   "outputs": [],
   "source": [
    "session = Session.builder.configs(SnowflakeLoginOptions()).getOrCreate()"
   ]
  },
  {
   "cell_type": "code",
   "execution_count": 100,
   "metadata": {},
   "outputs": [],
   "source": [
    "final = (\n",
    "    session.table(\"MEN.FINAL_TRAIN\")\n",
    "    .with_column_renamed(\"WTEAMID\", \"W_TEAMID\")\n",
    "    .with_column_renamed(\"LTEAMID\", \"L_TEAMID\")\n",
    "    .with_column_renamed(\"WSCORE\", \"W_SCORE\")\n",
    "    .with_column_renamed(\"LSCORE\", \"L_SCORE\")\n",
    "    .drop('ROUND_NUMBER')\n",
    ")"
   ]
  },
  {
   "cell_type": "code",
   "execution_count": 101,
   "metadata": {},
   "outputs": [
    {
     "data": {
      "text/plain": [
       "{'W_CTWINS': 1302,\n",
       " 'W_AVERAGECTSCORE': 1302,\n",
       " 'L_CTWINS': 1302,\n",
       " 'L_AVERAGECTSCORE': 1302}"
      ]
     },
     "execution_count": 101,
     "metadata": {},
     "output_type": "execute_result"
    }
   ],
   "source": [
    "# Columns with null values and their respective counts\n",
    "{\n",
    "    k: v\n",
    "    for k, v in {\n",
    "        col_name: final.where(F.col(col_name).is_null()).count()\n",
    "        for col_name in final.columns\n",
    "    }.items()\n",
    "    if v > 0\n",
    "}"
   ]
  },
  {
   "cell_type": "code",
   "execution_count": 102,
   "metadata": {},
   "outputs": [],
   "source": [
    "final = final.drop(['W_CTWINS','W_AVERAGECTSCORE','L_CTWINS','L_AVERAGECTSCORE'])\n",
    "final = final.drop(['W_WLOCN','W_WLOCH','W_WLOCA','L_WLOCN','L_WLOCH','L_WLOCA']) #variants"
   ]
  },
  {
   "cell_type": "code",
   "execution_count": 103,
   "metadata": {},
   "outputs": [],
   "source": [
    "final = final.drop(['W_WLOCN','W_WLOCH','W_WLOCA','L_WLOCN','L_WLOCH','L_WLOCA']) #variants"
   ]
  },
  {
   "cell_type": "code",
   "execution_count": 104,
   "metadata": {},
   "outputs": [],
   "source": [
    "parameters = {\n",
    "    \"n_estimators\": [100, 200, 300, 400, 500],\n",
    "    \"learning_rate\": [0.1, 0.2, 0.3, 0.4, 0.5],\n",
    "    \"max_depth\": list(range(3, 6, 1)),\n",
    "    \"min_child_weight\": list(range(1, 6, 1)),\n",
    "}"
   ]
  },
  {
   "cell_type": "code",
   "execution_count": 105,
   "metadata": {},
   "outputs": [],
   "source": [
    "train = final.filter(F.col('SEASON') <= 2021).filter(F.col('SEASON') >= 2010).drop('WIN_INDICATOR').cache_result()\n",
    "test = final.filter(F.col('SEASON') > 2021).cache_result()"
   ]
  },
  {
   "cell_type": "markdown",
   "metadata": {},
   "source": [
    "### Swap the W and L teams"
   ]
  },
  {
   "cell_type": "code",
   "execution_count": 106,
   "metadata": {},
   "outputs": [],
   "source": [
    "df = train.to_pandas()\n",
    "cols = df.columns\n",
    "for index, row in df.iterrows():\n",
    "    if np.random.rand() > 0.5:\n",
    "        for col in cols:\n",
    "            if col.startswith(\"W_\"):\n",
    "                df.at[index, col] = row[\"L_\"+col[2:]]\n",
    "            elif col.startswith(\"L_\"):\n",
    "                df.at[index, col] = row[\"W_\"+col[2:]]\n",
    "\n",
    "df = session.create_dataframe(df)\n",
    "train = df.withColumn(\"WIN_INDICATOR\", F.when(df[\"W_SCORE\"] > df[\"L_SCORE\"], 1).otherwise(0))\n"
   ]
  },
  {
   "cell_type": "code",
   "execution_count": 107,
   "metadata": {},
   "outputs": [],
   "source": [
    "session.use_warehouse('MM_L')"
   ]
  },
  {
   "cell_type": "code",
   "execution_count": 108,
   "metadata": {},
   "outputs": [
    {
     "name": "stderr",
     "output_type": "stream",
     "text": [
      "WARNING:snowflake.snowpark.session:The version of package 'snowflake-snowpark-python' in the local environment is 1.13.0, which does not fit the criteria for the requirement 'snowflake-snowpark-python<2'. Your UDF might not work when the package version is different between the server and your local environment.\n",
      "WARNING:snowflake.snowpark.session:Package 'fastparquet' is not installed in the local environment. Your UDF might not work when the package is installed on the server but not on your local environment.\n",
      "WARNING:snowflake.snowpark.session:The version of package 'pyarrow' in the local environment is 15.0.1, which does not fit the criteria for the requirement 'pyarrow<14'. Your UDF might not work when the package version is different between the server and your local environment.\n",
      "WARNING:snowflake.snowpark.session:The version of package 'cachetools' in the local environment is 5.3.3, which does not fit the criteria for the requirement 'cachetools<6'. Your UDF might not work when the package version is different between the server and your local environment.\n"
     ]
    },
    {
     "data": {
      "text/plain": [
       "<snowflake.ml.modeling.model_selection.grid_search_cv.GridSearchCV at 0x7fea698018d0>"
      ]
     },
     "execution_count": 108,
     "metadata": {},
     "output_type": "execute_result"
    }
   ],
   "source": [
    "all_rounds = GridSearchCV(\n",
    "    estimator=XGBClassifier(),\n",
    "    param_grid=parameters,\n",
    "    n_jobs=-1,\n",
    "    scoring=\"accuracy\",\n",
    "    input_cols=train.drop(['SEASON','WIN_INDICATOR','l_teamid','w_teamid','w_score','l_score','round','l_region','w_region']).columns,\n",
    "    label_cols=\"WIN_INDICATOR\",\n",
    "    output_cols=\"PRED_WIN_INDICATOR\",\n",
    ")\n",
    "\n",
    "# Train\n",
    "all_rounds.fit(train)"
   ]
  },
  {
   "cell_type": "code",
   "execution_count": 109,
   "metadata": {},
   "outputs": [],
   "source": [
    "#session.use_warehouse('wh_xs')"
   ]
  },
  {
   "cell_type": "code",
   "execution_count": 110,
   "metadata": {},
   "outputs": [
    {
     "data": {
      "text/plain": [
       "64"
      ]
     },
     "execution_count": 110,
     "metadata": {},
     "output_type": "execute_result"
    }
   ],
   "source": [
    "result = all_rounds.predict(test).filter(F.col(\"ROUND\") == 1)\n",
    "result.count()"
   ]
  },
  {
   "cell_type": "code",
   "execution_count": 111,
   "metadata": {},
   "outputs": [
    {
     "name": "stdout",
     "output_type": "stream",
     "text": [
      "Accuracy 2022: 0.625\n",
      "Accuracy 2023: 0.6875\n",
      "Accuracy total: 0.65625\n"
     ]
    }
   ],
   "source": [
    "accuracy_2022 = accuracy_score(\n",
    "    df=result.filter(result.season == 2022), y_true_col_names=\"WIN_INDICATOR\", y_pred_col_names=\"PRED_WIN_INDICATOR\"\n",
    ")\n",
    "print(f\"Accuracy 2022: {accuracy_2022}\")\n",
    "\n",
    "accuracy_2023 = accuracy_score(\n",
    "    df=result.filter(result.season == 2023), y_true_col_names=\"WIN_INDICATOR\", y_pred_col_names=\"PRED_WIN_INDICATOR\"\n",
    ")\n",
    "print(f\"Accuracy 2023: {accuracy_2023}\")\n",
    "\n",
    "accuracy = accuracy_score(\n",
    "    df=result, y_true_col_names=\"WIN_INDICATOR\", y_pred_col_names=\"PRED_WIN_INDICATOR\"\n",
    ")\n",
    "\n",
    "print(f\"Accuracy total: {accuracy}\")"
   ]
  },
  {
   "cell_type": "code",
   "execution_count": 112,
   "metadata": {},
   "outputs": [
    {
     "name": "stdout",
     "output_type": "stream",
     "text": [
      "Accuracy 2022: 0.59375\n",
      "Accuracy 2023: 0.6875\n",
      "Accuracy total: 0.640625\n"
     ]
    }
   ],
   "source": [
    "df = test.to_pandas()\n",
    "cols = df.columns\n",
    "for index, row in df.iterrows():\n",
    "    if np.random.rand() > 0.5:\n",
    "        for col in cols:\n",
    "            if col.startswith(\"W_\"):\n",
    "                df.at[index, col] = row[\"L_\"+col[2:]]\n",
    "            elif col.startswith(\"L_\"):\n",
    "                df.at[index, col] = row[\"W_\"+col[2:]]\n",
    "\n",
    "df = session.create_dataframe(df)\n",
    "test2 = df.withColumn(\"WIN_INDICATOR\", F.when(df[\"W_SCORE\"] > df[\"L_SCORE\"], 1).otherwise(0))\n",
    "result = all_rounds.predict(test2).filter(F.col(\"ROUND\") == 1)\n",
    "accuracy_2022 = accuracy_score(\n",
    "    df=result.filter(result.season == 2022), y_true_col_names=\"WIN_INDICATOR\", y_pred_col_names=\"PRED_WIN_INDICATOR\"\n",
    ")\n",
    "print(f\"Accuracy 2022: {accuracy_2022}\")\n",
    "\n",
    "accuracy_2023 = accuracy_score(\n",
    "    df=result.filter(result.season == 2023), y_true_col_names=\"WIN_INDICATOR\", y_pred_col_names=\"PRED_WIN_INDICATOR\"\n",
    ")\n",
    "print(f\"Accuracy 2023: {accuracy_2023}\")\n",
    "\n",
    "accuracy = accuracy_score(\n",
    "    df=result, y_true_col_names=\"WIN_INDICATOR\", y_pred_col_names=\"PRED_WIN_INDICATOR\"\n",
    ")\n",
    "\n",
    "print(f\"Accuracy total: {accuracy}\")\n"
   ]
  },
  {
   "cell_type": "code",
   "execution_count": null,
   "metadata": {},
   "outputs": [],
   "source": []
  },
  {
   "cell_type": "code",
   "execution_count": null,
   "metadata": {},
   "outputs": [],
   "source": []
  },
  {
   "cell_type": "code",
   "execution_count": null,
   "metadata": {},
   "outputs": [],
   "source": []
  },
  {
   "cell_type": "markdown",
   "metadata": {},
   "source": [
    "#### Register Models that are good"
   ]
  },
  {
   "cell_type": "code",
   "execution_count": 15,
   "metadata": {},
   "outputs": [
    {
     "data": {
      "text/html": [
       "<div>\n",
       "<style scoped>\n",
       "    .dataframe tbody tr th:only-of-type {\n",
       "        vertical-align: middle;\n",
       "    }\n",
       "\n",
       "    .dataframe tbody tr th {\n",
       "        vertical-align: top;\n",
       "    }\n",
       "\n",
       "    .dataframe thead th {\n",
       "        text-align: right;\n",
       "    }\n",
       "</style>\n",
       "<table border=\"1\" class=\"dataframe\">\n",
       "  <thead>\n",
       "    <tr style=\"text-align: right;\">\n",
       "      <th></th>\n",
       "      <th>created_on</th>\n",
       "      <th>name</th>\n",
       "      <th>comment</th>\n",
       "      <th>database_name</th>\n",
       "      <th>schema_name</th>\n",
       "      <th>module_name</th>\n",
       "      <th>is_default_version</th>\n",
       "      <th>functions</th>\n",
       "      <th>metadata</th>\n",
       "      <th>user_data</th>\n",
       "    </tr>\n",
       "  </thead>\n",
       "  <tbody>\n",
       "    <tr>\n",
       "      <th>0</th>\n",
       "      <td>2024-03-19 05:33:27.323000-07:00</td>\n",
       "      <td>V_1</td>\n",
       "      <td>None</td>\n",
       "      <td>MARCHMADNESS</td>\n",
       "      <td>MEN</td>\n",
       "      <td>MARCHMADNESS</td>\n",
       "      <td>false</td>\n",
       "      <td>[\"PREDICT_PROBA\",\"PREDICT\",\"APPLY\"]</td>\n",
       "      <td>{\"metrics\": {\"accuracy_2023\": 0.78125, \"accura...</td>\n",
       "      <td>{\"snowpark_ml_data\":{\"functions\":[{\"name\":\"APP...</td>\n",
       "    </tr>\n",
       "    <tr>\n",
       "      <th>1</th>\n",
       "      <td>2024-03-19 07:53:12.886000-07:00</td>\n",
       "      <td>V_2</td>\n",
       "      <td>None</td>\n",
       "      <td>MARCHMADNESS</td>\n",
       "      <td>MEN</td>\n",
       "      <td>MARCHMADNESS</td>\n",
       "      <td>true</td>\n",
       "      <td>[\"PREDICT_PROBA\",\"PREDICT\",\"APPLY\"]</td>\n",
       "      <td>{\"metrics\": {\"accuracy_2023\": 0.8125, \"accurac...</td>\n",
       "      <td>{\"snowpark_ml_data\":{\"functions\":[{\"name\":\"APP...</td>\n",
       "    </tr>\n",
       "    <tr>\n",
       "      <th>2</th>\n",
       "      <td>2024-03-19 08:04:18.334000-07:00</td>\n",
       "      <td>V_3</td>\n",
       "      <td>None</td>\n",
       "      <td>MARCHMADNESS</td>\n",
       "      <td>MEN</td>\n",
       "      <td>MARCHMADNESS</td>\n",
       "      <td>false</td>\n",
       "      <td>[\"PREDICT_PROBA\",\"PREDICT\",\"APPLY\"]</td>\n",
       "      <td>{\"metrics\": {\"accuracy_2023\": 0.59375, \"accura...</td>\n",
       "      <td>{\"snowpark_ml_data\":{\"functions\":[{\"name\":\"APP...</td>\n",
       "    </tr>\n",
       "    <tr>\n",
       "      <th>3</th>\n",
       "      <td>2024-03-19 13:47:49.766000-07:00</td>\n",
       "      <td>V_4</td>\n",
       "      <td>None</td>\n",
       "      <td>MARCHMADNESS</td>\n",
       "      <td>MEN</td>\n",
       "      <td>MARCHMADNESS</td>\n",
       "      <td>false</td>\n",
       "      <td>[\"PREDICT_PROBA\",\"PREDICT\",\"APPLY\"]</td>\n",
       "      <td>{\"metrics\": {\"accuracy_2023\": 0.78125, \"accura...</td>\n",
       "      <td>{\"snowpark_ml_data\":{\"functions\":[{\"name\":\"APP...</td>\n",
       "    </tr>\n",
       "  </tbody>\n",
       "</table>\n",
       "</div>"
      ],
      "text/plain": [
       "                        created_on name comment database_name schema_name  \\\n",
       "0 2024-03-19 05:33:27.323000-07:00  V_1    None  MARCHMADNESS         MEN   \n",
       "1 2024-03-19 07:53:12.886000-07:00  V_2    None  MARCHMADNESS         MEN   \n",
       "2 2024-03-19 08:04:18.334000-07:00  V_3    None  MARCHMADNESS         MEN   \n",
       "3 2024-03-19 13:47:49.766000-07:00  V_4    None  MARCHMADNESS         MEN   \n",
       "\n",
       "    module_name is_default_version                            functions  \\\n",
       "0  MARCHMADNESS              false  [\"PREDICT_PROBA\",\"PREDICT\",\"APPLY\"]   \n",
       "1  MARCHMADNESS               true  [\"PREDICT_PROBA\",\"PREDICT\",\"APPLY\"]   \n",
       "2  MARCHMADNESS              false  [\"PREDICT_PROBA\",\"PREDICT\",\"APPLY\"]   \n",
       "3  MARCHMADNESS              false  [\"PREDICT_PROBA\",\"PREDICT\",\"APPLY\"]   \n",
       "\n",
       "                                            metadata  \\\n",
       "0  {\"metrics\": {\"accuracy_2023\": 0.78125, \"accura...   \n",
       "1  {\"metrics\": {\"accuracy_2023\": 0.8125, \"accurac...   \n",
       "2  {\"metrics\": {\"accuracy_2023\": 0.59375, \"accura...   \n",
       "3  {\"metrics\": {\"accuracy_2023\": 0.78125, \"accura...   \n",
       "\n",
       "                                           user_data  \n",
       "0  {\"snowpark_ml_data\":{\"functions\":[{\"name\":\"APP...  \n",
       "1  {\"snowpark_ml_data\":{\"functions\":[{\"name\":\"APP...  \n",
       "2  {\"snowpark_ml_data\":{\"functions\":[{\"name\":\"APP...  \n",
       "3  {\"snowpark_ml_data\":{\"functions\":[{\"name\":\"APP...  "
      ]
     },
     "execution_count": 15,
     "metadata": {},
     "output_type": "execute_result"
    }
   ],
   "source": [
    "optimal_model = all_rounds.to_sklearn().best_estimator_\n",
    "\n",
    "def check_and_update(df, model_name):\n",
    "    if df.empty:\n",
    "        return \"V_1\"\n",
    "    elif df[df[\"name\"] == model_name].empty:\n",
    "        return \"V_1\"\n",
    "    else:\n",
    "        # Increment model_version if df is not a pandas Series\n",
    "        lst = sorted(ast.literal_eval(df[\"versions\"][0]))\n",
    "        last_value = lst[-1]\n",
    "        prefix, num = last_value.rsplit(\"_\", 1)\n",
    "        new_last_value = f\"{prefix}_{int(num)+1}\"\n",
    "        lst[-1] = new_last_value\n",
    "        return new_last_value\n",
    "# Get sample input data to pass into the registry logging function\n",
    "X = train.drop(['SEASON','WIN_INDICATOR','l_teamid','w_teamid','w_score','l_score','round','l_region','w_region']).limit(100)\n",
    "\n",
    "# Create a registry and log the model\n",
    "# You can specify a different DB and Schema if you'd like\n",
    "# otherwise it uses the session context\n",
    "reg = Registry(session=session)\n",
    "\n",
    "reg_df = reg.show_models()\n",
    "\n",
    "# Define model name and version (use uppercase for name)\n",
    "model_name = \"MARCHMADNESS\"\n",
    "\n",
    "model_version = check_and_update(reg_df, model_name)\n",
    "\n",
    "mm_model = reg.log_model(\n",
    "    model_name=model_name,\n",
    "    version_name=model_version,\n",
    "    model=optimal_model,\n",
    "    sample_input_data=X,\n",
    ")\n",
    "\n",
    "# Add evaluation metric\n",
    "mm_model.set_metric(\n",
    "    metric_name=\"accuracy_2023\",\n",
    "    value= accuracy_2023\n",
    ")\n",
    "\n",
    "mm_model.set_metric(\n",
    "    metric_name=\"accuracy_2022\",\n",
    "    value= accuracy_2022,\n",
    ")\n",
    "reg.get_model(model_name).show_versions()"
   ]
  },
  {
   "cell_type": "markdown",
   "metadata": {},
   "source": [
    "# Predicting the Bracket & final four (we want as many final 4 as possible)"
   ]
  },
  {
   "cell_type": "markdown",
   "metadata": {},
   "source": [
    "## Results play in games"
   ]
  },
  {
   "cell_type": "code",
   "execution_count": 16,
   "metadata": {},
   "outputs": [
    {
     "name": "stdout",
     "output_type": "stream",
     "text": [
      "-----------------------------------------------------------------------------------------------------------------------------------------------------------------\n",
      "|\"SEASON\"  |\"L_TEAMID\"  |\"W_TEAMID\"  |\"L_TEAM_NAME\"   |\"L_SEED\"  |\"L_REGION\"  |\"W_TEAM_NAME\"   |\"W_SEED\"  |\"W_REGION\"  |\"WIN_INDICATOR\"  |\"PRED_WIN_INDICATOR\"  |\n",
      "-----------------------------------------------------------------------------------------------------------------------------------------------------------------\n",
      "|2023      |1305        |1113        |Nevada          |11        |Z           |Arizona St      |11        |Z           |1                |1.0                   |\n",
      "|2023      |1411        |1192        |TX Southern     |16        |W           |F Dickinson     |16        |W           |1                |0.0                   |\n",
      "|2023      |1280        |1338        |Mississippi St  |11        |Y           |Pittsburgh      |11        |Y           |1                |1.0                   |\n",
      "|2023      |1369        |1394        |SE Missouri St  |16        |X           |TAM C. Christi  |16        |X           |1                |1.0                   |\n",
      "-----------------------------------------------------------------------------------------------------------------------------------------------------------------\n",
      "\n"
     ]
    }
   ],
   "source": [
    "result = all_rounds.predict(test).filter(F.col('ROUND') == 0).filter(F.col(\"season\") == 2023)\n",
    "\n",
    "teams = session.table('mteams')\n",
    "for col in teams.columns:\n",
    "    teams = teams.withColumnRenamed(col, col.upper())\n",
    "\n",
    "result = result.select('season','l_teamID','l_seed','l_region','w_teamid','w_seed','w_region','win_indicator','pred_win_indicator')\n",
    "\n",
    "res_teamsl = (\n",
    "    result.join(teams, result.col(\"L_TEAMID\") == teams.col(\"TEAMID\"))\n",
    "    .with_column_renamed(\"teamname\", \"l_team_name\")\n",
    "    .drop(\"firstd1season\", \"lastd1season\")\n",
    ")\n",
    "res_teamsl = res_teamsl.cache_result()\n",
    "\n",
    "res_teams = (\n",
    "    res_teamsl.join(teams, result.col(\"W_TEAMID\") == teams.col(\"TEAMID\"))\n",
    "    .with_column_renamed(\"teamname\", \"w_team_name\")\n",
    "    .select('season','l_teamid','w_teamid','L_TEAM_NAME','l_seed','l_region','W_TEAM_NAME','w_seed','w_region','WIN_INDICATOR','PRED_WIN_INDICATOR')\n",
    ")\n",
    "\n",
    "res_teams.sort(F.col(\"w_team_name\")).show()"
   ]
  },
  {
   "cell_type": "markdown",
   "metadata": {},
   "source": [
    "## Results round 1"
   ]
  },
  {
   "cell_type": "code",
   "execution_count": 17,
   "metadata": {},
   "outputs": [
    {
     "name": "stdout",
     "output_type": "stream",
     "text": [
      "The round of 32\n"
     ]
    },
    {
     "data": {
      "text/plain": [
       "32"
      ]
     },
     "execution_count": 17,
     "metadata": {},
     "output_type": "execute_result"
    }
   ],
   "source": [
    "result = all_rounds.predict(test.filter(F.col('ROUND') == 1)).filter(F.col(\"season\") == 2023)\n",
    "\n",
    "teams = session.table('mteams')\n",
    "for col in teams.columns:\n",
    "    teams = teams.withColumnRenamed(col, col.upper())\n",
    "\n",
    "result = result.select('season','l_teamID','l_seed','l_region','w_teamid','w_seed','w_region','win_indicator','pred_win_indicator')\n",
    "\n",
    "res_teamsl = (\n",
    "    result.join(teams, result.col(\"L_TEAMID\") == teams.col(\"TEAMID\"))\n",
    "    .with_column_renamed(\"teamname\", \"l_team_name\")\n",
    "    .drop(\"firstd1season\", \"lastd1season\")\n",
    ")\n",
    "res_teamsl = res_teamsl.cache_result()\n",
    "\n",
    "res_teams = (\n",
    "    res_teamsl.join(teams, result.col(\"W_TEAMID\") == teams.col(\"TEAMID\"))\n",
    "    .with_column_renamed(\"teamname\", \"w_team_name\")\n",
    "    .select('season','l_teamid','w_teamid','L_TEAM_NAME','l_seed','l_region','W_TEAM_NAME','w_seed','w_region','WIN_INDICATOR','PRED_WIN_INDICATOR')\n",
    ")\n",
    "\n",
    "print('The round of 32')\n",
    "res_teams.count()"
   ]
  },
  {
   "cell_type": "code",
   "execution_count": 18,
   "metadata": {},
   "outputs": [],
   "source": [
    "result = all_rounds.predict(test.filter(F.col(\"ROUND\") == 1)).filter(F.col(\"season\") == 2023)\n",
    "\n",
    "teams = session.table(\"mteams\")\n",
    "for col in teams.columns:\n",
    "    teams = teams.withColumnRenamed(col, col.upper())\n",
    "\n",
    "result = (\n",
    "    result.select(\n",
    "        \"season\",\n",
    "        \"l_teamID\",\n",
    "        \"l_seed\",\n",
    "        \"w_seed\",\n",
    "        \"l_region\",\n",
    "        \"w_teamid\",\n",
    "        \"w_region\",\n",
    "        \"win_indicator\",\n",
    "        \"pred_win_indicator\",\n",
    "    )\n",
    ")\n",
    "\n",
    "res_teamsl = (\n",
    "    result.join(teams, result.col(\"L_TEAMID\") == teams.col(\"TEAMID\"))\n",
    "    .with_column_renamed(\"teamname\", \"l_team_name\")\n",
    "    .drop(\"firstd1season\", \"lastd1season\")\n",
    ")\n",
    "res_teamsl = res_teamsl.cache_result()\n",
    "\n",
    "round_1_results = (\n",
    "    res_teamsl.join(teams, result.col(\"W_TEAMID\") == teams.col(\"TEAMID\"))\n",
    "    .with_column_renamed(\"teamname\", \"w_team_name\")\n",
    "    .select(\n",
    "        \"season\",\n",
    "        \"l_teamid\",\n",
    "        \"w_teamid\",\n",
    "        \"L_TEAM_NAME\",\n",
    "        \"l_seed\",\n",
    "        \"w_seed\",\n",
    "        \"l_region\",\n",
    "        \"W_TEAM_NAME\",\n",
    "        \"w_region\",\n",
    "        \"WIN_INDICATOR\",\n",
    "        \"PRED_WIN_INDICATOR\",\n",
    "    )\n",
    ")"
   ]
  },
  {
   "cell_type": "code",
   "execution_count": 19,
   "metadata": {},
   "outputs": [
    {
     "name": "stdout",
     "output_type": "stream",
     "text": [
      "------------------------------------------------------------------------------------------------------------------------------------------------------------------\n",
      "|\"SEASON\"  |\"L_TEAMID\"  |\"W_TEAMID\"  |\"L_TEAM_NAME\"     |\"L_SEED\"  |\"W_SEED\"  |\"L_REGION\"  |\"W_TEAM_NAME\"  |\"W_REGION\"  |\"WIN_INDICATOR\"  |\"PRED_WIN_INDICATOR\"  |\n",
      "------------------------------------------------------------------------------------------------------------------------------------------------------------------\n",
      "|2023      |1272        |1194        |Memphis           |8         |9         |W           |FL Atlantic    |W           |1                |1.0                   |\n",
      "|2023      |1418        |1397        |Louisiana         |13        |4         |W           |Tennessee      |W           |1                |1.0                   |\n",
      "|2023      |1344        |1246        |Providence        |11        |6         |W           |Kentucky       |W           |1                |0.0                   |\n",
      "|2023      |1331        |1181        |Oral Roberts      |12        |5         |W           |Duke           |W           |1                |1.0                   |\n",
      "|2023      |1425        |1277        |USC               |10        |7         |W           |Michigan St    |W           |1                |0.0                   |\n",
      "|2023      |1436        |1266        |Vermont           |15        |2         |W           |Marquette      |W           |1                |1.0                   |\n",
      "|2023      |1345        |1192        |Purdue            |1         |16        |W           |F Dickinson    |W           |1                |0.0                   |\n",
      "|2023      |1286        |1243        |Montana St        |14        |3         |W           |Kansas St      |W           |1                |1.0                   |\n",
      "|2023      |1112        |1343        |Arizona           |2         |15        |X           |Princeton      |X           |1                |0.0                   |\n",
      "|2023      |1364        |1124        |UC Santa Barbara  |14        |3         |X           |Baylor         |X           |1                |1.0                   |\n",
      "|2023      |1452        |1268        |West Virginia     |9         |8         |X           |Maryland       |X           |1                |1.0                   |\n",
      "|2023      |1438        |1202        |Virginia          |4         |13        |X           |Furman         |X           |1                |1.0                   |\n",
      "|2023      |1394        |1104        |TAM C. Christi    |16        |1         |X           |Alabama        |X           |1                |1.0                   |\n",
      "|2023      |1158        |1361        |Col Charleston    |12        |5         |X           |San Diego St   |X           |1                |1.0                   |\n",
      "|2023      |1301        |1166        |NC State          |11        |6         |X           |Creighton      |X           |1                |1.0                   |\n",
      "|2023      |1429        |1281        |Utah St           |10        |7         |X           |Missouri       |X           |1                |1.0                   |\n",
      "|2023      |1401        |1336        |Texas A&M         |7         |10        |Y           |Penn St        |Y           |1                |0.0                   |\n",
      "|2023      |1179        |1274        |Drake             |12        |5         |Y           |Miami FL       |Y           |1                |1.0                   |\n",
      "|2023      |1245        |1231        |Kent              |13        |4         |Y           |Indiana        |Y           |1                |1.0                   |\n",
      "|2023      |1234        |1120        |Iowa              |8         |9         |Y           |Auburn         |Y           |1                |1.0                   |\n",
      "|2023      |1297        |1222        |N Kentucky        |16        |1         |Y           |Houston        |Y           |1                |1.0                   |\n",
      "|2023      |1235        |1338        |Iowa St           |6         |11        |Y           |Pittsburgh     |Y           |1                |1.0                   |\n",
      "|2023      |1159        |1400        |Colgate           |15        |2         |Y           |Texas          |Y           |1                |1.0                   |\n",
      "|2023      |1244        |1462        |Kennesaw          |14        |3         |Y           |Xavier         |Y           |1                |1.0                   |\n",
      "|2023      |1228        |1116        |Illinois          |9         |8         |Z           |Arkansas       |Z           |1                |0.0                   |\n",
      "|2023      |1233        |1163        |Iona              |13        |4         |Z           |Connecticut    |Z           |1                |1.0                   |\n",
      "|2023      |1421        |1417        |UNC Asheville     |15        |2         |Z           |UCLA           |Z           |1                |1.0                   |\n",
      "|2023      |1224        |1242        |Howard            |16        |1         |Z           |Kansas         |Z           |1                |1.0                   |\n",
      "|2023      |1113        |1395        |Arizona St        |11        |6         |Z           |TCU            |Z           |1                |0.0                   |\n",
      "|2023      |1433        |1388        |VCU               |12        |5         |Z           |St Mary's CA   |Z           |1                |1.0                   |\n",
      "|2023      |1213        |1211        |Grand Canyon      |14        |3         |Z           |Gonzaga        |Z           |1                |1.0                   |\n",
      "|2023      |1129        |1321        |Boise St          |10        |7         |Z           |Northwestern   |Z           |1                |1.0                   |\n",
      "------------------------------------------------------------------------------------------------------------------------------------------------------------------\n",
      "\n"
     ]
    }
   ],
   "source": [
    "round_1_results.sort('W_REGION').show(32)"
   ]
  },
  {
   "cell_type": "code",
   "execution_count": 20,
   "metadata": {},
   "outputs": [],
   "source": [
    "round_1_winners = round_1_results.with_column(\n",
    "    \"W_TEAM_ID\",\n",
    "    when((round_1_results.PRED_WIN_INDICATOR == 1), round_1_results.w_teamid)\n",
    "    .otherwise(round_1_results.l_teamID),\n",
    ").with_column(\n",
    "    \"W_TEAM_NAME\",\n",
    "    when((round_1_results.PRED_WIN_INDICATOR == 1), round_1_results.w_team_name)\n",
    "    .otherwise(round_1_results.l_team_name),\n",
    ").with_column(\n",
    "    \"W_SEED\",\n",
    "    when((round_1_results.PRED_WIN_INDICATOR == 1), round_1_results.w_seed)\n",
    "    .otherwise(round_1_results.l_seed),\n",
    ").with_column(\n",
    "    \"W_REGION\",\n",
    "    when((round_1_results.PRED_WIN_INDICATOR == 1), round_1_results.w_region)\n",
    "    .otherwise(round_1_results.l_region)\n",
    ").select(\"W_TEAM_ID\",\"W_TEAM_NAME\",\"W_SEED\",\"W_REGION\")"
   ]
  },
  {
   "cell_type": "markdown",
   "metadata": {},
   "source": [
    "# Winners round 1"
   ]
  },
  {
   "cell_type": "code",
   "execution_count": 21,
   "metadata": {},
   "outputs": [
    {
     "name": "stdout",
     "output_type": "stream",
     "text": [
      "-------------------------------------------------------\n",
      "|\"W_TEAM_ID\"  |\"W_TEAM_NAME\"  |\"W_SEED\"  |\"W_REGION\"  |\n",
      "-------------------------------------------------------\n",
      "|1194         |FL Atlantic    |9         |W           |\n",
      "|1397         |Tennessee      |4         |W           |\n",
      "|1344         |Providence     |11        |W           |\n",
      "|1181         |Duke           |5         |W           |\n",
      "|1425         |USC            |10        |W           |\n",
      "|1266         |Marquette      |2         |W           |\n",
      "|1345         |Purdue         |1         |W           |\n",
      "|1243         |Kansas St      |3         |W           |\n",
      "|1112         |Arizona        |2         |X           |\n",
      "|1124         |Baylor         |3         |X           |\n",
      "|1268         |Maryland       |8         |X           |\n",
      "|1202         |Furman         |13        |X           |\n",
      "|1104         |Alabama        |1         |X           |\n",
      "|1361         |San Diego St   |5         |X           |\n",
      "|1166         |Creighton      |6         |X           |\n",
      "|1281         |Missouri       |7         |X           |\n",
      "|1401         |Texas A&M      |7         |Y           |\n",
      "|1274         |Miami FL       |5         |Y           |\n",
      "|1231         |Indiana        |4         |Y           |\n",
      "|1120         |Auburn         |9         |Y           |\n",
      "|1222         |Houston        |1         |Y           |\n",
      "|1338         |Pittsburgh     |11        |Y           |\n",
      "|1400         |Texas          |2         |Y           |\n",
      "|1462         |Xavier         |3         |Y           |\n",
      "|1228         |Illinois       |9         |Z           |\n",
      "|1163         |Connecticut    |4         |Z           |\n",
      "|1417         |UCLA           |2         |Z           |\n",
      "|1242         |Kansas         |1         |Z           |\n",
      "|1113         |Arizona St     |11        |Z           |\n",
      "|1388         |St Mary's CA   |5         |Z           |\n",
      "|1211         |Gonzaga        |3         |Z           |\n",
      "|1321         |Northwestern   |7         |Z           |\n",
      "-------------------------------------------------------\n",
      "\n"
     ]
    }
   ],
   "source": [
    "round_1_winners.sort('W_REGION').show(32)"
   ]
  },
  {
   "cell_type": "code",
   "execution_count": 22,
   "metadata": {},
   "outputs": [
    {
     "name": "stdout",
     "output_type": "stream",
     "text": [
      "-----------------------------------------------------------------------------------------------------------\n",
      "|\"W_TEAM_NAME\"  |\"W_REGION\"  |\"WTEAMID2\"  |\"W_SEED\"  |\"L_TEAM_NAME\"  |\"L_REGION\"  |\"LTEAMID2\"  |\"L_SEED\"  |\n",
      "-----------------------------------------------------------------------------------------------------------\n",
      "|Kansas St      |W           |1243        |3         |Providence     |W           |1344        |11        |\n",
      "|Purdue         |W           |1345        |1         |FL Atlantic    |W           |1194        |9         |\n",
      "|Tennessee      |W           |1397        |4         |Duke           |W           |1181        |5         |\n",
      "|Marquette      |W           |1266        |2         |USC            |W           |1425        |10        |\n",
      "|Alabama        |X           |1104        |1         |Maryland       |X           |1268        |8         |\n",
      "|Furman         |X           |1202        |13        |San Diego St   |X           |1361        |5         |\n",
      "|Arizona        |X           |1112        |2         |Missouri       |X           |1281        |7         |\n",
      "|Baylor         |X           |1124        |3         |Creighton      |X           |1166        |6         |\n",
      "|Houston        |Y           |1222        |1         |Auburn         |Y           |1120        |9         |\n",
      "|Xavier         |Y           |1462        |3         |Pittsburgh     |Y           |1338        |11        |\n",
      "|Texas          |Y           |1400        |2         |Texas A&M      |Y           |1401        |7         |\n",
      "|Indiana        |Y           |1231        |4         |Miami FL       |Y           |1274        |5         |\n",
      "|Kansas         |Z           |1242        |1         |Illinois       |Z           |1228        |9         |\n",
      "|Connecticut    |Z           |1163        |4         |St Mary's CA   |Z           |1388        |5         |\n",
      "|UCLA           |Z           |1417        |2         |Northwestern   |Z           |1321        |7         |\n",
      "|Gonzaga        |Z           |1211        |3         |Arizona St     |Z           |1113        |11        |\n",
      "-----------------------------------------------------------------------------------------------------------\n",
      "\n"
     ]
    }
   ],
   "source": [
    "df1 = round_1_winners.cache_result()\n",
    "df2 = round_1_winners.cache_result()\n",
    "\n",
    "second_round_matchups = df1.join(\n",
    "    df2,\n",
    "    (df1.w_region == df2.w_region)\n",
    "    & (\n",
    "        (df1.w_seed == 1) & (df2.w_seed == 8)\n",
    "        | (df1.w_seed == 1) & (df2.w_seed == 9)\n",
    "        | (df1.w_seed == 16) & (df2.w_seed == 8)\n",
    "        | (df1.w_seed == 16) & (df2.w_seed == 9)\n",
    "        | (df1.w_seed == 4) & (df2.w_seed == 5)\n",
    "        | (df1.w_seed == 4) & (df2.w_seed == 12)\n",
    "        | (df1.w_seed == 13) & (df2.w_seed == 5)\n",
    "        | (df1.w_seed == 13) & (df2.w_seed == 12)\n",
    "        | (df1.w_seed == 3) & (df2.w_seed == 6)\n",
    "        | (df1.w_seed == 3) & (df2.w_seed == 11)\n",
    "        | (df1.w_seed == 14) & (df2.w_seed == 6)\n",
    "        | (df1.w_seed == 14) & (df2.w_seed == 11)\n",
    "        | (df1.w_seed == 2) & (df2.w_seed == 7)\n",
    "        | (df1.w_seed == 2) & (df2.w_seed == 10)\n",
    "        | (df1.w_seed == 15) & (df2.w_seed == 7)\n",
    "        | (df1.w_seed == 15) & (df2.w_seed == 10)\n",
    "    ),\n",
    "    \"inner\",\n",
    ").select(\n",
    "    (df1.W_TEAM_NAME).alias(\"W_team_name\"),\n",
    "    (df1.W_REGION).alias(\"w_region\"),\n",
    "    (df1.W_TEAM_ID).alias(\"WTeamID2\"),\n",
    "    (df1.W_SEED).alias(\"w_seed\"),\n",
    "    (df2.W_TEAM_NAME).alias(\"l_Team_name\"),\n",
    "    (df2.W_REGION).alias(\"l_region\"),\n",
    "    (df2.W_TEAM_ID).alias(\"lteamID2\"),\n",
    "    (df2.W_SEED).alias(\"l_seed\"),\n",
    ")\n",
    "\n",
    "second_round_matchups.sort('W_REGION').show(16)"
   ]
  },
  {
   "cell_type": "markdown",
   "metadata": {},
   "source": [
    "# ROUND OF 32!!!"
   ]
  },
  {
   "cell_type": "code",
   "execution_count": 23,
   "metadata": {},
   "outputs": [
    {
     "name": "stdout",
     "output_type": "stream",
     "text": [
      "---------------------------------------------------------------\n",
      "|\"TEAM_1\"     |\"TEAM_2\"      |\"SEED_1\"  |\"SEED_2\"  |\"REGION\"  |\n",
      "---------------------------------------------------------------\n",
      "|Kansas St    |Providence    |3         |11        |W         |\n",
      "|Purdue       |FL Atlantic   |1         |9         |W         |\n",
      "|Tennessee    |Duke          |4         |5         |W         |\n",
      "|Marquette    |USC           |2         |10        |W         |\n",
      "|Alabama      |Maryland      |1         |8         |X         |\n",
      "|Furman       |San Diego St  |13        |5         |X         |\n",
      "|Arizona      |Missouri      |2         |7         |X         |\n",
      "|Baylor       |Creighton     |3         |6         |X         |\n",
      "|Houston      |Auburn        |1         |9         |Y         |\n",
      "|Xavier       |Pittsburgh    |3         |11        |Y         |\n",
      "|Texas        |Texas A&M     |2         |7         |Y         |\n",
      "|Indiana      |Miami FL      |4         |5         |Y         |\n",
      "|Kansas       |Illinois      |1         |9         |Z         |\n",
      "|Connecticut  |St Mary's CA  |4         |5         |Z         |\n",
      "|UCLA         |Northwestern  |2         |7         |Z         |\n",
      "|Gonzaga      |Arizona St    |3         |11        |Z         |\n",
      "---------------------------------------------------------------\n",
      "\n"
     ]
    }
   ],
   "source": [
    "second_round_matchups.select(\n",
    "    F.col(\"W_TEAM_NAME\").alias(\"TEAM_1\"),\n",
    "    F.col(\"L_TEAM_NAME\").alias(\"TEAM_2\"),\n",
    "    F.col(\"W_SEED\").alias(\"SEED_1\"),\n",
    "    F.col(\"L_SEED\").alias(\"SEED_2\"),\n",
    "    F.col(\"W_REGION\").alias(\"REGION\"),\n",
    ").sort(\"REGION\").show(20)"
   ]
  },
  {
   "cell_type": "code",
   "execution_count": 24,
   "metadata": {},
   "outputs": [
    {
     "data": {
      "text/plain": [
       "16"
      ]
     },
     "execution_count": 24,
     "metadata": {},
     "output_type": "execute_result"
    }
   ],
   "source": [
    "second_round = second_round_matchups.select('WTEAMID2','LTEAMID2','W_SEED','L_SEED')\n",
    "\n",
    "season = (\n",
    "    session.table(\"FINAL_SEASON_STATS\").filter(F.col(\"season\") == 2023).drop(\"W_SEASON\")\n",
    ")\n",
    "\n",
    "season_w = season.select(*[F.col(col).alias(f\"W_{col}\") for col in season.columns])\n",
    "\n",
    "season_l = season.select(*[F.col(col).alias(f\"L_{col}\") for col in season.columns])\n",
    "\n",
    "df1 = second_round.join(season_w, season_w.w_teamid == second_round.wTEAMID2)\n",
    "\n",
    "df2 = df1.join(season_l, season_l.l_teamid == second_round.lTEAMID2)\n",
    "\n",
    "games_32 = df2.drop('WTEAMID2','lTEAMID2')\n",
    "\n",
    "games_32.count()"
   ]
  },
  {
   "cell_type": "code",
   "execution_count": 25,
   "metadata": {},
   "outputs": [],
   "source": [
    "result = all_rounds.predict(games_32)\n",
    "\n",
    "teams = session.table(\"mteams\")\n",
    "for col in teams.columns:\n",
    "    teams = teams.withColumnRenamed(col, col.upper())\n",
    "\n",
    "result = (\n",
    "    result.select(\n",
    "        \"l_teamID\",\n",
    "        \"l_seed\",\n",
    "        \"w_seed\",\n",
    "        \"l_region\",\n",
    "        \"w_teamid\",\n",
    "        \"w_region\",\n",
    "        \"pred_win_indicator\",\n",
    "    )\n",
    ")\n",
    "\n",
    "res_teamsl = (\n",
    "    result.join(teams, result.col(\"L_TEAMID\") == teams.col(\"TEAMID\"))\n",
    "    .with_column_renamed(\"teamname\", \"l_team_name\")\n",
    "    .drop(\"firstd1season\", \"lastd1season\")\n",
    ")\n",
    "res_teamsl = res_teamsl.cache_result()\n",
    "\n",
    "round_2_results = (\n",
    "    res_teamsl.join(teams, result.col(\"W_TEAMID\") == teams.col(\"TEAMID\"))\n",
    "    .with_column_renamed(\"teamname\", \"w_team_name\")\n",
    "    .select(\n",
    "        \"l_teamid\",\n",
    "        \"w_teamid\",\n",
    "        \"L_TEAM_NAME\",\n",
    "        \"l_seed\",\n",
    "        \"w_seed\",\n",
    "        \"l_region\",\n",
    "        \"W_TEAM_NAME\",\n",
    "        \"w_region\",\n",
    "        \"PRED_WIN_INDICATOR\",\n",
    "    )\n",
    ")"
   ]
  },
  {
   "cell_type": "code",
   "execution_count": 26,
   "metadata": {},
   "outputs": [],
   "source": [
    "round_2_winners = round_2_results.with_column(\n",
    "    \"W_TEAM_ID\",\n",
    "    when((round_2_results.PRED_WIN_INDICATOR == 1), round_2_results.w_teamid)\n",
    "    .otherwise(round_2_results.l_teamID),\n",
    ").with_column(\n",
    "    \"W_TEAM_NAME\",\n",
    "    when((round_2_results.PRED_WIN_INDICATOR == 1), round_2_results.w_team_name)\n",
    "    .otherwise(round_2_results.l_team_name),\n",
    ").with_column(\n",
    "    \"W_SEED\",\n",
    "    when((round_2_results.PRED_WIN_INDICATOR == 1), round_2_results.w_seed)\n",
    "    .otherwise(round_2_results.l_seed),\n",
    ").with_column(\n",
    "    \"W_REGION\",\n",
    "    when((round_2_results.PRED_WIN_INDICATOR == 1), round_2_results.w_region)\n",
    "    .otherwise(round_2_results.l_region)\n",
    ").select(\"W_TEAM_ID\",\"W_TEAM_NAME\",\"W_SEED\",\"W_REGION\")"
   ]
  },
  {
   "cell_type": "markdown",
   "metadata": {},
   "source": [
    "# Round 2 winners"
   ]
  },
  {
   "cell_type": "code",
   "execution_count": 27,
   "metadata": {},
   "outputs": [
    {
     "name": "stdout",
     "output_type": "stream",
     "text": [
      "-------------------------------------------------------\n",
      "|\"W_TEAM_ID\"  |\"W_TEAM_NAME\"  |\"W_SEED\"  |\"W_REGION\"  |\n",
      "-------------------------------------------------------\n",
      "|1397         |Tennessee      |4         |W           |\n",
      "|1344         |Providence     |11        |W           |\n",
      "|1266         |Marquette      |2         |W           |\n",
      "|1345         |Purdue         |1         |W           |\n",
      "|1124         |Baylor         |3         |X           |\n",
      "|1112         |Arizona        |2         |X           |\n",
      "|1104         |Alabama        |1         |X           |\n",
      "|1361         |San Diego St   |5         |X           |\n",
      "|1231         |Indiana        |4         |Y           |\n",
      "|1400         |Texas          |2         |Y           |\n",
      "|1222         |Houston        |1         |Y           |\n",
      "|1462         |Xavier         |3         |Y           |\n",
      "|1163         |Connecticut    |4         |Z           |\n",
      "|1211         |Gonzaga        |3         |Z           |\n",
      "|1417         |UCLA           |2         |Z           |\n",
      "|1242         |Kansas         |1         |Z           |\n",
      "-------------------------------------------------------\n",
      "\n"
     ]
    }
   ],
   "source": [
    "round_2_winners.sort('W_REGION').show(20)"
   ]
  },
  {
   "cell_type": "code",
   "execution_count": 28,
   "metadata": {},
   "outputs": [
    {
     "name": "stdout",
     "output_type": "stream",
     "text": [
      "-----------------------------------------------------------------------------------------------------------\n",
      "|\"W_TEAM_NAME\"  |\"W_REGION\"  |\"WTEAMID2\"  |\"W_SEED\"  |\"L_TEAM_NAME\"  |\"L_REGION\"  |\"LTEAMID2\"  |\"L_SEED\"  |\n",
      "-----------------------------------------------------------------------------------------------------------\n",
      "|Providence     |W           |1344        |11        |Marquette      |W           |1266        |2         |\n",
      "|Purdue         |W           |1345        |1         |Tennessee      |W           |1397        |4         |\n",
      "|Baylor         |X           |1124        |3         |Arizona        |X           |1112        |2         |\n",
      "|Alabama        |X           |1104        |1         |San Diego St   |X           |1361        |5         |\n",
      "|Houston        |Y           |1222        |1         |Indiana        |Y           |1231        |4         |\n",
      "|Xavier         |Y           |1462        |3         |Texas          |Y           |1400        |2         |\n",
      "|Gonzaga        |Z           |1211        |3         |UCLA           |Z           |1417        |2         |\n",
      "|Kansas         |Z           |1242        |1         |Connecticut    |Z           |1163        |4         |\n",
      "-----------------------------------------------------------------------------------------------------------\n",
      "\n"
     ]
    }
   ],
   "source": [
    "df1 = round_2_winners.cache_result()\n",
    "df2 = round_2_winners.cache_result()\n",
    "\n",
    "third_round_matchups = df1.join(\n",
    "    df2,\n",
    "    (df1.w_region == df2.w_region)\n",
    "    & (\n",
    "        (df1.w_seed == 1) & (df2.w_seed.isin([5, 12, 4, 13])) |\n",
    "        (df1.w_seed == 16) & (df2.w_seed.isin([5, 12, 4, 13])) |\n",
    "        (df1.w_seed == 8) & (df2.w_seed.isin([5, 12, 4, 13])) |\n",
    "        (df1.w_seed == 9) & (df2.w_seed.isin([5, 12, 4, 13])) |\n",
    "        (df1.w_seed == 6) & (df2.w_seed.isin([7,10,2,15])) |\n",
    "        (df1.w_seed == 11) & (df2.w_seed.isin([7,10,2,15])) |\n",
    "        (df1.w_seed == 3) & (df2.w_seed.isin([7,10,2,15]))|\n",
    "        (df1.w_seed == 14) & (df2.w_seed.isin([7,10,2,15]))\n",
    "    ),\n",
    "    \"inner\",\n",
    ").select(\n",
    "    (df1.W_TEAM_NAME).alias(\"W_team_name\"),\n",
    "    (df1.W_REGION).alias(\"w_region\"),\n",
    "    (df1.W_TEAM_ID).alias(\"WTeamID2\"),\n",
    "    (df1.W_SEED).alias(\"w_seed\"),\n",
    "    (df2.W_TEAM_NAME).alias(\"l_Team_name\"),\n",
    "    (df2.W_REGION).alias(\"l_region\"),\n",
    "    (df2.W_TEAM_ID).alias(\"lteamID2\"),\n",
    "    (df2.W_SEED).alias(\"l_seed\"),\n",
    ")\n",
    "\n",
    "third_round_matchups.sort(\"W_REGION\").show(20)"
   ]
  },
  {
   "cell_type": "markdown",
   "metadata": {},
   "source": [
    "# SWEET SIXTEEN!!!"
   ]
  },
  {
   "cell_type": "code",
   "execution_count": 29,
   "metadata": {},
   "outputs": [
    {
     "name": "stdout",
     "output_type": "stream",
     "text": [
      "--------------------------------------------------------------\n",
      "|\"TEAM_1\"    |\"TEAM_2\"      |\"SEED_1\"  |\"SEED_2\"  |\"REGION\"  |\n",
      "--------------------------------------------------------------\n",
      "|Providence  |Marquette     |11        |2         |W         |\n",
      "|Purdue      |Tennessee     |1         |4         |W         |\n",
      "|Baylor      |Arizona       |3         |2         |X         |\n",
      "|Alabama     |San Diego St  |1         |5         |X         |\n",
      "|Houston     |Indiana       |1         |4         |Y         |\n",
      "|Xavier      |Texas         |3         |2         |Y         |\n",
      "|Gonzaga     |UCLA          |3         |2         |Z         |\n",
      "|Kansas      |Connecticut   |1         |4         |Z         |\n",
      "--------------------------------------------------------------\n",
      "\n"
     ]
    }
   ],
   "source": [
    "third_round_matchups.select(\n",
    "    F.col(\"W_TEAM_NAME\").alias(\"TEAM_1\"),\n",
    "    F.col(\"L_TEAM_NAME\").alias(\"TEAM_2\"),\n",
    "    F.col(\"W_SEED\").alias(\"SEED_1\"),\n",
    "    F.col(\"L_SEED\").alias(\"SEED_2\"),\n",
    "    F.col(\"W_REGION\").alias(\"REGION\"),\n",
    ").sort(\"REGION\").show(20)"
   ]
  },
  {
   "cell_type": "code",
   "execution_count": 30,
   "metadata": {},
   "outputs": [
    {
     "data": {
      "text/plain": [
       "8"
      ]
     },
     "execution_count": 30,
     "metadata": {},
     "output_type": "execute_result"
    }
   ],
   "source": [
    "third_round = third_round_matchups.select('WTEAMID2','LTEAMID2','W_SEED','L_SEED')\n",
    "\n",
    "season = (\n",
    "    session.table(\"FINAL_SEASON_STATS\").filter(F.col(\"season\") == 2023).drop(\"W_SEASON\")\n",
    ")\n",
    "\n",
    "season_w = season.select(*[F.col(col).alias(f\"W_{col}\") for col in season.columns])\n",
    "\n",
    "season_l = season.select(*[F.col(col).alias(f\"L_{col}\") for col in season.columns])\n",
    "\n",
    "df1 = third_round.join(season_w, season_w.w_teamid == third_round.wTEAMID2)\n",
    "\n",
    "df2 = df1.join(season_l, season_l.l_teamid == third_round.lTEAMID2)\n",
    "\n",
    "games_16 = df2.drop('WTEAMID2','lTEAMID2')\n",
    "\n",
    "games_16.count()"
   ]
  },
  {
   "cell_type": "code",
   "execution_count": 31,
   "metadata": {},
   "outputs": [],
   "source": [
    "result = all_rounds.predict(games_16)\n",
    "\n",
    "teams = session.table(\"mteams\")\n",
    "for col in teams.columns:\n",
    "    teams = teams.withColumnRenamed(col, col.upper())\n",
    "\n",
    "result = (\n",
    "    result.select(\n",
    "        \"l_teamID\",\n",
    "        \"l_seed\",\n",
    "        \"w_seed\",\n",
    "        \"l_region\",\n",
    "        \"w_teamid\",\n",
    "        \"w_region\",\n",
    "        \"pred_win_indicator\",\n",
    "    )\n",
    ")\n",
    "\n",
    "res_teamsl = (\n",
    "    result.join(teams, result.col(\"L_TEAMID\") == teams.col(\"TEAMID\"))\n",
    "    .with_column_renamed(\"teamname\", \"l_team_name\")\n",
    "    .drop(\"firstd1season\", \"lastd1season\")\n",
    ")\n",
    "res_teamsl = res_teamsl.cache_result()\n",
    "\n",
    "sweet_16_results = (\n",
    "    res_teamsl.join(teams, result.col(\"W_TEAMID\") == teams.col(\"TEAMID\"))\n",
    "    .with_column_renamed(\"teamname\", \"w_team_name\")\n",
    "    .select(\n",
    "        \"l_teamid\",\n",
    "        \"w_teamid\",\n",
    "        \"L_TEAM_NAME\",\n",
    "        \"l_seed\",\n",
    "        \"w_seed\",\n",
    "        \"l_region\",\n",
    "        \"W_TEAM_NAME\",\n",
    "        \"w_region\",\n",
    "        \"PRED_WIN_INDICATOR\",\n",
    "    )\n",
    ")"
   ]
  },
  {
   "cell_type": "code",
   "execution_count": 32,
   "metadata": {},
   "outputs": [],
   "source": [
    "sweet_16_winners = sweet_16_results.with_column(\n",
    "    \"W_TEAM_ID\",\n",
    "    when((sweet_16_results.PRED_WIN_INDICATOR == 1), sweet_16_results.w_teamid)\n",
    "    .otherwise(sweet_16_results.l_teamID),\n",
    ").with_column(\n",
    "    \"W_TEAM_NAME\",\n",
    "    when((sweet_16_results.PRED_WIN_INDICATOR == 1), sweet_16_results.w_team_name)\n",
    "    .otherwise(sweet_16_results.l_team_name),\n",
    ").with_column(\n",
    "    \"W_SEED\",\n",
    "    when((sweet_16_results.PRED_WIN_INDICATOR == 1), sweet_16_results.w_seed)\n",
    "    .otherwise(sweet_16_results.l_seed),\n",
    ").with_column(\n",
    "    \"W_REGION\",\n",
    "    when((sweet_16_results.PRED_WIN_INDICATOR == 1), sweet_16_results.w_region)\n",
    "    .otherwise(sweet_16_results.l_region)\n",
    ").select(\"W_TEAM_ID\",\"W_TEAM_NAME\",\"W_SEED\",\"W_REGION\")"
   ]
  },
  {
   "cell_type": "markdown",
   "metadata": {},
   "source": [
    "# Sweet 16 winners!"
   ]
  },
  {
   "cell_type": "code",
   "execution_count": 33,
   "metadata": {},
   "outputs": [
    {
     "name": "stdout",
     "output_type": "stream",
     "text": [
      "-------------------------------------------------------\n",
      "|\"W_TEAM_ID\"  |\"W_TEAM_NAME\"  |\"W_SEED\"  |\"W_REGION\"  |\n",
      "-------------------------------------------------------\n",
      "|1266         |Marquette      |2         |W           |\n",
      "|1345         |Purdue         |1         |W           |\n",
      "|1112         |Arizona        |2         |X           |\n",
      "|1104         |Alabama        |1         |X           |\n",
      "|1222         |Houston        |1         |Y           |\n",
      "|1400         |Texas          |2         |Y           |\n",
      "|1417         |UCLA           |2         |Z           |\n",
      "|1242         |Kansas         |1         |Z           |\n",
      "-------------------------------------------------------\n",
      "\n"
     ]
    }
   ],
   "source": [
    "sweet_16_winners.sort('W_REGION').show(20)"
   ]
  },
  {
   "cell_type": "code",
   "execution_count": 34,
   "metadata": {},
   "outputs": [
    {
     "name": "stdout",
     "output_type": "stream",
     "text": [
      "-----------------------------------------------------------------------------------------------------------\n",
      "|\"W_TEAM_NAME\"  |\"W_REGION\"  |\"WTEAMID2\"  |\"W_SEED\"  |\"L_TEAM_NAME\"  |\"L_REGION\"  |\"LTEAMID2\"  |\"L_SEED\"  |\n",
      "-----------------------------------------------------------------------------------------------------------\n",
      "|Purdue         |W           |1345        |1         |Marquette      |W           |1266        |2         |\n",
      "|Alabama        |X           |1104        |1         |Arizona        |X           |1112        |2         |\n",
      "|Houston        |Y           |1222        |1         |Texas          |Y           |1400        |2         |\n",
      "|Kansas         |Z           |1242        |1         |UCLA           |Z           |1417        |2         |\n",
      "-----------------------------------------------------------------------------------------------------------\n",
      "\n"
     ]
    }
   ],
   "source": [
    "df1 = sweet_16_winners.cache_result()\n",
    "df2 = sweet_16_winners.cache_result()\n",
    "\n",
    "elite_8_matchups = df1.join(\n",
    "    df2,\n",
    "    (df1.w_region == df2.w_region)\n",
    "    & (\n",
    "        (df1.w_seed == 1) & (df2.w_seed.isin([6,11,3,14,7,10,2,15])) |\n",
    "        (df1.w_seed == 16) & (df2.w_seed.isin([6,11,3,14,7,10,2,15])) |\n",
    "        (df1.w_seed == 8) & (df2.w_seed.isin([6,11,3,14,7,10,2,15])) |\n",
    "        (df1.w_seed == 9) & (df2.w_seed.isin([6,11,3,14,7,10,2,15])) |\n",
    "        (df1.w_seed == 5) & (df2.w_seed.isin([6,11,3,14,7,10,2,15])) |\n",
    "        (df1.w_seed == 12) & (df2.w_seed.isin([6,11,3,14,7,10,2,15])) |\n",
    "        (df1.w_seed == 4) & (df2.w_seed.isin([6,11,3,14,7,10,2,15])) |\n",
    "        (df1.w_seed == 13) & (df2.w_seed.isin([6,11,3,14,7,10,2,15])) \n",
    "    ),\n",
    "    \"inner\",\n",
    ").select(\n",
    "    (df1.W_TEAM_NAME).alias(\"W_team_name\"),\n",
    "    (df1.W_REGION).alias(\"w_region\"),\n",
    "    (df1.W_TEAM_ID).alias(\"WTeamID2\"),\n",
    "    (df1.W_SEED).alias(\"w_seed\"),\n",
    "    (df2.W_TEAM_NAME).alias(\"l_Team_name\"),\n",
    "    (df2.W_REGION).alias(\"l_region\"),\n",
    "    (df2.W_TEAM_ID).alias(\"lteamID2\"),\n",
    "    (df2.W_SEED).alias(\"l_seed\"),\n",
    ")\n",
    "\n",
    "elite_8_matchups.sort(\"W_REGION\").show(20)"
   ]
  },
  {
   "cell_type": "markdown",
   "metadata": {},
   "source": [
    "# Elite 8"
   ]
  },
  {
   "cell_type": "code",
   "execution_count": 35,
   "metadata": {},
   "outputs": [
    {
     "name": "stdout",
     "output_type": "stream",
     "text": [
      "---------------------------------------------------------\n",
      "|\"TEAM_1\"  |\"TEAM_2\"   |\"SEED_1\"  |\"SEED_2\"  |\"REGION\"  |\n",
      "---------------------------------------------------------\n",
      "|Purdue    |Marquette  |1         |2         |W         |\n",
      "|Alabama   |Arizona    |1         |2         |X         |\n",
      "|Houston   |Texas      |1         |2         |Y         |\n",
      "|Kansas    |UCLA       |1         |2         |Z         |\n",
      "---------------------------------------------------------\n",
      "\n"
     ]
    }
   ],
   "source": [
    "elite_8_matchups.select(\n",
    "    F.col(\"W_TEAM_NAME\").alias(\"TEAM_1\"),\n",
    "    F.col(\"L_TEAM_NAME\").alias(\"TEAM_2\"),\n",
    "    F.col(\"W_SEED\").alias(\"SEED_1\"),\n",
    "    F.col(\"L_SEED\").alias(\"SEED_2\"),\n",
    "    F.col(\"W_REGION\").alias(\"REGION\"),\n",
    ").sort(\"REGION\").show(20)"
   ]
  },
  {
   "cell_type": "code",
   "execution_count": 36,
   "metadata": {},
   "outputs": [
    {
     "data": {
      "text/plain": [
       "4"
      ]
     },
     "execution_count": 36,
     "metadata": {},
     "output_type": "execute_result"
    }
   ],
   "source": [
    "elite_8 = elite_8_matchups.select('WTEAMID2','LTEAMID2','W_SEED','L_SEED')\n",
    "\n",
    "season = (\n",
    "    session.table(\"FINAL_SEASON_STATS\").filter(F.col(\"season\") == 2023).drop(\"W_SEASON\")\n",
    ")\n",
    "\n",
    "season_w = season.select(*[F.col(col).alias(f\"W_{col}\") for col in season.columns])\n",
    "\n",
    "season_l = season.select(*[F.col(col).alias(f\"L_{col}\") for col in season.columns])\n",
    "\n",
    "df1 = elite_8.join(season_w, season_w.w_teamid == elite_8.wTEAMID2)\n",
    "\n",
    "df2 = df1.join(season_l, season_l.l_teamid == elite_8.lTEAMID2)\n",
    "\n",
    "elite_8 = df2.drop('WTEAMID2','lTEAMID2')\n",
    "\n",
    "elite_8.count()"
   ]
  },
  {
   "cell_type": "code",
   "execution_count": 37,
   "metadata": {},
   "outputs": [],
   "source": [
    "result = all_rounds.predict(elite_8)\n",
    "\n",
    "teams = session.table(\"mteams\")\n",
    "for col in teams.columns:\n",
    "    teams = teams.withColumnRenamed(col, col.upper())\n",
    "\n",
    "result = (\n",
    "    result.select(\n",
    "        \"l_teamID\",\n",
    "        \"l_seed\",\n",
    "        \"w_seed\",\n",
    "        \"l_region\",\n",
    "        \"w_teamid\",\n",
    "        \"w_region\",\n",
    "        \"pred_win_indicator\",\n",
    "    )\n",
    ")\n",
    "\n",
    "res_teamsl = (\n",
    "    result.join(teams, result.col(\"L_TEAMID\") == teams.col(\"TEAMID\"))\n",
    "    .with_column_renamed(\"teamname\", \"l_team_name\")\n",
    "    .drop(\"firstd1season\", \"lastd1season\")\n",
    ")\n",
    "res_teamsl = res_teamsl.cache_result()\n",
    "\n",
    "elite_8_results = (\n",
    "    res_teamsl.join(teams, result.col(\"W_TEAMID\") == teams.col(\"TEAMID\"))\n",
    "    .with_column_renamed(\"teamname\", \"w_team_name\")\n",
    "    .select(\n",
    "        \"l_teamid\",\n",
    "        \"w_teamid\",\n",
    "        \"L_TEAM_NAME\",\n",
    "        \"l_seed\",\n",
    "        \"w_seed\",\n",
    "        \"l_region\",\n",
    "        \"W_TEAM_NAME\",\n",
    "        \"w_region\",\n",
    "        \"PRED_WIN_INDICATOR\",\n",
    "    )\n",
    ")"
   ]
  },
  {
   "cell_type": "code",
   "execution_count": 38,
   "metadata": {},
   "outputs": [],
   "source": [
    "elite_8_winners = elite_8_results.with_column(\n",
    "    \"W_TEAM_ID\",\n",
    "    when((elite_8_results.PRED_WIN_INDICATOR == 1), elite_8_results.w_teamid)\n",
    "    .otherwise(elite_8_results.l_teamID),\n",
    ").with_column(\n",
    "    \"W_TEAM_NAME\",\n",
    "    when((elite_8_results.PRED_WIN_INDICATOR == 1), elite_8_results.w_team_name)\n",
    "    .otherwise(elite_8_results.l_team_name),\n",
    ").with_column(\n",
    "    \"W_SEED\",\n",
    "    when((elite_8_results.PRED_WIN_INDICATOR == 1), elite_8_results.w_seed)\n",
    "    .otherwise(elite_8_results.l_seed),\n",
    ").with_column(\n",
    "    \"W_REGION\",\n",
    "    when((elite_8_results.PRED_WIN_INDICATOR == 1), elite_8_results.w_region)\n",
    "    .otherwise(elite_8_results.l_region)\n",
    ").select(\"W_TEAM_ID\",\"W_TEAM_NAME\",\"W_SEED\",\"W_REGION\")"
   ]
  },
  {
   "cell_type": "markdown",
   "metadata": {},
   "source": [
    "# Elite 8 winners"
   ]
  },
  {
   "cell_type": "code",
   "execution_count": 39,
   "metadata": {},
   "outputs": [
    {
     "name": "stdout",
     "output_type": "stream",
     "text": [
      "-------------------------------------------------------\n",
      "|\"W_TEAM_ID\"  |\"W_TEAM_NAME\"  |\"W_SEED\"  |\"W_REGION\"  |\n",
      "-------------------------------------------------------\n",
      "|1345         |Purdue         |1         |W           |\n",
      "|1104         |Alabama        |1         |X           |\n",
      "|1222         |Houston        |1         |Y           |\n",
      "|1417         |UCLA           |2         |Z           |\n",
      "-------------------------------------------------------\n",
      "\n"
     ]
    }
   ],
   "source": [
    "elite_8_winners.sort('W_REGION').show(20)"
   ]
  },
  {
   "cell_type": "code",
   "execution_count": 40,
   "metadata": {},
   "outputs": [],
   "source": [
    "df1 = elite_8_winners.filter(F.col(\"W_REGION\") == \"W\")\n",
    "\n",
    "df2 = elite_8_winners.filter(F.col(\"W_REGION\") == \"X\").select(\n",
    "    F.col(\"W_TEAM_ID\").alias(\"TEAM_2\"),\n",
    "    F.col(\"W_TEAM_NAME\").alias(\"W_TEAM_NAME_2\"),\n",
    "    F.col(\"W_SEED\").alias(\"SEED_2\"),\n",
    "    F.col(\"W_REGION\").alias(\"REGION_2\"),\n",
    ")\n",
    "\n",
    "df3 = df1.join(df2)\n",
    "\n",
    "df4 = elite_8_winners.filter(F.col(\"W_REGION\") == \"Y\")\n",
    "\n",
    "df5 = elite_8_winners.filter(F.col(\"W_REGION\") == \"Z\").select(\n",
    "    F.col(\"W_TEAM_ID\").alias(\"TEAM_2\"),\n",
    "    F.col(\"W_TEAM_NAME\").alias(\"W_TEAM_NAME_2\"),\n",
    "    F.col(\"W_SEED\").alias(\"SEED_2\"),\n",
    "    F.col(\"W_REGION\").alias(\"REGION_2\"),\n",
    ")\n",
    "\n",
    "df6 = df4.join(df5)\n",
    "\n",
    "final_four_matchups = df3.union(df6).select(\n",
    "    F.col('W_TEAM_NAME'),\n",
    "    F.col('W_REGION'),\n",
    "    F.col(\"W_TEAM_ID\").alias(\"WTEAMID2\"),\n",
    "    F.col('W_SEED'),\n",
    "    F.col(\"W_TEAM_NAME_2\").alias(\"L_TEAM_NAME\"),\n",
    "    F.col(\"REGION_2\").alias(\"L_REGION\"),\n",
    "    F.col(\"TEAM_2\").alias(\"LTEAMID2\"),\n",
    "    F.col(\"SEED_2\").alias(\"L_SEED\"),\n",
    ")"
   ]
  },
  {
   "cell_type": "markdown",
   "metadata": {},
   "source": [
    "# FINAL FOUR!"
   ]
  },
  {
   "cell_type": "code",
   "execution_count": 41,
   "metadata": {},
   "outputs": [
    {
     "name": "stdout",
     "output_type": "stream",
     "text": [
      "--------------------------------------------------------\n",
      "|\"TEAM_1\"  |\"TEAM_2\"  |\"SEED_1\"  |\"SEED_2\"  |\"REGION\"  |\n",
      "--------------------------------------------------------\n",
      "|Purdue    |Alabama   |1         |1         |W         |\n",
      "|Houston   |UCLA      |1         |2         |Y         |\n",
      "--------------------------------------------------------\n",
      "\n"
     ]
    }
   ],
   "source": [
    "final_four_matchups.select(\n",
    "    F.col(\"W_TEAM_NAME\").alias(\"TEAM_1\"),\n",
    "    F.col(\"L_TEAM_NAME\").alias(\"TEAM_2\"),\n",
    "    F.col(\"W_SEED\").alias(\"SEED_1\"),\n",
    "    F.col(\"L_SEED\").alias(\"SEED_2\"),\n",
    "    F.col(\"W_REGION\").alias(\"REGION\"),\n",
    ").sort(\"REGION\").show(20)"
   ]
  },
  {
   "cell_type": "code",
   "execution_count": 42,
   "metadata": {},
   "outputs": [
    {
     "data": {
      "text/plain": [
       "2"
      ]
     },
     "execution_count": 42,
     "metadata": {},
     "output_type": "execute_result"
    }
   ],
   "source": [
    "final_four = final_four_matchups.select('WTEAMID2','LTEAMID2','W_SEED','L_SEED')\n",
    "\n",
    "season = (\n",
    "    session.table(\"FINAL_SEASON_STATS\").filter(F.col(\"season\") == 2023).drop(\"W_SEASON\")\n",
    ")\n",
    "\n",
    "season_w = season.select(*[F.col(col).alias(f\"W_{col}\") for col in season.columns])\n",
    "\n",
    "season_l = season.select(*[F.col(col).alias(f\"L_{col}\") for col in season.columns])\n",
    "\n",
    "df1 = final_four.join(season_w, season_w.w_teamid == final_four.wTEAMID2)\n",
    "\n",
    "df2 = df1.join(season_l, season_l.l_teamid == final_four.lTEAMID2)\n",
    "\n",
    "final_four = df2.drop('WTEAMID2','lTEAMID2')\n",
    "\n",
    "final_four.count()"
   ]
  },
  {
   "cell_type": "code",
   "execution_count": 43,
   "metadata": {},
   "outputs": [],
   "source": [
    "result = all_rounds.predict(final_four)\n",
    "\n",
    "teams = session.table(\"mteams\")\n",
    "for col in teams.columns:\n",
    "    teams = teams.withColumnRenamed(col, col.upper())\n",
    "\n",
    "result = (\n",
    "    result.select(\n",
    "        \"l_teamID\",\n",
    "        \"l_seed\",\n",
    "        \"w_seed\",\n",
    "        \"l_region\",\n",
    "        \"w_teamid\",\n",
    "        \"w_region\",\n",
    "        \"pred_win_indicator\",\n",
    "    )\n",
    ")\n",
    "\n",
    "res_teamsl = (\n",
    "    result.join(teams, result.col(\"L_TEAMID\") == teams.col(\"TEAMID\"))\n",
    "    .with_column_renamed(\"teamname\", \"l_team_name\")\n",
    "    .drop(\"firstd1season\", \"lastd1season\")\n",
    ")\n",
    "res_teamsl = res_teamsl.cache_result()\n",
    "\n",
    "final_four_results = (\n",
    "    res_teamsl.join(teams, result.col(\"W_TEAMID\") == teams.col(\"TEAMID\"))\n",
    "    .with_column_renamed(\"teamname\", \"w_team_name\")\n",
    "    .select(\n",
    "        \"l_teamid\",\n",
    "        \"w_teamid\",\n",
    "        \"L_TEAM_NAME\",\n",
    "        \"l_seed\",\n",
    "        \"w_seed\",\n",
    "        \"l_region\",\n",
    "        \"W_TEAM_NAME\",\n",
    "        \"w_region\",\n",
    "        \"PRED_WIN_INDICATOR\",\n",
    "    )\n",
    ")"
   ]
  },
  {
   "cell_type": "code",
   "execution_count": 44,
   "metadata": {},
   "outputs": [],
   "source": [
    "final_four_winners = final_four_results.with_column(\n",
    "    \"W_TEAM_ID\",\n",
    "    when((final_four_results.PRED_WIN_INDICATOR == 1), final_four_results.w_teamid)\n",
    "    .otherwise(final_four_results.l_teamID),\n",
    ").with_column(\n",
    "    \"W_TEAM_NAME\",\n",
    "    when((final_four_results.PRED_WIN_INDICATOR == 1), final_four_results.w_team_name)\n",
    "    .otherwise(final_four_results.l_team_name),\n",
    ").with_column(\n",
    "    \"W_SEED\",\n",
    "    when((final_four_results.PRED_WIN_INDICATOR == 1), final_four_results.w_seed)\n",
    "    .otherwise(final_four_results.l_seed),\n",
    ").with_column(\n",
    "    \"W_REGION\",\n",
    "    when((final_four_results.PRED_WIN_INDICATOR == 1), final_four_results.w_region)\n",
    "    .otherwise(final_four_results.l_region)\n",
    ").select(\"W_TEAM_ID\",\"W_TEAM_NAME\",\"W_SEED\",\"W_REGION\")"
   ]
  },
  {
   "cell_type": "code",
   "execution_count": 45,
   "metadata": {},
   "outputs": [
    {
     "name": "stdout",
     "output_type": "stream",
     "text": [
      "-------------------------------------------------------\n",
      "|\"W_TEAM_ID\"  |\"W_TEAM_NAME\"  |\"W_SEED\"  |\"W_REGION\"  |\n",
      "-------------------------------------------------------\n",
      "|1104         |Alabama        |1         |X           |\n",
      "|1222         |Houston        |1         |Y           |\n",
      "-------------------------------------------------------\n",
      "\n"
     ]
    }
   ],
   "source": [
    "final_four_winners.sort('W_REGION').show(20)"
   ]
  },
  {
   "cell_type": "code",
   "execution_count": 46,
   "metadata": {},
   "outputs": [],
   "source": [
    "df1 = final_four_winners.cache_result()\n",
    "df2 = final_four_winners.cache_result()\n",
    "\n",
    "championship_matchup = df1.join(df2).select(\n",
    "    df1.w_team_name.alias('W_TEAM_NAME'),\n",
    "    df1.w_region.alias('W_REGION'),\n",
    "    df1.w_team_id.alias('WTEAMID2'),\n",
    "    df1.w_seed.alias('W_SEED'),\n",
    "    df2.w_team_name.alias('L_TEAM_NAME'),\n",
    "    df2.w_region.alias('L_REGION'),\n",
    "    df2.w_team_id.alias('LTEAMID2'),\n",
    "    df2.w_seed.alias('L_SEED'),\n",
    ").filter(F.col(\"WTEAMID2\") != F.col(\"LTEAMID2\")).limit(1)"
   ]
  },
  {
   "cell_type": "markdown",
   "metadata": {},
   "source": [
    "# CHAMPIONSHIP!"
   ]
  },
  {
   "cell_type": "code",
   "execution_count": 47,
   "metadata": {},
   "outputs": [
    {
     "name": "stdout",
     "output_type": "stream",
     "text": [
      "--------------------------------------------------------\n",
      "|\"TEAM_1\"  |\"TEAM_2\"  |\"SEED_1\"  |\"SEED_2\"  |\"REGION\"  |\n",
      "--------------------------------------------------------\n",
      "|Houston   |Alabama   |1         |1         |Y         |\n",
      "--------------------------------------------------------\n",
      "\n"
     ]
    }
   ],
   "source": [
    "championship_matchup.select(\n",
    "    F.col(\"W_TEAM_NAME\").alias(\"TEAM_1\"),\n",
    "    F.col(\"L_TEAM_NAME\").alias(\"TEAM_2\"),\n",
    "    F.col(\"W_SEED\").alias(\"SEED_1\"),\n",
    "    F.col(\"L_SEED\").alias(\"SEED_2\"),\n",
    "    F.col(\"W_REGION\").alias(\"REGION\"),\n",
    ").sort(\"REGION\").show(20)"
   ]
  },
  {
   "cell_type": "code",
   "execution_count": 48,
   "metadata": {},
   "outputs": [
    {
     "data": {
      "text/plain": [
       "1"
      ]
     },
     "execution_count": 48,
     "metadata": {},
     "output_type": "execute_result"
    }
   ],
   "source": [
    "championship = championship_matchup.select('WTEAMID2','LTEAMID2','W_SEED','L_SEED')\n",
    "\n",
    "season = (\n",
    "    session.table(\"FINAL_SEASON_STATS\").filter(F.col(\"season\") == 2023).drop(\"W_SEASON\")\n",
    ")\n",
    "\n",
    "season_w = season.select(*[F.col(col).alias(f\"W_{col}\") for col in season.columns])\n",
    "\n",
    "season_l = season.select(*[F.col(col).alias(f\"L_{col}\") for col in season.columns])\n",
    "\n",
    "df1 = championship.join(season_w, season_w.w_teamid == championship.wTEAMID2)\n",
    "\n",
    "df2 = df1.join(season_l, season_l.l_teamid == championship.lTEAMID2)\n",
    "\n",
    "championship = df2.drop('WTEAMID2','lTEAMID2')\n",
    "\n",
    "championship.count()"
   ]
  },
  {
   "cell_type": "code",
   "execution_count": 49,
   "metadata": {},
   "outputs": [],
   "source": [
    "result = all_rounds.predict(championship)\n",
    "\n",
    "teams = session.table(\"mteams\")\n",
    "for col in teams.columns:\n",
    "    teams = teams.withColumnRenamed(col, col.upper())\n",
    "\n",
    "result = (\n",
    "    result.select(\n",
    "        \"l_teamID\",\n",
    "        \"l_seed\",\n",
    "        \"w_seed\",\n",
    "        \"l_region\",\n",
    "        \"w_teamid\",\n",
    "        \"w_region\",\n",
    "        \"pred_win_indicator\",\n",
    "    )\n",
    ")\n",
    "\n",
    "res_teamsl = (\n",
    "    result.join(teams, result.col(\"L_TEAMID\") == teams.col(\"TEAMID\"))\n",
    "    .with_column_renamed(\"teamname\", \"l_team_name\")\n",
    "    .drop(\"firstd1season\", \"lastd1season\")\n",
    ")\n",
    "res_teamsl = res_teamsl.cache_result()\n",
    "\n",
    "championship_results = (\n",
    "    res_teamsl.join(teams, result.col(\"W_TEAMID\") == teams.col(\"TEAMID\"))\n",
    "    .with_column_renamed(\"teamname\", \"w_team_name\")\n",
    "    .select(\n",
    "        \"l_teamid\",\n",
    "        \"w_teamid\",\n",
    "        \"L_TEAM_NAME\",\n",
    "        \"l_seed\",\n",
    "        \"w_seed\",\n",
    "        \"l_region\",\n",
    "        \"W_TEAM_NAME\",\n",
    "        \"w_region\",\n",
    "        \"PRED_WIN_INDICATOR\",\n",
    "    )\n",
    ")"
   ]
  },
  {
   "cell_type": "code",
   "execution_count": 50,
   "metadata": {},
   "outputs": [
    {
     "name": "stdout",
     "output_type": "stream",
     "text": [
      "----------------------------------------------------------------------------------------------------------------------------------\n",
      "|\"L_TEAMID\"  |\"W_TEAMID\"  |\"L_TEAM_NAME\"  |\"L_SEED\"  |\"W_SEED\"  |\"L_REGION\"  |\"W_TEAM_NAME\"  |\"W_REGION\"  |\"PRED_WIN_INDICATOR\"  |\n",
      "----------------------------------------------------------------------------------------------------------------------------------\n",
      "|1104        |1222        |Alabama        |1         |1         |X           |Houston        |Y           |1.0                   |\n",
      "----------------------------------------------------------------------------------------------------------------------------------\n",
      "\n"
     ]
    }
   ],
   "source": [
    "championship_results.show()"
   ]
  },
  {
   "cell_type": "code",
   "execution_count": 51,
   "metadata": {},
   "outputs": [],
   "source": [
    "champion = championship_results.with_column(\n",
    "    \"W_TEAM_ID\",\n",
    "    when((championship_results.PRED_WIN_INDICATOR == 1), championship_results.w_teamid)\n",
    "    .otherwise(championship_results.l_teamID),\n",
    ").with_column(\n",
    "    \"W_TEAM_NAME\",\n",
    "    when((championship_results.PRED_WIN_INDICATOR == 1), championship_results.w_team_name)\n",
    "    .otherwise(championship_results.l_team_name),\n",
    ").with_column(\n",
    "    \"W_SEED\",\n",
    "    when((championship_results.PRED_WIN_INDICATOR == 1), championship_results.w_seed)\n",
    "    .otherwise(championship_results.l_seed),\n",
    ").with_column(\n",
    "    \"W_REGION\",\n",
    "    when((championship_results.PRED_WIN_INDICATOR == 1), championship_results.w_region)\n",
    "    .otherwise(championship_results.l_region)\n",
    ").select(\"W_TEAM_ID\",\"W_TEAM_NAME\",\"W_SEED\",\"W_REGION\")"
   ]
  },
  {
   "cell_type": "markdown",
   "metadata": {},
   "source": [
    "# CHAMPION!"
   ]
  },
  {
   "cell_type": "code",
   "execution_count": 52,
   "metadata": {},
   "outputs": [
    {
     "name": "stdout",
     "output_type": "stream",
     "text": [
      "-------------------------------------------------------\n",
      "|\"W_TEAM_ID\"  |\"W_TEAM_NAME\"  |\"W_SEED\"  |\"W_REGION\"  |\n",
      "-------------------------------------------------------\n",
      "|1222         |Houston        |1         |Y           |\n",
      "-------------------------------------------------------\n",
      "\n"
     ]
    }
   ],
   "source": [
    "champion.show()"
   ]
  },
  {
   "cell_type": "markdown",
   "metadata": {},
   "source": [
    "# Predict Play in games today"
   ]
  },
  {
   "cell_type": "code",
   "execution_count": 66,
   "metadata": {},
   "outputs": [],
   "source": [
    "howard = (\n",
    "    session.table(\"MEN.SEASON_STATS_2024\").drop('N','H','A')\n",
    ").filter(F.col('SEASON') == 2024).filter(F.col('TEAMID') == 1224).drop('SEASON').limit(1)\n",
    "\n",
    "wagner = (\n",
    "    session.table(\"MEN.SEASON_STATS_2024\").drop('N','H','A')\n",
    ").filter(F.col('SEASON') == 2024).filter(F.col('TEAMID') == 1447).drop('SEASON').limit(1)\n",
    "\n",
    "colst = (\n",
    "    session.table(\"MEN.SEASON_STATS_2024\").drop('N','H','A')\n",
    ").filter(F.col('SEASON') == 2024).filter(F.col('TEAMID') == 1161).drop('SEASON').limit(1)\n",
    "\n",
    "va = (\n",
    "    session.table(\"MEN.SEASON_STATS_2024\").drop('N','H','A')\n",
    ").filter(F.col('SEASON') == 2024).filter(F.col('TEAMID') == 1438).drop('SEASON').limit(1)\n",
    "\n",
    "for column in va.columns:\n",
    "        va = va.withColumnRenamed(column, f\"W_{column}\")\n",
    "\n",
    "for column in colst.columns:\n",
    "        colst = colst.withColumnRenamed(column, f\"L_{column}\")\n",
    "\n",
    "play_in = va.join(colst)"
   ]
  },
  {
   "cell_type": "code",
   "execution_count": 67,
   "metadata": {},
   "outputs": [],
   "source": [
    "columns_to_add = [col for col in test.columns if col not in play_in.columns]\n",
    "\n",
    "# For each column to add, add it to df1 with a default value of 0\n",
    "for col in columns_to_add:\n",
    "    play_in = play_in.withColumn(col, lit(0))"
   ]
  },
  {
   "cell_type": "code",
   "execution_count": 68,
   "metadata": {},
   "outputs": [
    {
     "data": {
      "text/plain": [
       "['SEASON',\n",
       " 'W_SCORE',\n",
       " 'L_SCORE',\n",
       " 'W_SEED',\n",
       " 'L_SEED',\n",
       " 'W_REGION',\n",
       " 'L_REGION',\n",
       " 'WIN_INDICATOR',\n",
       " 'ROUND']"
      ]
     },
     "execution_count": 68,
     "metadata": {},
     "output_type": "execute_result"
    }
   ],
   "source": [
    "columns_to_add"
   ]
  },
  {
   "cell_type": "code",
   "execution_count": 69,
   "metadata": {},
   "outputs": [],
   "source": [
    "play_in = play_in.drop(['W_CTWINS','W_AVERAGECTSCORE','L_CTWINS','L_AVERAGECTSCORE'])\n",
    "play_in = play_in.drop(['W_WLOCN','W_WLOCH','W_WLOCA','L_WLOCN','L_WLOCH','L_WLOCA']) #variants\n",
    "play_in = play_in.withColumn('L_SEED', lit(10))\n",
    "play_in = play_in.withColumn('W_SEED', lit(10))"
   ]
  },
  {
   "cell_type": "code",
   "execution_count": 56,
   "metadata": {},
   "outputs": [
    {
     "name": "stdout",
     "output_type": "stream",
     "text": [
      "----------------------\n",
      "|\"VA_WIN_PROB\"       |\n",
      "----------------------\n",
      "|0.7778103947639465  |\n",
      "----------------------\n",
      "\n"
     ]
    }
   ],
   "source": [
    "# Point to the registry\n",
    "\n",
    "reg = Registry(session=session)\n",
    "m = reg.get_model(\"MARCHMADNESS\")\n",
    "m.default = 'V_4'\n",
    "\n",
    "# Get the default version of your model (Model with best accuracy in our case)\n",
    "\n",
    "mv = reg.get_model(\"MARCHMADNESS\").default\n",
    "\n",
    "remote_prediction = mv.run(play_in, function_name=\"predict_proba\")\n",
    "remote_prediction.drop('\"output_feature_0\"').with_column_renamed(\n",
    "    '\"output_feature_1\"', \"va_win_prob\"\n",
    ").select('va_win_prob').show()"
   ]
  },
  {
   "cell_type": "code",
   "execution_count": 72,
   "metadata": {},
   "outputs": [
    {
     "name": "stdout",
     "output_type": "stream",
     "text": [
      "----------------------\n",
      "|\"WAGNER_WIN_PROB\"   |\n",
      "----------------------\n",
      "|0.5396665334701538  |\n",
      "----------------------\n",
      "\n"
     ]
    }
   ],
   "source": [
    "for column in wagner.columns:\n",
    "        wagner = wagner.withColumnRenamed(column, f\"W_{column}\")\n",
    "\n",
    "for column in howard.columns:\n",
    "        howard = howard.withColumnRenamed(column, f\"L_{column}\")\n",
    "\n",
    "play_in = wagner.join(howard)\n",
    "\n",
    "columns_to_add = [col for col in test.columns if col not in play_in.columns]\n",
    "\n",
    "# For each column to add, add it to df1 with a default value of 0\n",
    "for col in columns_to_add:\n",
    "    play_in = play_in.withColumn(col, lit(0))\n",
    "\n",
    "play_in = play_in.drop(['W_CTWINS','W_AVERAGECTSCORE','L_CTWINS','L_AVERAGECTSCORE'])\n",
    "play_in = play_in.drop(['W_WLOCN','W_WLOCH','W_WLOCA','L_WLOCN','L_WLOCH','L_WLOCA']) #variants\n",
    "play_in = play_in.withColumn('L_SEED', lit(16))\n",
    "play_in = play_in.withColumn('W_SEED', lit(16))\n",
    "\n",
    "# Point to the registry\n",
    "\n",
    "reg = Registry(session=session)\n",
    "m = reg.get_model(\"MARCHMADNESS\")\n",
    "m.default = 'V_4'\n",
    "\n",
    "# Get the default version of your model (Model with best accuracy in our case)\n",
    "\n",
    "mv = reg.get_model(\"MARCHMADNESS\").default\n",
    "\n",
    "remote_prediction = mv.run(play_in, function_name=\"predict_proba\")\n",
    "remote_prediction.drop('\"output_feature_0\"').with_column_renamed(\n",
    "    '\"output_feature_1\"', \"wagner_win_prob\"\n",
    ").select('wagner_win_prob').show()"
   ]
  },
  {
   "cell_type": "code",
   "execution_count": 71,
   "metadata": {},
   "outputs": [
    {
     "name": "stdout",
     "output_type": "stream",
     "text": [
      "----------------------\n",
      "|\"HOWARD_WIN_PROB\"   |\n",
      "----------------------\n",
      "|0.5555117130279541  |\n",
      "----------------------\n",
      "\n"
     ]
    }
   ],
   "source": [
    "df = play_in.to_pandas()\n",
    "cols = df.columns\n",
    "for index, row in df.iterrows():\n",
    "    if np.random.rand() > 0.5:\n",
    "        for col in cols:\n",
    "            if col.startswith(\"W_\"):\n",
    "                df.at[index, col] = row[\"L_\"+col[2:]]\n",
    "            elif col.startswith(\"L_\"):\n",
    "                df.at[index, col] = row[\"W_\"+col[2:]]\n",
    "\n",
    "df = session.create_dataframe(df)\n",
    "\n",
    "remote_prediction = mv.run(df, function_name=\"predict_proba\")\n",
    "remote_prediction.drop('\"output_feature_0\"').with_column_renamed(\n",
    "    '\"output_feature_1\"', \"howard_win_prob\"\n",
    ").select('howard_win_prob').show()"
   ]
  }
 ],
 "metadata": {
  "kernelspec": {
   "display_name": "Python 3 (ipykernel)",
   "language": "python",
   "name": "python3"
  },
  "language_info": {
   "codemirror_mode": {
    "name": "ipython",
    "version": 3
   },
   "file_extension": ".py",
   "mimetype": "text/x-python",
   "name": "python",
   "nbconvert_exporter": "python",
   "pygments_lexer": "ipython3",
   "version": "3.10.13"
  }
 },
 "nbformat": 4,
 "nbformat_minor": 4
}
