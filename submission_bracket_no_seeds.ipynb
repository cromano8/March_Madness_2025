{
 "cells": [
  {
   "cell_type": "markdown",
   "metadata": {},
   "source": [
    "# START TRAINING"
   ]
  },
  {
   "cell_type": "code",
   "execution_count": null,
   "metadata": {},
   "outputs": [],
   "source": [
    "import ast\n",
    "import json\n",
    "import warnings\n",
    "\n",
    "import pandas as pd\n",
    "from snowflake.ml.modeling.impute import SimpleImputer\n",
    "from snowflake.ml.modeling.metrics import accuracy_score\n",
    "from snowflake.ml.modeling.model_selection import GridSearchCV\n",
    "from snowflake.ml.modeling.preprocessing import OneHotEncoder\n",
    "from snowflake.ml.modeling.xgboost import XGBClassifier\n",
    "from snowflake.ml.registry import Registry\n",
    "from snowflake.ml.utils.connection_params import SnowflakeLoginOptions\n",
    "from snowflake.snowpark import Session\n",
    "from snowflake.snowpark import types as T\n",
    "from snowflake.snowpark.functions import col\n",
    "from snowflake.snowpark import functions as F\n",
    "from snowflake.snowpark.functions import when, lit\n",
    "\n",
    "import numpy as np\n",
    "\n",
    "warnings.simplefilter(action=\"ignore\", category=UserWarning)"
   ]
  },
  {
   "cell_type": "code",
   "execution_count": null,
   "metadata": {},
   "outputs": [],
   "source": [
    "session = Session.builder.configs(SnowflakeLoginOptions()).getOrCreate()"
   ]
  },
  {
   "cell_type": "code",
   "execution_count": null,
   "metadata": {},
   "outputs": [],
   "source": [
    "final = (\n",
    "    session.table(\"MEN.FINAL_FEATURES\")\n",
    "    .with_column_renamed(\"WTEAMID\", \"W_TEAMID\")\n",
    "    .with_column_renamed(\"LTEAMID\", \"L_TEAMID\")\n",
    "    .with_column_renamed(\"WSCORE\", \"W_SCORE\")\n",
    "    .with_column_renamed(\"LSCORE\", \"L_SCORE\")\n",
    ")"
   ]
  },
  {
   "cell_type": "code",
   "execution_count": null,
   "metadata": {},
   "outputs": [],
   "source": [
    "OHE = OneHotEncoder(\n",
    "    input_cols=[\"W_CONF\",\"L_CONF\"],\n",
    "    output_cols=[\"W_CONF\",\"L_CONF\"],\n",
    "    drop_input_cols=True,\n",
    "    drop=\"first\",\n",
    "    handle_unknown=\"ignore\",\n",
    ")\n",
    "\n",
    "final = OHE.fit(final).transform(final)\n",
    "final.show()"
   ]
  },
  {
   "cell_type": "code",
   "execution_count": null,
   "metadata": {},
   "outputs": [],
   "source": [
    "parameters = {\n",
    "    \"n_estimators\": [100, 200, 300, 400, 500],\n",
    "    \"learning_rate\": [0.1, 0.2, 0.3, 0.4, 0.5],\n",
    "    \"max_depth\": list(range(3, 6, 1)),\n",
    "    \"min_child_weight\": list(range(1, 6, 1)),\n",
    "}"
   ]
  },
  {
   "cell_type": "code",
   "execution_count": null,
   "metadata": {},
   "outputs": [],
   "source": [
    "def add_losing_matches(df):\n",
    "    lose_rename = {\n",
    "        \"W_TEAMID\": \"L_TEAMID\", \n",
    "        \"W_SCORE\" : \"L_SCORE\", \n",
    "        \"L_TEAMID\" : \"W_TEAMID\",\n",
    "        \"L_SCORE\": \"W_SCORE\",\n",
    "    }\n",
    "    lose_rename.update({c : \"L_\" + c[2:] for c in df.columns if c.startswith('W_')})\n",
    "    lose_rename.update({c : \"W_\" + c[2:] for c in df.columns if c.startswith('L_')})\n",
    "    \n",
    "    win_df = df.copy()\n",
    "    lose_df = df.copy()\n",
    "    \n",
    "    lose_df = lose_df.rename(columns=lose_rename)\n",
    "    \n",
    "    return pd.concat([win_df, lose_df], axis=0, sort=False)"
   ]
  },
  {
   "cell_type": "code",
   "execution_count": null,
   "metadata": {},
   "outputs": [],
   "source": [
    "train = final.filter(F.col('SEASON') <= 2023)\n",
    "test = final.filter(F.col('SEASON') > 2021)"
   ]
  },
  {
   "cell_type": "code",
   "execution_count": null,
   "metadata": {},
   "outputs": [],
   "source": [
    "df_pd = train.to_pandas()\n",
    "train_2 = add_losing_matches(df_pd)\n",
    "train_2 = session.create_dataframe(train_2)"
   ]
  },
  {
   "cell_type": "code",
   "execution_count": null,
   "metadata": {},
   "outputs": [],
   "source": [
    "train_2 = train_2.withColumn(\n",
    "    \"WIN_INDICATOR\", F.when(train_2[\"W_SCORE\"] > train_2[\"L_SCORE\"], 1).otherwise(0)\n",
    ")"
   ]
  },
  {
   "cell_type": "code",
   "execution_count": null,
   "metadata": {},
   "outputs": [],
   "source": [
    "test = test.withColumn(\n",
    "    \"WIN_INDICATOR\", F.lit(1))"
   ]
  },
  {
   "cell_type": "code",
   "execution_count": null,
   "metadata": {},
   "outputs": [],
   "source": [
    "session.use_warehouse('MM_L')"
   ]
  },
  {
   "cell_type": "code",
   "execution_count": null,
   "metadata": {},
   "outputs": [],
   "source": [
    "train_2 = train_2.with_columns(\n",
    "    [\"W_WLOCN\", \"W_WLOCH\", \"W_WLOCA\", \"L_WLOCN\", \"L_WLOCH\", \"L_WLOCA\"],\n",
    "    [\n",
    "        F.col(\"W_WLOCN\").cast(T.LongType()),\n",
    "        F.col(\"W_WLOCH\").cast(T.LongType()),\n",
    "        F.col(\"W_WLOCA\").cast(T.LongType()),\n",
    "        F.col(\"L_WLOCN\").cast(T.LongType()),\n",
    "        F.col(\"L_WLOCH\").cast(T.LongType()),\n",
    "        F.col(\"L_WLOCA\").cast(T.LongType()),\n",
    "    ],\n",
    ")\n"
   ]
  },
  {
   "cell_type": "code",
   "execution_count": null,
   "metadata": {},
   "outputs": [],
   "source": [
    "all_rounds = GridSearchCV(\n",
    "    estimator=XGBClassifier(),\n",
    "    param_grid=parameters,\n",
    "    n_jobs=-1,\n",
    "    scoring=\"accuracy\",\n",
    "    input_cols=train_2.drop(\n",
    "        [\n",
    "            \"SEASON\",\n",
    "            \"WIN_INDICATOR\",\n",
    "            \"l_teamid\",\n",
    "            \"w_teamid\",\n",
    "            \"w_score\",\n",
    "            \"l_score\",\n",
    "            \"round\",\n",
    "            \"l_region\",\n",
    "            \"w_region\",\n",
    "            \"l_seed\",\n",
    "            \"w_seed\"\n",
    "        ]\n",
    "    ).columns,\n",
    "    label_cols=\"WIN_INDICATOR\",\n",
    "    output_cols=\"PRED_WIN_INDICATOR\",\n",
    ")\n",
    "\n",
    "# Train\n",
    "all_rounds.fit(train_2)"
   ]
  },
  {
   "cell_type": "code",
   "execution_count": null,
   "metadata": {},
   "outputs": [],
   "source": [
    "#session.use_warehouse('wh_xs')"
   ]
  },
  {
   "cell_type": "code",
   "execution_count": null,
   "metadata": {},
   "outputs": [],
   "source": [
    "result = all_rounds.predict(test).filter(F.col(\"ROUND\") == 1)\n",
    "result.count()"
   ]
  },
  {
   "cell_type": "code",
   "execution_count": null,
   "metadata": {},
   "outputs": [],
   "source": [
    "accuracy_2022 = accuracy_score(\n",
    "    df=result.filter(result.season == 2022),\n",
    "    y_true_col_names=\"WIN_INDICATOR\",\n",
    "    y_pred_col_names=\"PRED_WIN_INDICATOR\",\n",
    ")\n",
    "print(f\"Accuracy 2022: {accuracy_2022}\")\n",
    "\n",
    "accuracy_2023 = accuracy_score(\n",
    "    df=result.filter(result.season == 2023),\n",
    "    y_true_col_names=\"WIN_INDICATOR\",\n",
    "    y_pred_col_names=\"PRED_WIN_INDICATOR\",\n",
    ")\n",
    "print(f\"Accuracy 2023: {accuracy_2023}\")\n",
    "\n",
    "accuracy = accuracy_score(\n",
    "    df=result, y_true_col_names=\"WIN_INDICATOR\", y_pred_col_names=\"PRED_WIN_INDICATOR\"\n",
    ")\n",
    "\n",
    "print(f\"Accuracy total: {accuracy}\")"
   ]
  },
  {
   "cell_type": "markdown",
   "metadata": {},
   "source": [
    "#### Register Models that are good"
   ]
  },
  {
   "cell_type": "code",
   "execution_count": null,
   "metadata": {},
   "outputs": [],
   "source": [
    "optimal_model = all_rounds.to_sklearn().best_estimator_\n",
    "\n",
    "def check_and_update(df, model_name):\n",
    "    if df.empty:\n",
    "        return \"V_1\"\n",
    "    elif df[df[\"name\"] == model_name].empty:\n",
    "        return \"V_1\"\n",
    "    else:\n",
    "        # Increment model_version if df is not a pandas Series\n",
    "        lst = sorted(ast.literal_eval(df[\"versions\"][0]))\n",
    "        last_value = lst[-1]\n",
    "        prefix, num = last_value.rsplit(\"_\", 1)\n",
    "        new_last_value = f\"{prefix}_{int(num)+1}\"\n",
    "        lst[-1] = new_last_value\n",
    "        return new_last_value\n",
    "# Get sample input data to pass into the registry logging function\n",
    "X = train_2.drop(['SEASON','WIN_INDICATOR','l_teamid','w_teamid','w_score','l_score','round','l_region','w_region']).limit(100)\n",
    "\n",
    "# Create a registry and log the model\n",
    "# You can specify a different DB and Schema if you'd like\n",
    "# otherwise it uses the session context\n",
    "reg = Registry(session=session)\n",
    "\n",
    "reg_df = reg.show_models()\n",
    "\n",
    "# Define model name and version (use uppercase for name)\n",
    "model_name = \"MARCHMADNESS\"\n",
    "\n",
    "model_version = check_and_update(reg_df, model_name)\n",
    "\n",
    "mm_model = reg.log_model(\n",
    "    model_name=model_name,\n",
    "    version_name=model_version,\n",
    "    model=optimal_model,\n",
    "    sample_input_data=X,\n",
    ")\n",
    "\n",
    "# Add evaluation metric\n",
    "mm_model.set_metric(\n",
    "    metric_name=\"accuracy_2023\",\n",
    "    value= accuracy_2023\n",
    ")\n",
    "\n",
    "mm_model.set_metric(\n",
    "    metric_name=\"accuracy_2022\",\n",
    "    value= accuracy_2022,\n",
    ")\n",
    "reg.get_model(model_name).show_versions()"
   ]
  },
  {
   "cell_type": "markdown",
   "metadata": {},
   "source": [
    "# Predicting the Bracket & final four"
   ]
  },
  {
   "cell_type": "markdown",
   "metadata": {},
   "source": [
    "## 2024 Data"
   ]
  },
  {
   "cell_type": "code",
   "execution_count": null,
   "metadata": {},
   "outputs": [],
   "source": [
    "season_2024 = session.table(\"MEN.FINAL_SEASON_STATS\").filter(F.col('SEASON') == 2024).drop('REGION')"
   ]
  },
  {
   "cell_type": "code",
   "execution_count": null,
   "metadata": {},
   "outputs": [],
   "source": [
    "tourney_2024 = session.table('COMMON.TOURNEY_SEEDS_2024').filter(F.col('TOURNAMENT') == 'M')"
   ]
  },
  {
   "cell_type": "code",
   "execution_count": null,
   "metadata": {},
   "outputs": [],
   "source": [
    "seed_value = (\n",
    "    tourney_2024\n",
    "    .with_column(\"REGION\", F.substring(F.col(\"SEED\"), 1, 1))\n",
    "    .with_column(\n",
    "        \"SEED\", F.substring(F.col(\"SEED\"), 2, F.length(F.col(\"SEED\")) - 1)\n",
    "    )\n",
    "    .select(\"TEAMID\", \"REGION\", \"SEED\")\n",
    "    .with_column(\n",
    "        \"SEED\",\n",
    "        F.cast(F.regexp_replace(F.col(\"SEED\"), \"[a-z]\", \"\"), T.IntegerType()),\n",
    "    )\n",
    ").select(F.col('TEAMID').alias('TEAMID1'), 'REGION','SEED')"
   ]
  },
  {
   "cell_type": "code",
   "execution_count": null,
   "metadata": {},
   "outputs": [],
   "source": [
    "round_of_64 = season_2024.join(seed_value, season_2024.TEAMID == seed_value.TEAMID1).drop('TEAMID1')\n"
   ]
  },
  {
   "cell_type": "code",
   "execution_count": null,
   "metadata": {},
   "outputs": [],
   "source": [
    "df1 = round_of_64.select(\n",
    "    *[F.col(col).alias(f\"W_{col}\") for col in round_of_64.columns]\n",
    ")\n",
    "\n",
    "df2 = round_of_64.select(\n",
    "    *[F.col(col).alias(f\"L_{col}\") for col in round_of_64.columns]\n",
    ")"
   ]
  },
  {
   "cell_type": "code",
   "execution_count": null,
   "metadata": {},
   "outputs": [],
   "source": [
    "first_round = df1.join(\n",
    "    df2,\n",
    "    (df1.w_region == df2.l_region)\n",
    "    & (\n",
    "        (df1.w_seed == 1) & (df2.l_seed == 16) |\n",
    "        (df1.w_seed == 8) & (df2.l_seed == 9) |\n",
    "        (df1.w_seed == 5) & (df2.l_seed == 12) |\n",
    "        (df1.w_seed == 4) & (df2.l_seed == 13) |\n",
    "        (df1.w_seed == 6) & (df2.l_seed == 11) |\n",
    "        (df1.w_seed == 3) & (df2.l_seed == 14) |\n",
    "        (df1.w_seed == 7) & (df2.l_seed == 10) |\n",
    "        (df1.w_seed == 2) & (df2.l_seed == 15) \n",
    "\n",
    "    ),\n",
    "    \"inner\",\n",
    ")\n",
    "\n",
    "first_round.show()"
   ]
  },
  {
   "cell_type": "code",
   "execution_count": 24,
   "metadata": {},
   "outputs": [],
   "source": [
    "result = all_rounds.predict(first_round)\n",
    "\n",
    "teams = session.table('m_teams')\n",
    "\n",
    "result = result.select('l_teamID','l_seed','l_region','w_teamid','w_seed','w_region','pred_win_indicator')\n",
    "\n",
    "res_teamsl = (\n",
    "    result.join(teams, result.col(\"L_TEAMID\") == teams.col(\"TEAMID\"))\n",
    "    .with_column_renamed(\"teamname\", \"l_team_name\")\n",
    "    .drop(\"firstd1season\", \"lastd1season\")\n",
    ")\n",
    "res_teamsl = res_teamsl.cache_result()\n",
    "\n",
    "round_1_results = (\n",
    "    res_teamsl.join(teams, result.col(\"W_TEAMID\") == teams.col(\"TEAMID\"))\n",
    "    .with_column_renamed(\"teamname\", \"w_team_name\")\n",
    "    .select('l_teamid','w_teamid','L_TEAM_NAME','l_seed','l_region','W_TEAM_NAME','w_seed','w_region','PRED_WIN_INDICATOR')\n",
    ")"
   ]
  },
  {
   "cell_type": "code",
   "execution_count": 25,
   "metadata": {},
   "outputs": [
    {
     "name": "stdout",
     "output_type": "stream",
     "text": [
      "--------------------------------------------------------------------------------------------------\n",
      "|\"L_TEAMID\"  |\"L_SEED\"  |\"L_REGION\"  |\"W_TEAMID\"  |\"W_SEED\"  |\"W_REGION\"  |\"PRED_WIN_INDICATOR\"  |\n",
      "--------------------------------------------------------------------------------------------------\n",
      "|1389        |15        |Y           |1397        |2         |Y           |1.0                   |\n",
      "|1270        |12        |Y           |1211        |5         |Y           |0.0                   |\n",
      "|1103        |14        |Y           |1166        |3         |Y           |1.0                   |\n",
      "|1179        |10        |W           |1450        |7         |W           |0.0                   |\n",
      "|1253        |15        |X           |1112        |2         |X           |1.0                   |\n",
      "|1224        |16        |X           |1314        |1         |X           |1.0                   |\n",
      "|1355        |15        |W           |1235        |2         |W           |1.0                   |\n",
      "|1129        |10        |Z           |1196        |7         |Z           |1.0                   |\n",
      "|1324        |14        |Z           |1246        |3         |Z           |1.0                   |\n",
      "|1463        |13        |W           |1120        |4         |W           |1.0                   |\n",
      "--------------------------------------------------------------------------------------------------\n",
      "\n"
     ]
    }
   ],
   "source": [
    "result.show()"
   ]
  },
  {
   "cell_type": "code",
   "execution_count": 26,
   "metadata": {},
   "outputs": [
    {
     "name": "stdout",
     "output_type": "stream",
     "text": [
      "--------------------------------------------------------\n",
      "|\"W_TEAM_ID\"  |\"W_TEAM_NAME\"   |\"W_SEED\"  |\"W_REGION\"  |\n",
      "--------------------------------------------------------\n",
      "|1140         |BYU             |6         |W           |\n",
      "|1321         |Northwestern    |9         |W           |\n",
      "|1412         |UAB             |12        |W           |\n",
      "|1120         |Auburn          |4         |W           |\n",
      "|1163         |Connecticut     |1         |W           |\n",
      "|1179         |Drake           |10        |W           |\n",
      "|1235         |Iowa St         |2         |W           |\n",
      "|1228         |Illinois        |3         |W           |\n",
      "|1277         |Michigan St     |9         |X           |\n",
      "|1305         |Nevada          |10        |X           |\n",
      "|1124         |Baylor          |3         |X           |\n",
      "|1307         |New Mexico      |11        |X           |\n",
      "|1104         |Alabama         |4         |X           |\n",
      "|1112         |Arizona         |2         |X           |\n",
      "|1213         |Grand Canyon    |12        |X           |\n",
      "|1314         |North Carolina  |1         |X           |\n",
      "|1345         |Purdue          |1         |Y           |\n",
      "|1166         |Creighton       |3         |Y           |\n",
      "|1397         |Tennessee       |2         |Y           |\n",
      "|1400         |Texas           |7         |Y           |\n",
      "|1270         |McNeese St      |12        |Y           |\n",
      "|1376         |South Carolina  |6         |Y           |\n",
      "|1395         |TCU             |9         |Y           |\n",
      "|1359         |Samford         |13        |Y           |\n",
      "|1181         |Duke            |4         |Z           |\n",
      "|1304         |Nebraska        |8         |Z           |\n",
      "|1403         |Texas Tech      |6         |Z           |\n",
      "|1196         |Florida         |7         |Z           |\n",
      "|1222         |Houston         |1         |Z           |\n",
      "|1246         |Kentucky        |3         |Z           |\n",
      "|1266         |Marquette       |2         |Z           |\n",
      "|1458         |Wisconsin       |5         |Z           |\n",
      "--------------------------------------------------------\n",
      "\n"
     ]
    }
   ],
   "source": [
    "round_1_winners = round_1_results.with_column(\n",
    "    \"W_TEAM_ID\",\n",
    "    when((round_1_results.PRED_WIN_INDICATOR == 1), round_1_results.w_teamid)\n",
    "    .otherwise(round_1_results.l_teamID),\n",
    ").with_column(\n",
    "    \"W_TEAM_NAME\",\n",
    "    when((round_1_results.PRED_WIN_INDICATOR == 1), round_1_results.w_team_name)\n",
    "    .otherwise(round_1_results.l_team_name),\n",
    ").with_column(\n",
    "    \"W_SEED\",\n",
    "    when((round_1_results.PRED_WIN_INDICATOR == 1), round_1_results.w_seed)\n",
    "    .otherwise(round_1_results.l_seed),\n",
    ").with_column(\n",
    "    \"W_REGION\",\n",
    "    when((round_1_results.PRED_WIN_INDICATOR == 1), round_1_results.w_region)\n",
    "    .otherwise(round_1_results.l_region)\n",
    ").select(\"W_TEAM_ID\",\"W_TEAM_NAME\",\"W_SEED\",\"W_REGION\")\n",
    "\n",
    "round_1_winners.sort('W_REGION').show(32)"
   ]
  },
  {
   "cell_type": "code",
   "execution_count": 27,
   "metadata": {},
   "outputs": [
    {
     "name": "stdout",
     "output_type": "stream",
     "text": [
      "--------------------------------------------------------------------\n",
      "|\"TEAM_1\"        |\"TEAM_2\"        |\"SEED_1\"  |\"SEED_2\"  |\"REGION\"  |\n",
      "--------------------------------------------------------------------\n",
      "|Connecticut     |Northwestern    |1         |9         |W         |\n",
      "|Illinois        |BYU             |3         |6         |W         |\n",
      "|Iowa St         |Drake           |2         |10        |W         |\n",
      "|Auburn          |UAB             |4         |12        |W         |\n",
      "|North Carolina  |Michigan St     |1         |9         |X         |\n",
      "|Baylor          |New Mexico      |3         |11        |X         |\n",
      "|Alabama         |Grand Canyon    |4         |12        |X         |\n",
      "|Arizona         |Nevada          |2         |10        |X         |\n",
      "|Tennessee       |Texas           |2         |7         |Y         |\n",
      "|Samford         |McNeese St      |13        |12        |Y         |\n",
      "|Purdue          |TCU             |1         |9         |Y         |\n",
      "|Creighton       |South Carolina  |3         |6         |Y         |\n",
      "|Marquette       |Florida         |2         |7         |Z         |\n",
      "|Kentucky        |Texas Tech      |3         |6         |Z         |\n",
      "|Houston         |Nebraska        |1         |8         |Z         |\n",
      "|Duke            |Wisconsin       |4         |5         |Z         |\n",
      "--------------------------------------------------------------------\n",
      "\n"
     ]
    }
   ],
   "source": [
    "df1 = round_1_winners.cache_result()\n",
    "df2 = round_1_winners.cache_result()\n",
    "\n",
    "second_round_matchups = df1.join(\n",
    "    df2,\n",
    "    (df1.w_region == df2.w_region)\n",
    "    & (\n",
    "        (df1.w_seed == 1) & (df2.w_seed.isin([8,9]))\n",
    "        | (df1.w_seed == 16) & (df2.w_seed.isin([8,9]))\n",
    "        | (df1.w_seed == 4) & (df2.w_seed.isin([5,12]))\n",
    "        | (df1.w_seed == 13) & (df2.w_seed.isin([5,12]))\n",
    "        | (df1.w_seed == 3) & (df2.w_seed.isin([6,11]))\n",
    "        | (df1.w_seed == 14) & (df2.w_seed.isin([6,11]))\n",
    "        | (df1.w_seed == 2) & (df2.w_seed.isin([7,10]))\n",
    "        | (df1.w_seed == 15) & (df2.w_seed.isin([7,10]))\n",
    "    ),\n",
    "    \"inner\",\n",
    ").select(\n",
    "    (df1.W_TEAM_NAME).alias(\"W_team_name\"),\n",
    "    (df1.W_REGION).alias(\"w_region\"),\n",
    "    (df1.W_TEAM_ID).alias(\"WTeamID2\"),\n",
    "    (df1.W_SEED).alias(\"w_seed\"),\n",
    "    (df2.W_TEAM_NAME).alias(\"l_Team_name\"),\n",
    "    (df2.W_REGION).alias(\"l_region\"),\n",
    "    (df2.W_TEAM_ID).alias(\"lteamID2\"),\n",
    "    (df2.W_SEED).alias(\"l_seed\"),\n",
    ")\n",
    "\n",
    "second_round_matchups.select(\n",
    "    F.col(\"W_TEAM_NAME\").alias(\"TEAM_1\"),\n",
    "    F.col(\"L_TEAM_NAME\").alias(\"TEAM_2\"),\n",
    "    F.col(\"W_SEED\").alias(\"SEED_1\"),\n",
    "    F.col(\"L_SEED\").alias(\"SEED_2\"),\n",
    "    F.col(\"W_REGION\").alias(\"REGION\"),\n",
    ").sort(\"REGION\").show(20)"
   ]
  },
  {
   "cell_type": "code",
   "execution_count": 28,
   "metadata": {},
   "outputs": [
    {
     "data": {
      "text/plain": [
       "16"
      ]
     },
     "execution_count": 28,
     "metadata": {},
     "output_type": "execute_result"
    }
   ],
   "source": [
    "second_round = second_round_matchups.select(\"WTEAMID2\", \"LTEAMID2\", \"W_SEED\", \"L_SEED\")\n",
    "\n",
    "season = session.table(\"MEN.FINAL_SEASON_STATS\").filter(F.col(\"SEASON\") == 2024)\n",
    "\n",
    "season_w = season.select(*[F.col(col).alias(f\"W_{col}\") for col in season.columns])\n",
    "\n",
    "season_l = season.select(*[F.col(col).alias(f\"L_{col}\") for col in season.columns])\n",
    "\n",
    "df1 = second_round.join(season_w, season_w.w_teamid == second_round.wTEAMID2)\n",
    "\n",
    "df2 = df1.join(season_l, season_l.l_teamid == second_round.lTEAMID2)\n",
    "\n",
    "games_32 = df2.drop(\"WTEAMID2\", \"lTEAMID2\")\n",
    "\n",
    "games_32.count()"
   ]
  },
  {
   "cell_type": "code",
   "execution_count": 29,
   "metadata": {},
   "outputs": [],
   "source": [
    "result = all_rounds.predict(games_32)\n",
    "\n",
    "teams = session.table(\"m_teams\")\n",
    "\n",
    "result = (\n",
    "    result.select(\n",
    "        \"l_teamID\",\n",
    "        \"l_seed\",\n",
    "        \"w_seed\",\n",
    "        \"l_region\",\n",
    "        \"w_teamid\",\n",
    "        \"w_region\",\n",
    "        \"pred_win_indicator\",\n",
    "    )\n",
    ")\n",
    "\n",
    "res_teamsl = (\n",
    "    result.join(teams, result.col(\"L_TEAMID\") == teams.col(\"TEAMID\"))\n",
    "    .with_column_renamed(\"teamname\", \"l_team_name\")\n",
    "    .drop(\"firstd1season\", \"lastd1season\")\n",
    ")\n",
    "res_teamsl = res_teamsl.cache_result()\n",
    "\n",
    "round_2_results = (\n",
    "    res_teamsl.join(teams, result.col(\"W_TEAMID\") == teams.col(\"TEAMID\"))\n",
    "    .with_column_renamed(\"teamname\", \"w_team_name\")\n",
    "    .select(\n",
    "        \"l_teamid\",\n",
    "        \"w_teamid\",\n",
    "        \"L_TEAM_NAME\",\n",
    "        \"l_seed\",\n",
    "        \"w_seed\",\n",
    "        \"l_region\",\n",
    "        \"W_TEAM_NAME\",\n",
    "        \"w_region\",\n",
    "        \"PRED_WIN_INDICATOR\",\n",
    "    )\n",
    ")"
   ]
  },
  {
   "cell_type": "code",
   "execution_count": 30,
   "metadata": {},
   "outputs": [],
   "source": [
    "round_2_winners = round_2_results.with_column(\n",
    "    \"W_TEAM_ID\",\n",
    "    when((round_2_results.PRED_WIN_INDICATOR == 1), round_2_results.w_teamid)\n",
    "    .otherwise(round_2_results.l_teamID),\n",
    ").with_column(\n",
    "    \"W_TEAM_NAME\",\n",
    "    when((round_2_results.PRED_WIN_INDICATOR == 1), round_2_results.w_team_name)\n",
    "    .otherwise(round_2_results.l_team_name),\n",
    ").with_column(\n",
    "    \"W_SEED\",\n",
    "    when((round_2_results.PRED_WIN_INDICATOR == 1), round_2_results.w_seed)\n",
    "    .otherwise(round_2_results.l_seed),\n",
    ").with_column(\n",
    "    \"W_REGION\",\n",
    "    when((round_2_results.PRED_WIN_INDICATOR == 1), round_2_results.w_region)\n",
    "    .otherwise(round_2_results.l_region)\n",
    ").select(\"W_TEAM_ID\",\"W_TEAM_NAME\",\"W_SEED\",\"W_REGION\")"
   ]
  },
  {
   "cell_type": "markdown",
   "metadata": {},
   "source": [
    "# SWEET SIXTEEN"
   ]
  },
  {
   "cell_type": "code",
   "execution_count": 31,
   "metadata": {},
   "outputs": [
    {
     "name": "stdout",
     "output_type": "stream",
     "text": [
      "--------------------------------------------------------\n",
      "|\"W_TEAM_ID\"  |\"W_TEAM_NAME\"   |\"W_SEED\"  |\"W_REGION\"  |\n",
      "--------------------------------------------------------\n",
      "|1163         |Connecticut     |1         |W           |\n",
      "|1235         |Iowa St         |2         |W           |\n",
      "|1228         |Illinois        |3         |W           |\n",
      "|1120         |Auburn          |4         |W           |\n",
      "|1277         |Michigan St     |9         |X           |\n",
      "|1104         |Alabama         |4         |X           |\n",
      "|1112         |Arizona         |2         |X           |\n",
      "|1124         |Baylor          |3         |X           |\n",
      "|1376         |South Carolina  |6         |Y           |\n",
      "|1270         |McNeese St      |12        |Y           |\n",
      "|1345         |Purdue          |1         |Y           |\n",
      "|1400         |Texas           |7         |Y           |\n",
      "|1458         |Wisconsin       |5         |Z           |\n",
      "|1266         |Marquette       |2         |Z           |\n",
      "|1222         |Houston         |1         |Z           |\n",
      "|1246         |Kentucky        |3         |Z           |\n",
      "--------------------------------------------------------\n",
      "\n"
     ]
    }
   ],
   "source": [
    "round_2_winners.sort('W_REGION').show(20)"
   ]
  },
  {
   "cell_type": "code",
   "execution_count": 32,
   "metadata": {},
   "outputs": [
    {
     "name": "stdout",
     "output_type": "stream",
     "text": [
      "------------------------------------------------------------------------------------------------------------\n",
      "|\"W_TEAM_NAME\"   |\"W_REGION\"  |\"WTEAMID2\"  |\"W_SEED\"  |\"L_TEAM_NAME\"  |\"L_REGION\"  |\"LTEAMID2\"  |\"L_SEED\"  |\n",
      "------------------------------------------------------------------------------------------------------------\n",
      "|Illinois        |W           |1228        |3         |Iowa St        |W           |1235        |2         |\n",
      "|Connecticut     |W           |1163        |1         |Auburn         |W           |1120        |4         |\n",
      "|Michigan St     |X           |1277        |9         |Alabama        |X           |1104        |4         |\n",
      "|Baylor          |X           |1124        |3         |Arizona        |X           |1112        |2         |\n",
      "|Purdue          |Y           |1345        |1         |McNeese St     |Y           |1270        |12        |\n",
      "|South Carolina  |Y           |1376        |6         |Texas          |Y           |1400        |7         |\n",
      "|Houston         |Z           |1222        |1         |Wisconsin      |Z           |1458        |5         |\n",
      "|Kentucky        |Z           |1246        |3         |Marquette      |Z           |1266        |2         |\n",
      "------------------------------------------------------------------------------------------------------------\n",
      "\n"
     ]
    }
   ],
   "source": [
    "df1 = round_2_winners.cache_result()\n",
    "df2 = round_2_winners.cache_result()\n",
    "\n",
    "third_round_matchups = df1.join(\n",
    "    df2,\n",
    "    (df1.w_region == df2.w_region)\n",
    "    & (\n",
    "        (df1.w_seed == 1) & (df2.w_seed.isin([5, 12, 4, 13])) |\n",
    "        (df1.w_seed == 16) & (df2.w_seed.isin([5, 12, 4, 13])) |\n",
    "        (df1.w_seed == 8) & (df2.w_seed.isin([5, 12, 4, 13])) |\n",
    "        (df1.w_seed == 9) & (df2.w_seed.isin([5, 12, 4, 13])) |\n",
    "        (df1.w_seed == 6) & (df2.w_seed.isin([7,10,2,15])) |\n",
    "        (df1.w_seed == 11) & (df2.w_seed.isin([7,10,2,15])) |\n",
    "        (df1.w_seed == 3) & (df2.w_seed.isin([7,10,2,15]))|\n",
    "        (df1.w_seed == 14) & (df2.w_seed.isin([7,10,2,15]))\n",
    "    ),\n",
    "    \"inner\",\n",
    ").select(\n",
    "    (df1.W_TEAM_NAME).alias(\"W_team_name\"),\n",
    "    (df1.W_REGION).alias(\"w_region\"),\n",
    "    (df1.W_TEAM_ID).alias(\"WTeamID2\"),\n",
    "    (df1.W_SEED).alias(\"w_seed\"),\n",
    "    (df2.W_TEAM_NAME).alias(\"l_Team_name\"),\n",
    "    (df2.W_REGION).alias(\"l_region\"),\n",
    "    (df2.W_TEAM_ID).alias(\"lteamID2\"),\n",
    "    (df2.W_SEED).alias(\"l_seed\"),\n",
    ")\n",
    "\n",
    "third_round_matchups.sort(\"W_REGION\").show(20)"
   ]
  },
  {
   "cell_type": "code",
   "execution_count": 33,
   "metadata": {},
   "outputs": [
    {
     "data": {
      "text/plain": [
       "8"
      ]
     },
     "execution_count": 33,
     "metadata": {},
     "output_type": "execute_result"
    }
   ],
   "source": [
    "third_round = third_round_matchups.select('WTEAMID2','LTEAMID2','W_SEED','L_SEED')\n",
    "\n",
    "season = session.table(\"MEN.FINAL_SEASON_STATS\").filter(F.col('SEASON') == 2024)\n",
    "\n",
    "season_w = season.select(*[F.col(col).alias(f\"W_{col}\") for col in season.columns])\n",
    "\n",
    "season_l = season.select(*[F.col(col).alias(f\"L_{col}\") for col in season.columns])\n",
    "\n",
    "df1 = third_round.join(season_w, season_w.w_teamid == third_round.wTEAMID2)\n",
    "\n",
    "df2 = df1.join(season_l, season_l.l_teamid == third_round.lTEAMID2)\n",
    "\n",
    "games_16 = df2.drop('WTEAMID2','lTEAMID2')\n",
    "\n",
    "games_16.count()"
   ]
  },
  {
   "cell_type": "code",
   "execution_count": 34,
   "metadata": {},
   "outputs": [],
   "source": [
    "result = all_rounds.predict(games_16)\n",
    "\n",
    "teams = session.table(\"m_teams\")\n",
    "\n",
    "result = (\n",
    "    result.select(\n",
    "        \"l_teamID\",\n",
    "        \"l_seed\",\n",
    "        \"w_seed\",\n",
    "        \"l_region\",\n",
    "        \"w_teamid\",\n",
    "        \"w_region\",\n",
    "        \"pred_win_indicator\",\n",
    "    )\n",
    ")\n",
    "\n",
    "res_teamsl = (\n",
    "    result.join(teams, result.col(\"L_TEAMID\") == teams.col(\"TEAMID\"))\n",
    "    .with_column_renamed(\"teamname\", \"l_team_name\")\n",
    "    .drop(\"firstd1season\", \"lastd1season\")\n",
    ")\n",
    "res_teamsl = res_teamsl.cache_result()\n",
    "\n",
    "sweet_16_results = (\n",
    "    res_teamsl.join(teams, result.col(\"W_TEAMID\") == teams.col(\"TEAMID\"))\n",
    "    .with_column_renamed(\"teamname\", \"w_team_name\")\n",
    "    .select(\n",
    "        \"l_teamid\",\n",
    "        \"w_teamid\",\n",
    "        \"L_TEAM_NAME\",\n",
    "        \"l_seed\",\n",
    "        \"w_seed\",\n",
    "        \"l_region\",\n",
    "        \"W_TEAM_NAME\",\n",
    "        \"w_region\",\n",
    "        \"PRED_WIN_INDICATOR\",\n",
    "    )\n",
    ")"
   ]
  },
  {
   "cell_type": "code",
   "execution_count": 35,
   "metadata": {},
   "outputs": [],
   "source": [
    "sweet_16_winners = sweet_16_results.with_column(\n",
    "    \"W_TEAM_ID\",\n",
    "    when((sweet_16_results.PRED_WIN_INDICATOR == 1), sweet_16_results.w_teamid)\n",
    "    .otherwise(sweet_16_results.l_teamID),\n",
    ").with_column(\n",
    "    \"W_TEAM_NAME\",\n",
    "    when((sweet_16_results.PRED_WIN_INDICATOR == 1), sweet_16_results.w_team_name)\n",
    "    .otherwise(sweet_16_results.l_team_name),\n",
    ").with_column(\n",
    "    \"W_SEED\",\n",
    "    when((sweet_16_results.PRED_WIN_INDICATOR == 1), sweet_16_results.w_seed)\n",
    "    .otherwise(sweet_16_results.l_seed),\n",
    ").with_column(\n",
    "    \"W_REGION\",\n",
    "    when((sweet_16_results.PRED_WIN_INDICATOR == 1), sweet_16_results.w_region)\n",
    "    .otherwise(sweet_16_results.l_region)\n",
    ").select(\"W_TEAM_ID\",\"W_TEAM_NAME\",\"W_SEED\",\"W_REGION\")"
   ]
  },
  {
   "cell_type": "markdown",
   "metadata": {},
   "source": [
    "## ELITE 8"
   ]
  },
  {
   "cell_type": "code",
   "execution_count": 36,
   "metadata": {},
   "outputs": [
    {
     "name": "stdout",
     "output_type": "stream",
     "text": [
      "--------------------------------------------------------\n",
      "|\"W_TEAM_ID\"  |\"W_TEAM_NAME\"   |\"W_SEED\"  |\"W_REGION\"  |\n",
      "--------------------------------------------------------\n",
      "|1163         |Connecticut     |1         |W           |\n",
      "|1235         |Iowa St         |2         |W           |\n",
      "|1112         |Arizona         |2         |X           |\n",
      "|1104         |Alabama         |4         |X           |\n",
      "|1345         |Purdue          |1         |Y           |\n",
      "|1376         |South Carolina  |6         |Y           |\n",
      "|1222         |Houston         |1         |Z           |\n",
      "|1246         |Kentucky        |3         |Z           |\n",
      "--------------------------------------------------------\n",
      "\n"
     ]
    }
   ],
   "source": [
    "sweet_16_winners.sort('W_REGION').show(20)"
   ]
  },
  {
   "cell_type": "code",
   "execution_count": 37,
   "metadata": {},
   "outputs": [],
   "source": [
    "df1 = sweet_16_winners.cache_result()\n",
    "df2 = sweet_16_winners.cache_result()\n",
    "\n",
    "elite_8_matchups = df1.join(\n",
    "    df2,\n",
    "    (df1.w_region == df2.w_region)\n",
    "    & (\n",
    "        (df1.w_seed == 1) & (df2.w_seed.isin([6,11,3,14,7,10,2,15])) |\n",
    "        (df1.w_seed == 16) & (df2.w_seed.isin([6,11,3,14,7,10,2,15])) |\n",
    "        (df1.w_seed == 8) & (df2.w_seed.isin([6,11,3,14,7,10,2,15])) |\n",
    "        (df1.w_seed == 9) & (df2.w_seed.isin([6,11,3,14,7,10,2,15])) |\n",
    "        (df1.w_seed == 5) & (df2.w_seed.isin([6,11,3,14,7,10,2,15])) |\n",
    "        (df1.w_seed == 12) & (df2.w_seed.isin([6,11,3,14,7,10,2,15])) |\n",
    "        (df1.w_seed == 4) & (df2.w_seed.isin([6,11,3,14,7,10,2,15])) |\n",
    "        (df1.w_seed == 13) & (df2.w_seed.isin([6,11,3,14,7,10,2,15])) \n",
    "    ),\n",
    "    \"inner\",\n",
    ").select(\n",
    "    (df1.W_TEAM_NAME).alias(\"W_team_name\"),\n",
    "    (df1.W_REGION).alias(\"w_region\"),\n",
    "    (df1.W_TEAM_ID).alias(\"WTeamID2\"),\n",
    "    (df1.W_SEED).alias(\"w_seed\"),\n",
    "    (df2.W_TEAM_NAME).alias(\"l_Team_name\"),\n",
    "    (df2.W_REGION).alias(\"l_region\"),\n",
    "    (df2.W_TEAM_ID).alias(\"lteamID2\"),\n",
    "    (df2.W_SEED).alias(\"l_seed\"),\n",
    ")"
   ]
  },
  {
   "cell_type": "markdown",
   "metadata": {},
   "source": [
    "# ELITE 8"
   ]
  },
  {
   "cell_type": "code",
   "execution_count": 38,
   "metadata": {},
   "outputs": [
    {
     "name": "stdout",
     "output_type": "stream",
     "text": [
      "-----------------------------------------------------------------\n",
      "|\"TEAM_1\"     |\"TEAM_2\"        |\"SEED_1\"  |\"SEED_2\"  |\"REGION\"  |\n",
      "-----------------------------------------------------------------\n",
      "|Connecticut  |Iowa St         |1         |2         |W         |\n",
      "|Alabama      |Arizona         |4         |2         |X         |\n",
      "|Purdue       |South Carolina  |1         |6         |Y         |\n",
      "|Houston      |Kentucky        |1         |3         |Z         |\n",
      "-----------------------------------------------------------------\n",
      "\n"
     ]
    }
   ],
   "source": [
    "elite_8_matchups.select(\n",
    "    F.col(\"W_TEAM_NAME\").alias(\"TEAM_1\"),\n",
    "    F.col(\"L_TEAM_NAME\").alias(\"TEAM_2\"),\n",
    "    F.col(\"W_SEED\").alias(\"SEED_1\"),\n",
    "    F.col(\"L_SEED\").alias(\"SEED_2\"),\n",
    "    F.col(\"W_REGION\").alias(\"REGION\"),\n",
    ").sort(\"REGION\").show(20)"
   ]
  },
  {
   "cell_type": "code",
   "execution_count": 39,
   "metadata": {},
   "outputs": [],
   "source": [
    "elite_8 = elite_8_matchups.select('WTEAMID2','LTEAMID2','W_SEED','L_SEED')\n",
    "\n",
    "season = session.table(\"MEN.FINAL_SEASON_STATS\").filter(F.col('SEASON') == 2024)\n",
    "\n",
    "season_w = season.select(*[F.col(col).alias(f\"W_{col}\") for col in season.columns])\n",
    "\n",
    "season_l = season.select(*[F.col(col).alias(f\"L_{col}\") for col in season.columns])\n",
    "\n",
    "df1 = elite_8.join(season_w, season_w.w_teamid == elite_8.wTEAMID2)\n",
    "\n",
    "df2 = df1.join(season_l, season_l.l_teamid == elite_8.lTEAMID2)\n",
    "\n",
    "elite_8 = df2.drop('WTEAMID2','lTEAMID2')"
   ]
  },
  {
   "cell_type": "code",
   "execution_count": 40,
   "metadata": {},
   "outputs": [],
   "source": [
    "result = all_rounds.predict(elite_8)\n",
    "\n",
    "teams = session.table(\"m_teams\")\n",
    "\n",
    "result = (\n",
    "    result.select(\n",
    "        \"l_teamID\",\n",
    "        \"l_seed\",\n",
    "        \"w_seed\",\n",
    "        \"l_region\",\n",
    "        \"w_teamid\",\n",
    "        \"w_region\",\n",
    "        \"pred_win_indicator\",\n",
    "    )\n",
    ")\n",
    "\n",
    "res_teamsl = (\n",
    "    result.join(teams, result.col(\"L_TEAMID\") == teams.col(\"TEAMID\"))\n",
    "    .with_column_renamed(\"teamname\", \"l_team_name\")\n",
    "    .drop(\"firstd1season\", \"lastd1season\")\n",
    ")\n",
    "res_teamsl = res_teamsl.cache_result()\n",
    "\n",
    "elite_8_results = (\n",
    "    res_teamsl.join(teams, result.col(\"W_TEAMID\") == teams.col(\"TEAMID\"))\n",
    "    .with_column_renamed(\"teamname\", \"w_team_name\")\n",
    "    .select(\n",
    "        \"l_teamid\",\n",
    "        \"w_teamid\",\n",
    "        \"L_TEAM_NAME\",\n",
    "        \"l_seed\",\n",
    "        \"w_seed\",\n",
    "        \"l_region\",\n",
    "        \"W_TEAM_NAME\",\n",
    "        \"w_region\",\n",
    "        \"PRED_WIN_INDICATOR\",\n",
    "    )\n",
    ")"
   ]
  },
  {
   "cell_type": "code",
   "execution_count": 41,
   "metadata": {},
   "outputs": [],
   "source": [
    "elite_8_winners = elite_8_results.with_column(\n",
    "    \"W_TEAM_ID\",\n",
    "    when((elite_8_results.PRED_WIN_INDICATOR == 1), elite_8_results.w_teamid)\n",
    "    .otherwise(elite_8_results.l_teamID),\n",
    ").with_column(\n",
    "    \"W_TEAM_NAME\",\n",
    "    when((elite_8_results.PRED_WIN_INDICATOR == 1), elite_8_results.w_team_name)\n",
    "    .otherwise(elite_8_results.l_team_name),\n",
    ").with_column(\n",
    "    \"W_SEED\",\n",
    "    when((elite_8_results.PRED_WIN_INDICATOR == 1), elite_8_results.w_seed)\n",
    "    .otherwise(elite_8_results.l_seed),\n",
    ").with_column(\n",
    "    \"W_REGION\",\n",
    "    when((elite_8_results.PRED_WIN_INDICATOR == 1), elite_8_results.w_region)\n",
    "    .otherwise(elite_8_results.l_region)\n",
    ").select(\"W_TEAM_ID\",\"W_TEAM_NAME\",\"W_SEED\",\"W_REGION\")"
   ]
  },
  {
   "cell_type": "code",
   "execution_count": 42,
   "metadata": {},
   "outputs": [],
   "source": [
    "df1 = elite_8_winners.filter(F.col(\"W_REGION\") == \"W\")\n",
    "\n",
    "df2 = elite_8_winners.filter(F.col(\"W_REGION\") == \"X\").select(\n",
    "    F.col(\"W_TEAM_ID\").alias(\"TEAM_2\"),\n",
    "    F.col(\"W_TEAM_NAME\").alias(\"W_TEAM_NAME_2\"),\n",
    "    F.col(\"W_SEED\").alias(\"SEED_2\"),\n",
    "    F.col(\"W_REGION\").alias(\"REGION_2\"),\n",
    ")\n",
    "\n",
    "df3 = df1.join(df2)\n",
    "\n",
    "df4 = elite_8_winners.filter(F.col(\"W_REGION\") == \"Y\")\n",
    "\n",
    "df5 = elite_8_winners.filter(F.col(\"W_REGION\") == \"Z\").select(\n",
    "    F.col(\"W_TEAM_ID\").alias(\"TEAM_2\"),\n",
    "    F.col(\"W_TEAM_NAME\").alias(\"W_TEAM_NAME_2\"),\n",
    "    F.col(\"W_SEED\").alias(\"SEED_2\"),\n",
    "    F.col(\"W_REGION\").alias(\"REGION_2\"),\n",
    ")\n",
    "\n",
    "df6 = df4.join(df5)\n",
    "\n",
    "final_four_matchups = df3.union(df6).select(\n",
    "    F.col('W_TEAM_NAME'),\n",
    "    F.col('W_REGION'),\n",
    "    F.col(\"W_TEAM_ID\").alias(\"WTEAMID2\"),\n",
    "    F.col('W_SEED'),\n",
    "    F.col(\"W_TEAM_NAME_2\").alias(\"L_TEAM_NAME\"),\n",
    "    F.col(\"REGION_2\").alias(\"L_REGION\"),\n",
    "    F.col(\"TEAM_2\").alias(\"LTEAMID2\"),\n",
    "    F.col(\"SEED_2\").alias(\"L_SEED\"),\n",
    ")"
   ]
  },
  {
   "cell_type": "markdown",
   "metadata": {},
   "source": [
    "# FINAL FOUR"
   ]
  },
  {
   "cell_type": "code",
   "execution_count": 43,
   "metadata": {},
   "outputs": [
    {
     "name": "stdout",
     "output_type": "stream",
     "text": [
      "--------------------------------------------------------------\n",
      "|\"TEAM_1\"        |\"TEAM_2\"  |\"SEED_1\"  |\"SEED_2\"  |\"REGION\"  |\n",
      "--------------------------------------------------------------\n",
      "|Connecticut     |Arizona   |1         |2         |W         |\n",
      "|South Carolina  |Kentucky  |6         |3         |Y         |\n",
      "--------------------------------------------------------------\n",
      "\n"
     ]
    }
   ],
   "source": [
    "final_four_matchups.select(\n",
    "    F.col(\"W_TEAM_NAME\").alias(\"TEAM_1\"),\n",
    "    F.col(\"L_TEAM_NAME\").alias(\"TEAM_2\"),\n",
    "    F.col(\"W_SEED\").alias(\"SEED_1\"),\n",
    "    F.col(\"L_SEED\").alias(\"SEED_2\"),\n",
    "    F.col(\"W_REGION\").alias(\"REGION\"),\n",
    ").sort(\"REGION\").show()"
   ]
  },
  {
   "cell_type": "code",
   "execution_count": 44,
   "metadata": {},
   "outputs": [
    {
     "data": {
      "text/plain": [
       "2"
      ]
     },
     "execution_count": 44,
     "metadata": {},
     "output_type": "execute_result"
    }
   ],
   "source": [
    "final_four = final_four_matchups.select('WTEAMID2','LTEAMID2','W_SEED','L_SEED')\n",
    "\n",
    "season = session.table(\"MEN.FINAL_SEASON_STATS\").filter(F.col('SEASON') == 2024)\n",
    "\n",
    "season_w = season.select(*[F.col(col).alias(f\"W_{col}\") for col in season.columns])\n",
    "\n",
    "season_l = season.select(*[F.col(col).alias(f\"L_{col}\") for col in season.columns])\n",
    "\n",
    "df1 = final_four.join(season_w, season_w.w_teamid == final_four.wTEAMID2)\n",
    "\n",
    "df2 = df1.join(season_l, season_l.l_teamid == final_four.lTEAMID2)\n",
    "\n",
    "final_four = df2.drop('WTEAMID2','lTEAMID2')\n",
    "\n",
    "final_four.count()"
   ]
  },
  {
   "cell_type": "code",
   "execution_count": 45,
   "metadata": {},
   "outputs": [],
   "source": [
    "result = all_rounds.predict(final_four)\n",
    "\n",
    "teams = session.table(\"m_teams\")\n",
    "\n",
    "\n",
    "result = (\n",
    "    result.select(\n",
    "        \"l_teamID\",\n",
    "        \"l_seed\",\n",
    "        \"w_seed\",\n",
    "        \"l_region\",\n",
    "        \"w_teamid\",\n",
    "        \"w_region\",\n",
    "        \"pred_win_indicator\",\n",
    "    )\n",
    ")\n",
    "\n",
    "res_teamsl = (\n",
    "    result.join(teams, result.col(\"L_TEAMID\") == teams.col(\"TEAMID\"))\n",
    "    .with_column_renamed(\"teamname\", \"l_team_name\")\n",
    "    .drop(\"firstd1season\", \"lastd1season\")\n",
    ")\n",
    "res_teamsl = res_teamsl.cache_result()\n",
    "\n",
    "final_four_results = (\n",
    "    res_teamsl.join(teams, result.col(\"W_TEAMID\") == teams.col(\"TEAMID\"))\n",
    "    .with_column_renamed(\"teamname\", \"w_team_name\")\n",
    "    .select(\n",
    "        \"l_teamid\",\n",
    "        \"w_teamid\",\n",
    "        \"L_TEAM_NAME\",\n",
    "        \"l_seed\",\n",
    "        \"w_seed\",\n",
    "        \"l_region\",\n",
    "        \"W_TEAM_NAME\",\n",
    "        \"w_region\",\n",
    "        \"PRED_WIN_INDICATOR\",\n",
    "    )\n",
    ")"
   ]
  },
  {
   "cell_type": "code",
   "execution_count": 46,
   "metadata": {},
   "outputs": [],
   "source": [
    "final_four_winners = final_four_results.with_column(\n",
    "    \"W_TEAM_ID\",\n",
    "    when((final_four_results.PRED_WIN_INDICATOR == 1), final_four_results.w_teamid)\n",
    "    .otherwise(final_four_results.l_teamID),\n",
    ").with_column(\n",
    "    \"W_TEAM_NAME\",\n",
    "    when((final_four_results.PRED_WIN_INDICATOR == 1), final_four_results.w_team_name)\n",
    "    .otherwise(final_four_results.l_team_name),\n",
    ").with_column(\n",
    "    \"W_SEED\",\n",
    "    when((final_four_results.PRED_WIN_INDICATOR == 1), final_four_results.w_seed)\n",
    "    .otherwise(final_four_results.l_seed),\n",
    ").with_column(\n",
    "    \"W_REGION\",\n",
    "    when((final_four_results.PRED_WIN_INDICATOR == 1), final_four_results.w_region)\n",
    "    .otherwise(final_four_results.l_region)\n",
    ").select(\"W_TEAM_ID\",\"W_TEAM_NAME\",\"W_SEED\",\"W_REGION\")"
   ]
  },
  {
   "cell_type": "code",
   "execution_count": 47,
   "metadata": {},
   "outputs": [],
   "source": [
    "df1 = final_four_winners.cache_result()\n",
    "df2 = final_four_winners.cache_result()\n",
    "\n",
    "championship_matchup = df1.join(df2).select(\n",
    "    df1.w_team_name.alias('W_TEAM_NAME'),\n",
    "    df1.w_region.alias('W_REGION'),\n",
    "    df1.w_team_id.alias('WTEAMID2'),\n",
    "    df1.w_seed.alias('W_SEED'),\n",
    "    df2.w_team_name.alias('L_TEAM_NAME'),\n",
    "    df2.w_region.alias('L_REGION'),\n",
    "    df2.w_team_id.alias('LTEAMID2'),\n",
    "    df2.w_seed.alias('L_SEED'),\n",
    ").filter(F.col(\"WTEAMID2\") != F.col(\"LTEAMID2\")).limit(1)"
   ]
  },
  {
   "cell_type": "markdown",
   "metadata": {},
   "source": [
    "# CHAMPIONSHIP"
   ]
  },
  {
   "cell_type": "code",
   "execution_count": 48,
   "metadata": {},
   "outputs": [
    {
     "name": "stdout",
     "output_type": "stream",
     "text": [
      "-----------------------------------------------------------\n",
      "|\"TEAM_1\"  |\"TEAM_2\"     |\"SEED_1\"  |\"SEED_2\"  |\"REGION\"  |\n",
      "-----------------------------------------------------------\n",
      "|Kentucky  |Connecticut  |3         |1         |Z         |\n",
      "-----------------------------------------------------------\n",
      "\n"
     ]
    }
   ],
   "source": [
    "championship_matchup.select(\n",
    "    F.col(\"W_TEAM_NAME\").alias(\"TEAM_1\"),\n",
    "    F.col(\"L_TEAM_NAME\").alias(\"TEAM_2\"),\n",
    "    F.col(\"W_SEED\").alias(\"SEED_1\"),\n",
    "    F.col(\"L_SEED\").alias(\"SEED_2\"),\n",
    "    F.col(\"W_REGION\").alias(\"REGION\"),\n",
    ").sort(\"REGION\").show(20)"
   ]
  },
  {
   "cell_type": "code",
   "execution_count": 49,
   "metadata": {},
   "outputs": [
    {
     "data": {
      "text/plain": [
       "1"
      ]
     },
     "execution_count": 49,
     "metadata": {},
     "output_type": "execute_result"
    }
   ],
   "source": [
    "championship = championship_matchup.select('WTEAMID2','LTEAMID2','W_SEED','L_SEED')\n",
    "\n",
    "season = session.table(\"MEN.FINAL_SEASON_STATS\").filter(F.col('SEASON') == 2024)\n",
    "\n",
    "season_w = season.select(*[F.col(col).alias(f\"W_{col}\") for col in season.columns])\n",
    "\n",
    "season_l = season.select(*[F.col(col).alias(f\"L_{col}\") for col in season.columns])\n",
    "\n",
    "df1 = championship.join(season_w, season_w.w_teamid == championship.wTEAMID2)\n",
    "\n",
    "df2 = df1.join(season_l, season_l.l_teamid == championship.lTEAMID2)\n",
    "\n",
    "championship = df2.drop('WTEAMID2','lTEAMID2')\n",
    "\n",
    "championship.count()"
   ]
  },
  {
   "cell_type": "code",
   "execution_count": 50,
   "metadata": {},
   "outputs": [],
   "source": [
    "result = all_rounds.predict(championship)\n",
    "\n",
    "teams = session.table(\"m_teams\")\n",
    "\n",
    "result = (\n",
    "    result.select(\n",
    "        \"l_teamID\",\n",
    "        \"l_seed\",\n",
    "        \"w_seed\",\n",
    "        \"l_region\",\n",
    "        \"w_teamid\",\n",
    "        \"w_region\",\n",
    "        \"pred_win_indicator\",\n",
    "    )\n",
    ")\n",
    "\n",
    "res_teamsl = (\n",
    "    result.join(teams, result.col(\"L_TEAMID\") == teams.col(\"TEAMID\"))\n",
    "    .with_column_renamed(\"teamname\", \"l_team_name\")\n",
    "    .drop(\"firstd1season\", \"lastd1season\")\n",
    ")\n",
    "res_teamsl = res_teamsl.cache_result()\n",
    "\n",
    "championship_results = (\n",
    "    res_teamsl.join(teams, result.col(\"W_TEAMID\") == teams.col(\"TEAMID\"))\n",
    "    .with_column_renamed(\"teamname\", \"w_team_name\")\n",
    "    .select(\n",
    "        \"l_teamid\",\n",
    "        \"w_teamid\",\n",
    "        \"L_TEAM_NAME\",\n",
    "        \"l_seed\",\n",
    "        \"w_seed\",\n",
    "        \"l_region\",\n",
    "        \"W_TEAM_NAME\",\n",
    "        \"w_region\",\n",
    "        \"PRED_WIN_INDICATOR\",\n",
    "    )\n",
    ")"
   ]
  },
  {
   "cell_type": "code",
   "execution_count": 52,
   "metadata": {},
   "outputs": [],
   "source": [
    "champion = championship_results.with_column(\n",
    "    \"W_TEAM_ID\",\n",
    "    when((championship_results.PRED_WIN_INDICATOR == 1), championship_results.w_teamid)\n",
    "    .otherwise(championship_results.l_teamID),\n",
    ").with_column(\n",
    "    \"W_TEAM_NAME\",\n",
    "    when((championship_results.PRED_WIN_INDICATOR == 1), championship_results.w_team_name)\n",
    "    .otherwise(championship_results.l_team_name),\n",
    ").with_column(\n",
    "    \"W_SEED\",\n",
    "    when((championship_results.PRED_WIN_INDICATOR == 1), championship_results.w_seed)\n",
    "    .otherwise(championship_results.l_seed),\n",
    ").with_column(\n",
    "    \"W_REGION\",\n",
    "    when((championship_results.PRED_WIN_INDICATOR == 1), championship_results.w_region)\n",
    "    .otherwise(championship_results.l_region)\n",
    ").select(\"W_TEAM_ID\",\"W_TEAM_NAME\",\"W_SEED\",\"W_REGION\")"
   ]
  },
  {
   "cell_type": "markdown",
   "metadata": {},
   "source": [
    "# CHAMPION"
   ]
  },
  {
   "cell_type": "code",
   "execution_count": 53,
   "metadata": {},
   "outputs": [
    {
     "name": "stdout",
     "output_type": "stream",
     "text": [
      "-------------------------------------------------------\n",
      "|\"W_TEAM_ID\"  |\"W_TEAM_NAME\"  |\"W_SEED\"  |\"W_REGION\"  |\n",
      "-------------------------------------------------------\n",
      "|1163         |Connecticut    |1         |W           |\n",
      "-------------------------------------------------------\n",
      "\n"
     ]
    }
   ],
   "source": [
    "champion.show()"
   ]
  },
  {
   "cell_type": "markdown",
   "metadata": {},
   "source": [
    "# Use Average and Median for predicting score"
   ]
  },
  {
   "cell_type": "code",
   "execution_count": 54,
   "metadata": {},
   "outputs": [
    {
     "name": "stdout",
     "output_type": "stream",
     "text": [
      "-------------------------------------------------------------------------\n",
      "|\"L_SCORE_MEDIAN\"  |\"W_SCORE_MEDIAN\"  |\"L_SCORE_MEAN\"  |\"W_SCORE_MEAN\"  |\n",
      "-------------------------------------------------------------------------\n",
      "|80.5              |90.0              |81.470588       |89.4375         |\n",
      "-------------------------------------------------------------------------\n",
      "\n"
     ]
    }
   ],
   "source": [
    "all_rounds.predict(championship).select(\n",
    "    \"L_SCORE_MEDIAN\", \"W_SCORE_MEDIAN\", \"L_SCORE_MEAN\", \"W_SCORE_MEAN\"\n",
    ").show()"
   ]
  }
 ],
 "metadata": {
  "kernelspec": {
   "display_name": "Python 3 (ipykernel)",
   "language": "python",
   "name": "python3"
  },
  "language_info": {
   "codemirror_mode": {
    "name": "ipython",
    "version": 3
   },
   "file_extension": ".py",
   "mimetype": "text/x-python",
   "name": "python",
   "nbconvert_exporter": "python",
   "pygments_lexer": "ipython3",
   "version": "3.10.13"
  }
 },
 "nbformat": 4,
 "nbformat_minor": 4
}
