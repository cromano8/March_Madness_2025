{
 "cells": [
  {
   "cell_type": "code",
   "execution_count": 52,
   "metadata": {},
   "outputs": [],
   "source": [
    "from ibis.interactive import *\n",
    "from snowflake.snowpark import Session, functions as F, types as T\n",
    "from snowflake.snowpark.functions import when, lit\n",
    "from snowflake.ml.modeling.preprocessing import OneHotEncoder\n",
    "\n",
    "import os\n",
    "\n",
    "con = ibis.snowflake.connect()"
   ]
  },
  {
   "cell_type": "code",
   "execution_count": 53,
   "metadata": {},
   "outputs": [],
   "source": [
    "def combine_stats(con, table_name: str, schema: str):\n",
    "    t = con.table(table_name, schema=schema)\n",
    "    t = t.mutate(W1COLUMN=_.WSCORE)\n",
    "    t = t.mutate(W2COLUMN=_.LSCORE)\n",
    "    winning = t.select(\"SEASON\", \"DAYNUM\", s.startswith(\"W\")).mutate(WON=1)\n",
    "    winning = winning.rename(\n",
    "        {\n",
    "            c[1:]: c\n",
    "            for c in winning.columns\n",
    "            if c.startswith(\"W\") and c not in [\"WON\", \"WLOC\", \"W1COLUMN\", \"W2COLUMN\"]\n",
    "        }\n",
    "    )\n",
    "\n",
    "    losing = t.select(\n",
    "        \"SEASON\", \"DAYNUM\", \"WLOC\", \"W1COLUMN\", \"W2COLUMN\", s.startswith(\"L\")\n",
    "    ).mutate(WON=0)\n",
    "    losing = losing.rename(\n",
    "        {\n",
    "            c[1:]: c\n",
    "            for c in losing.columns\n",
    "            if c.startswith(\"L\") and c not in [\"WON\", \"WLOC\"]\n",
    "        }\n",
    "    )\n",
    "    return winning.union(losing)\n",
    "\n",
    "\n",
    "def flatten_regions(con, table_name: str, schema: str):\n",
    "    flattened_regions = (\n",
    "        con.table(table_name, schema=schema)\n",
    "        .pivot_longer(s.startswith(\"Region\"))\n",
    "        .rename({\"Region\": \"name\", \"RegionName\": \"value\"})\n",
    "        .mutate(Region=_.Region.replace(\"Region\", \"\"))\n",
    "        .drop(\"DayZero\")\n",
    "    )\n",
    "    return flattened_regions"
   ]
  },
  {
   "cell_type": "code",
   "execution_count": 54,
   "metadata": {},
   "outputs": [],
   "source": [
    "m_reg = combine_stats(con, \"M_REGULAR_SEASON_DETAILED_RESULTS\", schema=\"MEN\")"
   ]
  },
  {
   "cell_type": "code",
   "execution_count": 55,
   "metadata": {},
   "outputs": [
    {
     "data": {
      "text/html": [
       "<pre style=\"white-space:pre;overflow-x:auto;line-height:normal;font-family:Menlo,'DejaVu Sans Mono',consolas,'Courier New',monospace\">┏━━━━━━━━┳━━━━━━━━┳━━━━━━━━┳━━━━━━━┳━━━━━━━━┳━━━━━━━┳━━━━━━━┳━━━━━━━┳━━━━━━━┳━━━━━━━┳━━━━━━━┳━━━━━━━┳━━━━━━━┳━━━━━━━┳━━━━━━━┳━━━━━━━┳━━━━━━━┳━━━━━━━┳━━━━━━━━━━┳━━━━━━━━━━┳━━━━━━┓\n",
       "┃<span style=\"font-weight: bold\"> SEASON </span>┃<span style=\"font-weight: bold\"> DAYNUM </span>┃<span style=\"font-weight: bold\"> TEAMID </span>┃<span style=\"font-weight: bold\"> SCORE </span>┃<span style=\"font-weight: bold\"> WLOC   </span>┃<span style=\"font-weight: bold\"> FGM   </span>┃<span style=\"font-weight: bold\"> FGA   </span>┃<span style=\"font-weight: bold\"> FGM3  </span>┃<span style=\"font-weight: bold\"> FGA3  </span>┃<span style=\"font-weight: bold\"> FTM   </span>┃<span style=\"font-weight: bold\"> FTA   </span>┃<span style=\"font-weight: bold\"> OR    </span>┃<span style=\"font-weight: bold\"> DR    </span>┃<span style=\"font-weight: bold\"> AST   </span>┃<span style=\"font-weight: bold\"> TO    </span>┃<span style=\"font-weight: bold\"> STL   </span>┃<span style=\"font-weight: bold\"> BLK   </span>┃<span style=\"font-weight: bold\"> PF    </span>┃<span style=\"font-weight: bold\"> W1COLUMN </span>┃<span style=\"font-weight: bold\"> W2COLUMN </span>┃<span style=\"font-weight: bold\"> WON  </span>┃\n",
       "┡━━━━━━━━╇━━━━━━━━╇━━━━━━━━╇━━━━━━━╇━━━━━━━━╇━━━━━━━╇━━━━━━━╇━━━━━━━╇━━━━━━━╇━━━━━━━╇━━━━━━━╇━━━━━━━╇━━━━━━━╇━━━━━━━╇━━━━━━━╇━━━━━━━╇━━━━━━━╇━━━━━━━╇━━━━━━━━━━╇━━━━━━━━━━╇━━━━━━┩\n",
       "│ <span style=\"color: #7f7f7f; text-decoration-color: #7f7f7f\">int64</span>  │ <span style=\"color: #7f7f7f; text-decoration-color: #7f7f7f\">int64</span>  │ <span style=\"color: #7f7f7f; text-decoration-color: #7f7f7f\">int64</span>  │ <span style=\"color: #7f7f7f; text-decoration-color: #7f7f7f\">int64</span> │ <span style=\"color: #7f7f7f; text-decoration-color: #7f7f7f\">string</span> │ <span style=\"color: #7f7f7f; text-decoration-color: #7f7f7f\">int64</span> │ <span style=\"color: #7f7f7f; text-decoration-color: #7f7f7f\">int64</span> │ <span style=\"color: #7f7f7f; text-decoration-color: #7f7f7f\">int64</span> │ <span style=\"color: #7f7f7f; text-decoration-color: #7f7f7f\">int64</span> │ <span style=\"color: #7f7f7f; text-decoration-color: #7f7f7f\">int64</span> │ <span style=\"color: #7f7f7f; text-decoration-color: #7f7f7f\">int64</span> │ <span style=\"color: #7f7f7f; text-decoration-color: #7f7f7f\">int64</span> │ <span style=\"color: #7f7f7f; text-decoration-color: #7f7f7f\">int64</span> │ <span style=\"color: #7f7f7f; text-decoration-color: #7f7f7f\">int64</span> │ <span style=\"color: #7f7f7f; text-decoration-color: #7f7f7f\">int64</span> │ <span style=\"color: #7f7f7f; text-decoration-color: #7f7f7f\">int64</span> │ <span style=\"color: #7f7f7f; text-decoration-color: #7f7f7f\">int64</span> │ <span style=\"color: #7f7f7f; text-decoration-color: #7f7f7f\">int64</span> │ <span style=\"color: #7f7f7f; text-decoration-color: #7f7f7f\">int64</span>    │ <span style=\"color: #7f7f7f; text-decoration-color: #7f7f7f\">int64</span>    │ <span style=\"color: #7f7f7f; text-decoration-color: #7f7f7f\">int8</span> │\n",
       "├────────┼────────┼────────┼───────┼────────┼───────┼───────┼───────┼───────┼───────┼───────┼───────┼───────┼───────┼───────┼───────┼───────┼───────┼──────────┼──────────┼──────┤\n",
       "│   <span style=\"color: #008080; text-decoration-color: #008080; font-weight: bold\">2003</span> │     <span style=\"color: #008080; text-decoration-color: #008080; font-weight: bold\">10</span> │   <span style=\"color: #008080; text-decoration-color: #008080; font-weight: bold\">1104</span> │    <span style=\"color: #008080; text-decoration-color: #008080; font-weight: bold\">68</span> │ <span style=\"color: #008000; text-decoration-color: #008000\">N     </span> │    <span style=\"color: #008080; text-decoration-color: #008080; font-weight: bold\">27</span> │    <span style=\"color: #008080; text-decoration-color: #008080; font-weight: bold\">58</span> │     <span style=\"color: #008080; text-decoration-color: #008080; font-weight: bold\">3</span> │    <span style=\"color: #008080; text-decoration-color: #008080; font-weight: bold\">14</span> │    <span style=\"color: #008080; text-decoration-color: #008080; font-weight: bold\">11</span> │    <span style=\"color: #008080; text-decoration-color: #008080; font-weight: bold\">18</span> │    <span style=\"color: #008080; text-decoration-color: #008080; font-weight: bold\">14</span> │    <span style=\"color: #008080; text-decoration-color: #008080; font-weight: bold\">24</span> │    <span style=\"color: #008080; text-decoration-color: #008080; font-weight: bold\">13</span> │    <span style=\"color: #008080; text-decoration-color: #008080; font-weight: bold\">23</span> │     <span style=\"color: #008080; text-decoration-color: #008080; font-weight: bold\">7</span> │     <span style=\"color: #008080; text-decoration-color: #008080; font-weight: bold\">1</span> │    <span style=\"color: #008080; text-decoration-color: #008080; font-weight: bold\">22</span> │       <span style=\"color: #008080; text-decoration-color: #008080; font-weight: bold\">68</span> │       <span style=\"color: #008080; text-decoration-color: #008080; font-weight: bold\">62</span> │    <span style=\"color: #008080; text-decoration-color: #008080; font-weight: bold\">1</span> │\n",
       "│   <span style=\"color: #008080; text-decoration-color: #008080; font-weight: bold\">2003</span> │     <span style=\"color: #008080; text-decoration-color: #008080; font-weight: bold\">10</span> │   <span style=\"color: #008080; text-decoration-color: #008080; font-weight: bold\">1272</span> │    <span style=\"color: #008080; text-decoration-color: #008080; font-weight: bold\">70</span> │ <span style=\"color: #008000; text-decoration-color: #008000\">N     </span> │    <span style=\"color: #008080; text-decoration-color: #008080; font-weight: bold\">26</span> │    <span style=\"color: #008080; text-decoration-color: #008080; font-weight: bold\">62</span> │     <span style=\"color: #008080; text-decoration-color: #008080; font-weight: bold\">8</span> │    <span style=\"color: #008080; text-decoration-color: #008080; font-weight: bold\">20</span> │    <span style=\"color: #008080; text-decoration-color: #008080; font-weight: bold\">10</span> │    <span style=\"color: #008080; text-decoration-color: #008080; font-weight: bold\">19</span> │    <span style=\"color: #008080; text-decoration-color: #008080; font-weight: bold\">15</span> │    <span style=\"color: #008080; text-decoration-color: #008080; font-weight: bold\">28</span> │    <span style=\"color: #008080; text-decoration-color: #008080; font-weight: bold\">16</span> │    <span style=\"color: #008080; text-decoration-color: #008080; font-weight: bold\">13</span> │     <span style=\"color: #008080; text-decoration-color: #008080; font-weight: bold\">4</span> │     <span style=\"color: #008080; text-decoration-color: #008080; font-weight: bold\">4</span> │    <span style=\"color: #008080; text-decoration-color: #008080; font-weight: bold\">18</span> │       <span style=\"color: #008080; text-decoration-color: #008080; font-weight: bold\">70</span> │       <span style=\"color: #008080; text-decoration-color: #008080; font-weight: bold\">63</span> │    <span style=\"color: #008080; text-decoration-color: #008080; font-weight: bold\">1</span> │\n",
       "│   <span style=\"color: #008080; text-decoration-color: #008080; font-weight: bold\">2003</span> │     <span style=\"color: #008080; text-decoration-color: #008080; font-weight: bold\">11</span> │   <span style=\"color: #008080; text-decoration-color: #008080; font-weight: bold\">1266</span> │    <span style=\"color: #008080; text-decoration-color: #008080; font-weight: bold\">73</span> │ <span style=\"color: #008000; text-decoration-color: #008000\">N     </span> │    <span style=\"color: #008080; text-decoration-color: #008080; font-weight: bold\">24</span> │    <span style=\"color: #008080; text-decoration-color: #008080; font-weight: bold\">58</span> │     <span style=\"color: #008080; text-decoration-color: #008080; font-weight: bold\">8</span> │    <span style=\"color: #008080; text-decoration-color: #008080; font-weight: bold\">18</span> │    <span style=\"color: #008080; text-decoration-color: #008080; font-weight: bold\">17</span> │    <span style=\"color: #008080; text-decoration-color: #008080; font-weight: bold\">29</span> │    <span style=\"color: #008080; text-decoration-color: #008080; font-weight: bold\">17</span> │    <span style=\"color: #008080; text-decoration-color: #008080; font-weight: bold\">26</span> │    <span style=\"color: #008080; text-decoration-color: #008080; font-weight: bold\">15</span> │    <span style=\"color: #008080; text-decoration-color: #008080; font-weight: bold\">10</span> │     <span style=\"color: #008080; text-decoration-color: #008080; font-weight: bold\">5</span> │     <span style=\"color: #008080; text-decoration-color: #008080; font-weight: bold\">2</span> │    <span style=\"color: #008080; text-decoration-color: #008080; font-weight: bold\">25</span> │       <span style=\"color: #008080; text-decoration-color: #008080; font-weight: bold\">73</span> │       <span style=\"color: #008080; text-decoration-color: #008080; font-weight: bold\">61</span> │    <span style=\"color: #008080; text-decoration-color: #008080; font-weight: bold\">1</span> │\n",
       "│   <span style=\"color: #008080; text-decoration-color: #008080; font-weight: bold\">2003</span> │     <span style=\"color: #008080; text-decoration-color: #008080; font-weight: bold\">11</span> │   <span style=\"color: #008080; text-decoration-color: #008080; font-weight: bold\">1296</span> │    <span style=\"color: #008080; text-decoration-color: #008080; font-weight: bold\">56</span> │ <span style=\"color: #008000; text-decoration-color: #008000\">N     </span> │    <span style=\"color: #008080; text-decoration-color: #008080; font-weight: bold\">18</span> │    <span style=\"color: #008080; text-decoration-color: #008080; font-weight: bold\">38</span> │     <span style=\"color: #008080; text-decoration-color: #008080; font-weight: bold\">3</span> │     <span style=\"color: #008080; text-decoration-color: #008080; font-weight: bold\">9</span> │    <span style=\"color: #008080; text-decoration-color: #008080; font-weight: bold\">17</span> │    <span style=\"color: #008080; text-decoration-color: #008080; font-weight: bold\">31</span> │     <span style=\"color: #008080; text-decoration-color: #008080; font-weight: bold\">6</span> │    <span style=\"color: #008080; text-decoration-color: #008080; font-weight: bold\">19</span> │    <span style=\"color: #008080; text-decoration-color: #008080; font-weight: bold\">11</span> │    <span style=\"color: #008080; text-decoration-color: #008080; font-weight: bold\">12</span> │    <span style=\"color: #008080; text-decoration-color: #008080; font-weight: bold\">14</span> │     <span style=\"color: #008080; text-decoration-color: #008080; font-weight: bold\">2</span> │    <span style=\"color: #008080; text-decoration-color: #008080; font-weight: bold\">18</span> │       <span style=\"color: #008080; text-decoration-color: #008080; font-weight: bold\">56</span> │       <span style=\"color: #008080; text-decoration-color: #008080; font-weight: bold\">50</span> │    <span style=\"color: #008080; text-decoration-color: #008080; font-weight: bold\">1</span> │\n",
       "│   <span style=\"color: #008080; text-decoration-color: #008080; font-weight: bold\">2003</span> │     <span style=\"color: #008080; text-decoration-color: #008080; font-weight: bold\">11</span> │   <span style=\"color: #008080; text-decoration-color: #008080; font-weight: bold\">1400</span> │    <span style=\"color: #008080; text-decoration-color: #008080; font-weight: bold\">77</span> │ <span style=\"color: #008000; text-decoration-color: #008000\">N     </span> │    <span style=\"color: #008080; text-decoration-color: #008080; font-weight: bold\">30</span> │    <span style=\"color: #008080; text-decoration-color: #008080; font-weight: bold\">61</span> │     <span style=\"color: #008080; text-decoration-color: #008080; font-weight: bold\">6</span> │    <span style=\"color: #008080; text-decoration-color: #008080; font-weight: bold\">14</span> │    <span style=\"color: #008080; text-decoration-color: #008080; font-weight: bold\">11</span> │    <span style=\"color: #008080; text-decoration-color: #008080; font-weight: bold\">13</span> │    <span style=\"color: #008080; text-decoration-color: #008080; font-weight: bold\">17</span> │    <span style=\"color: #008080; text-decoration-color: #008080; font-weight: bold\">22</span> │    <span style=\"color: #008080; text-decoration-color: #008080; font-weight: bold\">12</span> │    <span style=\"color: #008080; text-decoration-color: #008080; font-weight: bold\">14</span> │     <span style=\"color: #008080; text-decoration-color: #008080; font-weight: bold\">4</span> │     <span style=\"color: #008080; text-decoration-color: #008080; font-weight: bold\">4</span> │    <span style=\"color: #008080; text-decoration-color: #008080; font-weight: bold\">20</span> │       <span style=\"color: #008080; text-decoration-color: #008080; font-weight: bold\">77</span> │       <span style=\"color: #008080; text-decoration-color: #008080; font-weight: bold\">71</span> │    <span style=\"color: #008080; text-decoration-color: #008080; font-weight: bold\">1</span> │\n",
       "│   <span style=\"color: #008080; text-decoration-color: #008080; font-weight: bold\">2003</span> │     <span style=\"color: #008080; text-decoration-color: #008080; font-weight: bold\">11</span> │   <span style=\"color: #008080; text-decoration-color: #008080; font-weight: bold\">1458</span> │    <span style=\"color: #008080; text-decoration-color: #008080; font-weight: bold\">81</span> │ <span style=\"color: #008000; text-decoration-color: #008000\">H     </span> │    <span style=\"color: #008080; text-decoration-color: #008080; font-weight: bold\">26</span> │    <span style=\"color: #008080; text-decoration-color: #008080; font-weight: bold\">57</span> │     <span style=\"color: #008080; text-decoration-color: #008080; font-weight: bold\">6</span> │    <span style=\"color: #008080; text-decoration-color: #008080; font-weight: bold\">12</span> │    <span style=\"color: #008080; text-decoration-color: #008080; font-weight: bold\">23</span> │    <span style=\"color: #008080; text-decoration-color: #008080; font-weight: bold\">27</span> │    <span style=\"color: #008080; text-decoration-color: #008080; font-weight: bold\">12</span> │    <span style=\"color: #008080; text-decoration-color: #008080; font-weight: bold\">24</span> │    <span style=\"color: #008080; text-decoration-color: #008080; font-weight: bold\">12</span> │     <span style=\"color: #008080; text-decoration-color: #008080; font-weight: bold\">9</span> │     <span style=\"color: #008080; text-decoration-color: #008080; font-weight: bold\">9</span> │     <span style=\"color: #008080; text-decoration-color: #008080; font-weight: bold\">3</span> │    <span style=\"color: #008080; text-decoration-color: #008080; font-weight: bold\">18</span> │       <span style=\"color: #008080; text-decoration-color: #008080; font-weight: bold\">81</span> │       <span style=\"color: #008080; text-decoration-color: #008080; font-weight: bold\">55</span> │    <span style=\"color: #008080; text-decoration-color: #008080; font-weight: bold\">1</span> │\n",
       "│   <span style=\"color: #008080; text-decoration-color: #008080; font-weight: bold\">2003</span> │     <span style=\"color: #008080; text-decoration-color: #008080; font-weight: bold\">12</span> │   <span style=\"color: #008080; text-decoration-color: #008080; font-weight: bold\">1161</span> │    <span style=\"color: #008080; text-decoration-color: #008080; font-weight: bold\">80</span> │ <span style=\"color: #008000; text-decoration-color: #008000\">H     </span> │    <span style=\"color: #008080; text-decoration-color: #008080; font-weight: bold\">23</span> │    <span style=\"color: #008080; text-decoration-color: #008080; font-weight: bold\">55</span> │     <span style=\"color: #008080; text-decoration-color: #008080; font-weight: bold\">2</span> │     <span style=\"color: #008080; text-decoration-color: #008080; font-weight: bold\">8</span> │    <span style=\"color: #008080; text-decoration-color: #008080; font-weight: bold\">32</span> │    <span style=\"color: #008080; text-decoration-color: #008080; font-weight: bold\">39</span> │    <span style=\"color: #008080; text-decoration-color: #008080; font-weight: bold\">13</span> │    <span style=\"color: #008080; text-decoration-color: #008080; font-weight: bold\">18</span> │    <span style=\"color: #008080; text-decoration-color: #008080; font-weight: bold\">14</span> │    <span style=\"color: #008080; text-decoration-color: #008080; font-weight: bold\">17</span> │    <span style=\"color: #008080; text-decoration-color: #008080; font-weight: bold\">11</span> │     <span style=\"color: #008080; text-decoration-color: #008080; font-weight: bold\">1</span> │    <span style=\"color: #008080; text-decoration-color: #008080; font-weight: bold\">25</span> │       <span style=\"color: #008080; text-decoration-color: #008080; font-weight: bold\">80</span> │       <span style=\"color: #008080; text-decoration-color: #008080; font-weight: bold\">62</span> │    <span style=\"color: #008080; text-decoration-color: #008080; font-weight: bold\">1</span> │\n",
       "│   <span style=\"color: #008080; text-decoration-color: #008080; font-weight: bold\">2003</span> │     <span style=\"color: #008080; text-decoration-color: #008080; font-weight: bold\">12</span> │   <span style=\"color: #008080; text-decoration-color: #008080; font-weight: bold\">1186</span> │    <span style=\"color: #008080; text-decoration-color: #008080; font-weight: bold\">75</span> │ <span style=\"color: #008000; text-decoration-color: #008000\">N     </span> │    <span style=\"color: #008080; text-decoration-color: #008080; font-weight: bold\">28</span> │    <span style=\"color: #008080; text-decoration-color: #008080; font-weight: bold\">62</span> │     <span style=\"color: #008080; text-decoration-color: #008080; font-weight: bold\">4</span> │    <span style=\"color: #008080; text-decoration-color: #008080; font-weight: bold\">14</span> │    <span style=\"color: #008080; text-decoration-color: #008080; font-weight: bold\">15</span> │    <span style=\"color: #008080; text-decoration-color: #008080; font-weight: bold\">21</span> │    <span style=\"color: #008080; text-decoration-color: #008080; font-weight: bold\">13</span> │    <span style=\"color: #008080; text-decoration-color: #008080; font-weight: bold\">35</span> │    <span style=\"color: #008080; text-decoration-color: #008080; font-weight: bold\">19</span> │    <span style=\"color: #008080; text-decoration-color: #008080; font-weight: bold\">19</span> │     <span style=\"color: #008080; text-decoration-color: #008080; font-weight: bold\">7</span> │     <span style=\"color: #008080; text-decoration-color: #008080; font-weight: bold\">2</span> │    <span style=\"color: #008080; text-decoration-color: #008080; font-weight: bold\">21</span> │       <span style=\"color: #008080; text-decoration-color: #008080; font-weight: bold\">75</span> │       <span style=\"color: #008080; text-decoration-color: #008080; font-weight: bold\">61</span> │    <span style=\"color: #008080; text-decoration-color: #008080; font-weight: bold\">1</span> │\n",
       "│   <span style=\"color: #008080; text-decoration-color: #008080; font-weight: bold\">2003</span> │     <span style=\"color: #008080; text-decoration-color: #008080; font-weight: bold\">12</span> │   <span style=\"color: #008080; text-decoration-color: #008080; font-weight: bold\">1194</span> │    <span style=\"color: #008080; text-decoration-color: #008080; font-weight: bold\">71</span> │ <span style=\"color: #008000; text-decoration-color: #008000\">N     </span> │    <span style=\"color: #008080; text-decoration-color: #008080; font-weight: bold\">28</span> │    <span style=\"color: #008080; text-decoration-color: #008080; font-weight: bold\">58</span> │     <span style=\"color: #008080; text-decoration-color: #008080; font-weight: bold\">5</span> │    <span style=\"color: #008080; text-decoration-color: #008080; font-weight: bold\">11</span> │    <span style=\"color: #008080; text-decoration-color: #008080; font-weight: bold\">10</span> │    <span style=\"color: #008080; text-decoration-color: #008080; font-weight: bold\">18</span> │     <span style=\"color: #008080; text-decoration-color: #008080; font-weight: bold\">9</span> │    <span style=\"color: #008080; text-decoration-color: #008080; font-weight: bold\">22</span> │     <span style=\"color: #008080; text-decoration-color: #008080; font-weight: bold\">9</span> │    <span style=\"color: #008080; text-decoration-color: #008080; font-weight: bold\">17</span> │     <span style=\"color: #008080; text-decoration-color: #008080; font-weight: bold\">9</span> │     <span style=\"color: #008080; text-decoration-color: #008080; font-weight: bold\">2</span> │    <span style=\"color: #008080; text-decoration-color: #008080; font-weight: bold\">23</span> │       <span style=\"color: #008080; text-decoration-color: #008080; font-weight: bold\">71</span> │       <span style=\"color: #008080; text-decoration-color: #008080; font-weight: bold\">66</span> │    <span style=\"color: #008080; text-decoration-color: #008080; font-weight: bold\">1</span> │\n",
       "│   <span style=\"color: #008080; text-decoration-color: #008080; font-weight: bold\">2003</span> │     <span style=\"color: #008080; text-decoration-color: #008080; font-weight: bold\">12</span> │   <span style=\"color: #008080; text-decoration-color: #008080; font-weight: bold\">1458</span> │    <span style=\"color: #008080; text-decoration-color: #008080; font-weight: bold\">84</span> │ <span style=\"color: #008000; text-decoration-color: #008000\">H     </span> │    <span style=\"color: #008080; text-decoration-color: #008080; font-weight: bold\">32</span> │    <span style=\"color: #008080; text-decoration-color: #008080; font-weight: bold\">67</span> │     <span style=\"color: #008080; text-decoration-color: #008080; font-weight: bold\">5</span> │    <span style=\"color: #008080; text-decoration-color: #008080; font-weight: bold\">17</span> │    <span style=\"color: #008080; text-decoration-color: #008080; font-weight: bold\">15</span> │    <span style=\"color: #008080; text-decoration-color: #008080; font-weight: bold\">19</span> │    <span style=\"color: #008080; text-decoration-color: #008080; font-weight: bold\">14</span> │    <span style=\"color: #008080; text-decoration-color: #008080; font-weight: bold\">22</span> │    <span style=\"color: #008080; text-decoration-color: #008080; font-weight: bold\">11</span> │     <span style=\"color: #008080; text-decoration-color: #008080; font-weight: bold\">6</span> │    <span style=\"color: #008080; text-decoration-color: #008080; font-weight: bold\">12</span> │     <span style=\"color: #008080; text-decoration-color: #008080; font-weight: bold\">0</span> │    <span style=\"color: #008080; text-decoration-color: #008080; font-weight: bold\">13</span> │       <span style=\"color: #008080; text-decoration-color: #008080; font-weight: bold\">84</span> │       <span style=\"color: #008080; text-decoration-color: #008080; font-weight: bold\">56</span> │    <span style=\"color: #008080; text-decoration-color: #008080; font-weight: bold\">1</span> │\n",
       "│      <span style=\"color: #7f7f7f; text-decoration-color: #7f7f7f\">…</span> │      <span style=\"color: #7f7f7f; text-decoration-color: #7f7f7f\">…</span> │      <span style=\"color: #7f7f7f; text-decoration-color: #7f7f7f\">…</span> │     <span style=\"color: #7f7f7f; text-decoration-color: #7f7f7f\">…</span> │ <span style=\"color: #7f7f7f; text-decoration-color: #7f7f7f\">…</span>      │     <span style=\"color: #7f7f7f; text-decoration-color: #7f7f7f\">…</span> │     <span style=\"color: #7f7f7f; text-decoration-color: #7f7f7f\">…</span> │     <span style=\"color: #7f7f7f; text-decoration-color: #7f7f7f\">…</span> │     <span style=\"color: #7f7f7f; text-decoration-color: #7f7f7f\">…</span> │     <span style=\"color: #7f7f7f; text-decoration-color: #7f7f7f\">…</span> │     <span style=\"color: #7f7f7f; text-decoration-color: #7f7f7f\">…</span> │     <span style=\"color: #7f7f7f; text-decoration-color: #7f7f7f\">…</span> │     <span style=\"color: #7f7f7f; text-decoration-color: #7f7f7f\">…</span> │     <span style=\"color: #7f7f7f; text-decoration-color: #7f7f7f\">…</span> │     <span style=\"color: #7f7f7f; text-decoration-color: #7f7f7f\">…</span> │     <span style=\"color: #7f7f7f; text-decoration-color: #7f7f7f\">…</span> │     <span style=\"color: #7f7f7f; text-decoration-color: #7f7f7f\">…</span> │     <span style=\"color: #7f7f7f; text-decoration-color: #7f7f7f\">…</span> │        <span style=\"color: #7f7f7f; text-decoration-color: #7f7f7f\">…</span> │        <span style=\"color: #7f7f7f; text-decoration-color: #7f7f7f\">…</span> │    <span style=\"color: #7f7f7f; text-decoration-color: #7f7f7f\">…</span> │\n",
       "└────────┴────────┴────────┴───────┴────────┴───────┴───────┴───────┴───────┴───────┴───────┴───────┴───────┴───────┴───────┴───────┴───────┴───────┴──────────┴──────────┴──────┘\n",
       "</pre>\n"
      ],
      "text/plain": [
       "┏━━━━━━━━┳━━━━━━━━┳━━━━━━━━┳━━━━━━━┳━━━━━━━━┳━━━━━━━┳━━━━━━━┳━━━━━━━┳━━━━━━━┳━━━━━━━┳━━━━━━━┳━━━━━━━┳━━━━━━━┳━━━━━━━┳━━━━━━━┳━━━━━━━┳━━━━━━━┳━━━━━━━┳━━━━━━━━━━┳━━━━━━━━━━┳━━━━━━┓\n",
       "┃\u001b[1m \u001b[0m\u001b[1mSEASON\u001b[0m\u001b[1m \u001b[0m┃\u001b[1m \u001b[0m\u001b[1mDAYNUM\u001b[0m\u001b[1m \u001b[0m┃\u001b[1m \u001b[0m\u001b[1mTEAMID\u001b[0m\u001b[1m \u001b[0m┃\u001b[1m \u001b[0m\u001b[1mSCORE\u001b[0m\u001b[1m \u001b[0m┃\u001b[1m \u001b[0m\u001b[1mWLOC\u001b[0m\u001b[1m  \u001b[0m\u001b[1m \u001b[0m┃\u001b[1m \u001b[0m\u001b[1mFGM\u001b[0m\u001b[1m  \u001b[0m\u001b[1m \u001b[0m┃\u001b[1m \u001b[0m\u001b[1mFGA\u001b[0m\u001b[1m  \u001b[0m\u001b[1m \u001b[0m┃\u001b[1m \u001b[0m\u001b[1mFGM3\u001b[0m\u001b[1m \u001b[0m\u001b[1m \u001b[0m┃\u001b[1m \u001b[0m\u001b[1mFGA3\u001b[0m\u001b[1m \u001b[0m\u001b[1m \u001b[0m┃\u001b[1m \u001b[0m\u001b[1mFTM\u001b[0m\u001b[1m  \u001b[0m\u001b[1m \u001b[0m┃\u001b[1m \u001b[0m\u001b[1mFTA\u001b[0m\u001b[1m  \u001b[0m\u001b[1m \u001b[0m┃\u001b[1m \u001b[0m\u001b[1mOR\u001b[0m\u001b[1m   \u001b[0m\u001b[1m \u001b[0m┃\u001b[1m \u001b[0m\u001b[1mDR\u001b[0m\u001b[1m   \u001b[0m\u001b[1m \u001b[0m┃\u001b[1m \u001b[0m\u001b[1mAST\u001b[0m\u001b[1m  \u001b[0m\u001b[1m \u001b[0m┃\u001b[1m \u001b[0m\u001b[1mTO\u001b[0m\u001b[1m   \u001b[0m\u001b[1m \u001b[0m┃\u001b[1m \u001b[0m\u001b[1mSTL\u001b[0m\u001b[1m  \u001b[0m\u001b[1m \u001b[0m┃\u001b[1m \u001b[0m\u001b[1mBLK\u001b[0m\u001b[1m  \u001b[0m\u001b[1m \u001b[0m┃\u001b[1m \u001b[0m\u001b[1mPF\u001b[0m\u001b[1m   \u001b[0m\u001b[1m \u001b[0m┃\u001b[1m \u001b[0m\u001b[1mW1COLUMN\u001b[0m\u001b[1m \u001b[0m┃\u001b[1m \u001b[0m\u001b[1mW2COLUMN\u001b[0m\u001b[1m \u001b[0m┃\u001b[1m \u001b[0m\u001b[1mWON\u001b[0m\u001b[1m \u001b[0m\u001b[1m \u001b[0m┃\n",
       "┡━━━━━━━━╇━━━━━━━━╇━━━━━━━━╇━━━━━━━╇━━━━━━━━╇━━━━━━━╇━━━━━━━╇━━━━━━━╇━━━━━━━╇━━━━━━━╇━━━━━━━╇━━━━━━━╇━━━━━━━╇━━━━━━━╇━━━━━━━╇━━━━━━━╇━━━━━━━╇━━━━━━━╇━━━━━━━━━━╇━━━━━━━━━━╇━━━━━━┩\n",
       "│ \u001b[2mint64\u001b[0m  │ \u001b[2mint64\u001b[0m  │ \u001b[2mint64\u001b[0m  │ \u001b[2mint64\u001b[0m │ \u001b[2mstring\u001b[0m │ \u001b[2mint64\u001b[0m │ \u001b[2mint64\u001b[0m │ \u001b[2mint64\u001b[0m │ \u001b[2mint64\u001b[0m │ \u001b[2mint64\u001b[0m │ \u001b[2mint64\u001b[0m │ \u001b[2mint64\u001b[0m │ \u001b[2mint64\u001b[0m │ \u001b[2mint64\u001b[0m │ \u001b[2mint64\u001b[0m │ \u001b[2mint64\u001b[0m │ \u001b[2mint64\u001b[0m │ \u001b[2mint64\u001b[0m │ \u001b[2mint64\u001b[0m    │ \u001b[2mint64\u001b[0m    │ \u001b[2mint8\u001b[0m │\n",
       "├────────┼────────┼────────┼───────┼────────┼───────┼───────┼───────┼───────┼───────┼───────┼───────┼───────┼───────┼───────┼───────┼───────┼───────┼──────────┼──────────┼──────┤\n",
       "│   \u001b[1;36m2003\u001b[0m │     \u001b[1;36m10\u001b[0m │   \u001b[1;36m1104\u001b[0m │    \u001b[1;36m68\u001b[0m │ \u001b[32mN     \u001b[0m │    \u001b[1;36m27\u001b[0m │    \u001b[1;36m58\u001b[0m │     \u001b[1;36m3\u001b[0m │    \u001b[1;36m14\u001b[0m │    \u001b[1;36m11\u001b[0m │    \u001b[1;36m18\u001b[0m │    \u001b[1;36m14\u001b[0m │    \u001b[1;36m24\u001b[0m │    \u001b[1;36m13\u001b[0m │    \u001b[1;36m23\u001b[0m │     \u001b[1;36m7\u001b[0m │     \u001b[1;36m1\u001b[0m │    \u001b[1;36m22\u001b[0m │       \u001b[1;36m68\u001b[0m │       \u001b[1;36m62\u001b[0m │    \u001b[1;36m1\u001b[0m │\n",
       "│   \u001b[1;36m2003\u001b[0m │     \u001b[1;36m10\u001b[0m │   \u001b[1;36m1272\u001b[0m │    \u001b[1;36m70\u001b[0m │ \u001b[32mN     \u001b[0m │    \u001b[1;36m26\u001b[0m │    \u001b[1;36m62\u001b[0m │     \u001b[1;36m8\u001b[0m │    \u001b[1;36m20\u001b[0m │    \u001b[1;36m10\u001b[0m │    \u001b[1;36m19\u001b[0m │    \u001b[1;36m15\u001b[0m │    \u001b[1;36m28\u001b[0m │    \u001b[1;36m16\u001b[0m │    \u001b[1;36m13\u001b[0m │     \u001b[1;36m4\u001b[0m │     \u001b[1;36m4\u001b[0m │    \u001b[1;36m18\u001b[0m │       \u001b[1;36m70\u001b[0m │       \u001b[1;36m63\u001b[0m │    \u001b[1;36m1\u001b[0m │\n",
       "│   \u001b[1;36m2003\u001b[0m │     \u001b[1;36m11\u001b[0m │   \u001b[1;36m1266\u001b[0m │    \u001b[1;36m73\u001b[0m │ \u001b[32mN     \u001b[0m │    \u001b[1;36m24\u001b[0m │    \u001b[1;36m58\u001b[0m │     \u001b[1;36m8\u001b[0m │    \u001b[1;36m18\u001b[0m │    \u001b[1;36m17\u001b[0m │    \u001b[1;36m29\u001b[0m │    \u001b[1;36m17\u001b[0m │    \u001b[1;36m26\u001b[0m │    \u001b[1;36m15\u001b[0m │    \u001b[1;36m10\u001b[0m │     \u001b[1;36m5\u001b[0m │     \u001b[1;36m2\u001b[0m │    \u001b[1;36m25\u001b[0m │       \u001b[1;36m73\u001b[0m │       \u001b[1;36m61\u001b[0m │    \u001b[1;36m1\u001b[0m │\n",
       "│   \u001b[1;36m2003\u001b[0m │     \u001b[1;36m11\u001b[0m │   \u001b[1;36m1296\u001b[0m │    \u001b[1;36m56\u001b[0m │ \u001b[32mN     \u001b[0m │    \u001b[1;36m18\u001b[0m │    \u001b[1;36m38\u001b[0m │     \u001b[1;36m3\u001b[0m │     \u001b[1;36m9\u001b[0m │    \u001b[1;36m17\u001b[0m │    \u001b[1;36m31\u001b[0m │     \u001b[1;36m6\u001b[0m │    \u001b[1;36m19\u001b[0m │    \u001b[1;36m11\u001b[0m │    \u001b[1;36m12\u001b[0m │    \u001b[1;36m14\u001b[0m │     \u001b[1;36m2\u001b[0m │    \u001b[1;36m18\u001b[0m │       \u001b[1;36m56\u001b[0m │       \u001b[1;36m50\u001b[0m │    \u001b[1;36m1\u001b[0m │\n",
       "│   \u001b[1;36m2003\u001b[0m │     \u001b[1;36m11\u001b[0m │   \u001b[1;36m1400\u001b[0m │    \u001b[1;36m77\u001b[0m │ \u001b[32mN     \u001b[0m │    \u001b[1;36m30\u001b[0m │    \u001b[1;36m61\u001b[0m │     \u001b[1;36m6\u001b[0m │    \u001b[1;36m14\u001b[0m │    \u001b[1;36m11\u001b[0m │    \u001b[1;36m13\u001b[0m │    \u001b[1;36m17\u001b[0m │    \u001b[1;36m22\u001b[0m │    \u001b[1;36m12\u001b[0m │    \u001b[1;36m14\u001b[0m │     \u001b[1;36m4\u001b[0m │     \u001b[1;36m4\u001b[0m │    \u001b[1;36m20\u001b[0m │       \u001b[1;36m77\u001b[0m │       \u001b[1;36m71\u001b[0m │    \u001b[1;36m1\u001b[0m │\n",
       "│   \u001b[1;36m2003\u001b[0m │     \u001b[1;36m11\u001b[0m │   \u001b[1;36m1458\u001b[0m │    \u001b[1;36m81\u001b[0m │ \u001b[32mH     \u001b[0m │    \u001b[1;36m26\u001b[0m │    \u001b[1;36m57\u001b[0m │     \u001b[1;36m6\u001b[0m │    \u001b[1;36m12\u001b[0m │    \u001b[1;36m23\u001b[0m │    \u001b[1;36m27\u001b[0m │    \u001b[1;36m12\u001b[0m │    \u001b[1;36m24\u001b[0m │    \u001b[1;36m12\u001b[0m │     \u001b[1;36m9\u001b[0m │     \u001b[1;36m9\u001b[0m │     \u001b[1;36m3\u001b[0m │    \u001b[1;36m18\u001b[0m │       \u001b[1;36m81\u001b[0m │       \u001b[1;36m55\u001b[0m │    \u001b[1;36m1\u001b[0m │\n",
       "│   \u001b[1;36m2003\u001b[0m │     \u001b[1;36m12\u001b[0m │   \u001b[1;36m1161\u001b[0m │    \u001b[1;36m80\u001b[0m │ \u001b[32mH     \u001b[0m │    \u001b[1;36m23\u001b[0m │    \u001b[1;36m55\u001b[0m │     \u001b[1;36m2\u001b[0m │     \u001b[1;36m8\u001b[0m │    \u001b[1;36m32\u001b[0m │    \u001b[1;36m39\u001b[0m │    \u001b[1;36m13\u001b[0m │    \u001b[1;36m18\u001b[0m │    \u001b[1;36m14\u001b[0m │    \u001b[1;36m17\u001b[0m │    \u001b[1;36m11\u001b[0m │     \u001b[1;36m1\u001b[0m │    \u001b[1;36m25\u001b[0m │       \u001b[1;36m80\u001b[0m │       \u001b[1;36m62\u001b[0m │    \u001b[1;36m1\u001b[0m │\n",
       "│   \u001b[1;36m2003\u001b[0m │     \u001b[1;36m12\u001b[0m │   \u001b[1;36m1186\u001b[0m │    \u001b[1;36m75\u001b[0m │ \u001b[32mN     \u001b[0m │    \u001b[1;36m28\u001b[0m │    \u001b[1;36m62\u001b[0m │     \u001b[1;36m4\u001b[0m │    \u001b[1;36m14\u001b[0m │    \u001b[1;36m15\u001b[0m │    \u001b[1;36m21\u001b[0m │    \u001b[1;36m13\u001b[0m │    \u001b[1;36m35\u001b[0m │    \u001b[1;36m19\u001b[0m │    \u001b[1;36m19\u001b[0m │     \u001b[1;36m7\u001b[0m │     \u001b[1;36m2\u001b[0m │    \u001b[1;36m21\u001b[0m │       \u001b[1;36m75\u001b[0m │       \u001b[1;36m61\u001b[0m │    \u001b[1;36m1\u001b[0m │\n",
       "│   \u001b[1;36m2003\u001b[0m │     \u001b[1;36m12\u001b[0m │   \u001b[1;36m1194\u001b[0m │    \u001b[1;36m71\u001b[0m │ \u001b[32mN     \u001b[0m │    \u001b[1;36m28\u001b[0m │    \u001b[1;36m58\u001b[0m │     \u001b[1;36m5\u001b[0m │    \u001b[1;36m11\u001b[0m │    \u001b[1;36m10\u001b[0m │    \u001b[1;36m18\u001b[0m │     \u001b[1;36m9\u001b[0m │    \u001b[1;36m22\u001b[0m │     \u001b[1;36m9\u001b[0m │    \u001b[1;36m17\u001b[0m │     \u001b[1;36m9\u001b[0m │     \u001b[1;36m2\u001b[0m │    \u001b[1;36m23\u001b[0m │       \u001b[1;36m71\u001b[0m │       \u001b[1;36m66\u001b[0m │    \u001b[1;36m1\u001b[0m │\n",
       "│   \u001b[1;36m2003\u001b[0m │     \u001b[1;36m12\u001b[0m │   \u001b[1;36m1458\u001b[0m │    \u001b[1;36m84\u001b[0m │ \u001b[32mH     \u001b[0m │    \u001b[1;36m32\u001b[0m │    \u001b[1;36m67\u001b[0m │     \u001b[1;36m5\u001b[0m │    \u001b[1;36m17\u001b[0m │    \u001b[1;36m15\u001b[0m │    \u001b[1;36m19\u001b[0m │    \u001b[1;36m14\u001b[0m │    \u001b[1;36m22\u001b[0m │    \u001b[1;36m11\u001b[0m │     \u001b[1;36m6\u001b[0m │    \u001b[1;36m12\u001b[0m │     \u001b[1;36m0\u001b[0m │    \u001b[1;36m13\u001b[0m │       \u001b[1;36m84\u001b[0m │       \u001b[1;36m56\u001b[0m │    \u001b[1;36m1\u001b[0m │\n",
       "│      \u001b[2m…\u001b[0m │      \u001b[2m…\u001b[0m │      \u001b[2m…\u001b[0m │     \u001b[2m…\u001b[0m │ \u001b[2m…\u001b[0m      │     \u001b[2m…\u001b[0m │     \u001b[2m…\u001b[0m │     \u001b[2m…\u001b[0m │     \u001b[2m…\u001b[0m │     \u001b[2m…\u001b[0m │     \u001b[2m…\u001b[0m │     \u001b[2m…\u001b[0m │     \u001b[2m…\u001b[0m │     \u001b[2m…\u001b[0m │     \u001b[2m…\u001b[0m │     \u001b[2m…\u001b[0m │     \u001b[2m…\u001b[0m │     \u001b[2m…\u001b[0m │        \u001b[2m…\u001b[0m │        \u001b[2m…\u001b[0m │    \u001b[2m…\u001b[0m │\n",
       "└────────┴────────┴────────┴───────┴────────┴───────┴───────┴───────┴───────┴───────┴───────┴───────┴───────┴───────┴───────┴───────┴───────┴───────┴──────────┴──────────┴──────┘"
      ]
     },
     "execution_count": 55,
     "metadata": {},
     "output_type": "execute_result"
    }
   ],
   "source": [
    "m_reg"
   ]
  },
  {
   "cell_type": "code",
   "execution_count": 56,
   "metadata": {},
   "outputs": [],
   "source": [
    "w_margin = (\n",
    "    m_reg.filter(_.WON == 1)\n",
    "    .mutate(SCOREDIFF=_.W1COLUMN - _.W2COLUMN)\n",
    "    .group_by([\"SEASON\", \"TEAMID\"])\n",
    "    .agg(WINMARGINMEDIAN=_.SCOREDIFF.median(), WINMARGINMEAN=_.SCOREDIFF.mean())\n",
    ")\n",
    "\n",
    "l_margin = (\n",
    "    m_reg.filter(_.WON == 0)\n",
    "    .mutate(SCOREDIFF=_.W1COLUMN - _.W2COLUMN)\n",
    "    .group_by([\"SEASON\", \"TEAMID\"])\n",
    "    .agg(LOSEMARGINMEDIAN=_.SCOREDIFF.median(), LOSEMARGINMEAN=_.SCOREDIFF.mean())\n",
    ")\n",
    "\n",
    "m_season_margin = w_margin.join(l_margin, ([\"SEASON\", \"TEAMID\"]))\n",
    "m_reg = m_reg.drop(['W1COLUMN','W2COLUMN'])"
   ]
  },
  {
   "cell_type": "code",
   "execution_count": 57,
   "metadata": {},
   "outputs": [],
   "source": [
    "season_stats = (\n",
    "    m_reg.drop(\"DAYNUM\")\n",
    "    .group_by([\"SEASON\", \"TEAMID\"])\n",
    "    .agg(s.across(s.numeric(), dict(MEAN=_.mean(), MEDIAN=_.median(), STDDEV=_.std())))\n",
    "    .drop(s.startswith(\"WON_\"), s.startswith(\"SEASON_\"), s.startswith(\"TEAMID_\"))\n",
    ")"
   ]
  },
  {
   "cell_type": "code",
   "execution_count": 58,
   "metadata": {},
   "outputs": [],
   "source": [
    "hna = (\n",
    "    m_reg.group_by([\"SEASON\", \"TEAMID\", \"WLOC\"])\n",
    "    .agg(WINCOUNT=_.WON.sum())\n",
    "    .mutate(WLOC=\"WLOC\" + _.WLOC)\n",
    "    .pivot_wider(names_from=\"WLOC\", values_from=\"WINCOUNT\")\n",
    "    .mutate(s.across(s.startswith(\"WLOC\"), ibis.coalesce(_, 0)))\n",
    ")"
   ]
  },
  {
   "cell_type": "code",
   "execution_count": 59,
   "metadata": {},
   "outputs": [],
   "source": [
    "season_joined = (\n",
    "    season_stats.join(hna, [\"SEASON\", \"TEAMID\"])\n",
    "    .join(m_season_margin, [\"SEASON\", \"TEAMID\"])\n",
    ").drop(s.endswith(\"_right\")).distinct()\n",
    "\n",
    "season_joined =season_joined.fillna(0)"
   ]
  },
  {
   "cell_type": "code",
   "execution_count": 60,
   "metadata": {},
   "outputs": [
    {
     "data": {
      "text/html": [
       "<pre style=\"white-space:pre;overflow-x:auto;line-height:normal;font-family:Menlo,'DejaVu Sans Mono',consolas,'Courier New',monospace\">┏━━━━━━━━┳━━━━━━━━┳━━━━━━━━━━━━┳━━━━━━━━━━━┳━━━━━━━━━━━┳━━━━━━━━━━━┳━━━━━━━━━━━┳━━━━━━━━━━━┳━━━━━━━━━━━┳━━━━━━━━━━━┳━━━━━━━━━━━┳━━━━━━━━━━━┳━━━━━━━━━━━┳━━━━━━━━━━┳━━━━━━━━━━┳━━━━━━━━━┳━━━━━━━━━━━━━━┳━━━━━━━━━━━━┳━━━━━━━━━━━━┳━━━━━━━━━━━━━┳━━━━━━━━━━━━━┳━━━━━━━━━━━━┳━━━━━━━━━━━━┳━━━━━━━━━━━┳━━━━━━━━━━━┳━━━━━━━━━━━━┳━━━━━━━━━━━┳━━━━━━━━━━━━┳━━━━━━━━━━━━┳━━━━━━━━━━━┳━━━━━━━━━━━━━━┳━━━━━━━━━━━━┳━━━━━━━━━━━━┳━━━━━━━━━━━━━┳━━━━━━━━━━━━━┳━━━━━━━━━━━━┳━━━━━━━━━━━━┳━━━━━━━━━━━┳━━━━━━━━━━━┳━━━━━━━━━━━━┳━━━━━━━━━━━┳━━━━━━━━━━━━┳━━━━━━━━━━━━┳━━━━━━━━━━━┳━━━━━━━┳━━━━━━━┳━━━━━━━┳━━━━━━━━━━━━━━━━━┳━━━━━━━━━━━━━━━┳━━━━━━━━━━━━━━━━━━┳━━━━━━━━━━━━━━━━┓\n",
       "┃<span style=\"font-weight: bold\"> SEASON </span>┃<span style=\"font-weight: bold\"> TEAMID </span>┃<span style=\"font-weight: bold\"> SCORE_MEAN </span>┃<span style=\"font-weight: bold\"> FGM_MEAN  </span>┃<span style=\"font-weight: bold\"> FGA_MEAN  </span>┃<span style=\"font-weight: bold\"> FGM3_MEAN </span>┃<span style=\"font-weight: bold\"> FGA3_MEAN </span>┃<span style=\"font-weight: bold\"> FTM_MEAN  </span>┃<span style=\"font-weight: bold\"> FTA_MEAN  </span>┃<span style=\"font-weight: bold\"> OR_MEAN   </span>┃<span style=\"font-weight: bold\"> DR_MEAN   </span>┃<span style=\"font-weight: bold\"> AST_MEAN  </span>┃<span style=\"font-weight: bold\"> TO_MEAN   </span>┃<span style=\"font-weight: bold\"> STL_MEAN </span>┃<span style=\"font-weight: bold\"> BLK_MEAN </span>┃<span style=\"font-weight: bold\"> PF_MEAN </span>┃<span style=\"font-weight: bold\"> SCORE_MEDIAN </span>┃<span style=\"font-weight: bold\"> FGM_MEDIAN </span>┃<span style=\"font-weight: bold\"> FGA_MEDIAN </span>┃<span style=\"font-weight: bold\"> FGM3_MEDIAN </span>┃<span style=\"font-weight: bold\"> FGA3_MEDIAN </span>┃<span style=\"font-weight: bold\"> FTM_MEDIAN </span>┃<span style=\"font-weight: bold\"> FTA_MEDIAN </span>┃<span style=\"font-weight: bold\"> OR_MEDIAN </span>┃<span style=\"font-weight: bold\"> DR_MEDIAN </span>┃<span style=\"font-weight: bold\"> AST_MEDIAN </span>┃<span style=\"font-weight: bold\"> TO_MEDIAN </span>┃<span style=\"font-weight: bold\"> STL_MEDIAN </span>┃<span style=\"font-weight: bold\"> BLK_MEDIAN </span>┃<span style=\"font-weight: bold\"> PF_MEDIAN </span>┃<span style=\"font-weight: bold\"> SCORE_STDDEV </span>┃<span style=\"font-weight: bold\"> FGM_STDDEV </span>┃<span style=\"font-weight: bold\"> FGA_STDDEV </span>┃<span style=\"font-weight: bold\"> FGM3_STDDEV </span>┃<span style=\"font-weight: bold\"> FGA3_STDDEV </span>┃<span style=\"font-weight: bold\"> FTM_STDDEV </span>┃<span style=\"font-weight: bold\"> FTA_STDDEV </span>┃<span style=\"font-weight: bold\"> OR_STDDEV </span>┃<span style=\"font-weight: bold\"> DR_STDDEV </span>┃<span style=\"font-weight: bold\"> AST_STDDEV </span>┃<span style=\"font-weight: bold\"> TO_STDDEV </span>┃<span style=\"font-weight: bold\"> STL_STDDEV </span>┃<span style=\"font-weight: bold\"> BLK_STDDEV </span>┃<span style=\"font-weight: bold\"> PF_STDDEV </span>┃<span style=\"font-weight: bold\"> WLOCN </span>┃<span style=\"font-weight: bold\"> WLOCH </span>┃<span style=\"font-weight: bold\"> WLOCA </span>┃<span style=\"font-weight: bold\"> WINMARGINMEDIAN </span>┃<span style=\"font-weight: bold\"> WINMARGINMEAN </span>┃<span style=\"font-weight: bold\"> LOSEMARGINMEDIAN </span>┃<span style=\"font-weight: bold\"> LOSEMARGINMEAN </span>┃\n",
       "┡━━━━━━━━╇━━━━━━━━╇━━━━━━━━━━━━╇━━━━━━━━━━━╇━━━━━━━━━━━╇━━━━━━━━━━━╇━━━━━━━━━━━╇━━━━━━━━━━━╇━━━━━━━━━━━╇━━━━━━━━━━━╇━━━━━━━━━━━╇━━━━━━━━━━━╇━━━━━━━━━━━╇━━━━━━━━━━╇━━━━━━━━━━╇━━━━━━━━━╇━━━━━━━━━━━━━━╇━━━━━━━━━━━━╇━━━━━━━━━━━━╇━━━━━━━━━━━━━╇━━━━━━━━━━━━━╇━━━━━━━━━━━━╇━━━━━━━━━━━━╇━━━━━━━━━━━╇━━━━━━━━━━━╇━━━━━━━━━━━━╇━━━━━━━━━━━╇━━━━━━━━━━━━╇━━━━━━━━━━━━╇━━━━━━━━━━━╇━━━━━━━━━━━━━━╇━━━━━━━━━━━━╇━━━━━━━━━━━━╇━━━━━━━━━━━━━╇━━━━━━━━━━━━━╇━━━━━━━━━━━━╇━━━━━━━━━━━━╇━━━━━━━━━━━╇━━━━━━━━━━━╇━━━━━━━━━━━━╇━━━━━━━━━━━╇━━━━━━━━━━━━╇━━━━━━━━━━━━╇━━━━━━━━━━━╇━━━━━━━╇━━━━━━━╇━━━━━━━╇━━━━━━━━━━━━━━━━━╇━━━━━━━━━━━━━━━╇━━━━━━━━━━━━━━━━━━╇━━━━━━━━━━━━━━━━┩\n",
       "│ <span style=\"color: #7f7f7f; text-decoration-color: #7f7f7f\">int64</span>  │ <span style=\"color: #7f7f7f; text-decoration-color: #7f7f7f\">int64</span>  │ <span style=\"color: #7f7f7f; text-decoration-color: #7f7f7f\">float64</span>    │ <span style=\"color: #7f7f7f; text-decoration-color: #7f7f7f\">float64</span>   │ <span style=\"color: #7f7f7f; text-decoration-color: #7f7f7f\">float64</span>   │ <span style=\"color: #7f7f7f; text-decoration-color: #7f7f7f\">float64</span>   │ <span style=\"color: #7f7f7f; text-decoration-color: #7f7f7f\">float64</span>   │ <span style=\"color: #7f7f7f; text-decoration-color: #7f7f7f\">float64</span>   │ <span style=\"color: #7f7f7f; text-decoration-color: #7f7f7f\">float64</span>   │ <span style=\"color: #7f7f7f; text-decoration-color: #7f7f7f\">float64</span>   │ <span style=\"color: #7f7f7f; text-decoration-color: #7f7f7f\">float64</span>   │ <span style=\"color: #7f7f7f; text-decoration-color: #7f7f7f\">float64</span>   │ <span style=\"color: #7f7f7f; text-decoration-color: #7f7f7f\">float64</span>   │ <span style=\"color: #7f7f7f; text-decoration-color: #7f7f7f\">float64</span>  │ <span style=\"color: #7f7f7f; text-decoration-color: #7f7f7f\">float64</span>  │ <span style=\"color: #7f7f7f; text-decoration-color: #7f7f7f\">float64</span> │ <span style=\"color: #7f7f7f; text-decoration-color: #7f7f7f\">float64</span>      │ <span style=\"color: #7f7f7f; text-decoration-color: #7f7f7f\">float64</span>    │ <span style=\"color: #7f7f7f; text-decoration-color: #7f7f7f\">float64</span>    │ <span style=\"color: #7f7f7f; text-decoration-color: #7f7f7f\">float64</span>     │ <span style=\"color: #7f7f7f; text-decoration-color: #7f7f7f\">float64</span>     │ <span style=\"color: #7f7f7f; text-decoration-color: #7f7f7f\">float64</span>    │ <span style=\"color: #7f7f7f; text-decoration-color: #7f7f7f\">float64</span>    │ <span style=\"color: #7f7f7f; text-decoration-color: #7f7f7f\">float64</span>   │ <span style=\"color: #7f7f7f; text-decoration-color: #7f7f7f\">float64</span>   │ <span style=\"color: #7f7f7f; text-decoration-color: #7f7f7f\">float64</span>    │ <span style=\"color: #7f7f7f; text-decoration-color: #7f7f7f\">float64</span>   │ <span style=\"color: #7f7f7f; text-decoration-color: #7f7f7f\">float64</span>    │ <span style=\"color: #7f7f7f; text-decoration-color: #7f7f7f\">float64</span>    │ <span style=\"color: #7f7f7f; text-decoration-color: #7f7f7f\">float64</span>   │ <span style=\"color: #7f7f7f; text-decoration-color: #7f7f7f\">float64</span>      │ <span style=\"color: #7f7f7f; text-decoration-color: #7f7f7f\">float64</span>    │ <span style=\"color: #7f7f7f; text-decoration-color: #7f7f7f\">float64</span>    │ <span style=\"color: #7f7f7f; text-decoration-color: #7f7f7f\">float64</span>     │ <span style=\"color: #7f7f7f; text-decoration-color: #7f7f7f\">float64</span>     │ <span style=\"color: #7f7f7f; text-decoration-color: #7f7f7f\">float64</span>    │ <span style=\"color: #7f7f7f; text-decoration-color: #7f7f7f\">float64</span>    │ <span style=\"color: #7f7f7f; text-decoration-color: #7f7f7f\">float64</span>   │ <span style=\"color: #7f7f7f; text-decoration-color: #7f7f7f\">float64</span>   │ <span style=\"color: #7f7f7f; text-decoration-color: #7f7f7f\">float64</span>    │ <span style=\"color: #7f7f7f; text-decoration-color: #7f7f7f\">float64</span>   │ <span style=\"color: #7f7f7f; text-decoration-color: #7f7f7f\">float64</span>    │ <span style=\"color: #7f7f7f; text-decoration-color: #7f7f7f\">float64</span>    │ <span style=\"color: #7f7f7f; text-decoration-color: #7f7f7f\">float64</span>   │ <span style=\"color: #7f7f7f; text-decoration-color: #7f7f7f\">int64</span> │ <span style=\"color: #7f7f7f; text-decoration-color: #7f7f7f\">int64</span> │ <span style=\"color: #7f7f7f; text-decoration-color: #7f7f7f\">int64</span> │ <span style=\"color: #7f7f7f; text-decoration-color: #7f7f7f\">float64</span>         │ <span style=\"color: #7f7f7f; text-decoration-color: #7f7f7f\">float64</span>       │ <span style=\"color: #7f7f7f; text-decoration-color: #7f7f7f\">float64</span>          │ <span style=\"color: #7f7f7f; text-decoration-color: #7f7f7f\">float64</span>        │\n",
       "├────────┼────────┼────────────┼───────────┼───────────┼───────────┼───────────┼───────────┼───────────┼───────────┼───────────┼───────────┼───────────┼──────────┼──────────┼─────────┼──────────────┼────────────┼────────────┼─────────────┼─────────────┼────────────┼────────────┼───────────┼───────────┼────────────┼───────────┼────────────┼────────────┼───────────┼──────────────┼────────────┼────────────┼─────────────┼─────────────┼────────────┼────────────┼───────────┼───────────┼────────────┼───────────┼────────────┼────────────┼───────────┼───────┼───────┼───────┼─────────────────┼───────────────┼──────────────────┼────────────────┤\n",
       "│   <span style=\"color: #008080; text-decoration-color: #008080; font-weight: bold\">2021</span> │   <span style=\"color: #008080; text-decoration-color: #008080; font-weight: bold\">1288</span> │  <span style=\"color: #008080; text-decoration-color: #008080; font-weight: bold\">78.263158</span> │ <span style=\"color: #008080; text-decoration-color: #008080; font-weight: bold\">26.315789</span> │ <span style=\"color: #008080; text-decoration-color: #008080; font-weight: bold\">62.421053</span> │  <span style=\"color: #008080; text-decoration-color: #008080; font-weight: bold\">8.105263</span> │ <span style=\"color: #008080; text-decoration-color: #008080; font-weight: bold\">24.631579</span> │ <span style=\"color: #008080; text-decoration-color: #008080; font-weight: bold\">17.526316</span> │ <span style=\"color: #008080; text-decoration-color: #008080; font-weight: bold\">23.421053</span> │ <span style=\"color: #008080; text-decoration-color: #008080; font-weight: bold\">11.684211</span> │ <span style=\"color: #008080; text-decoration-color: #008080; font-weight: bold\">24.157895</span> │ <span style=\"color: #008080; text-decoration-color: #008080; font-weight: bold\">13.842105</span> │ <span style=\"color: #008080; text-decoration-color: #008080; font-weight: bold\">15.526316</span> │ <span style=\"color: #008080; text-decoration-color: #008080; font-weight: bold\">7.105263</span> │ <span style=\"color: #008080; text-decoration-color: #008080; font-weight: bold\">3.736842</span> │     <span style=\"color: #008080; text-decoration-color: #008080; font-weight: bold\">8.0</span> │         <span style=\"color: #008080; text-decoration-color: #008080; font-weight: bold\">79.0</span> │       <span style=\"color: #008080; text-decoration-color: #008080; font-weight: bold\">26.0</span> │       <span style=\"color: #008080; text-decoration-color: #008080; font-weight: bold\">63.0</span> │         <span style=\"color: #008080; text-decoration-color: #008080; font-weight: bold\">8.0</span> │        <span style=\"color: #008080; text-decoration-color: #008080; font-weight: bold\">23.0</span> │       <span style=\"color: #008080; text-decoration-color: #008080; font-weight: bold\">18.0</span> │       <span style=\"color: #008080; text-decoration-color: #008080; font-weight: bold\">23.0</span> │      <span style=\"color: #008080; text-decoration-color: #008080; font-weight: bold\">12.0</span> │      <span style=\"color: #008080; text-decoration-color: #008080; font-weight: bold\">25.0</span> │       <span style=\"color: #008080; text-decoration-color: #008080; font-weight: bold\">13.0</span> │      <span style=\"color: #008080; text-decoration-color: #008080; font-weight: bold\">16.0</span> │        <span style=\"color: #008080; text-decoration-color: #008080; font-weight: bold\">7.0</span> │        <span style=\"color: #008080; text-decoration-color: #008080; font-weight: bold\">4.0</span> │       <span style=\"color: #008080; text-decoration-color: #008080; font-weight: bold\">0.0</span> │    <span style=\"color: #008080; text-decoration-color: #008080; font-weight: bold\">11.584674</span> │   <span style=\"color: #008080; text-decoration-color: #008080; font-weight: bold\">4.447879</span> │   <span style=\"color: #008080; text-decoration-color: #008080; font-weight: bold\">8.160309</span> │      <span style=\"color: #008080; text-decoration-color: #008080; font-weight: bold\">3.1428</span> │    <span style=\"color: #008080; text-decoration-color: #008080; font-weight: bold\">7.088414</span> │   <span style=\"color: #008080; text-decoration-color: #008080; font-weight: bold\">4.635232</span> │   <span style=\"color: #008080; text-decoration-color: #008080; font-weight: bold\">6.318542</span> │  <span style=\"color: #008080; text-decoration-color: #008080; font-weight: bold\">3.496866</span> │  <span style=\"color: #008080; text-decoration-color: #008080; font-weight: bold\">4.193423</span> │   <span style=\"color: #008080; text-decoration-color: #008080; font-weight: bold\">5.112764</span> │  <span style=\"color: #008080; text-decoration-color: #008080; font-weight: bold\">2.412201</span> │   <span style=\"color: #008080; text-decoration-color: #008080; font-weight: bold\">2.157538</span> │   <span style=\"color: #008080; text-decoration-color: #008080; font-weight: bold\">2.077448</span> │ <span style=\"color: #008080; text-decoration-color: #008080; font-weight: bold\">10.898522</span> │     <span style=\"color: #008080; text-decoration-color: #008080; font-weight: bold\">2</span> │     <span style=\"color: #008080; text-decoration-color: #008080; font-weight: bold\">3</span> │     <span style=\"color: #008080; text-decoration-color: #008080; font-weight: bold\">7</span> │             <span style=\"color: #008080; text-decoration-color: #008080; font-weight: bold\">9.0</span> │     <span style=\"color: #008080; text-decoration-color: #008080; font-weight: bold\">11.083333</span> │              <span style=\"color: #008080; text-decoration-color: #008080; font-weight: bold\">7.0</span> │       <span style=\"color: #008080; text-decoration-color: #008080; font-weight: bold\">6.285714</span> │\n",
       "└────────┴────────┴────────────┴───────────┴───────────┴───────────┴───────────┴───────────┴───────────┴───────────┴───────────┴───────────┴───────────┴──────────┴──────────┴─────────┴──────────────┴────────────┴────────────┴─────────────┴─────────────┴────────────┴────────────┴───────────┴───────────┴────────────┴───────────┴────────────┴────────────┴───────────┴──────────────┴────────────┴────────────┴─────────────┴─────────────┴────────────┴────────────┴───────────┴───────────┴────────────┴───────────┴────────────┴────────────┴───────────┴───────┴───────┴───────┴─────────────────┴───────────────┴──────────────────┴────────────────┘\n",
       "</pre>\n"
      ],
      "text/plain": [
       "┏━━━━━━━━┳━━━━━━━━┳━━━━━━━━━━━━┳━━━━━━━━━━━┳━━━━━━━━━━━┳━━━━━━━━━━━┳━━━━━━━━━━━┳━━━━━━━━━━━┳━━━━━━━━━━━┳━━━━━━━━━━━┳━━━━━━━━━━━┳━━━━━━━━━━━┳━━━━━━━━━━━┳━━━━━━━━━━┳━━━━━━━━━━┳━━━━━━━━━┳━━━━━━━━━━━━━━┳━━━━━━━━━━━━┳━━━━━━━━━━━━┳━━━━━━━━━━━━━┳━━━━━━━━━━━━━┳━━━━━━━━━━━━┳━━━━━━━━━━━━┳━━━━━━━━━━━┳━━━━━━━━━━━┳━━━━━━━━━━━━┳━━━━━━━━━━━┳━━━━━━━━━━━━┳━━━━━━━━━━━━┳━━━━━━━━━━━┳━━━━━━━━━━━━━━┳━━━━━━━━━━━━┳━━━━━━━━━━━━┳━━━━━━━━━━━━━┳━━━━━━━━━━━━━┳━━━━━━━━━━━━┳━━━━━━━━━━━━┳━━━━━━━━━━━┳━━━━━━━━━━━┳━━━━━━━━━━━━┳━━━━━━━━━━━┳━━━━━━━━━━━━┳━━━━━━━━━━━━┳━━━━━━━━━━━┳━━━━━━━┳━━━━━━━┳━━━━━━━┳━━━━━━━━━━━━━━━━━┳━━━━━━━━━━━━━━━┳━━━━━━━━━━━━━━━━━━┳━━━━━━━━━━━━━━━━┓\n",
       "┃\u001b[1m \u001b[0m\u001b[1mSEASON\u001b[0m\u001b[1m \u001b[0m┃\u001b[1m \u001b[0m\u001b[1mTEAMID\u001b[0m\u001b[1m \u001b[0m┃\u001b[1m \u001b[0m\u001b[1mSCORE_MEAN\u001b[0m\u001b[1m \u001b[0m┃\u001b[1m \u001b[0m\u001b[1mFGM_MEAN\u001b[0m\u001b[1m \u001b[0m\u001b[1m \u001b[0m┃\u001b[1m \u001b[0m\u001b[1mFGA_MEAN\u001b[0m\u001b[1m \u001b[0m\u001b[1m \u001b[0m┃\u001b[1m \u001b[0m\u001b[1mFGM3_MEAN\u001b[0m\u001b[1m \u001b[0m┃\u001b[1m \u001b[0m\u001b[1mFGA3_MEAN\u001b[0m\u001b[1m \u001b[0m┃\u001b[1m \u001b[0m\u001b[1mFTM_MEAN\u001b[0m\u001b[1m \u001b[0m\u001b[1m \u001b[0m┃\u001b[1m \u001b[0m\u001b[1mFTA_MEAN\u001b[0m\u001b[1m \u001b[0m\u001b[1m \u001b[0m┃\u001b[1m \u001b[0m\u001b[1mOR_MEAN\u001b[0m\u001b[1m  \u001b[0m\u001b[1m \u001b[0m┃\u001b[1m \u001b[0m\u001b[1mDR_MEAN\u001b[0m\u001b[1m  \u001b[0m\u001b[1m \u001b[0m┃\u001b[1m \u001b[0m\u001b[1mAST_MEAN\u001b[0m\u001b[1m \u001b[0m\u001b[1m \u001b[0m┃\u001b[1m \u001b[0m\u001b[1mTO_MEAN\u001b[0m\u001b[1m  \u001b[0m\u001b[1m \u001b[0m┃\u001b[1m \u001b[0m\u001b[1mSTL_MEAN\u001b[0m\u001b[1m \u001b[0m┃\u001b[1m \u001b[0m\u001b[1mBLK_MEAN\u001b[0m\u001b[1m \u001b[0m┃\u001b[1m \u001b[0m\u001b[1mPF_MEAN\u001b[0m\u001b[1m \u001b[0m┃\u001b[1m \u001b[0m\u001b[1mSCORE_MEDIAN\u001b[0m\u001b[1m \u001b[0m┃\u001b[1m \u001b[0m\u001b[1mFGM_MEDIAN\u001b[0m\u001b[1m \u001b[0m┃\u001b[1m \u001b[0m\u001b[1mFGA_MEDIAN\u001b[0m\u001b[1m \u001b[0m┃\u001b[1m \u001b[0m\u001b[1mFGM3_MEDIAN\u001b[0m\u001b[1m \u001b[0m┃\u001b[1m \u001b[0m\u001b[1mFGA3_MEDIAN\u001b[0m\u001b[1m \u001b[0m┃\u001b[1m \u001b[0m\u001b[1mFTM_MEDIAN\u001b[0m\u001b[1m \u001b[0m┃\u001b[1m \u001b[0m\u001b[1mFTA_MEDIAN\u001b[0m\u001b[1m \u001b[0m┃\u001b[1m \u001b[0m\u001b[1mOR_MEDIAN\u001b[0m\u001b[1m \u001b[0m┃\u001b[1m \u001b[0m\u001b[1mDR_MEDIAN\u001b[0m\u001b[1m \u001b[0m┃\u001b[1m \u001b[0m\u001b[1mAST_MEDIAN\u001b[0m\u001b[1m \u001b[0m┃\u001b[1m \u001b[0m\u001b[1mTO_MEDIAN\u001b[0m\u001b[1m \u001b[0m┃\u001b[1m \u001b[0m\u001b[1mSTL_MEDIAN\u001b[0m\u001b[1m \u001b[0m┃\u001b[1m \u001b[0m\u001b[1mBLK_MEDIAN\u001b[0m\u001b[1m \u001b[0m┃\u001b[1m \u001b[0m\u001b[1mPF_MEDIAN\u001b[0m\u001b[1m \u001b[0m┃\u001b[1m \u001b[0m\u001b[1mSCORE_STDDEV\u001b[0m\u001b[1m \u001b[0m┃\u001b[1m \u001b[0m\u001b[1mFGM_STDDEV\u001b[0m\u001b[1m \u001b[0m┃\u001b[1m \u001b[0m\u001b[1mFGA_STDDEV\u001b[0m\u001b[1m \u001b[0m┃\u001b[1m \u001b[0m\u001b[1mFGM3_STDDEV\u001b[0m\u001b[1m \u001b[0m┃\u001b[1m \u001b[0m\u001b[1mFGA3_STDDEV\u001b[0m\u001b[1m \u001b[0m┃\u001b[1m \u001b[0m\u001b[1mFTM_STDDEV\u001b[0m\u001b[1m \u001b[0m┃\u001b[1m \u001b[0m\u001b[1mFTA_STDDEV\u001b[0m\u001b[1m \u001b[0m┃\u001b[1m \u001b[0m\u001b[1mOR_STDDEV\u001b[0m\u001b[1m \u001b[0m┃\u001b[1m \u001b[0m\u001b[1mDR_STDDEV\u001b[0m\u001b[1m \u001b[0m┃\u001b[1m \u001b[0m\u001b[1mAST_STDDEV\u001b[0m\u001b[1m \u001b[0m┃\u001b[1m \u001b[0m\u001b[1mTO_STDDEV\u001b[0m\u001b[1m \u001b[0m┃\u001b[1m \u001b[0m\u001b[1mSTL_STDDEV\u001b[0m\u001b[1m \u001b[0m┃\u001b[1m \u001b[0m\u001b[1mBLK_STDDEV\u001b[0m\u001b[1m \u001b[0m┃\u001b[1m \u001b[0m\u001b[1mPF_STDDEV\u001b[0m\u001b[1m \u001b[0m┃\u001b[1m \u001b[0m\u001b[1mWLOCN\u001b[0m\u001b[1m \u001b[0m┃\u001b[1m \u001b[0m\u001b[1mWLOCH\u001b[0m\u001b[1m \u001b[0m┃\u001b[1m \u001b[0m\u001b[1mWLOCA\u001b[0m\u001b[1m \u001b[0m┃\u001b[1m \u001b[0m\u001b[1mWINMARGINMEDIAN\u001b[0m\u001b[1m \u001b[0m┃\u001b[1m \u001b[0m\u001b[1mWINMARGINMEAN\u001b[0m\u001b[1m \u001b[0m┃\u001b[1m \u001b[0m\u001b[1mLOSEMARGINMEDIAN\u001b[0m\u001b[1m \u001b[0m┃\u001b[1m \u001b[0m\u001b[1mLOSEMARGINMEAN\u001b[0m\u001b[1m \u001b[0m┃\n",
       "┡━━━━━━━━╇━━━━━━━━╇━━━━━━━━━━━━╇━━━━━━━━━━━╇━━━━━━━━━━━╇━━━━━━━━━━━╇━━━━━━━━━━━╇━━━━━━━━━━━╇━━━━━━━━━━━╇━━━━━━━━━━━╇━━━━━━━━━━━╇━━━━━━━━━━━╇━━━━━━━━━━━╇━━━━━━━━━━╇━━━━━━━━━━╇━━━━━━━━━╇━━━━━━━━━━━━━━╇━━━━━━━━━━━━╇━━━━━━━━━━━━╇━━━━━━━━━━━━━╇━━━━━━━━━━━━━╇━━━━━━━━━━━━╇━━━━━━━━━━━━╇━━━━━━━━━━━╇━━━━━━━━━━━╇━━━━━━━━━━━━╇━━━━━━━━━━━╇━━━━━━━━━━━━╇━━━━━━━━━━━━╇━━━━━━━━━━━╇━━━━━━━━━━━━━━╇━━━━━━━━━━━━╇━━━━━━━━━━━━╇━━━━━━━━━━━━━╇━━━━━━━━━━━━━╇━━━━━━━━━━━━╇━━━━━━━━━━━━╇━━━━━━━━━━━╇━━━━━━━━━━━╇━━━━━━━━━━━━╇━━━━━━━━━━━╇━━━━━━━━━━━━╇━━━━━━━━━━━━╇━━━━━━━━━━━╇━━━━━━━╇━━━━━━━╇━━━━━━━╇━━━━━━━━━━━━━━━━━╇━━━━━━━━━━━━━━━╇━━━━━━━━━━━━━━━━━━╇━━━━━━━━━━━━━━━━┩\n",
       "│ \u001b[2mint64\u001b[0m  │ \u001b[2mint64\u001b[0m  │ \u001b[2mfloat64\u001b[0m    │ \u001b[2mfloat64\u001b[0m   │ \u001b[2mfloat64\u001b[0m   │ \u001b[2mfloat64\u001b[0m   │ \u001b[2mfloat64\u001b[0m   │ \u001b[2mfloat64\u001b[0m   │ \u001b[2mfloat64\u001b[0m   │ \u001b[2mfloat64\u001b[0m   │ \u001b[2mfloat64\u001b[0m   │ \u001b[2mfloat64\u001b[0m   │ \u001b[2mfloat64\u001b[0m   │ \u001b[2mfloat64\u001b[0m  │ \u001b[2mfloat64\u001b[0m  │ \u001b[2mfloat64\u001b[0m │ \u001b[2mfloat64\u001b[0m      │ \u001b[2mfloat64\u001b[0m    │ \u001b[2mfloat64\u001b[0m    │ \u001b[2mfloat64\u001b[0m     │ \u001b[2mfloat64\u001b[0m     │ \u001b[2mfloat64\u001b[0m    │ \u001b[2mfloat64\u001b[0m    │ \u001b[2mfloat64\u001b[0m   │ \u001b[2mfloat64\u001b[0m   │ \u001b[2mfloat64\u001b[0m    │ \u001b[2mfloat64\u001b[0m   │ \u001b[2mfloat64\u001b[0m    │ \u001b[2mfloat64\u001b[0m    │ \u001b[2mfloat64\u001b[0m   │ \u001b[2mfloat64\u001b[0m      │ \u001b[2mfloat64\u001b[0m    │ \u001b[2mfloat64\u001b[0m    │ \u001b[2mfloat64\u001b[0m     │ \u001b[2mfloat64\u001b[0m     │ \u001b[2mfloat64\u001b[0m    │ \u001b[2mfloat64\u001b[0m    │ \u001b[2mfloat64\u001b[0m   │ \u001b[2mfloat64\u001b[0m   │ \u001b[2mfloat64\u001b[0m    │ \u001b[2mfloat64\u001b[0m   │ \u001b[2mfloat64\u001b[0m    │ \u001b[2mfloat64\u001b[0m    │ \u001b[2mfloat64\u001b[0m   │ \u001b[2mint64\u001b[0m │ \u001b[2mint64\u001b[0m │ \u001b[2mint64\u001b[0m │ \u001b[2mfloat64\u001b[0m         │ \u001b[2mfloat64\u001b[0m       │ \u001b[2mfloat64\u001b[0m          │ \u001b[2mfloat64\u001b[0m        │\n",
       "├────────┼────────┼────────────┼───────────┼───────────┼───────────┼───────────┼───────────┼───────────┼───────────┼───────────┼───────────┼───────────┼──────────┼──────────┼─────────┼──────────────┼────────────┼────────────┼─────────────┼─────────────┼────────────┼────────────┼───────────┼───────────┼────────────┼───────────┼────────────┼────────────┼───────────┼──────────────┼────────────┼────────────┼─────────────┼─────────────┼────────────┼────────────┼───────────┼───────────┼────────────┼───────────┼────────────┼────────────┼───────────┼───────┼───────┼───────┼─────────────────┼───────────────┼──────────────────┼────────────────┤\n",
       "│   \u001b[1;36m2021\u001b[0m │   \u001b[1;36m1288\u001b[0m │  \u001b[1;36m78.263158\u001b[0m │ \u001b[1;36m26.315789\u001b[0m │ \u001b[1;36m62.421053\u001b[0m │  \u001b[1;36m8.105263\u001b[0m │ \u001b[1;36m24.631579\u001b[0m │ \u001b[1;36m17.526316\u001b[0m │ \u001b[1;36m23.421053\u001b[0m │ \u001b[1;36m11.684211\u001b[0m │ \u001b[1;36m24.157895\u001b[0m │ \u001b[1;36m13.842105\u001b[0m │ \u001b[1;36m15.526316\u001b[0m │ \u001b[1;36m7.105263\u001b[0m │ \u001b[1;36m3.736842\u001b[0m │     \u001b[1;36m8.0\u001b[0m │         \u001b[1;36m79.0\u001b[0m │       \u001b[1;36m26.0\u001b[0m │       \u001b[1;36m63.0\u001b[0m │         \u001b[1;36m8.0\u001b[0m │        \u001b[1;36m23.0\u001b[0m │       \u001b[1;36m18.0\u001b[0m │       \u001b[1;36m23.0\u001b[0m │      \u001b[1;36m12.0\u001b[0m │      \u001b[1;36m25.0\u001b[0m │       \u001b[1;36m13.0\u001b[0m │      \u001b[1;36m16.0\u001b[0m │        \u001b[1;36m7.0\u001b[0m │        \u001b[1;36m4.0\u001b[0m │       \u001b[1;36m0.0\u001b[0m │    \u001b[1;36m11.584674\u001b[0m │   \u001b[1;36m4.447879\u001b[0m │   \u001b[1;36m8.160309\u001b[0m │      \u001b[1;36m3.1428\u001b[0m │    \u001b[1;36m7.088414\u001b[0m │   \u001b[1;36m4.635232\u001b[0m │   \u001b[1;36m6.318542\u001b[0m │  \u001b[1;36m3.496866\u001b[0m │  \u001b[1;36m4.193423\u001b[0m │   \u001b[1;36m5.112764\u001b[0m │  \u001b[1;36m2.412201\u001b[0m │   \u001b[1;36m2.157538\u001b[0m │   \u001b[1;36m2.077448\u001b[0m │ \u001b[1;36m10.898522\u001b[0m │     \u001b[1;36m2\u001b[0m │     \u001b[1;36m3\u001b[0m │     \u001b[1;36m7\u001b[0m │             \u001b[1;36m9.0\u001b[0m │     \u001b[1;36m11.083333\u001b[0m │              \u001b[1;36m7.0\u001b[0m │       \u001b[1;36m6.285714\u001b[0m │\n",
       "└────────┴────────┴────────────┴───────────┴───────────┴───────────┴───────────┴───────────┴───────────┴───────────┴───────────┴───────────┴───────────┴──────────┴──────────┴─────────┴──────────────┴────────────┴────────────┴─────────────┴─────────────┴────────────┴────────────┴───────────┴───────────┴────────────┴───────────┴────────────┴────────────┴───────────┴──────────────┴────────────┴────────────┴─────────────┴─────────────┴────────────┴────────────┴───────────┴───────────┴────────────┴───────────┴────────────┴────────────┴───────────┴───────┴───────┴───────┴─────────────────┴───────────────┴──────────────────┴────────────────┘"
      ]
     },
     "execution_count": 60,
     "metadata": {},
     "output_type": "execute_result"
    }
   ],
   "source": [
    "season_joined.filter(_.SEASON == 2021, _.TEAMID == 1288)"
   ]
  },
  {
   "cell_type": "code",
   "execution_count": 61,
   "metadata": {},
   "outputs": [],
   "source": [
    "conf_wins = (\n",
    "    con.table(\"M_CONFERENCE_TOURNEY_GAMES\")\n",
    "    .mutate(\n",
    "        ROWNUM=ibis.row_number().over(\n",
    "            group_by=[\"SEASON\", \"CONFABBREV\"], order_by=_.DAYNUM.desc()\n",
    "        )\n",
    "    )\n",
    "    .filter(_.ROWNUM == 0)\n",
    "    .drop([\"DAYNUM\", \"ROWNUM\", \"LTEAMID\", \"CONFABBREV\"])\n",
    "    .mutate(WON_CONFERENCE=1)\n",
    "    .rename({\"TEAMID\": \"WTEAMID\"})\n",
    ")\n",
    "\n",
    "final = (\n",
    "    season_joined.join(conf_wins, [\"SEASON\", \"TEAMID\"], how=\"left\")\n",
    "    .mutate(WON_CONFERENCE=_.WON_CONFERENCE.fillna(0))\n",
    "    .drop(s.endswith(\"_right\"))\n",
    "    .mutate(TOTAL_WINS=_.WLOCN + _.WLOCH + _.WLOCA)\n",
    ")"
   ]
  },
  {
   "cell_type": "code",
   "execution_count": 62,
   "metadata": {},
   "outputs": [
    {
     "data": {
      "text/html": [
       "<pre style=\"white-space:pre;overflow-x:auto;line-height:normal;font-family:Menlo,'DejaVu Sans Mono',consolas,'Courier New',monospace\">┏━━━━━━━━┳━━━━━━━━┳━━━━━━━━━━━━┳━━━━━━━━━━━┳━━━━━━━━━━┳━━━━━━━━━━━┳━━━━━━━━━━━┳━━━━━━━━━━━┳━━━━━━━━━━━┳━━━━━━━━━┳━━━━━━━━━━━┳━━━━━━━━━━━┳━━━━━━━━━━┳━━━━━━━━━━┳━━━━━━━━━━┳━━━━━━━━━━━┳━━━━━━━━━━━━━━┳━━━━━━━━━━━━┳━━━━━━━━━━━━┳━━━━━━━━━━━━━┳━━━━━━━━━━━━━┳━━━━━━━━━━━━┳━━━━━━━━━━━━┳━━━━━━━━━━━┳━━━━━━━━━━━┳━━━━━━━━━━━━┳━━━━━━━━━━━┳━━━━━━━━━━━━┳━━━━━━━━━━━━┳━━━━━━━━━━━┳━━━━━━━━━━━━━━┳━━━━━━━━━━━━┳━━━━━━━━━━━━┳━━━━━━━━━━━━━┳━━━━━━━━━━━━━┳━━━━━━━━━━━━┳━━━━━━━━━━━━┳━━━━━━━━━━━┳━━━━━━━━━━━┳━━━━━━━━━━━━┳━━━━━━━━━━━┳━━━━━━━━━━━━┳━━━━━━━━━━━━┳━━━━━━━━━━━┳━━━━━━━┳━━━━━━━┳━━━━━━━┳━━━━━━━━━━━━━━━━━┳━━━━━━━━━━━━━━━┳━━━━━━━━━━━━━━━━━━┳━━━━━━━━━━━━━━━━┳━━━━━━━━━━━━━━━━┳━━━━━━━━━━━━┓\n",
       "┃<span style=\"font-weight: bold\"> SEASON </span>┃<span style=\"font-weight: bold\"> TEAMID </span>┃<span style=\"font-weight: bold\"> SCORE_MEAN </span>┃<span style=\"font-weight: bold\"> FGM_MEAN  </span>┃<span style=\"font-weight: bold\"> FGA_MEAN </span>┃<span style=\"font-weight: bold\"> FGM3_MEAN </span>┃<span style=\"font-weight: bold\"> FGA3_MEAN </span>┃<span style=\"font-weight: bold\"> FTM_MEAN  </span>┃<span style=\"font-weight: bold\"> FTA_MEAN  </span>┃<span style=\"font-weight: bold\"> OR_MEAN </span>┃<span style=\"font-weight: bold\"> DR_MEAN   </span>┃<span style=\"font-weight: bold\"> AST_MEAN  </span>┃<span style=\"font-weight: bold\"> TO_MEAN  </span>┃<span style=\"font-weight: bold\"> STL_MEAN </span>┃<span style=\"font-weight: bold\"> BLK_MEAN </span>┃<span style=\"font-weight: bold\"> PF_MEAN   </span>┃<span style=\"font-weight: bold\"> SCORE_MEDIAN </span>┃<span style=\"font-weight: bold\"> FGM_MEDIAN </span>┃<span style=\"font-weight: bold\"> FGA_MEDIAN </span>┃<span style=\"font-weight: bold\"> FGM3_MEDIAN </span>┃<span style=\"font-weight: bold\"> FGA3_MEDIAN </span>┃<span style=\"font-weight: bold\"> FTM_MEDIAN </span>┃<span style=\"font-weight: bold\"> FTA_MEDIAN </span>┃<span style=\"font-weight: bold\"> OR_MEDIAN </span>┃<span style=\"font-weight: bold\"> DR_MEDIAN </span>┃<span style=\"font-weight: bold\"> AST_MEDIAN </span>┃<span style=\"font-weight: bold\"> TO_MEDIAN </span>┃<span style=\"font-weight: bold\"> STL_MEDIAN </span>┃<span style=\"font-weight: bold\"> BLK_MEDIAN </span>┃<span style=\"font-weight: bold\"> PF_MEDIAN </span>┃<span style=\"font-weight: bold\"> SCORE_STDDEV </span>┃<span style=\"font-weight: bold\"> FGM_STDDEV </span>┃<span style=\"font-weight: bold\"> FGA_STDDEV </span>┃<span style=\"font-weight: bold\"> FGM3_STDDEV </span>┃<span style=\"font-weight: bold\"> FGA3_STDDEV </span>┃<span style=\"font-weight: bold\"> FTM_STDDEV </span>┃<span style=\"font-weight: bold\"> FTA_STDDEV </span>┃<span style=\"font-weight: bold\"> OR_STDDEV </span>┃<span style=\"font-weight: bold\"> DR_STDDEV </span>┃<span style=\"font-weight: bold\"> AST_STDDEV </span>┃<span style=\"font-weight: bold\"> TO_STDDEV </span>┃<span style=\"font-weight: bold\"> STL_STDDEV </span>┃<span style=\"font-weight: bold\"> BLK_STDDEV </span>┃<span style=\"font-weight: bold\"> PF_STDDEV </span>┃<span style=\"font-weight: bold\"> WLOCN </span>┃<span style=\"font-weight: bold\"> WLOCH </span>┃<span style=\"font-weight: bold\"> WLOCA </span>┃<span style=\"font-weight: bold\"> WINMARGINMEDIAN </span>┃<span style=\"font-weight: bold\"> WINMARGINMEAN </span>┃<span style=\"font-weight: bold\"> LOSEMARGINMEDIAN </span>┃<span style=\"font-weight: bold\"> LOSEMARGINMEAN </span>┃<span style=\"font-weight: bold\"> WON_CONFERENCE </span>┃<span style=\"font-weight: bold\"> TOTAL_WINS </span>┃\n",
       "┡━━━━━━━━╇━━━━━━━━╇━━━━━━━━━━━━╇━━━━━━━━━━━╇━━━━━━━━━━╇━━━━━━━━━━━╇━━━━━━━━━━━╇━━━━━━━━━━━╇━━━━━━━━━━━╇━━━━━━━━━╇━━━━━━━━━━━╇━━━━━━━━━━━╇━━━━━━━━━━╇━━━━━━━━━━╇━━━━━━━━━━╇━━━━━━━━━━━╇━━━━━━━━━━━━━━╇━━━━━━━━━━━━╇━━━━━━━━━━━━╇━━━━━━━━━━━━━╇━━━━━━━━━━━━━╇━━━━━━━━━━━━╇━━━━━━━━━━━━╇━━━━━━━━━━━╇━━━━━━━━━━━╇━━━━━━━━━━━━╇━━━━━━━━━━━╇━━━━━━━━━━━━╇━━━━━━━━━━━━╇━━━━━━━━━━━╇━━━━━━━━━━━━━━╇━━━━━━━━━━━━╇━━━━━━━━━━━━╇━━━━━━━━━━━━━╇━━━━━━━━━━━━━╇━━━━━━━━━━━━╇━━━━━━━━━━━━╇━━━━━━━━━━━╇━━━━━━━━━━━╇━━━━━━━━━━━━╇━━━━━━━━━━━╇━━━━━━━━━━━━╇━━━━━━━━━━━━╇━━━━━━━━━━━╇━━━━━━━╇━━━━━━━╇━━━━━━━╇━━━━━━━━━━━━━━━━━╇━━━━━━━━━━━━━━━╇━━━━━━━━━━━━━━━━━━╇━━━━━━━━━━━━━━━━╇━━━━━━━━━━━━━━━━╇━━━━━━━━━━━━┩\n",
       "│ <span style=\"color: #7f7f7f; text-decoration-color: #7f7f7f\">int64</span>  │ <span style=\"color: #7f7f7f; text-decoration-color: #7f7f7f\">int64</span>  │ <span style=\"color: #7f7f7f; text-decoration-color: #7f7f7f\">float64</span>    │ <span style=\"color: #7f7f7f; text-decoration-color: #7f7f7f\">float64</span>   │ <span style=\"color: #7f7f7f; text-decoration-color: #7f7f7f\">float64</span>  │ <span style=\"color: #7f7f7f; text-decoration-color: #7f7f7f\">float64</span>   │ <span style=\"color: #7f7f7f; text-decoration-color: #7f7f7f\">float64</span>   │ <span style=\"color: #7f7f7f; text-decoration-color: #7f7f7f\">float64</span>   │ <span style=\"color: #7f7f7f; text-decoration-color: #7f7f7f\">float64</span>   │ <span style=\"color: #7f7f7f; text-decoration-color: #7f7f7f\">float64</span> │ <span style=\"color: #7f7f7f; text-decoration-color: #7f7f7f\">float64</span>   │ <span style=\"color: #7f7f7f; text-decoration-color: #7f7f7f\">float64</span>   │ <span style=\"color: #7f7f7f; text-decoration-color: #7f7f7f\">float64</span>  │ <span style=\"color: #7f7f7f; text-decoration-color: #7f7f7f\">float64</span>  │ <span style=\"color: #7f7f7f; text-decoration-color: #7f7f7f\">float64</span>  │ <span style=\"color: #7f7f7f; text-decoration-color: #7f7f7f\">float64</span>   │ <span style=\"color: #7f7f7f; text-decoration-color: #7f7f7f\">float64</span>      │ <span style=\"color: #7f7f7f; text-decoration-color: #7f7f7f\">float64</span>    │ <span style=\"color: #7f7f7f; text-decoration-color: #7f7f7f\">float64</span>    │ <span style=\"color: #7f7f7f; text-decoration-color: #7f7f7f\">float64</span>     │ <span style=\"color: #7f7f7f; text-decoration-color: #7f7f7f\">float64</span>     │ <span style=\"color: #7f7f7f; text-decoration-color: #7f7f7f\">float64</span>    │ <span style=\"color: #7f7f7f; text-decoration-color: #7f7f7f\">float64</span>    │ <span style=\"color: #7f7f7f; text-decoration-color: #7f7f7f\">float64</span>   │ <span style=\"color: #7f7f7f; text-decoration-color: #7f7f7f\">float64</span>   │ <span style=\"color: #7f7f7f; text-decoration-color: #7f7f7f\">float64</span>    │ <span style=\"color: #7f7f7f; text-decoration-color: #7f7f7f\">float64</span>   │ <span style=\"color: #7f7f7f; text-decoration-color: #7f7f7f\">float64</span>    │ <span style=\"color: #7f7f7f; text-decoration-color: #7f7f7f\">float64</span>    │ <span style=\"color: #7f7f7f; text-decoration-color: #7f7f7f\">float64</span>   │ <span style=\"color: #7f7f7f; text-decoration-color: #7f7f7f\">float64</span>      │ <span style=\"color: #7f7f7f; text-decoration-color: #7f7f7f\">float64</span>    │ <span style=\"color: #7f7f7f; text-decoration-color: #7f7f7f\">float64</span>    │ <span style=\"color: #7f7f7f; text-decoration-color: #7f7f7f\">float64</span>     │ <span style=\"color: #7f7f7f; text-decoration-color: #7f7f7f\">float64</span>     │ <span style=\"color: #7f7f7f; text-decoration-color: #7f7f7f\">float64</span>    │ <span style=\"color: #7f7f7f; text-decoration-color: #7f7f7f\">float64</span>    │ <span style=\"color: #7f7f7f; text-decoration-color: #7f7f7f\">float64</span>   │ <span style=\"color: #7f7f7f; text-decoration-color: #7f7f7f\">float64</span>   │ <span style=\"color: #7f7f7f; text-decoration-color: #7f7f7f\">float64</span>    │ <span style=\"color: #7f7f7f; text-decoration-color: #7f7f7f\">float64</span>   │ <span style=\"color: #7f7f7f; text-decoration-color: #7f7f7f\">float64</span>    │ <span style=\"color: #7f7f7f; text-decoration-color: #7f7f7f\">float64</span>    │ <span style=\"color: #7f7f7f; text-decoration-color: #7f7f7f\">float64</span>   │ <span style=\"color: #7f7f7f; text-decoration-color: #7f7f7f\">int64</span> │ <span style=\"color: #7f7f7f; text-decoration-color: #7f7f7f\">int64</span> │ <span style=\"color: #7f7f7f; text-decoration-color: #7f7f7f\">int64</span> │ <span style=\"color: #7f7f7f; text-decoration-color: #7f7f7f\">float64</span>         │ <span style=\"color: #7f7f7f; text-decoration-color: #7f7f7f\">float64</span>       │ <span style=\"color: #7f7f7f; text-decoration-color: #7f7f7f\">float64</span>          │ <span style=\"color: #7f7f7f; text-decoration-color: #7f7f7f\">float64</span>        │ <span style=\"color: #7f7f7f; text-decoration-color: #7f7f7f\">int8</span>           │ <span style=\"color: #7f7f7f; text-decoration-color: #7f7f7f\">int64</span>      │\n",
       "├────────┼────────┼────────────┼───────────┼──────────┼───────────┼───────────┼───────────┼───────────┼─────────┼───────────┼───────────┼──────────┼──────────┼──────────┼───────────┼──────────────┼────────────┼────────────┼─────────────┼─────────────┼────────────┼────────────┼───────────┼───────────┼────────────┼───────────┼────────────┼────────────┼───────────┼──────────────┼────────────┼────────────┼─────────────┼─────────────┼────────────┼────────────┼───────────┼───────────┼────────────┼───────────┼────────────┼────────────┼───────────┼───────┼───────┼───────┼─────────────────┼───────────────┼──────────────────┼────────────────┼────────────────┼────────────┤\n",
       "│   <span style=\"color: #008080; text-decoration-color: #008080; font-weight: bold\">2024</span> │   <span style=\"color: #008080; text-decoration-color: #008080; font-weight: bold\">1314</span> │  <span style=\"color: #008080; text-decoration-color: #008080; font-weight: bold\">81.470588</span> │ <span style=\"color: #008080; text-decoration-color: #008080; font-weight: bold\">28.088235</span> │     <span style=\"color: #008080; text-decoration-color: #008080; font-weight: bold\">62.5</span> │  <span style=\"color: #008080; text-decoration-color: #008080; font-weight: bold\">7.941176</span> │ <span style=\"color: #008080; text-decoration-color: #008080; font-weight: bold\">22.441176</span> │ <span style=\"color: #008080; text-decoration-color: #008080; font-weight: bold\">17.352941</span> │ <span style=\"color: #008080; text-decoration-color: #008080; font-weight: bold\">23.029412</span> │    <span style=\"color: #008080; text-decoration-color: #008080; font-weight: bold\">10.5</span> │ <span style=\"color: #008080; text-decoration-color: #008080; font-weight: bold\">27.735294</span> │ <span style=\"color: #008080; text-decoration-color: #008080; font-weight: bold\">14.470588</span> │ <span style=\"color: #008080; text-decoration-color: #008080; font-weight: bold\">9.882353</span> │ <span style=\"color: #008080; text-decoration-color: #008080; font-weight: bold\">5.794118</span> │ <span style=\"color: #008080; text-decoration-color: #008080; font-weight: bold\">4.029412</span> │ <span style=\"color: #008080; text-decoration-color: #008080; font-weight: bold\">16.647059</span> │         <span style=\"color: #008080; text-decoration-color: #008080; font-weight: bold\">80.0</span> │       <span style=\"color: #008080; text-decoration-color: #008080; font-weight: bold\">28.0</span> │       <span style=\"color: #008080; text-decoration-color: #008080; font-weight: bold\">61.0</span> │         <span style=\"color: #008080; text-decoration-color: #008080; font-weight: bold\">8.0</span> │        <span style=\"color: #008080; text-decoration-color: #008080; font-weight: bold\">22.0</span> │       <span style=\"color: #008080; text-decoration-color: #008080; font-weight: bold\">17.0</span> │       <span style=\"color: #008080; text-decoration-color: #008080; font-weight: bold\">23.0</span> │      <span style=\"color: #008080; text-decoration-color: #008080; font-weight: bold\">10.0</span> │      <span style=\"color: #008080; text-decoration-color: #008080; font-weight: bold\">27.0</span> │       <span style=\"color: #008080; text-decoration-color: #008080; font-weight: bold\">14.0</span> │       <span style=\"color: #008080; text-decoration-color: #008080; font-weight: bold\">9.0</span> │        <span style=\"color: #008080; text-decoration-color: #008080; font-weight: bold\">5.5</span> │        <span style=\"color: #008080; text-decoration-color: #008080; font-weight: bold\">4.0</span> │      <span style=\"color: #008080; text-decoration-color: #008080; font-weight: bold\">16.5</span> │    <span style=\"color: #008080; text-decoration-color: #008080; font-weight: bold\">10.866226</span> │    <span style=\"color: #008080; text-decoration-color: #008080; font-weight: bold\">4.69279</span> │   <span style=\"color: #008080; text-decoration-color: #008080; font-weight: bold\">5.925037</span> │    <span style=\"color: #008080; text-decoration-color: #008080; font-weight: bold\">2.145343</span> │    <span style=\"color: #008080; text-decoration-color: #008080; font-weight: bold\">4.540666</span> │   <span style=\"color: #008080; text-decoration-color: #008080; font-weight: bold\">5.553499</span> │   <span style=\"color: #008080; text-decoration-color: #008080; font-weight: bold\">5.854215</span> │  <span style=\"color: #008080; text-decoration-color: #008080; font-weight: bold\">3.135815</span> │  <span style=\"color: #008080; text-decoration-color: #008080; font-weight: bold\">4.507965</span> │   <span style=\"color: #008080; text-decoration-color: #008080; font-weight: bold\">3.202606</span> │  <span style=\"color: #008080; text-decoration-color: #008080; font-weight: bold\">2.972242</span> │    <span style=\"color: #008080; text-decoration-color: #008080; font-weight: bold\">2.69432</span> │   <span style=\"color: #008080; text-decoration-color: #008080; font-weight: bold\">2.528448</span> │   <span style=\"color: #008080; text-decoration-color: #008080; font-weight: bold\">4.67023</span> │     <span style=\"color: #008080; text-decoration-color: #008080; font-weight: bold\">5</span> │    <span style=\"color: #008080; text-decoration-color: #008080; font-weight: bold\">14</span> │     <span style=\"color: #008080; text-decoration-color: #008080; font-weight: bold\">8</span> │            <span style=\"color: #008080; text-decoration-color: #008080; font-weight: bold\">13.0</span> │     <span style=\"color: #008080; text-decoration-color: #008080; font-weight: bold\">15.518519</span> │              <span style=\"color: #008080; text-decoration-color: #008080; font-weight: bold\">4.0</span> │       <span style=\"color: #008080; text-decoration-color: #008080; font-weight: bold\">5.285714</span> │              <span style=\"color: #008080; text-decoration-color: #008080; font-weight: bold\">0</span> │         <span style=\"color: #008080; text-decoration-color: #008080; font-weight: bold\">27</span> │\n",
       "└────────┴────────┴────────────┴───────────┴──────────┴───────────┴───────────┴───────────┴───────────┴─────────┴───────────┴───────────┴──────────┴──────────┴──────────┴───────────┴──────────────┴────────────┴────────────┴─────────────┴─────────────┴────────────┴────────────┴───────────┴───────────┴────────────┴───────────┴────────────┴────────────┴───────────┴──────────────┴────────────┴────────────┴─────────────┴─────────────┴────────────┴────────────┴───────────┴───────────┴────────────┴───────────┴────────────┴────────────┴───────────┴───────┴───────┴───────┴─────────────────┴───────────────┴──────────────────┴────────────────┴────────────────┴────────────┘\n",
       "</pre>\n"
      ],
      "text/plain": [
       "┏━━━━━━━━┳━━━━━━━━┳━━━━━━━━━━━━┳━━━━━━━━━━━┳━━━━━━━━━━┳━━━━━━━━━━━┳━━━━━━━━━━━┳━━━━━━━━━━━┳━━━━━━━━━━━┳━━━━━━━━━┳━━━━━━━━━━━┳━━━━━━━━━━━┳━━━━━━━━━━┳━━━━━━━━━━┳━━━━━━━━━━┳━━━━━━━━━━━┳━━━━━━━━━━━━━━┳━━━━━━━━━━━━┳━━━━━━━━━━━━┳━━━━━━━━━━━━━┳━━━━━━━━━━━━━┳━━━━━━━━━━━━┳━━━━━━━━━━━━┳━━━━━━━━━━━┳━━━━━━━━━━━┳━━━━━━━━━━━━┳━━━━━━━━━━━┳━━━━━━━━━━━━┳━━━━━━━━━━━━┳━━━━━━━━━━━┳━━━━━━━━━━━━━━┳━━━━━━━━━━━━┳━━━━━━━━━━━━┳━━━━━━━━━━━━━┳━━━━━━━━━━━━━┳━━━━━━━━━━━━┳━━━━━━━━━━━━┳━━━━━━━━━━━┳━━━━━━━━━━━┳━━━━━━━━━━━━┳━━━━━━━━━━━┳━━━━━━━━━━━━┳━━━━━━━━━━━━┳━━━━━━━━━━━┳━━━━━━━┳━━━━━━━┳━━━━━━━┳━━━━━━━━━━━━━━━━━┳━━━━━━━━━━━━━━━┳━━━━━━━━━━━━━━━━━━┳━━━━━━━━━━━━━━━━┳━━━━━━━━━━━━━━━━┳━━━━━━━━━━━━┓\n",
       "┃\u001b[1m \u001b[0m\u001b[1mSEASON\u001b[0m\u001b[1m \u001b[0m┃\u001b[1m \u001b[0m\u001b[1mTEAMID\u001b[0m\u001b[1m \u001b[0m┃\u001b[1m \u001b[0m\u001b[1mSCORE_MEAN\u001b[0m\u001b[1m \u001b[0m┃\u001b[1m \u001b[0m\u001b[1mFGM_MEAN\u001b[0m\u001b[1m \u001b[0m\u001b[1m \u001b[0m┃\u001b[1m \u001b[0m\u001b[1mFGA_MEAN\u001b[0m\u001b[1m \u001b[0m┃\u001b[1m \u001b[0m\u001b[1mFGM3_MEAN\u001b[0m\u001b[1m \u001b[0m┃\u001b[1m \u001b[0m\u001b[1mFGA3_MEAN\u001b[0m\u001b[1m \u001b[0m┃\u001b[1m \u001b[0m\u001b[1mFTM_MEAN\u001b[0m\u001b[1m \u001b[0m\u001b[1m \u001b[0m┃\u001b[1m \u001b[0m\u001b[1mFTA_MEAN\u001b[0m\u001b[1m \u001b[0m\u001b[1m \u001b[0m┃\u001b[1m \u001b[0m\u001b[1mOR_MEAN\u001b[0m\u001b[1m \u001b[0m┃\u001b[1m \u001b[0m\u001b[1mDR_MEAN\u001b[0m\u001b[1m  \u001b[0m\u001b[1m \u001b[0m┃\u001b[1m \u001b[0m\u001b[1mAST_MEAN\u001b[0m\u001b[1m \u001b[0m\u001b[1m \u001b[0m┃\u001b[1m \u001b[0m\u001b[1mTO_MEAN\u001b[0m\u001b[1m \u001b[0m\u001b[1m \u001b[0m┃\u001b[1m \u001b[0m\u001b[1mSTL_MEAN\u001b[0m\u001b[1m \u001b[0m┃\u001b[1m \u001b[0m\u001b[1mBLK_MEAN\u001b[0m\u001b[1m \u001b[0m┃\u001b[1m \u001b[0m\u001b[1mPF_MEAN\u001b[0m\u001b[1m  \u001b[0m\u001b[1m \u001b[0m┃\u001b[1m \u001b[0m\u001b[1mSCORE_MEDIAN\u001b[0m\u001b[1m \u001b[0m┃\u001b[1m \u001b[0m\u001b[1mFGM_MEDIAN\u001b[0m\u001b[1m \u001b[0m┃\u001b[1m \u001b[0m\u001b[1mFGA_MEDIAN\u001b[0m\u001b[1m \u001b[0m┃\u001b[1m \u001b[0m\u001b[1mFGM3_MEDIAN\u001b[0m\u001b[1m \u001b[0m┃\u001b[1m \u001b[0m\u001b[1mFGA3_MEDIAN\u001b[0m\u001b[1m \u001b[0m┃\u001b[1m \u001b[0m\u001b[1mFTM_MEDIAN\u001b[0m\u001b[1m \u001b[0m┃\u001b[1m \u001b[0m\u001b[1mFTA_MEDIAN\u001b[0m\u001b[1m \u001b[0m┃\u001b[1m \u001b[0m\u001b[1mOR_MEDIAN\u001b[0m\u001b[1m \u001b[0m┃\u001b[1m \u001b[0m\u001b[1mDR_MEDIAN\u001b[0m\u001b[1m \u001b[0m┃\u001b[1m \u001b[0m\u001b[1mAST_MEDIAN\u001b[0m\u001b[1m \u001b[0m┃\u001b[1m \u001b[0m\u001b[1mTO_MEDIAN\u001b[0m\u001b[1m \u001b[0m┃\u001b[1m \u001b[0m\u001b[1mSTL_MEDIAN\u001b[0m\u001b[1m \u001b[0m┃\u001b[1m \u001b[0m\u001b[1mBLK_MEDIAN\u001b[0m\u001b[1m \u001b[0m┃\u001b[1m \u001b[0m\u001b[1mPF_MEDIAN\u001b[0m\u001b[1m \u001b[0m┃\u001b[1m \u001b[0m\u001b[1mSCORE_STDDEV\u001b[0m\u001b[1m \u001b[0m┃\u001b[1m \u001b[0m\u001b[1mFGM_STDDEV\u001b[0m\u001b[1m \u001b[0m┃\u001b[1m \u001b[0m\u001b[1mFGA_STDDEV\u001b[0m\u001b[1m \u001b[0m┃\u001b[1m \u001b[0m\u001b[1mFGM3_STDDEV\u001b[0m\u001b[1m \u001b[0m┃\u001b[1m \u001b[0m\u001b[1mFGA3_STDDEV\u001b[0m\u001b[1m \u001b[0m┃\u001b[1m \u001b[0m\u001b[1mFTM_STDDEV\u001b[0m\u001b[1m \u001b[0m┃\u001b[1m \u001b[0m\u001b[1mFTA_STDDEV\u001b[0m\u001b[1m \u001b[0m┃\u001b[1m \u001b[0m\u001b[1mOR_STDDEV\u001b[0m\u001b[1m \u001b[0m┃\u001b[1m \u001b[0m\u001b[1mDR_STDDEV\u001b[0m\u001b[1m \u001b[0m┃\u001b[1m \u001b[0m\u001b[1mAST_STDDEV\u001b[0m\u001b[1m \u001b[0m┃\u001b[1m \u001b[0m\u001b[1mTO_STDDEV\u001b[0m\u001b[1m \u001b[0m┃\u001b[1m \u001b[0m\u001b[1mSTL_STDDEV\u001b[0m\u001b[1m \u001b[0m┃\u001b[1m \u001b[0m\u001b[1mBLK_STDDEV\u001b[0m\u001b[1m \u001b[0m┃\u001b[1m \u001b[0m\u001b[1mPF_STDDEV\u001b[0m\u001b[1m \u001b[0m┃\u001b[1m \u001b[0m\u001b[1mWLOCN\u001b[0m\u001b[1m \u001b[0m┃\u001b[1m \u001b[0m\u001b[1mWLOCH\u001b[0m\u001b[1m \u001b[0m┃\u001b[1m \u001b[0m\u001b[1mWLOCA\u001b[0m\u001b[1m \u001b[0m┃\u001b[1m \u001b[0m\u001b[1mWINMARGINMEDIAN\u001b[0m\u001b[1m \u001b[0m┃\u001b[1m \u001b[0m\u001b[1mWINMARGINMEAN\u001b[0m\u001b[1m \u001b[0m┃\u001b[1m \u001b[0m\u001b[1mLOSEMARGINMEDIAN\u001b[0m\u001b[1m \u001b[0m┃\u001b[1m \u001b[0m\u001b[1mLOSEMARGINMEAN\u001b[0m\u001b[1m \u001b[0m┃\u001b[1m \u001b[0m\u001b[1mWON_CONFERENCE\u001b[0m\u001b[1m \u001b[0m┃\u001b[1m \u001b[0m\u001b[1mTOTAL_WINS\u001b[0m\u001b[1m \u001b[0m┃\n",
       "┡━━━━━━━━╇━━━━━━━━╇━━━━━━━━━━━━╇━━━━━━━━━━━╇━━━━━━━━━━╇━━━━━━━━━━━╇━━━━━━━━━━━╇━━━━━━━━━━━╇━━━━━━━━━━━╇━━━━━━━━━╇━━━━━━━━━━━╇━━━━━━━━━━━╇━━━━━━━━━━╇━━━━━━━━━━╇━━━━━━━━━━╇━━━━━━━━━━━╇━━━━━━━━━━━━━━╇━━━━━━━━━━━━╇━━━━━━━━━━━━╇━━━━━━━━━━━━━╇━━━━━━━━━━━━━╇━━━━━━━━━━━━╇━━━━━━━━━━━━╇━━━━━━━━━━━╇━━━━━━━━━━━╇━━━━━━━━━━━━╇━━━━━━━━━━━╇━━━━━━━━━━━━╇━━━━━━━━━━━━╇━━━━━━━━━━━╇━━━━━━━━━━━━━━╇━━━━━━━━━━━━╇━━━━━━━━━━━━╇━━━━━━━━━━━━━╇━━━━━━━━━━━━━╇━━━━━━━━━━━━╇━━━━━━━━━━━━╇━━━━━━━━━━━╇━━━━━━━━━━━╇━━━━━━━━━━━━╇━━━━━━━━━━━╇━━━━━━━━━━━━╇━━━━━━━━━━━━╇━━━━━━━━━━━╇━━━━━━━╇━━━━━━━╇━━━━━━━╇━━━━━━━━━━━━━━━━━╇━━━━━━━━━━━━━━━╇━━━━━━━━━━━━━━━━━━╇━━━━━━━━━━━━━━━━╇━━━━━━━━━━━━━━━━╇━━━━━━━━━━━━┩\n",
       "│ \u001b[2mint64\u001b[0m  │ \u001b[2mint64\u001b[0m  │ \u001b[2mfloat64\u001b[0m    │ \u001b[2mfloat64\u001b[0m   │ \u001b[2mfloat64\u001b[0m  │ \u001b[2mfloat64\u001b[0m   │ \u001b[2mfloat64\u001b[0m   │ \u001b[2mfloat64\u001b[0m   │ \u001b[2mfloat64\u001b[0m   │ \u001b[2mfloat64\u001b[0m │ \u001b[2mfloat64\u001b[0m   │ \u001b[2mfloat64\u001b[0m   │ \u001b[2mfloat64\u001b[0m  │ \u001b[2mfloat64\u001b[0m  │ \u001b[2mfloat64\u001b[0m  │ \u001b[2mfloat64\u001b[0m   │ \u001b[2mfloat64\u001b[0m      │ \u001b[2mfloat64\u001b[0m    │ \u001b[2mfloat64\u001b[0m    │ \u001b[2mfloat64\u001b[0m     │ \u001b[2mfloat64\u001b[0m     │ \u001b[2mfloat64\u001b[0m    │ \u001b[2mfloat64\u001b[0m    │ \u001b[2mfloat64\u001b[0m   │ \u001b[2mfloat64\u001b[0m   │ \u001b[2mfloat64\u001b[0m    │ \u001b[2mfloat64\u001b[0m   │ \u001b[2mfloat64\u001b[0m    │ \u001b[2mfloat64\u001b[0m    │ \u001b[2mfloat64\u001b[0m   │ \u001b[2mfloat64\u001b[0m      │ \u001b[2mfloat64\u001b[0m    │ \u001b[2mfloat64\u001b[0m    │ \u001b[2mfloat64\u001b[0m     │ \u001b[2mfloat64\u001b[0m     │ \u001b[2mfloat64\u001b[0m    │ \u001b[2mfloat64\u001b[0m    │ \u001b[2mfloat64\u001b[0m   │ \u001b[2mfloat64\u001b[0m   │ \u001b[2mfloat64\u001b[0m    │ \u001b[2mfloat64\u001b[0m   │ \u001b[2mfloat64\u001b[0m    │ \u001b[2mfloat64\u001b[0m    │ \u001b[2mfloat64\u001b[0m   │ \u001b[2mint64\u001b[0m │ \u001b[2mint64\u001b[0m │ \u001b[2mint64\u001b[0m │ \u001b[2mfloat64\u001b[0m         │ \u001b[2mfloat64\u001b[0m       │ \u001b[2mfloat64\u001b[0m          │ \u001b[2mfloat64\u001b[0m        │ \u001b[2mint8\u001b[0m           │ \u001b[2mint64\u001b[0m      │\n",
       "├────────┼────────┼────────────┼───────────┼──────────┼───────────┼───────────┼───────────┼───────────┼─────────┼───────────┼───────────┼──────────┼──────────┼──────────┼───────────┼──────────────┼────────────┼────────────┼─────────────┼─────────────┼────────────┼────────────┼───────────┼───────────┼────────────┼───────────┼────────────┼────────────┼───────────┼──────────────┼────────────┼────────────┼─────────────┼─────────────┼────────────┼────────────┼───────────┼───────────┼────────────┼───────────┼────────────┼────────────┼───────────┼───────┼───────┼───────┼─────────────────┼───────────────┼──────────────────┼────────────────┼────────────────┼────────────┤\n",
       "│   \u001b[1;36m2024\u001b[0m │   \u001b[1;36m1314\u001b[0m │  \u001b[1;36m81.470588\u001b[0m │ \u001b[1;36m28.088235\u001b[0m │     \u001b[1;36m62.5\u001b[0m │  \u001b[1;36m7.941176\u001b[0m │ \u001b[1;36m22.441176\u001b[0m │ \u001b[1;36m17.352941\u001b[0m │ \u001b[1;36m23.029412\u001b[0m │    \u001b[1;36m10.5\u001b[0m │ \u001b[1;36m27.735294\u001b[0m │ \u001b[1;36m14.470588\u001b[0m │ \u001b[1;36m9.882353\u001b[0m │ \u001b[1;36m5.794118\u001b[0m │ \u001b[1;36m4.029412\u001b[0m │ \u001b[1;36m16.647059\u001b[0m │         \u001b[1;36m80.0\u001b[0m │       \u001b[1;36m28.0\u001b[0m │       \u001b[1;36m61.0\u001b[0m │         \u001b[1;36m8.0\u001b[0m │        \u001b[1;36m22.0\u001b[0m │       \u001b[1;36m17.0\u001b[0m │       \u001b[1;36m23.0\u001b[0m │      \u001b[1;36m10.0\u001b[0m │      \u001b[1;36m27.0\u001b[0m │       \u001b[1;36m14.0\u001b[0m │       \u001b[1;36m9.0\u001b[0m │        \u001b[1;36m5.5\u001b[0m │        \u001b[1;36m4.0\u001b[0m │      \u001b[1;36m16.5\u001b[0m │    \u001b[1;36m10.866226\u001b[0m │    \u001b[1;36m4.69279\u001b[0m │   \u001b[1;36m5.925037\u001b[0m │    \u001b[1;36m2.145343\u001b[0m │    \u001b[1;36m4.540666\u001b[0m │   \u001b[1;36m5.553499\u001b[0m │   \u001b[1;36m5.854215\u001b[0m │  \u001b[1;36m3.135815\u001b[0m │  \u001b[1;36m4.507965\u001b[0m │   \u001b[1;36m3.202606\u001b[0m │  \u001b[1;36m2.972242\u001b[0m │    \u001b[1;36m2.69432\u001b[0m │   \u001b[1;36m2.528448\u001b[0m │   \u001b[1;36m4.67023\u001b[0m │     \u001b[1;36m5\u001b[0m │    \u001b[1;36m14\u001b[0m │     \u001b[1;36m8\u001b[0m │            \u001b[1;36m13.0\u001b[0m │     \u001b[1;36m15.518519\u001b[0m │              \u001b[1;36m4.0\u001b[0m │       \u001b[1;36m5.285714\u001b[0m │              \u001b[1;36m0\u001b[0m │         \u001b[1;36m27\u001b[0m │\n",
       "└────────┴────────┴────────────┴───────────┴──────────┴───────────┴───────────┴───────────┴───────────┴─────────┴───────────┴───────────┴──────────┴──────────┴──────────┴───────────┴──────────────┴────────────┴────────────┴─────────────┴─────────────┴────────────┴────────────┴───────────┴───────────┴────────────┴───────────┴────────────┴────────────┴───────────┴──────────────┴────────────┴────────────┴─────────────┴─────────────┴────────────┴────────────┴───────────┴───────────┴────────────┴───────────┴────────────┴────────────┴───────────┴───────┴───────┴───────┴─────────────────┴───────────────┴──────────────────┴────────────────┴────────────────┴────────────┘"
      ]
     },
     "execution_count": 62,
     "metadata": {},
     "output_type": "execute_result"
    }
   ],
   "source": [
    "final.filter(_.SEASON == 2024, _.TEAMID == 1314)"
   ]
  },
  {
   "cell_type": "code",
   "execution_count": 63,
   "metadata": {},
   "outputs": [],
   "source": [
    "# This is super hacky, but I need to be able to use the same session to share cached tables.\n",
    "# I also want to avoid this message: SnowparkSessionException: (1409): More than one active session is detected. When you call...\n",
    "\n",
    "@classmethod\n",
    "def from_ibis(self, con) -> Session:\n",
    "    return Session.builder.config(\"connection\", con.con).getOrCreate()\n",
    "\n",
    "Session.from_ibis = from_ibis\n",
    "\n",
    "session = Session.from_ibis(con)"
   ]
  },
  {
   "cell_type": "code",
   "execution_count": 64,
   "metadata": {},
   "outputs": [],
   "source": [
    "season = session.sql(ibis.to_sql(final))"
   ]
  },
  {
   "cell_type": "code",
   "execution_count": 65,
   "metadata": {},
   "outputs": [
    {
     "name": "stdout",
     "output_type": "stream",
     "text": [
      "--------------------------------\n",
      "|\"SEASON\"  |\"SEED\"  |\"TEAMID\"  |\n",
      "--------------------------------\n",
      "|1985      |W01     |1207      |\n",
      "|1985      |W02     |1210      |\n",
      "|1985      |W03     |1228      |\n",
      "|1985      |W04     |1260      |\n",
      "|1985      |W05     |1374      |\n",
      "|1985      |W06     |1208      |\n",
      "|1985      |W07     |1393      |\n",
      "|1985      |W08     |1396      |\n",
      "|1985      |W09     |1439      |\n",
      "|1985      |W10     |1177      |\n",
      "--------------------------------\n",
      "\n"
     ]
    }
   ],
   "source": [
    "seeds = session.table('MEN.M_NCAATOURNEY_SEEDS')\n",
    "seeds.show()"
   ]
  },
  {
   "cell_type": "markdown",
   "metadata": {},
   "source": [
    "### Kaggle had the play in games wrongso lets replace them"
   ]
  },
  {
   "cell_type": "code",
   "execution_count": 67,
   "metadata": {},
   "outputs": [],
   "source": [
    "seeds = seeds.withColumn(\n",
    "    \"TEAMID\",\n",
    "    when((seeds[\"TEAMID\"] == 1129) & (seeds[\"SEASON\"] == 2024), 1160).otherwise(seeds[\"TEAMID\"]),\n",
    ")"
   ]
  },
  {
   "cell_type": "code",
   "execution_count": 68,
   "metadata": {},
   "outputs": [
    {
     "name": "stdout",
     "output_type": "stream",
     "text": [
      "-------------------------------------------\n",
      "|\"SEASON\"  |\"TEAMID\"  |\"REGION\"  |\"SEED\"  |\n",
      "-------------------------------------------\n",
      "|1985      |1207      |W         |1       |\n",
      "|1985      |1210      |W         |2       |\n",
      "|1985      |1228      |W         |3       |\n",
      "|1985      |1260      |W         |4       |\n",
      "|1985      |1374      |W         |5       |\n",
      "|1985      |1208      |W         |6       |\n",
      "|1985      |1393      |W         |7       |\n",
      "|1985      |1396      |W         |8       |\n",
      "|1985      |1439      |W         |9       |\n",
      "|1985      |1177      |W         |10      |\n",
      "-------------------------------------------\n",
      "\n"
     ]
    }
   ],
   "source": [
    "seed_value = (\n",
    "    seeds\n",
    "    .with_column(\"REGION\", F.substring(F.col(\"SEED\"), 1, 1))\n",
    "    .with_column(\n",
    "        \"SEED\", F.substring(F.col(\"SEED\"), 2, F.length(F.col(\"SEED\")) - 1)\n",
    "    )\n",
    "    .select(\"SEASON\", \"TEAMID\", \"REGION\", \"SEED\")\n",
    "    .with_column(\n",
    "        \"SEED\",\n",
    "        F.cast(F.regexp_replace(F.col(\"SEED\"), \"[a-z]\", \"\"), T.IntegerType()),\n",
    "    )\n",
    ")\n",
    "\n",
    "seed_value.show()"
   ]
  },
  {
   "cell_type": "code",
   "execution_count": 69,
   "metadata": {},
   "outputs": [
    {
     "name": "stdout",
     "output_type": "stream",
     "text": [
      "---------------------------------------------------------------------\n",
      "|\"SEASON\"  |\"WTEAMID\"  |\"LTEAMID\"  |\"WSCORE\"  |\"LSCORE\"  |\"DAYNUM\"  |\n",
      "---------------------------------------------------------------------\n",
      "|1985      |1116       |1234       |63        |54        |136       |\n",
      "|1985      |1120       |1345       |59        |58        |136       |\n",
      "|1985      |1207       |1250       |68        |43        |136       |\n",
      "|1985      |1229       |1425       |58        |55        |136       |\n",
      "|1985      |1242       |1325       |49        |38        |136       |\n",
      "|1985      |1246       |1449       |66        |58        |136       |\n",
      "|1985      |1256       |1338       |78        |54        |136       |\n",
      "|1985      |1260       |1233       |59        |58        |136       |\n",
      "|1985      |1314       |1292       |76        |57        |136       |\n",
      "|1985      |1323       |1333       |79        |70        |136       |\n",
      "---------------------------------------------------------------------\n",
      "\n"
     ]
    }
   ],
   "source": [
    "tourney = session.table('MEN.M_NCAATOURNEY_COMPACT_RESULTS')\n",
    "tourney = tourney.select('SEASON','WTEAMID','LTEAMID','WSCORE','LSCORE','DAYNUM')\n",
    "tourney.show()"
   ]
  },
  {
   "cell_type": "code",
   "execution_count": 70,
   "metadata": {},
   "outputs": [
    {
     "name": "stdout",
     "output_type": "stream",
     "text": [
      "--------------------------------------------------------------------\n",
      "|\"SEASON\"  |\"WTEAMID\"  |\"LTEAMID\"  |\"WSCORE\"  |\"LSCORE\"  |\"ROUND\"  |\n",
      "--------------------------------------------------------------------\n",
      "|1985      |1116       |1234       |63        |54        |1        |\n",
      "|1985      |1120       |1345       |59        |58        |1        |\n",
      "|1985      |1207       |1250       |68        |43        |1        |\n",
      "|1985      |1229       |1425       |58        |55        |1        |\n",
      "|1985      |1242       |1325       |49        |38        |1        |\n",
      "|1985      |1246       |1449       |66        |58        |1        |\n",
      "|1985      |1256       |1338       |78        |54        |1        |\n",
      "|1985      |1260       |1233       |59        |58        |1        |\n",
      "|1985      |1314       |1292       |76        |57        |1        |\n",
      "|1985      |1323       |1333       |79        |70        |1        |\n",
      "--------------------------------------------------------------------\n",
      "\n"
     ]
    }
   ],
   "source": [
    "tourney_round = tourney.with_column(\n",
    "    \"ROUND\",\n",
    "    when((tourney.daynum >= 134) & (tourney.daynum <= 135), lit(0))\n",
    "    .when((tourney.daynum >= 136) & (tourney.daynum <= 137), lit(1))\n",
    "    .when((tourney.daynum >= 138) & (tourney.daynum <= 139), lit(2))\n",
    "    .when((tourney.daynum >= 143) & (tourney.daynum <= 144), lit(3))\n",
    "    .when(tourney.daynum == 145, lit(4))\n",
    "    .when(tourney.daynum == 152, lit(5))\n",
    "    .otherwise(lit(6)),\n",
    ").drop(\"DAYNUM\")\n",
    "\n",
    "tourney_round.show()"
   ]
  },
  {
   "cell_type": "code",
   "execution_count": 71,
   "metadata": {},
   "outputs": [
    {
     "name": "stdout",
     "output_type": "stream",
     "text": [
      "------------------------------------------\n",
      "|\"C_SEASON\"  |\"C_TEAMID\"  |\"CONFABBREV\"  |\n",
      "------------------------------------------\n",
      "|1985        |1102        |WAC           |\n",
      "|1985        |1103        |OVC           |\n",
      "|1985        |1104        |SEC           |\n",
      "|1985        |1106        |SWAC          |\n",
      "|1985        |1108        |SWAC          |\n",
      "|1985        |1109        |IND           |\n",
      "|1985        |1110        |ECACS         |\n",
      "|1985        |1111        |SOUTHERN      |\n",
      "|1985        |1112        |PAC_TEN       |\n",
      "|1985        |1113        |PAC_TEN       |\n",
      "------------------------------------------\n",
      "\n"
     ]
    }
   ],
   "source": [
    "## Add in conference names, uppercase column headers and values and one hot encode\n",
    "conf = session.table('MEN.M_TEAM_CONFERENCES')\n",
    "\n",
    "def fix_values(column):\n",
    "    return F.upper(F.regexp_replace(F.col(column), \"[^a-zA-Z0-9]+\", \"_\"))\n",
    "\n",
    "conf = conf.with_column(\"CONFABBREV\", fix_values(\"CONFABBREV\"))\n",
    "conf = conf.with_column_renamed(\"SEASON\", \"C_SEASON\")\n",
    "conf = conf.with_column_renamed(\"TEAMID\", \"C_TEAMID\")\n",
    "\n",
    "conf.show()"
   ]
  },
  {
   "cell_type": "code",
   "execution_count": 72,
   "metadata": {},
   "outputs": [
    {
     "name": "stdout",
     "output_type": "stream",
     "text": [
      "-------------------------------------------------------------------------------\n",
      "|\"SEASON\"  |\"WTEAMID\"  |\"LTEAMID\"  |\"WSCORE\"  |\"LSCORE\"  |\"ROUND\"  |\"W_CONF\"  |\n",
      "-------------------------------------------------------------------------------\n",
      "|1985      |1104       |1112       |50        |41        |1        |SEC       |\n",
      "|1985      |1104       |1433       |63        |59        |2        |SEC       |\n",
      "|1985      |1116       |1234       |63        |54        |1        |SWC       |\n",
      "|1985      |1120       |1345       |59        |58        |1        |SEC       |\n",
      "|1985      |1120       |1242       |66        |64        |2        |SEC       |\n",
      "|1985      |1130       |1403       |55        |53        |1        |BIG_EAST  |\n",
      "|1985      |1130       |1181       |74        |73        |2        |BIG_EAST  |\n",
      "|1985      |1181       |1337       |75        |62        |1        |ACC       |\n",
      "|1985      |1207       |1250       |68        |43        |1        |BIG_EAST  |\n",
      "|1985      |1207       |1396       |63        |46        |2        |BIG_EAST  |\n",
      "-------------------------------------------------------------------------------\n",
      "\n"
     ]
    }
   ],
   "source": [
    "tourney_conf_w = (\n",
    "    tourney_round.join(\n",
    "        conf,\n",
    "        (tourney_round.col(\"WTEAMID\") == conf.col(\"C_TEAMID\"))\n",
    "        & (tourney_round.col(\"SEASON\") == conf.col(\"C_SEASON\")),\n",
    "    )\n",
    "    .drop(\"C_SEASON\", \"C_TEAMID\")\n",
    "    .with_column_renamed(\"CONFABBREV\", \"W_CONF\")\n",
    ")\n",
    "tourney_conf_w.show()"
   ]
  },
  {
   "cell_type": "code",
   "execution_count": 73,
   "metadata": {},
   "outputs": [
    {
     "name": "stdout",
     "output_type": "stream",
     "text": [
      "-------------------------------------------------------------------------------------------\n",
      "|\"SEASON\"  |\"WTEAMID\"  |\"LTEAMID\"  |\"WSCORE\"  |\"LSCORE\"  |\"ROUND\"  |\"W_CONF\"  |\"L_CONF\"   |\n",
      "-------------------------------------------------------------------------------------------\n",
      "|1985      |1104       |1112       |50        |41        |1        |SEC       |PAC_TEN    |\n",
      "|1985      |1104       |1433       |63        |59        |2        |SEC       |SUN_BELT   |\n",
      "|1985      |1116       |1234       |63        |54        |1        |SWC       |BIG_TEN    |\n",
      "|1985      |1120       |1345       |59        |58        |1        |SEC       |BIG_TEN    |\n",
      "|1985      |1120       |1242       |66        |64        |2        |SEC       |BIG_EIGHT  |\n",
      "|1985      |1130       |1403       |55        |53        |1        |BIG_EAST  |SWC        |\n",
      "|1985      |1130       |1181       |74        |73        |2        |BIG_EAST  |ACC        |\n",
      "|1985      |1181       |1337       |75        |62        |1        |ACC       |WCC        |\n",
      "|1985      |1207       |1250       |68        |43        |1        |BIG_EAST  |ECC        |\n",
      "|1985      |1207       |1396       |63        |46        |2        |BIG_EAST  |A_TEN      |\n",
      "-------------------------------------------------------------------------------------------\n",
      "\n"
     ]
    }
   ],
   "source": [
    "tourney_conf_round = tourney_conf_w.join(\n",
    "    conf,\n",
    "    (tourney_round.col(\"LTEAMID\") == conf.col(\"C_TEAMID\"))\n",
    "    & (tourney_round.col(\"SEASON\") == conf.col(\"C_SEASON\"))).drop(\"C_SEASON\",\"C_TEAMID\").with_column_renamed(\"CONFABBREV\", \"L_CONF\")\n",
    "tourney_conf_round.show()"
   ]
  },
  {
   "cell_type": "code",
   "execution_count": 74,
   "metadata": {},
   "outputs": [
    {
     "name": "stdout",
     "output_type": "stream",
     "text": [
      "-------------------------------------------------------------------------------------------\n",
      "|\"SEASON\"  |\"WTEAMID\"  |\"LTEAMID\"  |\"WSCORE\"  |\"LSCORE\"  |\"ROUND\"  |\"W_CONF\"  |\"L_CONF\"   |\n",
      "-------------------------------------------------------------------------------------------\n",
      "|1985      |1104       |1112       |50        |41        |1        |SEC       |PAC_TEN    |\n",
      "|1985      |1104       |1433       |63        |59        |2        |SEC       |SUN_BELT   |\n",
      "|1985      |1116       |1234       |63        |54        |1        |SWC       |BIG_TEN    |\n",
      "|1985      |1120       |1345       |59        |58        |1        |SEC       |BIG_TEN    |\n",
      "|1985      |1120       |1242       |66        |64        |2        |SEC       |BIG_EIGHT  |\n",
      "|1985      |1130       |1403       |55        |53        |1        |BIG_EAST  |SWC        |\n",
      "|1985      |1130       |1181       |74        |73        |2        |BIG_EAST  |ACC        |\n",
      "|1985      |1181       |1337       |75        |62        |1        |ACC       |WCC        |\n",
      "|1985      |1207       |1250       |68        |43        |1        |BIG_EAST  |ECC        |\n",
      "|1985      |1207       |1396       |63        |46        |2        |BIG_EAST  |A_TEN      |\n",
      "-------------------------------------------------------------------------------------------\n",
      "\n"
     ]
    }
   ],
   "source": [
    "tourney_conf_round.show()"
   ]
  },
  {
   "cell_type": "code",
   "execution_count": 75,
   "metadata": {},
   "outputs": [],
   "source": [
    "w_t = (\n",
    "    tourney_conf_round.join(\n",
    "        seed_value,\n",
    "        (\n",
    "            (tourney_conf_round.SEASON == seed_value.SEASON)\n",
    "            & (tourney_conf_round.WTEAMID == seed_value.TEAMID)\n",
    "        ),\n",
    "        rsuffix=\"_W\",\n",
    "    )\n",
    "    .drop([\"SEASON_W\", \"TEAMID\"])\n",
    "    .with_column_renamed(\"REGION\", \"W_REGION\")\n",
    "    .with_column_renamed(\"SEED\", \"W_SEED\")\n",
    "    .cache_result()\n",
    ")\n",
    "\n",
    "tourney_conf_round = (\n",
    "    w_t.join(\n",
    "        seed_value,\n",
    "        ((w_t.SEASON == seed_value.SEASON) & (w_t.LTEAMID == seed_value.TEAMID)),\n",
    "        rsuffix=\"_L\",\n",
    "    )\n",
    "    .drop([\"SEASON_L\", \"TEAMID\"])\n",
    "    .with_column_renamed(\"REGION\", \"L_REGION\")\n",
    "    .with_column_renamed(\"SEED\", \"L_SEED\")\n",
    ")"
   ]
  },
  {
   "cell_type": "code",
   "execution_count": 76,
   "metadata": {},
   "outputs": [
    {
     "name": "stdout",
     "output_type": "stream",
     "text": [
      "------------------------------------------------------------------------------------------------------------------------------------------\n",
      "|\"SEASON\"  |\"WTEAMID\"  |\"LTEAMID\"  |\"WSCORE\"  |\"LSCORE\"  |\"ROUND\"  |\"W_CONF\"  |\"L_CONF\"  |\"W_REGION\"  |\"W_SEED\"  |\"L_REGION\"  |\"L_SEED\"  |\n",
      "------------------------------------------------------------------------------------------------------------------------------------------\n",
      "|1985      |1437       |1207       |66        |64        |6        |BIG_EAST  |BIG_EAST  |Z           |8         |W           |1         |\n",
      "|1985      |1207       |1210       |60        |54        |4        |BIG_EAST  |ACC       |W           |1         |W           |2         |\n",
      "|1985      |1210       |1228       |61        |53        |3        |ACC       |BIG_TEN   |W           |2         |W           |3         |\n",
      "|1985      |1207       |1260       |65        |53        |3        |BIG_EAST  |MW_CITY   |W           |1         |W           |4         |\n",
      "|1985      |1260       |1374       |70        |57        |2        |MW_CITY   |SWC       |W           |4         |W           |5         |\n",
      "|1985      |1228       |1208       |74        |58        |2        |BIG_TEN   |SEC       |W           |3         |W           |6         |\n",
      "|1985      |1210       |1393       |70        |53        |2        |ACC       |BIG_EAST  |W           |2         |W           |7         |\n",
      "|1985      |1207       |1396       |63        |46        |2        |BIG_EAST  |A_TEN     |W           |1         |W           |8         |\n",
      "|1985      |1396       |1439       |60        |57        |1        |A_TEN     |METRO     |W           |8         |W           |9         |\n",
      "|1985      |1393       |1177       |70        |65        |1        |BIG_EAST  |IND       |W           |7         |W           |10        |\n",
      "------------------------------------------------------------------------------------------------------------------------------------------\n",
      "\n"
     ]
    }
   ],
   "source": [
    "tourney_conf_round.show()"
   ]
  },
  {
   "cell_type": "code",
   "execution_count": 77,
   "metadata": {},
   "outputs": [],
   "source": [
    "season_w = season.select(\n",
    "    *[F.col(col).alias(f\"W_{col}\") for col in season.columns]\n",
    ")\n",
    "\n",
    "\n",
    "season_l = season.select(\n",
    "    *[F.col(col).alias(f\"L_{col}\") for col in season.columns]\n",
    ")"
   ]
  },
  {
   "cell_type": "code",
   "execution_count": 78,
   "metadata": {},
   "outputs": [
    {
     "name": "stdout",
     "output_type": "stream",
     "text": [
      "-----------------------------------------------------------------------------------------------------------------------------------------------------------------------------------------------------------------------------------------------------------------------------------------------------------------------------------------------------------------------------------------------------------------------------------------------------------------------------------------------------------------------------------------------------------------------------------------------------------------------------------------------------------------------------------------------------------------------------------------------------------------------------------------------------------------------------------------------------------------------------------------------------------------------------------------------------------------------------------------------------------------------------------------------------------------------------------------------------------------------------------------------------------------------------------------------------------------------------------------------------------------------------------------------------------------------------------------------------------------------------------------------------------------------------------------------------------------------------------------------------------------------------------------------------------------------------------------------------------------------------------------------------------------------------------------------------------------------------------------------------------------------------------------------------------------------------------------------------------------------------------------------------------------------------------------------------------------------------------------------------------------------\n",
      "|\"SEASON\"  |\"WTEAMID\"  |\"LTEAMID\"  |\"WSCORE\"  |\"LSCORE\"  |\"ROUND\"  |\"W_CONF\"    |\"L_CONF\"    |\"W_REGION\"  |\"W_SEED\"  |\"L_REGION\"  |\"L_SEED\"  |\"W_SCORE_MEAN\"  |\"W_FGM_MEAN\"  |\"W_FGA_MEAN\"  |\"W_FGM3_MEAN\"  |\"W_FGA3_MEAN\"  |\"W_FTM_MEAN\"  |\"W_FTA_MEAN\"  |\"W_OR_MEAN\"  |\"W_DR_MEAN\"  |\"W_AST_MEAN\"  |\"W_TO_MEAN\"  |\"W_STL_MEAN\"  |\"W_BLK_MEAN\"  |\"W_PF_MEAN\"  |\"W_SCORE_MEDIAN\"  |\"W_FGM_MEDIAN\"  |\"W_FGA_MEDIAN\"  |\"W_FGM3_MEDIAN\"  |\"W_FGA3_MEDIAN\"  |\"W_FTM_MEDIAN\"  |\"W_FTA_MEDIAN\"  |\"W_OR_MEDIAN\"  |\"W_DR_MEDIAN\"  |\"W_AST_MEDIAN\"  |\"W_TO_MEDIAN\"  |\"W_STL_MEDIAN\"  |\"W_BLK_MEDIAN\"  |\"W_PF_MEDIAN\"  |\"W_SCORE_STDDEV\"    |\"W_FGM_STDDEV\"      |\"W_FGA_STDDEV\"      |\"W_FGM3_STDDEV\"     |\"W_FGA3_STDDEV\"     |\"W_FTM_STDDEV\"      |\"W_FTA_STDDEV\"     |\"W_OR_STDDEV\"       |\"W_DR_STDDEV\"      |\"W_AST_STDDEV\"      |\"W_TO_STDDEV\"       |\"W_STL_STDDEV\"      |\"W_BLK_STDDEV\"      |\"W_PF_STDDEV\"       |\"W_WLOCN\"  |\"W_WLOCH\"  |\"W_WLOCA\"  |\"W_WINMARGINMEDIAN\"  |\"W_WINMARGINMEAN\"  |\"W_LOSEMARGINMEDIAN\"  |\"W_LOSEMARGINMEAN\"  |\"W_WON_CONFERENCE\"  |\"W_TOTAL_WINS\"  |\"L_SCORE_MEAN\"  |\"L_FGM_MEAN\"  |\"L_FGA_MEAN\"  |\"L_FGM3_MEAN\"  |\"L_FGA3_MEAN\"  |\"L_FTM_MEAN\"  |\"L_FTA_MEAN\"  |\"L_OR_MEAN\"  |\"L_DR_MEAN\"  |\"L_AST_MEAN\"  |\"L_TO_MEAN\"  |\"L_STL_MEAN\"  |\"L_BLK_MEAN\"  |\"L_PF_MEAN\"  |\"L_SCORE_MEDIAN\"  |\"L_FGM_MEDIAN\"  |\"L_FGA_MEDIAN\"  |\"L_FGM3_MEDIAN\"  |\"L_FGA3_MEDIAN\"  |\"L_FTM_MEDIAN\"  |\"L_FTA_MEDIAN\"  |\"L_OR_MEDIAN\"  |\"L_DR_MEDIAN\"  |\"L_AST_MEDIAN\"  |\"L_TO_MEDIAN\"  |\"L_STL_MEDIAN\"  |\"L_BLK_MEDIAN\"  |\"L_PF_MEDIAN\"  |\"L_SCORE_STDDEV\"    |\"L_FGM_STDDEV\"      |\"L_FGA_STDDEV\"      |\"L_FGM3_STDDEV\"     |\"L_FGA3_STDDEV\"     |\"L_FTM_STDDEV\"      |\"L_FTA_STDDEV\"     |\"L_OR_STDDEV\"       |\"L_DR_STDDEV\"       |\"L_AST_STDDEV\"      |\"L_TO_STDDEV\"       |\"L_STL_STDDEV\"      |\"L_BLK_STDDEV\"      |\"L_PF_STDDEV\"       |\"L_WLOCN\"  |\"L_WLOCH\"  |\"L_WLOCA\"  |\"L_WINMARGINMEDIAN\"  |\"L_WINMARGINMEAN\"  |\"L_LOSEMARGINMEDIAN\"  |\"L_LOSEMARGINMEAN\"  |\"L_WON_CONFERENCE\"  |\"L_TOTAL_WINS\"  |\n",
      "-----------------------------------------------------------------------------------------------------------------------------------------------------------------------------------------------------------------------------------------------------------------------------------------------------------------------------------------------------------------------------------------------------------------------------------------------------------------------------------------------------------------------------------------------------------------------------------------------------------------------------------------------------------------------------------------------------------------------------------------------------------------------------------------------------------------------------------------------------------------------------------------------------------------------------------------------------------------------------------------------------------------------------------------------------------------------------------------------------------------------------------------------------------------------------------------------------------------------------------------------------------------------------------------------------------------------------------------------------------------------------------------------------------------------------------------------------------------------------------------------------------------------------------------------------------------------------------------------------------------------------------------------------------------------------------------------------------------------------------------------------------------------------------------------------------------------------------------------------------------------------------------------------------------------------------------------------------------------------------------------------------------------\n",
      "|2003      |1393       |1328       |63        |47        |6        |BIG_EAST    |BIG_TWELVE  |W           |3         |W           |1         |80.103448       |29.241379     |62.206897     |5.241379       |15.862069      |16.379310     |23.620690     |14.310345    |26.896552    |14.965517     |13.620690    |8.310345      |7.275862      |16.586207    |82.000            |29.000          |62.000          |5.000            |16.000           |17.000          |22.000          |14.000         |26.000         |14.000          |13.000         |9.000           |6.000           |17.000         |13.43860331284468   |6.769971344104789   |10.30041368101301   |2.415059419558865   |4.3648280607602405  |6.3606704049180225  |7.757087984546779  |5.568427875082876   |5.287078777548146  |5.666207814755826   |3.940755891957785   |2.465525907387712   |2.9748536098436844  |3.9235301706498955  |1          |17         |6          |9.000                |14.416667          |13.000                |10.000000           |0                   |24.0            |71.166667       |25.266667     |56.533333     |7.466667       |18.966667      |13.166667     |18.600000     |12.133333    |24.966667    |14.166667     |11.800000    |6.933333      |3.766667      |18.600000    |69.500            |25.000          |55.500          |8.000            |19.000           |14.500          |19.500          |11.000         |24.500         |14.000          |11.000         |7.000           |4.000           |18.000         |13.769239412545632  |5.368704592357452   |6.273828177436803   |2.8251741539239665  |5.215912863535969   |5.458832384310769   |7.407358908544935  |4.264798471205879   |4.038464435896397   |5.2528043938452535  |2.808852968740087   |3.423381369348148   |2.028815417922488   |4.148950831234325   |4          |15         |5          |12.500               |15.541667          |6.000                 |7.166667            |1                   |24.0            |\n",
      "|2003      |1120       |1448       |68        |62        |2        |SEC         |ACC         |W           |10        |W           |2         |70.100000       |25.700000     |54.700000     |5.633333       |16.333333      |13.066667     |19.733333     |11.933333    |22.566667    |13.400000     |15.900000    |8.033333      |4.966667      |16.366667    |69.500            |25.500          |54.500          |5.000            |16.000           |13.000          |18.000          |12.000         |22.000         |14.000          |16.000         |7.000           |4.500           |16.500         |14.41347550037811   |5.9256892426113605  |6.046657671805144   |2.484202890264803   |5.664976081149858   |6.3187369782259495  |8.432013460615442  |3.183289650660147   |5.568899711792268  |5.055553481074055   |4.692988173861085   |3.285110957030219   |2.5928727311613273  |3.9258940383051604  |3          |13         |3          |15.000               |16.157895          |17.000                |15.545455           |0                   |19.0            |78.413793       |26.137931     |57.241379     |6.103448       |17.724138      |20.034483     |26.620690     |14.758621    |26.931034    |14.586207     |15.103448    |6.413793      |4.379310      |18.482759    |75.000            |25.000          |57.000          |6.000            |18.000           |19.000          |25.000          |14.000         |27.000         |14.000          |15.000         |7.000           |5.000           |18.000         |11.977709171623763  |4.525516103164367   |6.743542763266205   |2.1438421117237154  |3.272139514140557   |6.721409078459665   |8.796971069635276  |4.23973690221457    |5.324679990384398   |4.127583554575243   |4.730937856281775   |3.235045131060771   |1.801066906030978   |4.3803187098657554  |1          |16         |7          |11.500               |15.666667          |10.000                |12.600000           |0                   |24.0            |\n",
      "|2003      |1139       |1257       |79        |71        |2        |HORIZON     |CUSA        |W           |12        |W           |4         |68.586207       |24.068966     |50.655172     |8.482759       |21.862069      |11.965517     |16.551724     |7.827586     |20.379310    |12.965517     |10.413793    |6.344828      |1.862069      |16.068966    |68.000            |23.000          |50.000          |9.000            |21.000           |11.000          |15.000          |7.000          |21.000         |13.000          |10.000         |6.000           |2.000           |16.000         |7.798888382327317   |3.261584124317507   |5.595124574127014   |2.5721127502502688  |4.680690867810007   |5.30823322773218    |6.299581652776634  |2.8418928551231484  |4.246122584193725  |3.6886191183151453  |4.187713696039881   |2.8694929865744574  |1.432384026719092   |4.415322638267786   |3          |11         |10         |12.000               |11.500000          |10.000                |10.800000           |0                   |24.0            |81.833333       |27.966667     |60.833333     |8.433333       |23.400000      |17.466667     |25.100000     |13.200000    |25.100000    |16.600000     |13.366667    |7.200000      |4.733333      |22.666667    |81.000            |28.000          |62.000          |9.000            |24.000           |18.000          |25.500          |13.500         |25.000         |16.000          |12.000         |6.500           |4.500           |22.000         |10.90739492271184   |5.549049828574258   |6.8485253157157855  |2.686920170008778   |4.132295003989913   |6.916912461496097   |8.968719585314282  |3.836305644757727   |4.4049345057560165  |4.445842664782459   |4.398144836178091   |3.6045947067596935  |2.6901267628124885  |5.351978886355962   |0          |16         |8          |18.000               |18.333333          |4.000                 |6.500000            |1                   |24.0            |\n",
      "|2003      |1139       |1280       |47        |46        |1        |HORIZON     |SEC         |W           |12        |W           |5         |68.586207       |24.068966     |50.655172     |8.482759       |21.862069      |11.965517     |16.551724     |7.827586     |20.379310    |12.965517     |10.413793    |6.344828      |1.862069      |16.068966    |68.000            |23.000          |50.000          |9.000            |21.000           |11.000          |15.000          |7.000          |21.000         |13.000          |10.000         |6.000           |2.000           |16.000         |7.798888382327317   |3.261584124317507   |5.595124574127014   |2.5721127502502688  |4.680690867810007   |5.30823322773218    |6.299581652776634  |2.8418928551231484  |4.246122584193725  |3.6886191183151453  |4.187713696039881   |2.8694929865744574  |1.432384026719092   |4.415322638267786   |3          |11         |10         |12.000               |11.500000          |10.000                |10.800000           |0                   |24.0            |70.166667       |26.333333     |55.800000     |5.566667       |16.200000      |11.933333     |17.633333     |12.666667    |24.600000    |14.500000     |15.633333    |8.733333      |3.733333      |15.900000    |68.000            |25.500          |56.000          |5.000            |17.500           |10.500          |16.500          |12.000         |23.500         |14.000          |14.500         |8.000           |3.500           |15.500         |12.45151516884592   |5.247878619023119   |7.452840263953066   |2.5822114553227435  |4.7080268690822065  |5.680780228102474   |7.136517708238381  |4.357580291859233   |5.745162921971839   |3.3295956210927478  |3.8190387534037935  |2.9353180406899693  |1.964044551429524   |3.273193089324246   |5          |12         |4          |16.000               |17.190476          |7.000                 |6.777778            |0                   |21.0            |\n",
      "|2003      |1393       |1329       |68        |56        |2        |BIG_EAST    |BIG_TWELVE  |W           |3         |W           |6         |80.103448       |29.241379     |62.206897     |5.241379       |15.862069      |16.379310     |23.620690     |14.310345    |26.896552    |14.965517     |13.620690    |8.310345      |7.275862      |16.586207    |82.000            |29.000          |62.000          |5.000            |16.000           |17.000          |22.000          |14.000         |26.000         |14.000          |13.000         |9.000           |6.000           |17.000         |13.43860331284468   |6.769971344104789   |10.30041368101301   |2.415059419558865   |4.3648280607602405  |6.3606704049180225  |7.757087984546779  |5.568427875082876   |5.287078777548146  |5.666207814755826   |3.940755891957785   |2.465525907387712   |2.9748536098436844  |3.9235301706498955  |1          |17         |6          |9.000                |14.416667          |13.000                |10.000000           |0                   |24.0            |68.724138       |24.655172     |55.413793     |4.862069       |12.965517      |14.551724     |22.344828     |12.379310    |24.068966    |12.241379     |14.655172    |8.793103      |5.586207      |20.137931    |68.000            |24.000          |56.000          |4.000            |13.000           |14.000          |21.000          |12.000         |24.000         |12.000          |15.000         |8.000           |5.000           |18.000         |11.777389226819329  |4.790435888309121   |4.7019542745543585  |2.682271611899138   |3.9141023236497023  |4.982728770463028   |6.688347329497773  |3.121512774281086   |4.366520582798162   |4.197407175864643   |3.4772306509634934  |3.5393635021003425  |3.510364653422775   |4.9405330684046636  |2          |13         |5          |11.500               |13.800000          |11.000                |9.666667            |0                   |20.0            |\n",
      "|2003      |1120       |1386       |65        |63        |1        |SEC         |A_TEN       |W           |10        |W           |7         |70.100000       |25.700000     |54.700000     |5.633333       |16.333333      |13.066667     |19.733333     |11.933333    |22.566667    |13.400000     |15.900000    |8.033333      |4.966667      |16.366667    |69.500            |25.500          |54.500          |5.000            |16.000           |13.000          |18.000          |12.000         |22.000         |14.000          |16.000         |7.000           |4.500           |16.500         |14.41347550037811   |5.9256892426113605  |6.046657671805144   |2.484202890264803   |5.664976081149858   |6.3187369782259495  |8.432013460615442  |3.183289650660147   |5.568899711792268  |5.055553481074055   |4.692988173861085   |3.285110957030219   |2.5928727311613273  |3.9258940383051604  |3          |13         |3          |15.000               |16.157895          |17.000                |15.545455           |0                   |19.0            |70.620690       |24.241379     |54.413793     |8.034483       |21.862069      |14.103448     |20.655172     |11.172414    |24.137931    |14.000000     |12.931034    |7.206897      |5.551724      |18.758621    |73.000            |24.000          |55.000          |7.000            |22.000           |13.000          |18.000          |12.000         |24.000         |13.000          |12.000         |6.000           |5.000           |19.000         |10.390290082572285  |4.509158679842615   |6.716276795963668   |3.0645759902472642  |4.634684023749624   |6.393885594847628   |7.825215013020409  |3.6358234280558785  |3.7770371986518745  |4.898979485566356   |2.9632394435819727  |3.529258420688403   |2.0973828930359857  |4.214390110087105   |4          |11         |8          |17.000               |16.043478          |7.000                 |6.666667            |0                   |23.0            |\n",
      "|2003      |1328       |1143       |74        |65        |2        |BIG_TWELVE  |PAC_TEN     |W           |1         |W           |8         |71.166667       |25.266667     |56.533333     |7.466667       |18.966667      |13.166667     |18.600000     |12.133333    |24.966667    |14.166667     |11.800000    |6.933333      |3.766667      |18.600000    |69.500            |25.000          |55.500          |8.000            |19.000           |14.500          |19.500          |11.000         |24.500         |14.000          |11.000         |7.000           |4.000           |18.000         |13.769239412545632  |5.368704592357452   |6.273828177436803   |2.8251741539239665  |5.215912863535969   |5.458832384310769   |7.407358908544935  |4.264798471205879   |4.038464435896397  |5.2528043938452535  |2.808852968740087   |3.423381369348148   |2.028815417922488   |4.148950831234325   |4          |15         |5          |12.500               |15.541667          |6.000                 |7.166667            |1                   |24.0            |74.482759       |27.344828     |58.724138     |6.413793       |17.034483      |13.379310     |19.517241     |11.241379    |24.379310    |16.000000     |14.172414    |6.551724      |2.793103      |17.103448    |75.000            |27.000          |58.000          |6.000            |18.000           |13.000          |19.000          |11.000         |22.000         |17.000          |14.000         |7.000           |3.000           |18.000         |7.75804047424348    |3.5383193750706     |7.864461456450785   |2.542738091113593   |4.6173798847398295  |5.753345548461347   |7.395078904244363  |3.897390793851702   |5.512413264623762   |4.140393338802486   |4.464694614416533   |2.640159654263355   |1.6339984700115238  |3.744947396159257   |1          |13         |7          |10.000               |10.380952          |12.500                |10.125000           |0                   |21.0            |\n",
      "|2003      |1143       |1301       |76        |74        |1        |PAC_TEN     |ACC         |W           |8         |W           |9         |74.482759       |27.344828     |58.724138     |6.413793       |17.034483      |13.379310     |19.517241     |11.241379    |24.379310    |16.000000     |14.172414    |6.551724      |2.793103      |17.103448    |75.000            |27.000          |58.000          |6.000            |18.000           |13.000          |19.000          |11.000         |22.000         |17.000          |14.000         |7.000           |3.000           |18.000         |7.75804047424348    |3.5383193750706     |7.864461456450785   |2.542738091113593   |4.6173798847398295  |5.753345548461347   |7.395078904244363  |3.897390793851702   |5.512413264623762  |4.140393338802486   |4.464694614416533   |2.640159654263355   |1.6339984700115238  |3.744947396159257   |1          |13         |7          |10.000               |10.380952          |12.500                |10.125000           |0                   |21.0            |72.400000       |24.333333     |53.333333     |7.966667       |22.500000      |15.766667     |20.466667     |9.733333     |22.033333    |14.666667     |14.200000    |7.766667      |3.066667      |18.666667    |71.500            |23.500          |52.000          |8.000            |21.500           |15.000          |19.000          |10.000         |21.000         |14.000          |14.000         |7.500           |2.000           |18.000         |12.69699936992989   |4.396968614852737   |6.5090564600408864  |3.04544134732554    |5.563117471346439   |5.733647442945895   |7.463628273165806  |3.7502490583959887  |4.374560777952456   |4.998850467857586   |3.717618861583312   |3.626372154095605   |2.4904415271192377  |4.21273379173192    |2          |13         |3          |11.500               |15.055556          |11.500                |11.583333           |0                   |18.0            |\n",
      "|2003      |1393       |1120       |79        |78        |3        |BIG_EAST    |SEC         |W           |3         |W           |10        |80.103448       |29.241379     |62.206897     |5.241379       |15.862069      |16.379310     |23.620690     |14.310345    |26.896552    |14.965517     |13.620690    |8.310345      |7.275862      |16.586207    |82.000            |29.000          |62.000          |5.000            |16.000           |17.000          |22.000          |14.000         |26.000         |14.000          |13.000         |9.000           |6.000           |17.000         |13.43860331284468   |6.769971344104789   |10.30041368101301   |2.415059419558865   |4.3648280607602405  |6.3606704049180225  |7.757087984546779  |5.568427875082876   |5.287078777548146  |5.666207814755826   |3.940755891957785   |2.465525907387712   |2.9748536098436844  |3.9235301706498955  |1          |17         |6          |9.000                |14.416667          |13.000                |10.000000           |0                   |24.0            |70.100000       |25.700000     |54.700000     |5.633333       |16.333333      |13.066667     |19.733333     |11.933333    |22.566667    |13.400000     |15.900000    |8.033333      |4.966667      |16.366667    |69.500            |25.500          |54.500          |5.000            |16.000           |13.000          |18.000          |12.000         |22.000         |14.000          |16.000         |7.000           |4.500           |16.500         |14.41347550037811   |5.9256892426113605  |6.046657671805144   |2.484202890264803   |5.664976081149858   |6.3187369782259495  |8.432013460615442  |3.183289650660147   |5.568899711792268   |5.055553481074055   |4.692988173861085   |3.285110957030219   |2.5928727311613273  |3.9258940383051604  |3          |13         |3          |15.000               |16.157895          |17.000                |15.545455           |0                   |19.0            |\n",
      "|2003      |1329       |1335       |77        |63        |1        |BIG_TWELVE  |IVY         |W           |6         |W           |11        |68.724138       |24.655172     |55.413793     |4.862069       |12.965517      |14.551724     |22.344828     |12.379310    |24.068966    |12.241379     |14.655172    |8.793103      |5.586207      |20.137931    |68.000            |24.000          |56.000          |4.000            |13.000           |14.000          |21.000          |12.000         |24.000         |12.000          |15.000         |8.000           |5.000           |18.000         |11.777389226819329  |4.790435888309121   |4.7019542745543585  |2.682271611899138   |3.9141023236497023  |4.982728770463028   |6.688347329497773  |3.121512774281086   |4.366520582798162  |4.197407175864643   |3.4772306509634934  |3.5393635021003425  |3.510364653422775   |4.9405330684046636  |2          |13         |5          |11.500               |13.800000          |11.000                |9.666667            |0                   |20.0            |70.185185       |24.000000     |51.518519     |9.000000       |21.851852      |13.185185     |18.777778     |9.333333     |24.185185    |14.851852     |13.000000    |7.185185      |2.148148      |17.777778    |70.000            |24.000          |52.000          |9.000            |21.000           |13.000          |19.000          |10.000         |24.000         |14.000          |13.000         |7.000           |2.000           |17.000         |11.744186902463703  |5.061164391718569   |5.963803484354594   |3.258125995108231   |6.267766747414903   |5.313531593958956   |5.76683708804055   |2.9482720362951587  |4.780063074897653   |4.4002071542144465  |3.4641016151377544  |3.363114776512987   |1.37850825169819    |3.27382788185329    |2          |11         |9          |13.500               |15.681818          |9.000                 |10.800000           |0                   |22.0            |\n",
      "-----------------------------------------------------------------------------------------------------------------------------------------------------------------------------------------------------------------------------------------------------------------------------------------------------------------------------------------------------------------------------------------------------------------------------------------------------------------------------------------------------------------------------------------------------------------------------------------------------------------------------------------------------------------------------------------------------------------------------------------------------------------------------------------------------------------------------------------------------------------------------------------------------------------------------------------------------------------------------------------------------------------------------------------------------------------------------------------------------------------------------------------------------------------------------------------------------------------------------------------------------------------------------------------------------------------------------------------------------------------------------------------------------------------------------------------------------------------------------------------------------------------------------------------------------------------------------------------------------------------------------------------------------------------------------------------------------------------------------------------------------------------------------------------------------------------------------------------------------------------------------------------------------------------------------------------------------------------------------------------------------------------------\n",
      "\n"
     ]
    }
   ],
   "source": [
    "final = (\n",
    "    tourney_conf_round.join(\n",
    "        season_w,\n",
    "        on=(\n",
    "            (tourney_conf_round.WTEAMID == season_w.W_TEAMID)\n",
    "            & (tourney_conf_round.SEASON == season_w.W_SEASON)\n",
    "        ),\n",
    "    )\n",
    "    .drop(\"W_TEAMID\", \"W_SEASON\")\n",
    "    .join(\n",
    "        season_l,\n",
    "        on=(\n",
    "            (tourney_conf_round.LTEAMID == season_l.L_TEAMID)\n",
    "            & (tourney_conf_round.SEASON == season_l.L_SEASON)\n",
    "        ),\n",
    "    )\n",
    "    .drop(\"L_TEAMID\", \"L_SEASON\")\n",
    ")\n",
    "\n",
    "final.show()"
   ]
  },
  {
   "cell_type": "code",
   "execution_count": 79,
   "metadata": {},
   "outputs": [
    {
     "name": "stderr",
     "output_type": "stream",
     "text": [
      "/opt/anaconda3/envs/Intro_SnowML/lib/python3.10/site-packages/snowflake/snowpark/session.py:2161: UserWarning: Pandas Dataframe has non-standard index of type <class 'pandas.core.indexes.numeric.Int64Index'> which will not be written. Consider changing the index to pd.RangeIndex(start=0,...,step=1) or call reset_index() to keep index as column(s)\n",
      "  success, nchunks, nrows, ci_output = write_pandas(\n",
      "/opt/anaconda3/envs/Intro_SnowML/lib/python3.10/site-packages/snowflake/snowpark/session.py:2161: UserWarning: Pandas Dataframe has non-standard index of type <class 'pandas.core.indexes.numeric.Int64Index'> which will not be written. Consider changing the index to pd.RangeIndex(start=0,...,step=1) or call reset_index() to keep index as column(s)\n",
      "  success, nchunks, nrows, ci_output = write_pandas(\n"
     ]
    }
   ],
   "source": [
    "OHE = OneHotEncoder(\n",
    "    input_cols=[\"W_CONF\",\"L_CONF\"],\n",
    "    output_cols=[\"W_CONF\",\"L_CONF\"],\n",
    "    drop_input_cols=True,\n",
    "    drop=\"first\",\n",
    "    handle_unknown=\"ignore\",\n",
    ")\n",
    "\n",
    "final = OHE.fit(final).transform(final)"
   ]
  },
  {
   "cell_type": "code",
   "execution_count": 80,
   "metadata": {},
   "outputs": [],
   "source": [
    "final = final.with_columns(\n",
    "    [\"W_WLOCN\", \"W_WLOCH\", \"W_WLOCA\", \"L_WLOCN\", \"L_WLOCH\", \"L_WLOCA\"],\n",
    "    [\n",
    "        F.col(\"W_WLOCN\").cast(T.LongType()),\n",
    "        F.col(\"W_WLOCH\").cast(T.LongType()),\n",
    "        F.col(\"W_WLOCA\").cast(T.LongType()),\n",
    "        F.col(\"L_WLOCN\").cast(T.LongType()),\n",
    "        F.col(\"L_WLOCH\").cast(T.LongType()),\n",
    "        F.col(\"L_WLOCA\").cast(T.LongType()),\n",
    "    ],\n",
    ")"
   ]
  },
  {
   "cell_type": "markdown",
   "metadata": {},
   "source": [
    "### This table is all season data joined with historic tournament data"
   ]
  },
  {
   "cell_type": "code",
   "execution_count": 81,
   "metadata": {},
   "outputs": [],
   "source": [
    "final.write.save_as_table(\n",
    "    \"MEN.FINAL_FEATURES\", mode=\"overwrite\"\n",
    ")"
   ]
  },
  {
   "cell_type": "markdown",
   "metadata": {},
   "source": [
    "### Create season table for predicting 2024"
   ]
  },
  {
   "cell_type": "code",
   "execution_count": 82,
   "metadata": {},
   "outputs": [
    {
     "name": "stderr",
     "output_type": "stream",
     "text": [
      "/opt/anaconda3/envs/Intro_SnowML/lib/python3.10/site-packages/snowflake/snowpark/session.py:2161: UserWarning: Pandas Dataframe has non-standard index of type <class 'pandas.core.indexes.numeric.Int64Index'> which will not be written. Consider changing the index to pd.RangeIndex(start=0,...,step=1) or call reset_index() to keep index as column(s)\n",
      "  success, nchunks, nrows, ci_output = write_pandas(\n",
      "/opt/anaconda3/envs/Intro_SnowML/lib/python3.10/site-packages/snowflake/snowpark/session.py:2161: UserWarning: Pandas Dataframe has non-standard index of type <class 'pandas.core.indexes.numeric.Int64Index'> which will not be written. Consider changing the index to pd.RangeIndex(start=0,...,step=1) or call reset_index() to keep index as column(s)\n",
      "  success, nchunks, nrows, ci_output = write_pandas(\n"
     ]
    }
   ],
   "source": [
    "season = (\n",
    "    season.join(\n",
    "        conf,\n",
    "        (season.col(\"teamid\") == conf.col(\"C_teamid\"))\n",
    "        & (season.col(\"season\") == conf.col(\"C_season\")),\n",
    "    )\n",
    "    .drop(\"C_SEASON\", \"C_TEAMID\")\n",
    "    .with_column_renamed(\"CONFABBREV\", \"CONF\")\n",
    ")\n",
    "\n",
    "OHE = OneHotEncoder(\n",
    "    input_cols=[\"CONF\"],\n",
    "    output_cols=[\"CONF\"],\n",
    "    drop_input_cols=True,\n",
    "    drop=\"first\",\n",
    "    handle_unknown=\"ignore\",\n",
    ")\n",
    "\n",
    "season = OHE.fit(season).transform(season)"
   ]
  },
  {
   "cell_type": "code",
   "execution_count": 83,
   "metadata": {},
   "outputs": [],
   "source": [
    "region = seed_value.select(\n",
    "    F.col(\"SEASON\").alias(\"SEASON_1\"), F.col(\"TEAMID\").alias(\"TEAMID_1\"), \"REGION\"\n",
    ")\n",
    "\n",
    "season = season.join(\n",
    "    region, on=((season.season == region.season_1) & (season.teamid == region.teamid_1))\n",
    ").drop(\"TEAMID_1\", \"SEASON_1\")\n",
    "\n",
    "season.write.save_as_table(\n",
    "    \"MEN.FINAL_SEASON_STATS\", mode=\"overwrite\"\n",
    ")"
   ]
  }
 ],
 "metadata": {
  "kernelspec": {
   "display_name": "Python 3 (ipykernel)",
   "language": "python",
   "name": "python3"
  },
  "language_info": {
   "codemirror_mode": {
    "name": "ipython",
    "version": 3
   },
   "file_extension": ".py",
   "mimetype": "text/x-python",
   "name": "python",
   "nbconvert_exporter": "python",
   "pygments_lexer": "ipython3",
   "version": "3.10.13"
  }
 },
 "nbformat": 4,
 "nbformat_minor": 4
}
