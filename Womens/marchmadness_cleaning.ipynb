{
 "cells": [
  {
   "cell_type": "code",
   "execution_count": 1,
   "metadata": {},
   "outputs": [
    {
     "name": "stderr",
     "output_type": "stream",
     "text": [
      "/opt/anaconda3/envs/Intro_SnowML/lib/python3.10/site-packages/snowflake/connector/config_manager.py:344: UserWarning: Bad owner or permissions on /Users/cromano/.snowflake/config.toml.\n",
      " * To change owner, run `chown $USER \"/Users/cromano/.snowflake/config.toml\"`.\n",
      " * To restrict permissions, run `chmod 0600 \"/Users/cromano/.snowflake/config.toml\"`.\n",
      "\n",
      "  warn(f\"Bad owner or permissions on {str(filep)}{chmod_message}\")\n"
     ]
    }
   ],
   "source": [
    "from ibis.interactive import *\n",
    "from snowflake.snowpark import Session, functions as F, types as T\n",
    "from snowflake.snowpark.functions import when, lit\n",
    "from snowflake.ml.modeling.preprocessing import OneHotEncoder\n",
    "\n",
    "import os\n",
    "\n",
    "con = ibis.snowflake.connect()"
   ]
  },
  {
   "cell_type": "code",
   "execution_count": 2,
   "metadata": {},
   "outputs": [],
   "source": [
    "def combine_stats(con, table_name: str, schema: str):\n",
    "    t = con.table(table_name, schema=schema)\n",
    "    t = t.mutate(W1COLUMN=_.WSCORE)\n",
    "    t = t.mutate(W2COLUMN=_.LSCORE)\n",
    "    winning = t.select(\"SEASON\", \"DAYNUM\", s.startswith(\"W\")).mutate(WON=1)\n",
    "    winning = winning.rename(\n",
    "        {\n",
    "            c[1:]: c\n",
    "            for c in winning.columns\n",
    "            if c.startswith(\"W\") and c not in [\"WON\", \"WLOC\", \"W1COLUMN\", \"W2COLUMN\"]\n",
    "        }\n",
    "    )\n",
    "\n",
    "    losing = t.select(\n",
    "        \"SEASON\", \"DAYNUM\", \"WLOC\", \"W1COLUMN\", \"W2COLUMN\", s.startswith(\"L\")\n",
    "    ).mutate(WON=0)\n",
    "    losing = losing.rename(\n",
    "        {\n",
    "            c[1:]: c\n",
    "            for c in losing.columns\n",
    "            if c.startswith(\"L\") and c not in [\"WON\", \"WLOC\"]\n",
    "        }\n",
    "    )\n",
    "    return winning.union(losing)\n",
    "\n",
    "\n",
    "def flatten_regions(con, table_name: str, schema: str):\n",
    "    flattened_regions = (\n",
    "        con.table(table_name, schema=schema)\n",
    "        .pivot_longer(s.startswith(\"Region\"))\n",
    "        .rename({\"Region\": \"name\", \"RegionName\": \"value\"})\n",
    "        .mutate(Region=_.Region.replace(\"Region\", \"\"))\n",
    "        .drop(\"DayZero\")\n",
    "    )\n",
    "    return flattened_regions"
   ]
  },
  {
   "cell_type": "code",
   "execution_count": 3,
   "metadata": {},
   "outputs": [],
   "source": [
    "m_reg = combine_stats(con, \"W_REGULAR_SEASON_DETAILED_RESULTS\", schema=\"WOMEN\")"
   ]
  },
  {
   "cell_type": "code",
   "execution_count": 4,
   "metadata": {},
   "outputs": [
    {
     "data": {
      "text/html": [
       "<pre style=\"white-space:pre;overflow-x:auto;line-height:normal;font-family:Menlo,'DejaVu Sans Mono',consolas,'Courier New',monospace\">┏━━━━━━━━┳━━━━━━━━┳━━━━━━━━┳━━━━━━━┳━━━━━━━━┳━━━━━━━┳━━━━━━━┳━━━━━━━┳━━━━━━━┳━━━━━━━┳━━━━━━━┳━━━━━━━┳━━━━━━━┳━━━━━━━┳━━━━━━━┳━━━━━━━┳━━━━━━━┳━━━━━━━┳━━━━━━━━━━┳━━━━━━━━━━┳━━━━━━┓\n",
       "┃<span style=\"font-weight: bold\"> SEASON </span>┃<span style=\"font-weight: bold\"> DAYNUM </span>┃<span style=\"font-weight: bold\"> TEAMID </span>┃<span style=\"font-weight: bold\"> SCORE </span>┃<span style=\"font-weight: bold\"> WLOC   </span>┃<span style=\"font-weight: bold\"> FGM   </span>┃<span style=\"font-weight: bold\"> FGA   </span>┃<span style=\"font-weight: bold\"> FGM3  </span>┃<span style=\"font-weight: bold\"> FGA3  </span>┃<span style=\"font-weight: bold\"> FTM   </span>┃<span style=\"font-weight: bold\"> FTA   </span>┃<span style=\"font-weight: bold\"> OR    </span>┃<span style=\"font-weight: bold\"> DR    </span>┃<span style=\"font-weight: bold\"> AST   </span>┃<span style=\"font-weight: bold\"> TO    </span>┃<span style=\"font-weight: bold\"> STL   </span>┃<span style=\"font-weight: bold\"> BLK   </span>┃<span style=\"font-weight: bold\"> PF    </span>┃<span style=\"font-weight: bold\"> W1COLUMN </span>┃<span style=\"font-weight: bold\"> W2COLUMN </span>┃<span style=\"font-weight: bold\"> WON  </span>┃\n",
       "┡━━━━━━━━╇━━━━━━━━╇━━━━━━━━╇━━━━━━━╇━━━━━━━━╇━━━━━━━╇━━━━━━━╇━━━━━━━╇━━━━━━━╇━━━━━━━╇━━━━━━━╇━━━━━━━╇━━━━━━━╇━━━━━━━╇━━━━━━━╇━━━━━━━╇━━━━━━━╇━━━━━━━╇━━━━━━━━━━╇━━━━━━━━━━╇━━━━━━┩\n",
       "│ <span style=\"color: #7f7f7f; text-decoration-color: #7f7f7f\">int64</span>  │ <span style=\"color: #7f7f7f; text-decoration-color: #7f7f7f\">int64</span>  │ <span style=\"color: #7f7f7f; text-decoration-color: #7f7f7f\">int64</span>  │ <span style=\"color: #7f7f7f; text-decoration-color: #7f7f7f\">int64</span> │ <span style=\"color: #7f7f7f; text-decoration-color: #7f7f7f\">string</span> │ <span style=\"color: #7f7f7f; text-decoration-color: #7f7f7f\">int64</span> │ <span style=\"color: #7f7f7f; text-decoration-color: #7f7f7f\">int64</span> │ <span style=\"color: #7f7f7f; text-decoration-color: #7f7f7f\">int64</span> │ <span style=\"color: #7f7f7f; text-decoration-color: #7f7f7f\">int64</span> │ <span style=\"color: #7f7f7f; text-decoration-color: #7f7f7f\">int64</span> │ <span style=\"color: #7f7f7f; text-decoration-color: #7f7f7f\">int64</span> │ <span style=\"color: #7f7f7f; text-decoration-color: #7f7f7f\">int64</span> │ <span style=\"color: #7f7f7f; text-decoration-color: #7f7f7f\">int64</span> │ <span style=\"color: #7f7f7f; text-decoration-color: #7f7f7f\">int64</span> │ <span style=\"color: #7f7f7f; text-decoration-color: #7f7f7f\">int64</span> │ <span style=\"color: #7f7f7f; text-decoration-color: #7f7f7f\">int64</span> │ <span style=\"color: #7f7f7f; text-decoration-color: #7f7f7f\">int64</span> │ <span style=\"color: #7f7f7f; text-decoration-color: #7f7f7f\">int64</span> │ <span style=\"color: #7f7f7f; text-decoration-color: #7f7f7f\">int64</span>    │ <span style=\"color: #7f7f7f; text-decoration-color: #7f7f7f\">int64</span>    │ <span style=\"color: #7f7f7f; text-decoration-color: #7f7f7f\">int8</span> │\n",
       "├────────┼────────┼────────┼───────┼────────┼───────┼───────┼───────┼───────┼───────┼───────┼───────┼───────┼───────┼───────┼───────┼───────┼───────┼──────────┼──────────┼──────┤\n",
       "│   <span style=\"color: #008080; text-decoration-color: #008080; font-weight: bold\">2010</span> │     <span style=\"color: #008080; text-decoration-color: #008080; font-weight: bold\">11</span> │   <span style=\"color: #008080; text-decoration-color: #008080; font-weight: bold\">3103</span> │    <span style=\"color: #008080; text-decoration-color: #008080; font-weight: bold\">63</span> │ <span style=\"color: #008000; text-decoration-color: #008000\">H     </span> │    <span style=\"color: #008080; text-decoration-color: #008080; font-weight: bold\">23</span> │    <span style=\"color: #008080; text-decoration-color: #008080; font-weight: bold\">54</span> │     <span style=\"color: #008080; text-decoration-color: #008080; font-weight: bold\">5</span> │     <span style=\"color: #008080; text-decoration-color: #008080; font-weight: bold\">9</span> │    <span style=\"color: #008080; text-decoration-color: #008080; font-weight: bold\">12</span> │    <span style=\"color: #008080; text-decoration-color: #008080; font-weight: bold\">19</span> │    <span style=\"color: #008080; text-decoration-color: #008080; font-weight: bold\">10</span> │    <span style=\"color: #008080; text-decoration-color: #008080; font-weight: bold\">26</span> │    <span style=\"color: #008080; text-decoration-color: #008080; font-weight: bold\">14</span> │    <span style=\"color: #008080; text-decoration-color: #008080; font-weight: bold\">18</span> │     <span style=\"color: #008080; text-decoration-color: #008080; font-weight: bold\">7</span> │     <span style=\"color: #008080; text-decoration-color: #008080; font-weight: bold\">0</span> │    <span style=\"color: #008080; text-decoration-color: #008080; font-weight: bold\">15</span> │       <span style=\"color: #008080; text-decoration-color: #008080; font-weight: bold\">63</span> │       <span style=\"color: #008080; text-decoration-color: #008080; font-weight: bold\">49</span> │    <span style=\"color: #008080; text-decoration-color: #008080; font-weight: bold\">1</span> │\n",
       "│   <span style=\"color: #008080; text-decoration-color: #008080; font-weight: bold\">2010</span> │     <span style=\"color: #008080; text-decoration-color: #008080; font-weight: bold\">11</span> │   <span style=\"color: #008080; text-decoration-color: #008080; font-weight: bold\">3104</span> │    <span style=\"color: #008080; text-decoration-color: #008080; font-weight: bold\">73</span> │ <span style=\"color: #008000; text-decoration-color: #008000\">N     </span> │    <span style=\"color: #008080; text-decoration-color: #008080; font-weight: bold\">26</span> │    <span style=\"color: #008080; text-decoration-color: #008080; font-weight: bold\">62</span> │     <span style=\"color: #008080; text-decoration-color: #008080; font-weight: bold\">5</span> │    <span style=\"color: #008080; text-decoration-color: #008080; font-weight: bold\">12</span> │    <span style=\"color: #008080; text-decoration-color: #008080; font-weight: bold\">16</span> │    <span style=\"color: #008080; text-decoration-color: #008080; font-weight: bold\">28</span> │    <span style=\"color: #008080; text-decoration-color: #008080; font-weight: bold\">16</span> │    <span style=\"color: #008080; text-decoration-color: #008080; font-weight: bold\">31</span> │    <span style=\"color: #008080; text-decoration-color: #008080; font-weight: bold\">15</span> │    <span style=\"color: #008080; text-decoration-color: #008080; font-weight: bold\">20</span> │     <span style=\"color: #008080; text-decoration-color: #008080; font-weight: bold\">5</span> │     <span style=\"color: #008080; text-decoration-color: #008080; font-weight: bold\">2</span> │    <span style=\"color: #008080; text-decoration-color: #008080; font-weight: bold\">25</span> │       <span style=\"color: #008080; text-decoration-color: #008080; font-weight: bold\">73</span> │       <span style=\"color: #008080; text-decoration-color: #008080; font-weight: bold\">68</span> │    <span style=\"color: #008080; text-decoration-color: #008080; font-weight: bold\">1</span> │\n",
       "│   <span style=\"color: #008080; text-decoration-color: #008080; font-weight: bold\">2010</span> │     <span style=\"color: #008080; text-decoration-color: #008080; font-weight: bold\">11</span> │   <span style=\"color: #008080; text-decoration-color: #008080; font-weight: bold\">3110</span> │    <span style=\"color: #008080; text-decoration-color: #008080; font-weight: bold\">71</span> │ <span style=\"color: #008000; text-decoration-color: #008000\">A     </span> │    <span style=\"color: #008080; text-decoration-color: #008080; font-weight: bold\">29</span> │    <span style=\"color: #008080; text-decoration-color: #008080; font-weight: bold\">62</span> │     <span style=\"color: #008080; text-decoration-color: #008080; font-weight: bold\">6</span> │    <span style=\"color: #008080; text-decoration-color: #008080; font-weight: bold\">15</span> │     <span style=\"color: #008080; text-decoration-color: #008080; font-weight: bold\">7</span> │    <span style=\"color: #008080; text-decoration-color: #008080; font-weight: bold\">12</span> │    <span style=\"color: #008080; text-decoration-color: #008080; font-weight: bold\">14</span> │    <span style=\"color: #008080; text-decoration-color: #008080; font-weight: bold\">23</span> │    <span style=\"color: #008080; text-decoration-color: #008080; font-weight: bold\">18</span> │    <span style=\"color: #008080; text-decoration-color: #008080; font-weight: bold\">13</span> │     <span style=\"color: #008080; text-decoration-color: #008080; font-weight: bold\">6</span> │     <span style=\"color: #008080; text-decoration-color: #008080; font-weight: bold\">2</span> │    <span style=\"color: #008080; text-decoration-color: #008080; font-weight: bold\">17</span> │       <span style=\"color: #008080; text-decoration-color: #008080; font-weight: bold\">71</span> │       <span style=\"color: #008080; text-decoration-color: #008080; font-weight: bold\">59</span> │    <span style=\"color: #008080; text-decoration-color: #008080; font-weight: bold\">1</span> │\n",
       "│   <span style=\"color: #008080; text-decoration-color: #008080; font-weight: bold\">2010</span> │     <span style=\"color: #008080; text-decoration-color: #008080; font-weight: bold\">11</span> │   <span style=\"color: #008080; text-decoration-color: #008080; font-weight: bold\">3111</span> │    <span style=\"color: #008080; text-decoration-color: #008080; font-weight: bold\">63</span> │ <span style=\"color: #008000; text-decoration-color: #008000\">A     </span> │    <span style=\"color: #008080; text-decoration-color: #008080; font-weight: bold\">27</span> │    <span style=\"color: #008080; text-decoration-color: #008080; font-weight: bold\">52</span> │     <span style=\"color: #008080; text-decoration-color: #008080; font-weight: bold\">4</span> │    <span style=\"color: #008080; text-decoration-color: #008080; font-weight: bold\">11</span> │     <span style=\"color: #008080; text-decoration-color: #008080; font-weight: bold\">5</span> │     <span style=\"color: #008080; text-decoration-color: #008080; font-weight: bold\">9</span> │     <span style=\"color: #008080; text-decoration-color: #008080; font-weight: bold\">6</span> │    <span style=\"color: #008080; text-decoration-color: #008080; font-weight: bold\">40</span> │    <span style=\"color: #008080; text-decoration-color: #008080; font-weight: bold\">14</span> │    <span style=\"color: #008080; text-decoration-color: #008080; font-weight: bold\">27</span> │     <span style=\"color: #008080; text-decoration-color: #008080; font-weight: bold\">5</span> │    <span style=\"color: #008080; text-decoration-color: #008080; font-weight: bold\">10</span> │    <span style=\"color: #008080; text-decoration-color: #008080; font-weight: bold\">18</span> │       <span style=\"color: #008080; text-decoration-color: #008080; font-weight: bold\">63</span> │       <span style=\"color: #008080; text-decoration-color: #008080; font-weight: bold\">58</span> │    <span style=\"color: #008080; text-decoration-color: #008080; font-weight: bold\">1</span> │\n",
       "│   <span style=\"color: #008080; text-decoration-color: #008080; font-weight: bold\">2010</span> │     <span style=\"color: #008080; text-decoration-color: #008080; font-weight: bold\">11</span> │   <span style=\"color: #008080; text-decoration-color: #008080; font-weight: bold\">3119</span> │    <span style=\"color: #008080; text-decoration-color: #008080; font-weight: bold\">74</span> │ <span style=\"color: #008000; text-decoration-color: #008000\">H     </span> │    <span style=\"color: #008080; text-decoration-color: #008080; font-weight: bold\">30</span> │    <span style=\"color: #008080; text-decoration-color: #008080; font-weight: bold\">74</span> │     <span style=\"color: #008080; text-decoration-color: #008080; font-weight: bold\">7</span> │    <span style=\"color: #008080; text-decoration-color: #008080; font-weight: bold\">20</span> │     <span style=\"color: #008080; text-decoration-color: #008080; font-weight: bold\">7</span> │    <span style=\"color: #008080; text-decoration-color: #008080; font-weight: bold\">11</span> │    <span style=\"color: #008080; text-decoration-color: #008080; font-weight: bold\">14</span> │    <span style=\"color: #008080; text-decoration-color: #008080; font-weight: bold\">33</span> │    <span style=\"color: #008080; text-decoration-color: #008080; font-weight: bold\">18</span> │    <span style=\"color: #008080; text-decoration-color: #008080; font-weight: bold\">11</span> │     <span style=\"color: #008080; text-decoration-color: #008080; font-weight: bold\">5</span> │     <span style=\"color: #008080; text-decoration-color: #008080; font-weight: bold\">3</span> │    <span style=\"color: #008080; text-decoration-color: #008080; font-weight: bold\">18</span> │       <span style=\"color: #008080; text-decoration-color: #008080; font-weight: bold\">74</span> │       <span style=\"color: #008080; text-decoration-color: #008080; font-weight: bold\">70</span> │    <span style=\"color: #008080; text-decoration-color: #008080; font-weight: bold\">1</span> │\n",
       "│   <span style=\"color: #008080; text-decoration-color: #008080; font-weight: bold\">2010</span> │     <span style=\"color: #008080; text-decoration-color: #008080; font-weight: bold\">11</span> │   <span style=\"color: #008080; text-decoration-color: #008080; font-weight: bold\">3120</span> │    <span style=\"color: #008080; text-decoration-color: #008080; font-weight: bold\">70</span> │ <span style=\"color: #008000; text-decoration-color: #008000\">H     </span> │    <span style=\"color: #008080; text-decoration-color: #008080; font-weight: bold\">22</span> │    <span style=\"color: #008080; text-decoration-color: #008080; font-weight: bold\">65</span> │     <span style=\"color: #008080; text-decoration-color: #008080; font-weight: bold\">3</span> │    <span style=\"color: #008080; text-decoration-color: #008080; font-weight: bold\">18</span> │    <span style=\"color: #008080; text-decoration-color: #008080; font-weight: bold\">23</span> │    <span style=\"color: #008080; text-decoration-color: #008080; font-weight: bold\">36</span> │    <span style=\"color: #008080; text-decoration-color: #008080; font-weight: bold\">21</span> │    <span style=\"color: #008080; text-decoration-color: #008080; font-weight: bold\">25</span> │    <span style=\"color: #008080; text-decoration-color: #008080; font-weight: bold\">13</span> │    <span style=\"color: #008080; text-decoration-color: #008080; font-weight: bold\">16</span> │    <span style=\"color: #008080; text-decoration-color: #008080; font-weight: bold\">10</span> │     <span style=\"color: #008080; text-decoration-color: #008080; font-weight: bold\">1</span> │    <span style=\"color: #008080; text-decoration-color: #008080; font-weight: bold\">26</span> │       <span style=\"color: #008080; text-decoration-color: #008080; font-weight: bold\">70</span> │       <span style=\"color: #008080; text-decoration-color: #008080; font-weight: bold\">65</span> │    <span style=\"color: #008080; text-decoration-color: #008080; font-weight: bold\">1</span> │\n",
       "│   <span style=\"color: #008080; text-decoration-color: #008080; font-weight: bold\">2010</span> │     <span style=\"color: #008080; text-decoration-color: #008080; font-weight: bold\">11</span> │   <span style=\"color: #008080; text-decoration-color: #008080; font-weight: bold\">3125</span> │    <span style=\"color: #008080; text-decoration-color: #008080; font-weight: bold\">85</span> │ <span style=\"color: #008000; text-decoration-color: #008000\">H     </span> │    <span style=\"color: #008080; text-decoration-color: #008080; font-weight: bold\">25</span> │    <span style=\"color: #008080; text-decoration-color: #008080; font-weight: bold\">56</span> │    <span style=\"color: #008080; text-decoration-color: #008080; font-weight: bold\">10</span> │    <span style=\"color: #008080; text-decoration-color: #008080; font-weight: bold\">27</span> │    <span style=\"color: #008080; text-decoration-color: #008080; font-weight: bold\">25</span> │    <span style=\"color: #008080; text-decoration-color: #008080; font-weight: bold\">31</span> │    <span style=\"color: #008080; text-decoration-color: #008080; font-weight: bold\">13</span> │    <span style=\"color: #008080; text-decoration-color: #008080; font-weight: bold\">30</span> │    <span style=\"color: #008080; text-decoration-color: #008080; font-weight: bold\">15</span> │    <span style=\"color: #008080; text-decoration-color: #008080; font-weight: bold\">21</span> │     <span style=\"color: #008080; text-decoration-color: #008080; font-weight: bold\">5</span> │     <span style=\"color: #008080; text-decoration-color: #008080; font-weight: bold\">2</span> │    <span style=\"color: #008080; text-decoration-color: #008080; font-weight: bold\">27</span> │       <span style=\"color: #008080; text-decoration-color: #008080; font-weight: bold\">85</span> │       <span style=\"color: #008080; text-decoration-color: #008080; font-weight: bold\">76</span> │    <span style=\"color: #008080; text-decoration-color: #008080; font-weight: bold\">1</span> │\n",
       "│   <span style=\"color: #008080; text-decoration-color: #008080; font-weight: bold\">2010</span> │     <span style=\"color: #008080; text-decoration-color: #008080; font-weight: bold\">11</span> │   <span style=\"color: #008080; text-decoration-color: #008080; font-weight: bold\">3132</span> │    <span style=\"color: #008080; text-decoration-color: #008080; font-weight: bold\">76</span> │ <span style=\"color: #008000; text-decoration-color: #008000\">H     </span> │    <span style=\"color: #008080; text-decoration-color: #008080; font-weight: bold\">26</span> │    <span style=\"color: #008080; text-decoration-color: #008080; font-weight: bold\">57</span> │    <span style=\"color: #008080; text-decoration-color: #008080; font-weight: bold\">11</span> │    <span style=\"color: #008080; text-decoration-color: #008080; font-weight: bold\">28</span> │    <span style=\"color: #008080; text-decoration-color: #008080; font-weight: bold\">13</span> │    <span style=\"color: #008080; text-decoration-color: #008080; font-weight: bold\">14</span> │    <span style=\"color: #008080; text-decoration-color: #008080; font-weight: bold\">10</span> │    <span style=\"color: #008080; text-decoration-color: #008080; font-weight: bold\">25</span> │    <span style=\"color: #008080; text-decoration-color: #008080; font-weight: bold\">19</span> │    <span style=\"color: #008080; text-decoration-color: #008080; font-weight: bold\">19</span> │    <span style=\"color: #008080; text-decoration-color: #008080; font-weight: bold\">16</span> │     <span style=\"color: #008080; text-decoration-color: #008080; font-weight: bold\">5</span> │    <span style=\"color: #008080; text-decoration-color: #008080; font-weight: bold\">16</span> │       <span style=\"color: #008080; text-decoration-color: #008080; font-weight: bold\">76</span> │       <span style=\"color: #008080; text-decoration-color: #008080; font-weight: bold\">41</span> │    <span style=\"color: #008080; text-decoration-color: #008080; font-weight: bold\">1</span> │\n",
       "│   <span style=\"color: #008080; text-decoration-color: #008080; font-weight: bold\">2010</span> │     <span style=\"color: #008080; text-decoration-color: #008080; font-weight: bold\">11</span> │   <span style=\"color: #008080; text-decoration-color: #008080; font-weight: bold\">3138</span> │    <span style=\"color: #008080; text-decoration-color: #008080; font-weight: bold\">87</span> │ <span style=\"color: #008000; text-decoration-color: #008000\">A     </span> │    <span style=\"color: #008080; text-decoration-color: #008080; font-weight: bold\">26</span> │    <span style=\"color: #008080; text-decoration-color: #008080; font-weight: bold\">56</span> │     <span style=\"color: #008080; text-decoration-color: #008080; font-weight: bold\">9</span> │    <span style=\"color: #008080; text-decoration-color: #008080; font-weight: bold\">21</span> │    <span style=\"color: #008080; text-decoration-color: #008080; font-weight: bold\">26</span> │    <span style=\"color: #008080; text-decoration-color: #008080; font-weight: bold\">43</span> │    <span style=\"color: #008080; text-decoration-color: #008080; font-weight: bold\">16</span> │    <span style=\"color: #008080; text-decoration-color: #008080; font-weight: bold\">34</span> │    <span style=\"color: #008080; text-decoration-color: #008080; font-weight: bold\">16</span> │    <span style=\"color: #008080; text-decoration-color: #008080; font-weight: bold\">28</span> │    <span style=\"color: #008080; text-decoration-color: #008080; font-weight: bold\">15</span> │     <span style=\"color: #008080; text-decoration-color: #008080; font-weight: bold\">3</span> │    <span style=\"color: #008080; text-decoration-color: #008080; font-weight: bold\">15</span> │       <span style=\"color: #008080; text-decoration-color: #008080; font-weight: bold\">87</span> │       <span style=\"color: #008080; text-decoration-color: #008080; font-weight: bold\">79</span> │    <span style=\"color: #008080; text-decoration-color: #008080; font-weight: bold\">1</span> │\n",
       "│   <span style=\"color: #008080; text-decoration-color: #008080; font-weight: bold\">2010</span> │     <span style=\"color: #008080; text-decoration-color: #008080; font-weight: bold\">11</span> │   <span style=\"color: #008080; text-decoration-color: #008080; font-weight: bold\">3140</span> │    <span style=\"color: #008080; text-decoration-color: #008080; font-weight: bold\">73</span> │ <span style=\"color: #008000; text-decoration-color: #008000\">H     </span> │    <span style=\"color: #008080; text-decoration-color: #008080; font-weight: bold\">29</span> │    <span style=\"color: #008080; text-decoration-color: #008080; font-weight: bold\">74</span> │     <span style=\"color: #008080; text-decoration-color: #008080; font-weight: bold\">9</span> │    <span style=\"color: #008080; text-decoration-color: #008080; font-weight: bold\">30</span> │     <span style=\"color: #008080; text-decoration-color: #008080; font-weight: bold\">6</span> │    <span style=\"color: #008080; text-decoration-color: #008080; font-weight: bold\">13</span> │    <span style=\"color: #008080; text-decoration-color: #008080; font-weight: bold\">26</span> │    <span style=\"color: #008080; text-decoration-color: #008080; font-weight: bold\">20</span> │    <span style=\"color: #008080; text-decoration-color: #008080; font-weight: bold\">21</span> │    <span style=\"color: #008080; text-decoration-color: #008080; font-weight: bold\">14</span> │    <span style=\"color: #008080; text-decoration-color: #008080; font-weight: bold\">12</span> │     <span style=\"color: #008080; text-decoration-color: #008080; font-weight: bold\">4</span> │    <span style=\"color: #008080; text-decoration-color: #008080; font-weight: bold\">25</span> │       <span style=\"color: #008080; text-decoration-color: #008080; font-weight: bold\">73</span> │       <span style=\"color: #008080; text-decoration-color: #008080; font-weight: bold\">51</span> │    <span style=\"color: #008080; text-decoration-color: #008080; font-weight: bold\">1</span> │\n",
       "│      <span style=\"color: #7f7f7f; text-decoration-color: #7f7f7f\">…</span> │      <span style=\"color: #7f7f7f; text-decoration-color: #7f7f7f\">…</span> │      <span style=\"color: #7f7f7f; text-decoration-color: #7f7f7f\">…</span> │     <span style=\"color: #7f7f7f; text-decoration-color: #7f7f7f\">…</span> │ <span style=\"color: #7f7f7f; text-decoration-color: #7f7f7f\">…</span>      │     <span style=\"color: #7f7f7f; text-decoration-color: #7f7f7f\">…</span> │     <span style=\"color: #7f7f7f; text-decoration-color: #7f7f7f\">…</span> │     <span style=\"color: #7f7f7f; text-decoration-color: #7f7f7f\">…</span> │     <span style=\"color: #7f7f7f; text-decoration-color: #7f7f7f\">…</span> │     <span style=\"color: #7f7f7f; text-decoration-color: #7f7f7f\">…</span> │     <span style=\"color: #7f7f7f; text-decoration-color: #7f7f7f\">…</span> │     <span style=\"color: #7f7f7f; text-decoration-color: #7f7f7f\">…</span> │     <span style=\"color: #7f7f7f; text-decoration-color: #7f7f7f\">…</span> │     <span style=\"color: #7f7f7f; text-decoration-color: #7f7f7f\">…</span> │     <span style=\"color: #7f7f7f; text-decoration-color: #7f7f7f\">…</span> │     <span style=\"color: #7f7f7f; text-decoration-color: #7f7f7f\">…</span> │     <span style=\"color: #7f7f7f; text-decoration-color: #7f7f7f\">…</span> │     <span style=\"color: #7f7f7f; text-decoration-color: #7f7f7f\">…</span> │        <span style=\"color: #7f7f7f; text-decoration-color: #7f7f7f\">…</span> │        <span style=\"color: #7f7f7f; text-decoration-color: #7f7f7f\">…</span> │    <span style=\"color: #7f7f7f; text-decoration-color: #7f7f7f\">…</span> │\n",
       "└────────┴────────┴────────┴───────┴────────┴───────┴───────┴───────┴───────┴───────┴───────┴───────┴───────┴───────┴───────┴───────┴───────┴───────┴──────────┴──────────┴──────┘\n",
       "</pre>\n"
      ],
      "text/plain": [
       "┏━━━━━━━━┳━━━━━━━━┳━━━━━━━━┳━━━━━━━┳━━━━━━━━┳━━━━━━━┳━━━━━━━┳━━━━━━━┳━━━━━━━┳━━━━━━━┳━━━━━━━┳━━━━━━━┳━━━━━━━┳━━━━━━━┳━━━━━━━┳━━━━━━━┳━━━━━━━┳━━━━━━━┳━━━━━━━━━━┳━━━━━━━━━━┳━━━━━━┓\n",
       "┃\u001b[1m \u001b[0m\u001b[1mSEASON\u001b[0m\u001b[1m \u001b[0m┃\u001b[1m \u001b[0m\u001b[1mDAYNUM\u001b[0m\u001b[1m \u001b[0m┃\u001b[1m \u001b[0m\u001b[1mTEAMID\u001b[0m\u001b[1m \u001b[0m┃\u001b[1m \u001b[0m\u001b[1mSCORE\u001b[0m\u001b[1m \u001b[0m┃\u001b[1m \u001b[0m\u001b[1mWLOC\u001b[0m\u001b[1m  \u001b[0m\u001b[1m \u001b[0m┃\u001b[1m \u001b[0m\u001b[1mFGM\u001b[0m\u001b[1m  \u001b[0m\u001b[1m \u001b[0m┃\u001b[1m \u001b[0m\u001b[1mFGA\u001b[0m\u001b[1m  \u001b[0m\u001b[1m \u001b[0m┃\u001b[1m \u001b[0m\u001b[1mFGM3\u001b[0m\u001b[1m \u001b[0m\u001b[1m \u001b[0m┃\u001b[1m \u001b[0m\u001b[1mFGA3\u001b[0m\u001b[1m \u001b[0m\u001b[1m \u001b[0m┃\u001b[1m \u001b[0m\u001b[1mFTM\u001b[0m\u001b[1m  \u001b[0m\u001b[1m \u001b[0m┃\u001b[1m \u001b[0m\u001b[1mFTA\u001b[0m\u001b[1m  \u001b[0m\u001b[1m \u001b[0m┃\u001b[1m \u001b[0m\u001b[1mOR\u001b[0m\u001b[1m   \u001b[0m\u001b[1m \u001b[0m┃\u001b[1m \u001b[0m\u001b[1mDR\u001b[0m\u001b[1m   \u001b[0m\u001b[1m \u001b[0m┃\u001b[1m \u001b[0m\u001b[1mAST\u001b[0m\u001b[1m  \u001b[0m\u001b[1m \u001b[0m┃\u001b[1m \u001b[0m\u001b[1mTO\u001b[0m\u001b[1m   \u001b[0m\u001b[1m \u001b[0m┃\u001b[1m \u001b[0m\u001b[1mSTL\u001b[0m\u001b[1m  \u001b[0m\u001b[1m \u001b[0m┃\u001b[1m \u001b[0m\u001b[1mBLK\u001b[0m\u001b[1m  \u001b[0m\u001b[1m \u001b[0m┃\u001b[1m \u001b[0m\u001b[1mPF\u001b[0m\u001b[1m   \u001b[0m\u001b[1m \u001b[0m┃\u001b[1m \u001b[0m\u001b[1mW1COLUMN\u001b[0m\u001b[1m \u001b[0m┃\u001b[1m \u001b[0m\u001b[1mW2COLUMN\u001b[0m\u001b[1m \u001b[0m┃\u001b[1m \u001b[0m\u001b[1mWON\u001b[0m\u001b[1m \u001b[0m\u001b[1m \u001b[0m┃\n",
       "┡━━━━━━━━╇━━━━━━━━╇━━━━━━━━╇━━━━━━━╇━━━━━━━━╇━━━━━━━╇━━━━━━━╇━━━━━━━╇━━━━━━━╇━━━━━━━╇━━━━━━━╇━━━━━━━╇━━━━━━━╇━━━━━━━╇━━━━━━━╇━━━━━━━╇━━━━━━━╇━━━━━━━╇━━━━━━━━━━╇━━━━━━━━━━╇━━━━━━┩\n",
       "│ \u001b[2mint64\u001b[0m  │ \u001b[2mint64\u001b[0m  │ \u001b[2mint64\u001b[0m  │ \u001b[2mint64\u001b[0m │ \u001b[2mstring\u001b[0m │ \u001b[2mint64\u001b[0m │ \u001b[2mint64\u001b[0m │ \u001b[2mint64\u001b[0m │ \u001b[2mint64\u001b[0m │ \u001b[2mint64\u001b[0m │ \u001b[2mint64\u001b[0m │ \u001b[2mint64\u001b[0m │ \u001b[2mint64\u001b[0m │ \u001b[2mint64\u001b[0m │ \u001b[2mint64\u001b[0m │ \u001b[2mint64\u001b[0m │ \u001b[2mint64\u001b[0m │ \u001b[2mint64\u001b[0m │ \u001b[2mint64\u001b[0m    │ \u001b[2mint64\u001b[0m    │ \u001b[2mint8\u001b[0m │\n",
       "├────────┼────────┼────────┼───────┼────────┼───────┼───────┼───────┼───────┼───────┼───────┼───────┼───────┼───────┼───────┼───────┼───────┼───────┼──────────┼──────────┼──────┤\n",
       "│   \u001b[1;36m2010\u001b[0m │     \u001b[1;36m11\u001b[0m │   \u001b[1;36m3103\u001b[0m │    \u001b[1;36m63\u001b[0m │ \u001b[32mH     \u001b[0m │    \u001b[1;36m23\u001b[0m │    \u001b[1;36m54\u001b[0m │     \u001b[1;36m5\u001b[0m │     \u001b[1;36m9\u001b[0m │    \u001b[1;36m12\u001b[0m │    \u001b[1;36m19\u001b[0m │    \u001b[1;36m10\u001b[0m │    \u001b[1;36m26\u001b[0m │    \u001b[1;36m14\u001b[0m │    \u001b[1;36m18\u001b[0m │     \u001b[1;36m7\u001b[0m │     \u001b[1;36m0\u001b[0m │    \u001b[1;36m15\u001b[0m │       \u001b[1;36m63\u001b[0m │       \u001b[1;36m49\u001b[0m │    \u001b[1;36m1\u001b[0m │\n",
       "│   \u001b[1;36m2010\u001b[0m │     \u001b[1;36m11\u001b[0m │   \u001b[1;36m3104\u001b[0m │    \u001b[1;36m73\u001b[0m │ \u001b[32mN     \u001b[0m │    \u001b[1;36m26\u001b[0m │    \u001b[1;36m62\u001b[0m │     \u001b[1;36m5\u001b[0m │    \u001b[1;36m12\u001b[0m │    \u001b[1;36m16\u001b[0m │    \u001b[1;36m28\u001b[0m │    \u001b[1;36m16\u001b[0m │    \u001b[1;36m31\u001b[0m │    \u001b[1;36m15\u001b[0m │    \u001b[1;36m20\u001b[0m │     \u001b[1;36m5\u001b[0m │     \u001b[1;36m2\u001b[0m │    \u001b[1;36m25\u001b[0m │       \u001b[1;36m73\u001b[0m │       \u001b[1;36m68\u001b[0m │    \u001b[1;36m1\u001b[0m │\n",
       "│   \u001b[1;36m2010\u001b[0m │     \u001b[1;36m11\u001b[0m │   \u001b[1;36m3110\u001b[0m │    \u001b[1;36m71\u001b[0m │ \u001b[32mA     \u001b[0m │    \u001b[1;36m29\u001b[0m │    \u001b[1;36m62\u001b[0m │     \u001b[1;36m6\u001b[0m │    \u001b[1;36m15\u001b[0m │     \u001b[1;36m7\u001b[0m │    \u001b[1;36m12\u001b[0m │    \u001b[1;36m14\u001b[0m │    \u001b[1;36m23\u001b[0m │    \u001b[1;36m18\u001b[0m │    \u001b[1;36m13\u001b[0m │     \u001b[1;36m6\u001b[0m │     \u001b[1;36m2\u001b[0m │    \u001b[1;36m17\u001b[0m │       \u001b[1;36m71\u001b[0m │       \u001b[1;36m59\u001b[0m │    \u001b[1;36m1\u001b[0m │\n",
       "│   \u001b[1;36m2010\u001b[0m │     \u001b[1;36m11\u001b[0m │   \u001b[1;36m3111\u001b[0m │    \u001b[1;36m63\u001b[0m │ \u001b[32mA     \u001b[0m │    \u001b[1;36m27\u001b[0m │    \u001b[1;36m52\u001b[0m │     \u001b[1;36m4\u001b[0m │    \u001b[1;36m11\u001b[0m │     \u001b[1;36m5\u001b[0m │     \u001b[1;36m9\u001b[0m │     \u001b[1;36m6\u001b[0m │    \u001b[1;36m40\u001b[0m │    \u001b[1;36m14\u001b[0m │    \u001b[1;36m27\u001b[0m │     \u001b[1;36m5\u001b[0m │    \u001b[1;36m10\u001b[0m │    \u001b[1;36m18\u001b[0m │       \u001b[1;36m63\u001b[0m │       \u001b[1;36m58\u001b[0m │    \u001b[1;36m1\u001b[0m │\n",
       "│   \u001b[1;36m2010\u001b[0m │     \u001b[1;36m11\u001b[0m │   \u001b[1;36m3119\u001b[0m │    \u001b[1;36m74\u001b[0m │ \u001b[32mH     \u001b[0m │    \u001b[1;36m30\u001b[0m │    \u001b[1;36m74\u001b[0m │     \u001b[1;36m7\u001b[0m │    \u001b[1;36m20\u001b[0m │     \u001b[1;36m7\u001b[0m │    \u001b[1;36m11\u001b[0m │    \u001b[1;36m14\u001b[0m │    \u001b[1;36m33\u001b[0m │    \u001b[1;36m18\u001b[0m │    \u001b[1;36m11\u001b[0m │     \u001b[1;36m5\u001b[0m │     \u001b[1;36m3\u001b[0m │    \u001b[1;36m18\u001b[0m │       \u001b[1;36m74\u001b[0m │       \u001b[1;36m70\u001b[0m │    \u001b[1;36m1\u001b[0m │\n",
       "│   \u001b[1;36m2010\u001b[0m │     \u001b[1;36m11\u001b[0m │   \u001b[1;36m3120\u001b[0m │    \u001b[1;36m70\u001b[0m │ \u001b[32mH     \u001b[0m │    \u001b[1;36m22\u001b[0m │    \u001b[1;36m65\u001b[0m │     \u001b[1;36m3\u001b[0m │    \u001b[1;36m18\u001b[0m │    \u001b[1;36m23\u001b[0m │    \u001b[1;36m36\u001b[0m │    \u001b[1;36m21\u001b[0m │    \u001b[1;36m25\u001b[0m │    \u001b[1;36m13\u001b[0m │    \u001b[1;36m16\u001b[0m │    \u001b[1;36m10\u001b[0m │     \u001b[1;36m1\u001b[0m │    \u001b[1;36m26\u001b[0m │       \u001b[1;36m70\u001b[0m │       \u001b[1;36m65\u001b[0m │    \u001b[1;36m1\u001b[0m │\n",
       "│   \u001b[1;36m2010\u001b[0m │     \u001b[1;36m11\u001b[0m │   \u001b[1;36m3125\u001b[0m │    \u001b[1;36m85\u001b[0m │ \u001b[32mH     \u001b[0m │    \u001b[1;36m25\u001b[0m │    \u001b[1;36m56\u001b[0m │    \u001b[1;36m10\u001b[0m │    \u001b[1;36m27\u001b[0m │    \u001b[1;36m25\u001b[0m │    \u001b[1;36m31\u001b[0m │    \u001b[1;36m13\u001b[0m │    \u001b[1;36m30\u001b[0m │    \u001b[1;36m15\u001b[0m │    \u001b[1;36m21\u001b[0m │     \u001b[1;36m5\u001b[0m │     \u001b[1;36m2\u001b[0m │    \u001b[1;36m27\u001b[0m │       \u001b[1;36m85\u001b[0m │       \u001b[1;36m76\u001b[0m │    \u001b[1;36m1\u001b[0m │\n",
       "│   \u001b[1;36m2010\u001b[0m │     \u001b[1;36m11\u001b[0m │   \u001b[1;36m3132\u001b[0m │    \u001b[1;36m76\u001b[0m │ \u001b[32mH     \u001b[0m │    \u001b[1;36m26\u001b[0m │    \u001b[1;36m57\u001b[0m │    \u001b[1;36m11\u001b[0m │    \u001b[1;36m28\u001b[0m │    \u001b[1;36m13\u001b[0m │    \u001b[1;36m14\u001b[0m │    \u001b[1;36m10\u001b[0m │    \u001b[1;36m25\u001b[0m │    \u001b[1;36m19\u001b[0m │    \u001b[1;36m19\u001b[0m │    \u001b[1;36m16\u001b[0m │     \u001b[1;36m5\u001b[0m │    \u001b[1;36m16\u001b[0m │       \u001b[1;36m76\u001b[0m │       \u001b[1;36m41\u001b[0m │    \u001b[1;36m1\u001b[0m │\n",
       "│   \u001b[1;36m2010\u001b[0m │     \u001b[1;36m11\u001b[0m │   \u001b[1;36m3138\u001b[0m │    \u001b[1;36m87\u001b[0m │ \u001b[32mA     \u001b[0m │    \u001b[1;36m26\u001b[0m │    \u001b[1;36m56\u001b[0m │     \u001b[1;36m9\u001b[0m │    \u001b[1;36m21\u001b[0m │    \u001b[1;36m26\u001b[0m │    \u001b[1;36m43\u001b[0m │    \u001b[1;36m16\u001b[0m │    \u001b[1;36m34\u001b[0m │    \u001b[1;36m16\u001b[0m │    \u001b[1;36m28\u001b[0m │    \u001b[1;36m15\u001b[0m │     \u001b[1;36m3\u001b[0m │    \u001b[1;36m15\u001b[0m │       \u001b[1;36m87\u001b[0m │       \u001b[1;36m79\u001b[0m │    \u001b[1;36m1\u001b[0m │\n",
       "│   \u001b[1;36m2010\u001b[0m │     \u001b[1;36m11\u001b[0m │   \u001b[1;36m3140\u001b[0m │    \u001b[1;36m73\u001b[0m │ \u001b[32mH     \u001b[0m │    \u001b[1;36m29\u001b[0m │    \u001b[1;36m74\u001b[0m │     \u001b[1;36m9\u001b[0m │    \u001b[1;36m30\u001b[0m │     \u001b[1;36m6\u001b[0m │    \u001b[1;36m13\u001b[0m │    \u001b[1;36m26\u001b[0m │    \u001b[1;36m20\u001b[0m │    \u001b[1;36m21\u001b[0m │    \u001b[1;36m14\u001b[0m │    \u001b[1;36m12\u001b[0m │     \u001b[1;36m4\u001b[0m │    \u001b[1;36m25\u001b[0m │       \u001b[1;36m73\u001b[0m │       \u001b[1;36m51\u001b[0m │    \u001b[1;36m1\u001b[0m │\n",
       "│      \u001b[2m…\u001b[0m │      \u001b[2m…\u001b[0m │      \u001b[2m…\u001b[0m │     \u001b[2m…\u001b[0m │ \u001b[2m…\u001b[0m      │     \u001b[2m…\u001b[0m │     \u001b[2m…\u001b[0m │     \u001b[2m…\u001b[0m │     \u001b[2m…\u001b[0m │     \u001b[2m…\u001b[0m │     \u001b[2m…\u001b[0m │     \u001b[2m…\u001b[0m │     \u001b[2m…\u001b[0m │     \u001b[2m…\u001b[0m │     \u001b[2m…\u001b[0m │     \u001b[2m…\u001b[0m │     \u001b[2m…\u001b[0m │     \u001b[2m…\u001b[0m │        \u001b[2m…\u001b[0m │        \u001b[2m…\u001b[0m │    \u001b[2m…\u001b[0m │\n",
       "└────────┴────────┴────────┴───────┴────────┴───────┴───────┴───────┴───────┴───────┴───────┴───────┴───────┴───────┴───────┴───────┴───────┴───────┴──────────┴──────────┴──────┘"
      ]
     },
     "execution_count": 4,
     "metadata": {},
     "output_type": "execute_result"
    }
   ],
   "source": [
    "m_reg"
   ]
  },
  {
   "cell_type": "code",
   "execution_count": 5,
   "metadata": {},
   "outputs": [],
   "source": [
    "w_margin = (\n",
    "    m_reg.filter(_.WON == 1)\n",
    "    .mutate(SCOREDIFF=_.W1COLUMN - _.W2COLUMN)\n",
    "    .group_by([\"SEASON\", \"TEAMID\"])\n",
    "    .agg(WINMARGINMEDIAN=_.SCOREDIFF.median(), WINMARGINMEAN=_.SCOREDIFF.mean())\n",
    ")\n",
    "\n",
    "l_margin = (\n",
    "    m_reg.filter(_.WON == 0)\n",
    "    .mutate(SCOREDIFF=_.W1COLUMN - _.W2COLUMN)\n",
    "    .group_by([\"SEASON\", \"TEAMID\"])\n",
    "    .agg(LOSEMARGINMEDIAN=_.SCOREDIFF.median(), LOSEMARGINMEAN=_.SCOREDIFF.mean())\n",
    ")\n",
    "\n",
    "m_season_margin = w_margin.join(l_margin, ([\"SEASON\", \"TEAMID\"]))\n",
    "m_reg = m_reg.drop(['W1COLUMN','W2COLUMN'])"
   ]
  },
  {
   "cell_type": "code",
   "execution_count": 6,
   "metadata": {},
   "outputs": [],
   "source": [
    "season_stats = (\n",
    "    m_reg.drop(\"DAYNUM\")\n",
    "    .group_by([\"SEASON\", \"TEAMID\"])\n",
    "    .agg(s.across(s.numeric(), dict(MEAN=_.mean(), MEDIAN=_.median(), STDDEV=_.std())))\n",
    "    .drop(s.startswith(\"WON_\"), s.startswith(\"SEASON_\"), s.startswith(\"TEAMID_\"))\n",
    ")"
   ]
  },
  {
   "cell_type": "code",
   "execution_count": 7,
   "metadata": {},
   "outputs": [],
   "source": [
    "hna = (\n",
    "    m_reg.group_by([\"SEASON\", \"TEAMID\", \"WLOC\"])\n",
    "    .agg(WINCOUNT=_.WON.sum())\n",
    "    .mutate(WLOC=\"WLOC\" + _.WLOC)\n",
    "    .pivot_wider(names_from=\"WLOC\", values_from=\"WINCOUNT\")\n",
    "    .mutate(s.across(s.startswith(\"WLOC\"), ibis.coalesce(_, 0)))\n",
    ")"
   ]
  },
  {
   "cell_type": "code",
   "execution_count": 8,
   "metadata": {},
   "outputs": [],
   "source": [
    "season_joined = (\n",
    "    season_stats.join(hna, [\"SEASON\", \"TEAMID\"])\n",
    "    .join(m_season_margin, [\"SEASON\", \"TEAMID\"])\n",
    ").drop(s.endswith(\"_right\")).distinct()\n",
    "\n",
    "season_joined =season_joined.fillna(0)"
   ]
  },
  {
   "cell_type": "code",
   "execution_count": 9,
   "metadata": {},
   "outputs": [
    {
     "ename": "ProgrammingError",
     "evalue": "002003 (42S02): SQL compilation error:\nTable 'W_CONFERENCE_TOURNEY_GAMES' does not exist or not authorized.",
     "output_type": "error",
     "traceback": [
      "\u001b[0;31m---------------------------------------------------------------------------\u001b[0m",
      "\u001b[0;31mProgrammingError\u001b[0m                          Traceback (most recent call last)",
      "Cell \u001b[0;32mIn[9], line 2\u001b[0m\n\u001b[1;32m      1\u001b[0m conf_wins \u001b[38;5;241m=\u001b[39m (\n\u001b[0;32m----> 2\u001b[0m     \u001b[43mcon\u001b[49m\u001b[38;5;241;43m.\u001b[39;49m\u001b[43mtable\u001b[49m\u001b[43m(\u001b[49m\u001b[38;5;124;43m\"\u001b[39;49m\u001b[38;5;124;43mW_CONFERENCE_TOURNEY_GAMES\u001b[39;49m\u001b[38;5;124;43m\"\u001b[39;49m\u001b[43m)\u001b[49m\n\u001b[1;32m      3\u001b[0m     \u001b[38;5;241m.\u001b[39mmutate(\n\u001b[1;32m      4\u001b[0m         ROWNUM\u001b[38;5;241m=\u001b[39mibis\u001b[38;5;241m.\u001b[39mrow_number()\u001b[38;5;241m.\u001b[39mover(\n\u001b[1;32m      5\u001b[0m             group_by\u001b[38;5;241m=\u001b[39m[\u001b[38;5;124m\"\u001b[39m\u001b[38;5;124mSEASON\u001b[39m\u001b[38;5;124m\"\u001b[39m, \u001b[38;5;124m\"\u001b[39m\u001b[38;5;124mCONFABBREV\u001b[39m\u001b[38;5;124m\"\u001b[39m], order_by\u001b[38;5;241m=\u001b[39m_\u001b[38;5;241m.\u001b[39mDAYNUM\u001b[38;5;241m.\u001b[39mdesc()\n\u001b[1;32m      6\u001b[0m         )\n\u001b[1;32m      7\u001b[0m     )\n\u001b[1;32m      8\u001b[0m     \u001b[38;5;241m.\u001b[39mfilter(_\u001b[38;5;241m.\u001b[39mROWNUM \u001b[38;5;241m==\u001b[39m \u001b[38;5;241m0\u001b[39m)\n\u001b[1;32m      9\u001b[0m     \u001b[38;5;241m.\u001b[39mdrop([\u001b[38;5;124m\"\u001b[39m\u001b[38;5;124mDAYNUM\u001b[39m\u001b[38;5;124m\"\u001b[39m, \u001b[38;5;124m\"\u001b[39m\u001b[38;5;124mROWNUM\u001b[39m\u001b[38;5;124m\"\u001b[39m, \u001b[38;5;124m\"\u001b[39m\u001b[38;5;124mLTEAMID\u001b[39m\u001b[38;5;124m\"\u001b[39m, \u001b[38;5;124m\"\u001b[39m\u001b[38;5;124mCONFABBREV\u001b[39m\u001b[38;5;124m\"\u001b[39m])\n\u001b[1;32m     10\u001b[0m     \u001b[38;5;241m.\u001b[39mmutate(WON_CONFERENCE\u001b[38;5;241m=\u001b[39m\u001b[38;5;241m1\u001b[39m)\n\u001b[1;32m     11\u001b[0m     \u001b[38;5;241m.\u001b[39mrename({\u001b[38;5;124m\"\u001b[39m\u001b[38;5;124mTEAMID\u001b[39m\u001b[38;5;124m\"\u001b[39m: \u001b[38;5;124m\"\u001b[39m\u001b[38;5;124mWTEAMID\u001b[39m\u001b[38;5;124m\"\u001b[39m})\n\u001b[1;32m     12\u001b[0m )\n\u001b[1;32m     14\u001b[0m final \u001b[38;5;241m=\u001b[39m (\n\u001b[1;32m     15\u001b[0m     season_joined\u001b[38;5;241m.\u001b[39mjoin(conf_wins, [\u001b[38;5;124m\"\u001b[39m\u001b[38;5;124mSEASON\u001b[39m\u001b[38;5;124m\"\u001b[39m, \u001b[38;5;124m\"\u001b[39m\u001b[38;5;124mTEAMID\u001b[39m\u001b[38;5;124m\"\u001b[39m], how\u001b[38;5;241m=\u001b[39m\u001b[38;5;124m\"\u001b[39m\u001b[38;5;124mleft\u001b[39m\u001b[38;5;124m\"\u001b[39m)\n\u001b[1;32m     16\u001b[0m     \u001b[38;5;241m.\u001b[39mmutate(WON_CONFERENCE\u001b[38;5;241m=\u001b[39m_\u001b[38;5;241m.\u001b[39mWON_CONFERENCE\u001b[38;5;241m.\u001b[39mfillna(\u001b[38;5;241m0\u001b[39m))\n\u001b[1;32m     17\u001b[0m     \u001b[38;5;241m.\u001b[39mdrop(s\u001b[38;5;241m.\u001b[39mendswith(\u001b[38;5;124m\"\u001b[39m\u001b[38;5;124m_right\u001b[39m\u001b[38;5;124m\"\u001b[39m))\n\u001b[1;32m     18\u001b[0m     \u001b[38;5;241m.\u001b[39mmutate(TOTAL_WINS\u001b[38;5;241m=\u001b[39m_\u001b[38;5;241m.\u001b[39mWLOCN \u001b[38;5;241m+\u001b[39m _\u001b[38;5;241m.\u001b[39mWLOCH \u001b[38;5;241m+\u001b[39m _\u001b[38;5;241m.\u001b[39mWLOCA)\n\u001b[1;32m     19\u001b[0m )\n",
      "File \u001b[0;32m/opt/anaconda3/envs/Intro_SnowML/lib/python3.10/site-packages/ibis/backends/sql/__init__.py:83\u001b[0m, in \u001b[0;36mSQLBackend.table\u001b[0;34m(self, name, schema, database)\u001b[0m\n\u001b[1;32m     63\u001b[0m \u001b[38;5;28;01mdef\u001b[39;00m \u001b[38;5;21mtable\u001b[39m(\n\u001b[1;32m     64\u001b[0m     \u001b[38;5;28mself\u001b[39m, name: \u001b[38;5;28mstr\u001b[39m, schema: \u001b[38;5;28mstr\u001b[39m \u001b[38;5;241m|\u001b[39m \u001b[38;5;28;01mNone\u001b[39;00m \u001b[38;5;241m=\u001b[39m \u001b[38;5;28;01mNone\u001b[39;00m, database: \u001b[38;5;28mstr\u001b[39m \u001b[38;5;241m|\u001b[39m \u001b[38;5;28;01mNone\u001b[39;00m \u001b[38;5;241m=\u001b[39m \u001b[38;5;28;01mNone\u001b[39;00m\n\u001b[1;32m     65\u001b[0m ) \u001b[38;5;241m-\u001b[39m\u001b[38;5;241m>\u001b[39m ir\u001b[38;5;241m.\u001b[39mTable:\n\u001b[1;32m     66\u001b[0m \u001b[38;5;250m    \u001b[39m\u001b[38;5;124;03m\"\"\"Construct a table expression.\u001b[39;00m\n\u001b[1;32m     67\u001b[0m \n\u001b[1;32m     68\u001b[0m \u001b[38;5;124;03m    Parameters\u001b[39;00m\n\u001b[0;32m   (...)\u001b[0m\n\u001b[1;32m     81\u001b[0m \n\u001b[1;32m     82\u001b[0m \u001b[38;5;124;03m    \"\"\"\u001b[39;00m\n\u001b[0;32m---> 83\u001b[0m     table_schema \u001b[38;5;241m=\u001b[39m \u001b[38;5;28;43mself\u001b[39;49m\u001b[38;5;241;43m.\u001b[39;49m\u001b[43mget_schema\u001b[49m\u001b[43m(\u001b[49m\u001b[43mname\u001b[49m\u001b[43m,\u001b[49m\u001b[43m \u001b[49m\u001b[43mschema\u001b[49m\u001b[38;5;241;43m=\u001b[39;49m\u001b[43mschema\u001b[49m\u001b[43m,\u001b[49m\u001b[43m \u001b[49m\u001b[43mdatabase\u001b[49m\u001b[38;5;241;43m=\u001b[39;49m\u001b[43mdatabase\u001b[49m\u001b[43m)\u001b[49m\n\u001b[1;32m     84\u001b[0m     \u001b[38;5;28;01mreturn\u001b[39;00m ops\u001b[38;5;241m.\u001b[39mDatabaseTable(\n\u001b[1;32m     85\u001b[0m         name,\n\u001b[1;32m     86\u001b[0m         schema\u001b[38;5;241m=\u001b[39mtable_schema,\n\u001b[1;32m     87\u001b[0m         source\u001b[38;5;241m=\u001b[39m\u001b[38;5;28mself\u001b[39m,\n\u001b[1;32m     88\u001b[0m         namespace\u001b[38;5;241m=\u001b[39mops\u001b[38;5;241m.\u001b[39mNamespace(database\u001b[38;5;241m=\u001b[39mdatabase, schema\u001b[38;5;241m=\u001b[39mschema),\n\u001b[1;32m     89\u001b[0m     )\u001b[38;5;241m.\u001b[39mto_expr()\n",
      "File \u001b[0;32m/opt/anaconda3/envs/Intro_SnowML/lib/python3.10/site-packages/ibis/backends/snowflake/__init__.py:472\u001b[0m, in \u001b[0;36mBackend.get_schema\u001b[0;34m(self, table_name, schema, database)\u001b[0m\n\u001b[1;32m    466\u001b[0m \u001b[38;5;28;01mdef\u001b[39;00m \u001b[38;5;21mget_schema\u001b[39m(\n\u001b[1;32m    467\u001b[0m     \u001b[38;5;28mself\u001b[39m, table_name: \u001b[38;5;28mstr\u001b[39m, schema: \u001b[38;5;28mstr\u001b[39m \u001b[38;5;241m|\u001b[39m \u001b[38;5;28;01mNone\u001b[39;00m \u001b[38;5;241m=\u001b[39m \u001b[38;5;28;01mNone\u001b[39;00m, database: \u001b[38;5;28mstr\u001b[39m \u001b[38;5;241m|\u001b[39m \u001b[38;5;28;01mNone\u001b[39;00m \u001b[38;5;241m=\u001b[39m \u001b[38;5;28;01mNone\u001b[39;00m\n\u001b[1;32m    468\u001b[0m ) \u001b[38;5;241m-\u001b[39m\u001b[38;5;241m>\u001b[39m Iterable[\u001b[38;5;28mtuple\u001b[39m[\u001b[38;5;28mstr\u001b[39m, dt\u001b[38;5;241m.\u001b[39mDataType]]:\n\u001b[1;32m    469\u001b[0m     table \u001b[38;5;241m=\u001b[39m sg\u001b[38;5;241m.\u001b[39mtable(\n\u001b[1;32m    470\u001b[0m         table_name, db\u001b[38;5;241m=\u001b[39mschema, catalog\u001b[38;5;241m=\u001b[39mdatabase, quoted\u001b[38;5;241m=\u001b[39m\u001b[38;5;28mself\u001b[39m\u001b[38;5;241m.\u001b[39mcompiler\u001b[38;5;241m.\u001b[39mquoted\n\u001b[1;32m    471\u001b[0m     )\n\u001b[0;32m--> 472\u001b[0m     \u001b[38;5;28;01mwith\u001b[39;00m \u001b[38;5;28mself\u001b[39m\u001b[38;5;241m.\u001b[39m_safe_raw_sql(sge\u001b[38;5;241m.\u001b[39mDescribe(kind\u001b[38;5;241m=\u001b[39m\u001b[38;5;124m\"\u001b[39m\u001b[38;5;124mTABLE\u001b[39m\u001b[38;5;124m\"\u001b[39m, this\u001b[38;5;241m=\u001b[39mtable)) \u001b[38;5;28;01mas\u001b[39;00m cur:\n\u001b[1;32m    473\u001b[0m         result \u001b[38;5;241m=\u001b[39m cur\u001b[38;5;241m.\u001b[39mfetchall()\n\u001b[1;32m    475\u001b[0m     type_mapper \u001b[38;5;241m=\u001b[39m \u001b[38;5;28mself\u001b[39m\u001b[38;5;241m.\u001b[39mcompiler\u001b[38;5;241m.\u001b[39mtype_mapper\n",
      "File \u001b[0;32m/opt/anaconda3/envs/Intro_SnowML/lib/python3.10/contextlib.py:135\u001b[0m, in \u001b[0;36m_GeneratorContextManager.__enter__\u001b[0;34m(self)\u001b[0m\n\u001b[1;32m    133\u001b[0m \u001b[38;5;28;01mdel\u001b[39;00m \u001b[38;5;28mself\u001b[39m\u001b[38;5;241m.\u001b[39margs, \u001b[38;5;28mself\u001b[39m\u001b[38;5;241m.\u001b[39mkwds, \u001b[38;5;28mself\u001b[39m\u001b[38;5;241m.\u001b[39mfunc\n\u001b[1;32m    134\u001b[0m \u001b[38;5;28;01mtry\u001b[39;00m:\n\u001b[0;32m--> 135\u001b[0m     \u001b[38;5;28;01mreturn\u001b[39;00m \u001b[38;5;28;43mnext\u001b[39;49m\u001b[43m(\u001b[49m\u001b[38;5;28;43mself\u001b[39;49m\u001b[38;5;241;43m.\u001b[39;49m\u001b[43mgen\u001b[49m\u001b[43m)\u001b[49m\n\u001b[1;32m    136\u001b[0m \u001b[38;5;28;01mexcept\u001b[39;00m \u001b[38;5;167;01mStopIteration\u001b[39;00m:\n\u001b[1;32m    137\u001b[0m     \u001b[38;5;28;01mraise\u001b[39;00m \u001b[38;5;167;01mRuntimeError\u001b[39;00m(\u001b[38;5;124m\"\u001b[39m\u001b[38;5;124mgenerator didn\u001b[39m\u001b[38;5;124m'\u001b[39m\u001b[38;5;124mt yield\u001b[39m\u001b[38;5;124m\"\u001b[39m) \u001b[38;5;28;01mfrom\u001b[39;00m \u001b[38;5;28;01mNone\u001b[39;00m\n",
      "File \u001b[0;32m/opt/anaconda3/envs/Intro_SnowML/lib/python3.10/site-packages/ibis/backends/snowflake/__init__.py:648\u001b[0m, in \u001b[0;36mBackend._safe_raw_sql\u001b[0;34m(self, query, **kwargs)\u001b[0m\n\u001b[1;32m    645\u001b[0m \u001b[38;5;28;01mwith\u001b[39;00m contextlib\u001b[38;5;241m.\u001b[39msuppress(\u001b[38;5;167;01mAttributeError\u001b[39;00m):\n\u001b[1;32m    646\u001b[0m     query \u001b[38;5;241m=\u001b[39m query\u001b[38;5;241m.\u001b[39msql(dialect\u001b[38;5;241m=\u001b[39m\u001b[38;5;28mself\u001b[39m\u001b[38;5;241m.\u001b[39mname)\n\u001b[0;32m--> 648\u001b[0m \u001b[38;5;28;01mwith\u001b[39;00m contextlib\u001b[38;5;241m.\u001b[39mclosing(\u001b[38;5;28;43mself\u001b[39;49m\u001b[38;5;241;43m.\u001b[39;49m\u001b[43mraw_sql\u001b[49m\u001b[43m(\u001b[49m\u001b[43mquery\u001b[49m\u001b[43m,\u001b[49m\u001b[43m \u001b[49m\u001b[38;5;241;43m*\u001b[39;49m\u001b[38;5;241;43m*\u001b[39;49m\u001b[43mkwargs\u001b[49m\u001b[43m)\u001b[49m) \u001b[38;5;28;01mas\u001b[39;00m cur:\n\u001b[1;32m    649\u001b[0m     \u001b[38;5;28;01myield\u001b[39;00m cur\n",
      "File \u001b[0;32m/opt/anaconda3/envs/Intro_SnowML/lib/python3.10/site-packages/ibis/backends/snowflake/__init__.py:656\u001b[0m, in \u001b[0;36mBackend.raw_sql\u001b[0;34m(self, query, **kwargs)\u001b[0m\n\u001b[1;32m    654\u001b[0m cur \u001b[38;5;241m=\u001b[39m \u001b[38;5;28mself\u001b[39m\u001b[38;5;241m.\u001b[39mcon\u001b[38;5;241m.\u001b[39mcursor()\n\u001b[1;32m    655\u001b[0m \u001b[38;5;28;01mtry\u001b[39;00m:\n\u001b[0;32m--> 656\u001b[0m     \u001b[43mcur\u001b[49m\u001b[38;5;241;43m.\u001b[39;49m\u001b[43mexecute\u001b[49m\u001b[43m(\u001b[49m\u001b[43mquery\u001b[49m\u001b[43m,\u001b[49m\u001b[43m \u001b[49m\u001b[38;5;241;43m*\u001b[39;49m\u001b[38;5;241;43m*\u001b[39;49m\u001b[43mkwargs\u001b[49m\u001b[43m)\u001b[49m\n\u001b[1;32m    657\u001b[0m \u001b[38;5;28;01mexcept\u001b[39;00m \u001b[38;5;167;01mException\u001b[39;00m:\n\u001b[1;32m    658\u001b[0m     cur\u001b[38;5;241m.\u001b[39mclose()\n",
      "File \u001b[0;32m/opt/anaconda3/envs/Intro_SnowML/lib/python3.10/site-packages/snowflake/connector/cursor.py:1136\u001b[0m, in \u001b[0;36mSnowflakeCursor.execute\u001b[0;34m(self, command, params, _bind_stage, timeout, _exec_async, _no_retry, _do_reset, _put_callback, _put_azure_callback, _put_callback_output_stream, _get_callback, _get_azure_callback, _get_callback_output_stream, _show_progress_bar, _statement_params, _is_internal, _describe_only, _no_results, _is_put_get, _raise_put_get_error, _force_put_overwrite, _skip_upload_on_content_match, file_stream, num_statements)\u001b[0m\n\u001b[1;32m   1132\u001b[0m     is_integrity_error \u001b[38;5;241m=\u001b[39m (\n\u001b[1;32m   1133\u001b[0m         code \u001b[38;5;241m==\u001b[39m \u001b[38;5;124m\"\u001b[39m\u001b[38;5;124m100072\u001b[39m\u001b[38;5;124m\"\u001b[39m\n\u001b[1;32m   1134\u001b[0m     )  \u001b[38;5;66;03m# NULL result in a non-nullable column\u001b[39;00m\n\u001b[1;32m   1135\u001b[0m     error_class \u001b[38;5;241m=\u001b[39m IntegrityError \u001b[38;5;28;01mif\u001b[39;00m is_integrity_error \u001b[38;5;28;01melse\u001b[39;00m ProgrammingError\n\u001b[0;32m-> 1136\u001b[0m     \u001b[43mError\u001b[49m\u001b[38;5;241;43m.\u001b[39;49m\u001b[43merrorhandler_wrapper\u001b[49m\u001b[43m(\u001b[49m\u001b[38;5;28;43mself\u001b[39;49m\u001b[38;5;241;43m.\u001b[39;49m\u001b[43mconnection\u001b[49m\u001b[43m,\u001b[49m\u001b[43m \u001b[49m\u001b[38;5;28;43mself\u001b[39;49m\u001b[43m,\u001b[49m\u001b[43m \u001b[49m\u001b[43merror_class\u001b[49m\u001b[43m,\u001b[49m\u001b[43m \u001b[49m\u001b[43merrvalue\u001b[49m\u001b[43m)\u001b[49m\n\u001b[1;32m   1137\u001b[0m \u001b[38;5;28;01mreturn\u001b[39;00m \u001b[38;5;28mself\u001b[39m\n",
      "File \u001b[0;32m/opt/anaconda3/envs/Intro_SnowML/lib/python3.10/site-packages/snowflake/connector/errors.py:290\u001b[0m, in \u001b[0;36mError.errorhandler_wrapper\u001b[0;34m(connection, cursor, error_class, error_value)\u001b[0m\n\u001b[1;32m    267\u001b[0m \u001b[38;5;129m@staticmethod\u001b[39m\n\u001b[1;32m    268\u001b[0m \u001b[38;5;28;01mdef\u001b[39;00m \u001b[38;5;21merrorhandler_wrapper\u001b[39m(\n\u001b[1;32m    269\u001b[0m     connection: SnowflakeConnection \u001b[38;5;241m|\u001b[39m \u001b[38;5;28;01mNone\u001b[39;00m,\n\u001b[0;32m   (...)\u001b[0m\n\u001b[1;32m    272\u001b[0m     error_value: \u001b[38;5;28mdict\u001b[39m[\u001b[38;5;28mstr\u001b[39m, Any],\n\u001b[1;32m    273\u001b[0m ) \u001b[38;5;241m-\u001b[39m\u001b[38;5;241m>\u001b[39m \u001b[38;5;28;01mNone\u001b[39;00m:\n\u001b[1;32m    274\u001b[0m \u001b[38;5;250m    \u001b[39m\u001b[38;5;124;03m\"\"\"Error handler wrapper that calls the errorhandler method.\u001b[39;00m\n\u001b[1;32m    275\u001b[0m \n\u001b[1;32m    276\u001b[0m \u001b[38;5;124;03m    Args:\u001b[39;00m\n\u001b[0;32m   (...)\u001b[0m\n\u001b[1;32m    287\u001b[0m \u001b[38;5;124;03m        exception to the first handler in that order.\u001b[39;00m\n\u001b[1;32m    288\u001b[0m \u001b[38;5;124;03m    \"\"\"\u001b[39;00m\n\u001b[0;32m--> 290\u001b[0m     handed_over \u001b[38;5;241m=\u001b[39m \u001b[43mError\u001b[49m\u001b[38;5;241;43m.\u001b[39;49m\u001b[43mhand_to_other_handler\u001b[49m\u001b[43m(\u001b[49m\n\u001b[1;32m    291\u001b[0m \u001b[43m        \u001b[49m\u001b[43mconnection\u001b[49m\u001b[43m,\u001b[49m\n\u001b[1;32m    292\u001b[0m \u001b[43m        \u001b[49m\u001b[43mcursor\u001b[49m\u001b[43m,\u001b[49m\n\u001b[1;32m    293\u001b[0m \u001b[43m        \u001b[49m\u001b[43merror_class\u001b[49m\u001b[43m,\u001b[49m\n\u001b[1;32m    294\u001b[0m \u001b[43m        \u001b[49m\u001b[43merror_value\u001b[49m\u001b[43m,\u001b[49m\n\u001b[1;32m    295\u001b[0m \u001b[43m    \u001b[49m\u001b[43m)\u001b[49m\n\u001b[1;32m    296\u001b[0m     \u001b[38;5;28;01mif\u001b[39;00m \u001b[38;5;129;01mnot\u001b[39;00m handed_over:\n\u001b[1;32m    297\u001b[0m         \u001b[38;5;28;01mraise\u001b[39;00m Error\u001b[38;5;241m.\u001b[39merrorhandler_make_exception(\n\u001b[1;32m    298\u001b[0m             error_class,\n\u001b[1;32m    299\u001b[0m             error_value,\n\u001b[1;32m    300\u001b[0m         )\n",
      "File \u001b[0;32m/opt/anaconda3/envs/Intro_SnowML/lib/python3.10/site-packages/snowflake/connector/errors.py:345\u001b[0m, in \u001b[0;36mError.hand_to_other_handler\u001b[0;34m(connection, cursor, error_class, error_value)\u001b[0m\n\u001b[1;32m    343\u001b[0m \u001b[38;5;28;01mif\u001b[39;00m cursor \u001b[38;5;129;01mis\u001b[39;00m \u001b[38;5;129;01mnot\u001b[39;00m \u001b[38;5;28;01mNone\u001b[39;00m:\n\u001b[1;32m    344\u001b[0m     cursor\u001b[38;5;241m.\u001b[39mmessages\u001b[38;5;241m.\u001b[39mappend((error_class, error_value))\n\u001b[0;32m--> 345\u001b[0m     \u001b[43mcursor\u001b[49m\u001b[38;5;241;43m.\u001b[39;49m\u001b[43merrorhandler\u001b[49m\u001b[43m(\u001b[49m\u001b[43mconnection\u001b[49m\u001b[43m,\u001b[49m\u001b[43m \u001b[49m\u001b[43mcursor\u001b[49m\u001b[43m,\u001b[49m\u001b[43m \u001b[49m\u001b[43merror_class\u001b[49m\u001b[43m,\u001b[49m\u001b[43m \u001b[49m\u001b[43merror_value\u001b[49m\u001b[43m)\u001b[49m\n\u001b[1;32m    346\u001b[0m     \u001b[38;5;28;01mreturn\u001b[39;00m \u001b[38;5;28;01mTrue\u001b[39;00m\n\u001b[1;32m    347\u001b[0m \u001b[38;5;28;01melif\u001b[39;00m connection \u001b[38;5;129;01mis\u001b[39;00m \u001b[38;5;129;01mnot\u001b[39;00m \u001b[38;5;28;01mNone\u001b[39;00m:\n",
      "File \u001b[0;32m/opt/anaconda3/envs/Intro_SnowML/lib/python3.10/site-packages/snowflake/connector/errors.py:221\u001b[0m, in \u001b[0;36mError.default_errorhandler\u001b[0;34m(connection, cursor, error_class, error_value)\u001b[0m\n\u001b[1;32m    219\u001b[0m errno \u001b[38;5;241m=\u001b[39m error_value\u001b[38;5;241m.\u001b[39mget(\u001b[38;5;124m\"\u001b[39m\u001b[38;5;124merrno\u001b[39m\u001b[38;5;124m\"\u001b[39m)\n\u001b[1;32m    220\u001b[0m done_format_msg \u001b[38;5;241m=\u001b[39m error_value\u001b[38;5;241m.\u001b[39mget(\u001b[38;5;124m\"\u001b[39m\u001b[38;5;124mdone_format_msg\u001b[39m\u001b[38;5;124m\"\u001b[39m)\n\u001b[0;32m--> 221\u001b[0m \u001b[38;5;28;01mraise\u001b[39;00m error_class(\n\u001b[1;32m    222\u001b[0m     msg\u001b[38;5;241m=\u001b[39merror_value\u001b[38;5;241m.\u001b[39mget(\u001b[38;5;124m\"\u001b[39m\u001b[38;5;124mmsg\u001b[39m\u001b[38;5;124m\"\u001b[39m),\n\u001b[1;32m    223\u001b[0m     errno\u001b[38;5;241m=\u001b[39m\u001b[38;5;28;01mNone\u001b[39;00m \u001b[38;5;28;01mif\u001b[39;00m errno \u001b[38;5;129;01mis\u001b[39;00m \u001b[38;5;28;01mNone\u001b[39;00m \u001b[38;5;28;01melse\u001b[39;00m \u001b[38;5;28mint\u001b[39m(errno),\n\u001b[1;32m    224\u001b[0m     sqlstate\u001b[38;5;241m=\u001b[39merror_value\u001b[38;5;241m.\u001b[39mget(\u001b[38;5;124m\"\u001b[39m\u001b[38;5;124msqlstate\u001b[39m\u001b[38;5;124m\"\u001b[39m),\n\u001b[1;32m    225\u001b[0m     sfqid\u001b[38;5;241m=\u001b[39merror_value\u001b[38;5;241m.\u001b[39mget(\u001b[38;5;124m\"\u001b[39m\u001b[38;5;124msfqid\u001b[39m\u001b[38;5;124m\"\u001b[39m),\n\u001b[1;32m    226\u001b[0m     query\u001b[38;5;241m=\u001b[39merror_value\u001b[38;5;241m.\u001b[39mget(\u001b[38;5;124m\"\u001b[39m\u001b[38;5;124mquery\u001b[39m\u001b[38;5;124m\"\u001b[39m),\n\u001b[1;32m    227\u001b[0m     done_format_msg\u001b[38;5;241m=\u001b[39m(\n\u001b[1;32m    228\u001b[0m         \u001b[38;5;28;01mNone\u001b[39;00m \u001b[38;5;28;01mif\u001b[39;00m done_format_msg \u001b[38;5;129;01mis\u001b[39;00m \u001b[38;5;28;01mNone\u001b[39;00m \u001b[38;5;28;01melse\u001b[39;00m \u001b[38;5;28mbool\u001b[39m(done_format_msg)\n\u001b[1;32m    229\u001b[0m     ),\n\u001b[1;32m    230\u001b[0m     connection\u001b[38;5;241m=\u001b[39mconnection,\n\u001b[1;32m    231\u001b[0m     cursor\u001b[38;5;241m=\u001b[39mcursor,\n\u001b[1;32m    232\u001b[0m )\n",
      "\u001b[0;31mProgrammingError\u001b[0m: 002003 (42S02): SQL compilation error:\nTable 'W_CONFERENCE_TOURNEY_GAMES' does not exist or not authorized."
     ]
    }
   ],
   "source": [
    "conf_wins = (\n",
    "    con.table(\"W_CONFERENCE_TOURNEY_GAMES\")\n",
    "    .mutate(\n",
    "        ROWNUM=ibis.row_number().over(\n",
    "            group_by=[\"SEASON\", \"CONFABBREV\"], order_by=_.DAYNUM.desc()\n",
    "        )\n",
    "    )\n",
    "    .filter(_.ROWNUM == 0)\n",
    "    .drop([\"DAYNUM\", \"ROWNUM\", \"LTEAMID\", \"CONFABBREV\"])\n",
    "    .mutate(WON_CONFERENCE=1)\n",
    "    .rename({\"TEAMID\": \"WTEAMID\"})\n",
    ")\n",
    "\n",
    "final = (\n",
    "    season_joined.join(conf_wins, [\"SEASON\", \"TEAMID\"], how=\"left\")\n",
    "    .mutate(WON_CONFERENCE=_.WON_CONFERENCE.fillna(0))\n",
    "    .drop(s.endswith(\"_right\"))\n",
    "    .mutate(TOTAL_WINS=_.WLOCN + _.WLOCH + _.WLOCA)\n",
    ")"
   ]
  },
  {
   "cell_type": "code",
   "execution_count": 10,
   "metadata": {},
   "outputs": [],
   "source": [
    "# This is super hacky, but I need to be able to use the same session to share cached tables.\n",
    "# I also want to avoid this message: SnowparkSessionException: (1409): More than one active session is detected. When you call...\n",
    "\n",
    "@classmethod\n",
    "def from_ibis(self, con) -> Session:\n",
    "    return Session.builder.config(\"connection\", con.con).getOrCreate()\n",
    "\n",
    "Session.from_ibis = from_ibis\n",
    "\n",
    "session = Session.from_ibis(con)"
   ]
  },
  {
   "cell_type": "code",
   "execution_count": 12,
   "metadata": {},
   "outputs": [
    {
     "ename": "NameError",
     "evalue": "name 'final' is not defined",
     "output_type": "error",
     "traceback": [
      "\u001b[0;31m---------------------------------------------------------------------------\u001b[0m",
      "\u001b[0;31mNameError\u001b[0m                                 Traceback (most recent call last)",
      "Cell \u001b[0;32mIn[12], line 1\u001b[0m\n\u001b[0;32m----> 1\u001b[0m season \u001b[38;5;241m=\u001b[39m session\u001b[38;5;241m.\u001b[39msql(ibis\u001b[38;5;241m.\u001b[39mto_sql(\u001b[43mfinal\u001b[49m))\n",
      "\u001b[0;31mNameError\u001b[0m: name 'final' is not defined"
     ]
    }
   ],
   "source": [
    "season = session.sql(season_joined.to_sql(final))"
   ]
  },
  {
   "cell_type": "code",
   "execution_count": null,
   "metadata": {},
   "outputs": [],
   "source": [
    "seeds = session.table('MEN.M_NCAATOURNEY_SEEDS')\n",
    "seeds.show()"
   ]
  },
  {
   "cell_type": "markdown",
   "metadata": {},
   "source": [
    "### Kaggle had the play in games wrongso lets replace them"
   ]
  },
  {
   "cell_type": "code",
   "execution_count": null,
   "metadata": {},
   "outputs": [],
   "source": [
    "seeds = seeds.withColumn(\n",
    "    \"TEAMID\",\n",
    "    when((seeds[\"TEAMID\"] == 1129) & (seeds[\"SEASON\"] == 2024), 1160).otherwise(seeds[\"TEAMID\"]),\n",
    ")"
   ]
  },
  {
   "cell_type": "code",
   "execution_count": null,
   "metadata": {},
   "outputs": [],
   "source": [
    "seed_value = (\n",
    "    seeds\n",
    "    .with_column(\"REGION\", F.substring(F.col(\"SEED\"), 1, 1))\n",
    "    .with_column(\n",
    "        \"SEED\", F.substring(F.col(\"SEED\"), 2, F.length(F.col(\"SEED\")) - 1)\n",
    "    )\n",
    "    .select(\"SEASON\", \"TEAMID\", \"REGION\", \"SEED\")\n",
    "    .with_column(\n",
    "        \"SEED\",\n",
    "        F.cast(F.regexp_replace(F.col(\"SEED\"), \"[a-z]\", \"\"), T.IntegerType()),\n",
    "    )\n",
    ")\n",
    "\n",
    "seed_value.show()"
   ]
  },
  {
   "cell_type": "code",
   "execution_count": null,
   "metadata": {},
   "outputs": [],
   "source": [
    "tourney = session.table('MEN.M_NCAATOURNEY_COMPACT_RESULTS')\n",
    "tourney = tourney.select('SEASON','WTEAMID','LTEAMID','WSCORE','LSCORE','DAYNUM')\n",
    "tourney.show()"
   ]
  },
  {
   "cell_type": "code",
   "execution_count": null,
   "metadata": {},
   "outputs": [],
   "source": [
    "tourney_round = tourney.with_column(\n",
    "    \"ROUND\",\n",
    "    when((tourney.daynum >= 134) & (tourney.daynum <= 135), lit(0))\n",
    "    .when((tourney.daynum >= 136) & (tourney.daynum <= 137), lit(1))\n",
    "    .when((tourney.daynum >= 138) & (tourney.daynum <= 139), lit(2))\n",
    "    .when((tourney.daynum >= 143) & (tourney.daynum <= 144), lit(3))\n",
    "    .when(tourney.daynum == 145, lit(4))\n",
    "    .when(tourney.daynum == 152, lit(5))\n",
    "    .otherwise(lit(6)),\n",
    ").drop(\"DAYNUM\")\n",
    "\n",
    "tourney_round.show()"
   ]
  },
  {
   "cell_type": "code",
   "execution_count": null,
   "metadata": {},
   "outputs": [],
   "source": [
    "## Add in conference names, uppercase column headers and values and one hot encode\n",
    "conf = session.table('MEN.M_TEAM_CONFERENCES')\n",
    "\n",
    "def fix_values(column):\n",
    "    return F.upper(F.regexp_replace(F.col(column), \"[^a-zA-Z0-9]+\", \"_\"))\n",
    "\n",
    "conf = conf.with_column(\"CONFABBREV\", fix_values(\"CONFABBREV\"))\n",
    "conf = conf.with_column_renamed(\"SEASON\", \"C_SEASON\")\n",
    "conf = conf.with_column_renamed(\"TEAMID\", \"C_TEAMID\")\n",
    "\n",
    "conf.show()"
   ]
  },
  {
   "cell_type": "code",
   "execution_count": null,
   "metadata": {},
   "outputs": [],
   "source": [
    "tourney_conf_w = (\n",
    "    tourney_round.join(\n",
    "        conf,\n",
    "        (tourney_round.col(\"WTEAMID\") == conf.col(\"C_TEAMID\"))\n",
    "        & (tourney_round.col(\"SEASON\") == conf.col(\"C_SEASON\")),\n",
    "    )\n",
    "    .drop(\"C_SEASON\", \"C_TEAMID\")\n",
    "    .with_column_renamed(\"CONFABBREV\", \"W_CONF\")\n",
    ")\n",
    "tourney_conf_w.show()"
   ]
  },
  {
   "cell_type": "code",
   "execution_count": null,
   "metadata": {},
   "outputs": [],
   "source": [
    "tourney_conf_round = tourney_conf_w.join(\n",
    "    conf,\n",
    "    (tourney_round.col(\"LTEAMID\") == conf.col(\"C_TEAMID\"))\n",
    "    & (tourney_round.col(\"SEASON\") == conf.col(\"C_SEASON\"))).drop(\"C_SEASON\",\"C_TEAMID\").with_column_renamed(\"CONFABBREV\", \"L_CONF\")\n",
    "tourney_conf_round.show()"
   ]
  },
  {
   "cell_type": "code",
   "execution_count": null,
   "metadata": {},
   "outputs": [],
   "source": [
    "tourney_conf_round.show()"
   ]
  },
  {
   "cell_type": "code",
   "execution_count": null,
   "metadata": {},
   "outputs": [],
   "source": [
    "w_t = (\n",
    "    tourney_conf_round.join(\n",
    "        seed_value,\n",
    "        (\n",
    "            (tourney_conf_round.SEASON == seed_value.SEASON)\n",
    "            & (tourney_conf_round.WTEAMID == seed_value.TEAMID)\n",
    "        ),\n",
    "        rsuffix=\"_W\",\n",
    "    )\n",
    "    .drop([\"SEASON_W\", \"TEAMID\"])\n",
    "    .with_column_renamed(\"REGION\", \"W_REGION\")\n",
    "    .with_column_renamed(\"SEED\", \"W_SEED\")\n",
    "    .cache_result()\n",
    ")\n",
    "\n",
    "tourney_conf_round = (\n",
    "    w_t.join(\n",
    "        seed_value,\n",
    "        ((w_t.SEASON == seed_value.SEASON) & (w_t.LTEAMID == seed_value.TEAMID)),\n",
    "        rsuffix=\"_L\",\n",
    "    )\n",
    "    .drop([\"SEASON_L\", \"TEAMID\"])\n",
    "    .with_column_renamed(\"REGION\", \"L_REGION\")\n",
    "    .with_column_renamed(\"SEED\", \"L_SEED\")\n",
    ")"
   ]
  },
  {
   "cell_type": "code",
   "execution_count": null,
   "metadata": {},
   "outputs": [],
   "source": [
    "tourney_conf_round.show()"
   ]
  },
  {
   "cell_type": "code",
   "execution_count": null,
   "metadata": {},
   "outputs": [],
   "source": [
    "season_w = season.select(\n",
    "    *[F.col(col).alias(f\"W_{col}\") for col in season.columns]\n",
    ")\n",
    "\n",
    "\n",
    "season_l = season.select(\n",
    "    *[F.col(col).alias(f\"L_{col}\") for col in season.columns]\n",
    ")"
   ]
  },
  {
   "cell_type": "code",
   "execution_count": null,
   "metadata": {},
   "outputs": [],
   "source": [
    "final = (\n",
    "    tourney_conf_round.join(\n",
    "        season_w,\n",
    "        on=(\n",
    "            (tourney_conf_round.WTEAMID == season_w.W_TEAMID)\n",
    "            & (tourney_conf_round.SEASON == season_w.W_SEASON)\n",
    "        ),\n",
    "    )\n",
    "    .drop(\"W_TEAMID\", \"W_SEASON\")\n",
    "    .join(\n",
    "        season_l,\n",
    "        on=(\n",
    "            (tourney_conf_round.LTEAMID == season_l.L_TEAMID)\n",
    "            & (tourney_conf_round.SEASON == season_l.L_SEASON)\n",
    "        ),\n",
    "    )\n",
    "    .drop(\"L_TEAMID\", \"L_SEASON\")\n",
    ")\n",
    "\n",
    "final.show()"
   ]
  },
  {
   "cell_type": "code",
   "execution_count": null,
   "metadata": {},
   "outputs": [],
   "source": [
    "OHE = OneHotEncoder(\n",
    "    input_cols=[\"W_CONF\",\"L_CONF\"],\n",
    "    output_cols=[\"W_CONF\",\"L_CONF\"],\n",
    "    drop_input_cols=True,\n",
    "    drop=\"first\",\n",
    "    handle_unknown=\"ignore\",\n",
    ")\n",
    "\n",
    "final = OHE.fit(final).transform(final)"
   ]
  },
  {
   "cell_type": "code",
   "execution_count": null,
   "metadata": {},
   "outputs": [],
   "source": [
    "final = final.with_columns(\n",
    "    [\"W_WLOCN\", \"W_WLOCH\", \"W_WLOCA\", \"L_WLOCN\", \"L_WLOCH\", \"L_WLOCA\"],\n",
    "    [\n",
    "        F.col(\"W_WLOCN\").cast(T.LongType()),\n",
    "        F.col(\"W_WLOCH\").cast(T.LongType()),\n",
    "        F.col(\"W_WLOCA\").cast(T.LongType()),\n",
    "        F.col(\"L_WLOCN\").cast(T.LongType()),\n",
    "        F.col(\"L_WLOCH\").cast(T.LongType()),\n",
    "        F.col(\"L_WLOCA\").cast(T.LongType()),\n",
    "    ],\n",
    ")"
   ]
  },
  {
   "cell_type": "markdown",
   "metadata": {},
   "source": [
    "### This table is all season data joined with historic tournament data"
   ]
  },
  {
   "cell_type": "code",
   "execution_count": null,
   "metadata": {},
   "outputs": [],
   "source": [
    "final.write.save_as_table(\n",
    "    \"MEN.FINAL_FEATURES\", mode=\"overwrite\"\n",
    ")"
   ]
  },
  {
   "cell_type": "markdown",
   "metadata": {},
   "source": [
    "### Create season table for predicting 2024"
   ]
  },
  {
   "cell_type": "code",
   "execution_count": null,
   "metadata": {},
   "outputs": [],
   "source": [
    "season = (\n",
    "    season.join(\n",
    "        conf,\n",
    "        (season.col(\"teamid\") == conf.col(\"C_teamid\"))\n",
    "        & (season.col(\"season\") == conf.col(\"C_season\")),\n",
    "    )\n",
    "    .drop(\"C_SEASON\", \"C_TEAMID\")\n",
    "    .with_column_renamed(\"CONFABBREV\", \"CONF\")\n",
    ")\n",
    "\n",
    "OHE = OneHotEncoder(\n",
    "    input_cols=[\"CONF\"],\n",
    "    output_cols=[\"CONF\"],\n",
    "    drop_input_cols=True,\n",
    "    drop=\"first\",\n",
    "    handle_unknown=\"ignore\",\n",
    ")\n",
    "\n",
    "season = OHE.fit(season).transform(season)"
   ]
  },
  {
   "cell_type": "code",
   "execution_count": null,
   "metadata": {},
   "outputs": [],
   "source": [
    "region = seed_value.select(\n",
    "    F.col(\"SEASON\").alias(\"SEASON_1\"), F.col(\"TEAMID\").alias(\"TEAMID_1\"), \"REGION\"\n",
    ")\n",
    "\n",
    "season = season.join(\n",
    "    region, on=((season.season == region.season_1) & (season.teamid == region.teamid_1))\n",
    ").drop(\"TEAMID_1\", \"SEASON_1\")\n",
    "\n",
    "season.write.save_as_table(\n",
    "    \"MEN.FINAL_SEASON_STATS\", mode=\"overwrite\"\n",
    ")"
   ]
  }
 ],
 "metadata": {
  "kernelspec": {
   "display_name": "Python 3 (ipykernel)",
   "language": "python",
   "name": "python3"
  },
  "language_info": {
   "codemirror_mode": {
    "name": "ipython",
    "version": 3
   },
   "file_extension": ".py",
   "mimetype": "text/x-python",
   "name": "python",
   "nbconvert_exporter": "python",
   "pygments_lexer": "ipython3",
   "version": "3.10.13"
  }
 },
 "nbformat": 4,
 "nbformat_minor": 4
}
